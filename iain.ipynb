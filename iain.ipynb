{
 "cells": [
  {
   "cell_type": "markdown",
   "metadata": {},
   "source": [
    "# 1. Business Understanding\n",
    "\n",
    "In this project I'm going to develop a pricing algorithm for houses in the northwest county based on a past collected data of house sales. The goal is to help homeowners save time on buying and/or selling houses.\n",
    "\n",
    "This algorithm is predictive, meaning it will help stackeholders who want to buy or sell houses can use this algorithm to predcit house prices based on home renovations.\n",
    "\n",
    "This algorithm will be able to tell us something about the relationship between attributes of houses and their prices. It other terms it will be inferential.\n"
   ]
  },
  {
   "cell_type": "markdown",
   "metadata": {},
   "source": [
    "# Loading the data"
   ]
  },
  {
   "cell_type": "code",
   "execution_count": 257,
   "metadata": {},
   "outputs": [],
   "source": [
    "# importing the necessary libraries for this project\n",
    "import pandas as pd\n",
    "import numpy as np\n",
    "import scipy.stats as stats\n",
    "import statsmodels.api as sm\n",
    "from sklearn.model_selection import train_test_split\n",
    "from sklearn.linear_model import LinearRegression\n",
    "from sklearn.model_selection import cross_validate, ShuffleSplit\n",
    "from sklearn.feature_selection import RFECV\n",
    "from sklearn.preprocessing import StandardScaler, PolynomialFeatures\n",
    "from sklearn.impute import SimpleImputer\n",
    "from sklearn.metrics import mean_squared_error\n",
    "\n",
    "import seaborn as sns\n",
    "import matplotlib.pyplot as plt\n",
    "\n",
    "np.random.seed(21)\n",
    "\n",
    "%matplotlib inline"
   ]
  },
  {
   "cell_type": "code",
   "execution_count": 258,
   "metadata": {},
   "outputs": [
    {
     "data": {
      "text/html": [
       "<div>\n",
       "<style scoped>\n",
       "    .dataframe tbody tr th:only-of-type {\n",
       "        vertical-align: middle;\n",
       "    }\n",
       "\n",
       "    .dataframe tbody tr th {\n",
       "        vertical-align: top;\n",
       "    }\n",
       "\n",
       "    .dataframe thead th {\n",
       "        text-align: right;\n",
       "    }\n",
       "</style>\n",
       "<table border=\"1\" class=\"dataframe\">\n",
       "  <thead>\n",
       "    <tr style=\"text-align: right;\">\n",
       "      <th></th>\n",
       "      <th>date</th>\n",
       "      <th>price</th>\n",
       "      <th>bedrooms</th>\n",
       "      <th>bathrooms</th>\n",
       "      <th>sqft_living</th>\n",
       "      <th>sqft_lot</th>\n",
       "      <th>floors</th>\n",
       "      <th>waterfront</th>\n",
       "      <th>view</th>\n",
       "      <th>condition</th>\n",
       "      <th>grade</th>\n",
       "      <th>sqft_above</th>\n",
       "      <th>sqft_basement</th>\n",
       "      <th>yr_built</th>\n",
       "      <th>yr_renovated</th>\n",
       "      <th>zipcode</th>\n",
       "      <th>lat</th>\n",
       "      <th>long</th>\n",
       "      <th>sqft_living15</th>\n",
       "      <th>sqft_lot15</th>\n",
       "    </tr>\n",
       "    <tr>\n",
       "      <th>id</th>\n",
       "      <th></th>\n",
       "      <th></th>\n",
       "      <th></th>\n",
       "      <th></th>\n",
       "      <th></th>\n",
       "      <th></th>\n",
       "      <th></th>\n",
       "      <th></th>\n",
       "      <th></th>\n",
       "      <th></th>\n",
       "      <th></th>\n",
       "      <th></th>\n",
       "      <th></th>\n",
       "      <th></th>\n",
       "      <th></th>\n",
       "      <th></th>\n",
       "      <th></th>\n",
       "      <th></th>\n",
       "      <th></th>\n",
       "      <th></th>\n",
       "    </tr>\n",
       "  </thead>\n",
       "  <tbody>\n",
       "    <tr>\n",
       "      <th>7129300520</th>\n",
       "      <td>10/13/2014</td>\n",
       "      <td>221900.0</td>\n",
       "      <td>3</td>\n",
       "      <td>1.00</td>\n",
       "      <td>1180</td>\n",
       "      <td>5650</td>\n",
       "      <td>1.0</td>\n",
       "      <td>NaN</td>\n",
       "      <td>0.0</td>\n",
       "      <td>3</td>\n",
       "      <td>7</td>\n",
       "      <td>1180</td>\n",
       "      <td>0.0</td>\n",
       "      <td>1955</td>\n",
       "      <td>0.0</td>\n",
       "      <td>98178</td>\n",
       "      <td>47.5112</td>\n",
       "      <td>-122.257</td>\n",
       "      <td>1340</td>\n",
       "      <td>5650</td>\n",
       "    </tr>\n",
       "    <tr>\n",
       "      <th>6414100192</th>\n",
       "      <td>12/9/2014</td>\n",
       "      <td>538000.0</td>\n",
       "      <td>3</td>\n",
       "      <td>2.25</td>\n",
       "      <td>2570</td>\n",
       "      <td>7242</td>\n",
       "      <td>2.0</td>\n",
       "      <td>0.0</td>\n",
       "      <td>0.0</td>\n",
       "      <td>3</td>\n",
       "      <td>7</td>\n",
       "      <td>2170</td>\n",
       "      <td>400.0</td>\n",
       "      <td>1951</td>\n",
       "      <td>1991.0</td>\n",
       "      <td>98125</td>\n",
       "      <td>47.7210</td>\n",
       "      <td>-122.319</td>\n",
       "      <td>1690</td>\n",
       "      <td>7639</td>\n",
       "    </tr>\n",
       "    <tr>\n",
       "      <th>5631500400</th>\n",
       "      <td>2/25/2015</td>\n",
       "      <td>180000.0</td>\n",
       "      <td>2</td>\n",
       "      <td>1.00</td>\n",
       "      <td>770</td>\n",
       "      <td>10000</td>\n",
       "      <td>1.0</td>\n",
       "      <td>0.0</td>\n",
       "      <td>0.0</td>\n",
       "      <td>3</td>\n",
       "      <td>6</td>\n",
       "      <td>770</td>\n",
       "      <td>0.0</td>\n",
       "      <td>1933</td>\n",
       "      <td>NaN</td>\n",
       "      <td>98028</td>\n",
       "      <td>47.7379</td>\n",
       "      <td>-122.233</td>\n",
       "      <td>2720</td>\n",
       "      <td>8062</td>\n",
       "    </tr>\n",
       "    <tr>\n",
       "      <th>2487200875</th>\n",
       "      <td>12/9/2014</td>\n",
       "      <td>604000.0</td>\n",
       "      <td>4</td>\n",
       "      <td>3.00</td>\n",
       "      <td>1960</td>\n",
       "      <td>5000</td>\n",
       "      <td>1.0</td>\n",
       "      <td>0.0</td>\n",
       "      <td>0.0</td>\n",
       "      <td>5</td>\n",
       "      <td>7</td>\n",
       "      <td>1050</td>\n",
       "      <td>910.0</td>\n",
       "      <td>1965</td>\n",
       "      <td>0.0</td>\n",
       "      <td>98136</td>\n",
       "      <td>47.5208</td>\n",
       "      <td>-122.393</td>\n",
       "      <td>1360</td>\n",
       "      <td>5000</td>\n",
       "    </tr>\n",
       "    <tr>\n",
       "      <th>1954400510</th>\n",
       "      <td>2/18/2015</td>\n",
       "      <td>510000.0</td>\n",
       "      <td>3</td>\n",
       "      <td>2.00</td>\n",
       "      <td>1680</td>\n",
       "      <td>8080</td>\n",
       "      <td>1.0</td>\n",
       "      <td>0.0</td>\n",
       "      <td>0.0</td>\n",
       "      <td>3</td>\n",
       "      <td>8</td>\n",
       "      <td>1680</td>\n",
       "      <td>0.0</td>\n",
       "      <td>1987</td>\n",
       "      <td>0.0</td>\n",
       "      <td>98074</td>\n",
       "      <td>47.6168</td>\n",
       "      <td>-122.045</td>\n",
       "      <td>1800</td>\n",
       "      <td>7503</td>\n",
       "    </tr>\n",
       "  </tbody>\n",
       "</table>\n",
       "</div>"
      ],
      "text/plain": [
       "                  date     price  bedrooms  bathrooms  sqft_living  sqft_lot  \\\n",
       "id                                                                             \n",
       "7129300520  10/13/2014  221900.0         3       1.00         1180      5650   \n",
       "6414100192   12/9/2014  538000.0         3       2.25         2570      7242   \n",
       "5631500400   2/25/2015  180000.0         2       1.00          770     10000   \n",
       "2487200875   12/9/2014  604000.0         4       3.00         1960      5000   \n",
       "1954400510   2/18/2015  510000.0         3       2.00         1680      8080   \n",
       "\n",
       "            floors  waterfront  view  condition  grade  sqft_above  \\\n",
       "id                                                                   \n",
       "7129300520     1.0         NaN   0.0          3      7        1180   \n",
       "6414100192     2.0         0.0   0.0          3      7        2170   \n",
       "5631500400     1.0         0.0   0.0          3      6         770   \n",
       "2487200875     1.0         0.0   0.0          5      7        1050   \n",
       "1954400510     1.0         0.0   0.0          3      8        1680   \n",
       "\n",
       "           sqft_basement  yr_built  yr_renovated  zipcode      lat     long  \\\n",
       "id                                                                            \n",
       "7129300520           0.0      1955           0.0    98178  47.5112 -122.257   \n",
       "6414100192         400.0      1951        1991.0    98125  47.7210 -122.319   \n",
       "5631500400           0.0      1933           NaN    98028  47.7379 -122.233   \n",
       "2487200875         910.0      1965           0.0    98136  47.5208 -122.393   \n",
       "1954400510           0.0      1987           0.0    98074  47.6168 -122.045   \n",
       "\n",
       "            sqft_living15  sqft_lot15  \n",
       "id                                     \n",
       "7129300520           1340        5650  \n",
       "6414100192           1690        7639  \n",
       "5631500400           2720        8062  \n",
       "2487200875           1360        5000  \n",
       "1954400510           1800        7503  "
      ]
     },
     "execution_count": 258,
     "metadata": {},
     "output_type": "execute_result"
    }
   ],
   "source": [
    "# loading the dataset\n",
    "df = pd.read_csv('./data/kc_house_data.csv', index_col='id')\n",
    "df.head()"
   ]
  },
  {
   "cell_type": "code",
   "execution_count": 259,
   "metadata": {},
   "outputs": [
    {
     "name": "stdout",
     "output_type": "stream",
     "text": [
      "<class 'pandas.core.frame.DataFrame'>\n",
      "Int64Index: 21597 entries, 7129300520 to 1523300157\n",
      "Data columns (total 20 columns):\n",
      " #   Column         Non-Null Count  Dtype  \n",
      "---  ------         --------------  -----  \n",
      " 0   date           21597 non-null  object \n",
      " 1   price          21597 non-null  float64\n",
      " 2   bedrooms       21597 non-null  int64  \n",
      " 3   bathrooms      21597 non-null  float64\n",
      " 4   sqft_living    21597 non-null  int64  \n",
      " 5   sqft_lot       21597 non-null  int64  \n",
      " 6   floors         21597 non-null  float64\n",
      " 7   waterfront     19221 non-null  float64\n",
      " 8   view           21534 non-null  float64\n",
      " 9   condition      21597 non-null  int64  \n",
      " 10  grade          21597 non-null  int64  \n",
      " 11  sqft_above     21597 non-null  int64  \n",
      " 12  sqft_basement  21597 non-null  object \n",
      " 13  yr_built       21597 non-null  int64  \n",
      " 14  yr_renovated   17755 non-null  float64\n",
      " 15  zipcode        21597 non-null  int64  \n",
      " 16  lat            21597 non-null  float64\n",
      " 17  long           21597 non-null  float64\n",
      " 18  sqft_living15  21597 non-null  int64  \n",
      " 19  sqft_lot15     21597 non-null  int64  \n",
      "dtypes: float64(8), int64(10), object(2)\n",
      "memory usage: 3.5+ MB\n"
     ]
    }
   ],
   "source": [
    "df.info()"
   ]
  },
  {
   "cell_type": "code",
   "execution_count": 260,
   "metadata": {},
   "outputs": [
    {
     "data": {
      "text/plain": [
       "(21597, 20)"
      ]
     },
     "execution_count": 260,
     "metadata": {},
     "output_type": "execute_result"
    }
   ],
   "source": [
    "original_shape = df.shape \n",
    "original_shape"
   ]
  },
  {
   "cell_type": "markdown",
   "metadata": {},
   "source": [
    "# 2. Data Understanding\n",
    " - Given is a a King County House Sales dataset. Which contains house attributes as well  as their prices. This is suitable for this project as we willl be using these attributes to predict the house prices.\n",
    " - The dataset has a total of 21,597 rows and 21 columns. Meaning 21,597 houses were taken as a sample and 21 of their existing attributes recorded.\n",
    " - Based on the sample given some attributes will sure help show the relationship between them and house prices.\n",
    " - The data also has some irrelevant columns which will be dropped, since they might hinder in creating a good model.\n"
   ]
  },
  {
   "cell_type": "markdown",
   "metadata": {},
   "source": [
    "# 3. Data Preparation"
   ]
  },
  {
   "cell_type": "markdown",
   "metadata": {},
   "source": [
    "The prediction target for this analysis is the proce of houses, hence will separate X and y appropiately"
   ]
  },
  {
   "cell_type": "code",
   "execution_count": 261,
   "metadata": {},
   "outputs": [],
   "source": [
    "X = df.drop('price', axis=1)\n",
    "y = df['price']"
   ]
  },
  {
   "cell_type": "code",
   "execution_count": 262,
   "metadata": {},
   "outputs": [],
   "source": [
    "# splitting the data into a train and test sets, prior beforming any preprocesssing steps\n",
    "X_train, X_test, y_train, y_test = train_test_split(X, y, random_state=50)"
   ]
  },
  {
   "cell_type": "code",
   "execution_count": 263,
   "metadata": {},
   "outputs": [
    {
     "name": "stdout",
     "output_type": "stream",
     "text": [
      "X_train is a dataframe with 16197 records and 19 attributes\n",
      "y_train is a series with 16197 values\n",
      "\n",
      "X_test has 5400 records\n",
      "y_test has 5400 records\n"
     ]
    }
   ],
   "source": [
    "print(f\"X_train is a dataframe with {X_train.shape[0]} records and {X_train.shape[1]} attributes\")\n",
    "print(f\"y_train is a series with {y_train.shape[0]} values\")\n",
    "print()\n",
    "print(f\"X_test has {X_test.shape[0]} records\")\n",
    "print(f\"y_test has {y_test.shape[0]} records\")"
   ]
  },
  {
   "cell_type": "markdown",
   "metadata": {},
   "source": [
    "## Data Cleaning"
   ]
  },
  {
   "cell_type": "markdown",
   "metadata": {},
   "source": [
    "### Functions to help with data Cleaning"
   ]
  },
  {
   "cell_type": "code",
   "execution_count": 264,
   "metadata": {},
   "outputs": [],
   "source": [
    "# function to concate a set with its target variable\n",
    "def concater(X, y):\n",
    "    result = pd.concat([y, X], axis = 1)\n",
    "    return result"
   ]
  },
  {
   "cell_type": "code",
   "execution_count": 265,
   "metadata": {},
   "outputs": [],
   "source": [
    "# function to split concated set with its target variable and convert to floors and waterfront to integers\n",
    "def set_splitter(dataset):\n",
    "    X = dataset.drop('price', axis=1)\n",
    "    y = dataset.price\n",
    "    \n",
    "    return X, y"
   ]
  },
  {
   "cell_type": "markdown",
   "metadata": {},
   "source": [
    "## Handling with duplicated values"
   ]
  },
  {
   "cell_type": "code",
   "execution_count": 266,
   "metadata": {},
   "outputs": [],
   "source": [
    "# concating the training set\n",
    "concated_train = concater(X_train, y_train)"
   ]
  },
  {
   "cell_type": "code",
   "execution_count": 267,
   "metadata": {},
   "outputs": [
    {
     "data": {
      "text/plain": [
       "False"
      ]
     },
     "execution_count": 267,
     "metadata": {},
     "output_type": "execute_result"
    }
   ],
   "source": [
    "concated_train.duplicated().any()"
   ]
  },
  {
   "cell_type": "markdown",
   "metadata": {},
   "source": [
    "## Handling with duplicated Values"
   ]
  },
  {
   "cell_type": "markdown",
   "metadata": {},
   "source": [
    "Checking for null values in the train set"
   ]
  },
  {
   "cell_type": "code",
   "execution_count": 268,
   "metadata": {},
   "outputs": [
    {
     "data": {
      "text/plain": [
       "price               0\n",
       "date                0\n",
       "bedrooms            0\n",
       "bathrooms           0\n",
       "sqft_living         0\n",
       "sqft_lot            0\n",
       "floors              0\n",
       "waterfront       1788\n",
       "view               47\n",
       "condition           0\n",
       "grade               0\n",
       "sqft_above          0\n",
       "sqft_basement       0\n",
       "yr_built            0\n",
       "yr_renovated     2885\n",
       "zipcode             0\n",
       "lat                 0\n",
       "long                0\n",
       "sqft_living15       0\n",
       "sqft_lot15          0\n",
       "dtype: int64"
      ]
     },
     "execution_count": 268,
     "metadata": {},
     "output_type": "execute_result"
    }
   ],
   "source": [
    "# Concating X_train and y_train\n",
    "concated_train.isna().sum()"
   ]
  },
  {
   "cell_type": "markdown",
   "metadata": {},
   "source": [
    "## Handling Mising Values"
   ]
  },
  {
   "cell_type": "markdown",
   "metadata": {},
   "source": [
    "### Dealing with yr_renovated null values"
   ]
  },
  {
   "cell_type": "code",
   "execution_count": 269,
   "metadata": {},
   "outputs": [
    {
     "data": {
      "text/plain": [
       "0.0       12750\n",
       "2014.0       52\n",
       "2003.0       24\n",
       "2005.0       23\n",
       "2000.0       23\n",
       "          ...  \n",
       "1959.0        1\n",
       "1945.0        1\n",
       "1944.0        1\n",
       "1948.0        1\n",
       "1953.0        1\n",
       "Name: yr_renovated, Length: 65, dtype: int64"
      ]
     },
     "execution_count": 269,
     "metadata": {},
     "output_type": "execute_result"
    }
   ],
   "source": [
    "# Checking for the values in thr yr_renovated column\n",
    "concated_train['yr_renovated'].value_counts()"
   ]
  },
  {
   "cell_type": "markdown",
   "metadata": {},
   "source": [
    "#### For yr_renovated I will use SimpleImputer to help deal with the null values"
   ]
  },
  {
   "cell_type": "code",
   "execution_count": 270,
   "metadata": {},
   "outputs": [],
   "source": [
    "#  function for dealing with null values in a given set based on the yr_renovated column\n",
    "def yr_renovated(concated_set):\n",
    "    # creating a dataframe which contains the yr_renovated columns\n",
    "    # NB: The houses without renavations have been filtered out\n",
    "    year_renovated = concated_set[concated_set['yr_renovated'] != 0][['yr_renovated']]\n",
    "\n",
    "    # using simpleImputer to deal with the null values in the yr_renovated column\n",
    "    imput = SimpleImputer(missing_values=np.nan, strategy='median')\n",
    "    imput.fit(year_renovated)\n",
    "    new_year_renovated = imput.transform(year_renovated).flatten()\n",
    "    year_renovated['yr_renovated'] = new_year_renovated\n",
    "\n",
    "    condition = (\n",
    "        concated_set.yr_renovated != 0 &\n",
    "        concated_set.yr_renovated.isna()\n",
    "    )\n",
    "\n",
    "    # reassing the variables to the yr_renovated column strictly with columns whose values are not in the 0\n",
    "    concated_set.loc[condition, 'yr_renovated'] = year_renovated\n",
    "\n",
    "    return concated_set"
   ]
  },
  {
   "cell_type": "code",
   "execution_count": 271,
   "metadata": {},
   "outputs": [
    {
     "data": {
      "text/plain": [
       "price               0\n",
       "date                0\n",
       "bedrooms            0\n",
       "bathrooms           0\n",
       "sqft_living         0\n",
       "sqft_lot            0\n",
       "floors              0\n",
       "waterfront       1788\n",
       "view               47\n",
       "condition           0\n",
       "grade               0\n",
       "sqft_above          0\n",
       "sqft_basement       0\n",
       "yr_built            0\n",
       "yr_renovated        0\n",
       "zipcode             0\n",
       "lat                 0\n",
       "long                0\n",
       "sqft_living15       0\n",
       "sqft_lot15          0\n",
       "dtype: int64"
      ]
     },
     "execution_count": 271,
     "metadata": {},
     "output_type": "execute_result"
    }
   ],
   "source": [
    "# dealing with null values in the concated_train set\n",
    "concated_train = yr_renovated(concated_train)\n",
    "concated_train.isna().sum()"
   ]
  },
  {
   "cell_type": "markdown",
   "metadata": {},
   "source": [
    "### Dealing with null values in the view column"
   ]
  },
  {
   "cell_type": "code",
   "execution_count": 272,
   "metadata": {},
   "outputs": [
    {
     "data": {
      "text/plain": [
       "0.0    14585\n",
       "2.0      718\n",
       "3.0      356\n",
       "4.0      246\n",
       "1.0      245\n",
       "Name: view, dtype: int64"
      ]
     },
     "execution_count": 272,
     "metadata": {},
     "output_type": "execute_result"
    }
   ],
   "source": [
    "# checking for the unique values in the column and their occurence\n",
    "concated_train.view.value_counts()"
   ]
  },
  {
   "cell_type": "code",
   "execution_count": 273,
   "metadata": {},
   "outputs": [],
   "source": [
    "#  function for dealing with null values in a given set based on the view column\n",
    "def view(concated_set):\n",
    "    # creating a dataframe which contains the view columns\n",
    "    view = concated_set[['view']]\n",
    "\n",
    "    # using simpleImputer to deal with the null values in the view column\n",
    "    imput = SimpleImputer(missing_values=np.nan, strategy='median')\n",
    "    imput.fit(view)\n",
    "    new_view = imput.transform(view).flatten()\n",
    "    view.view = new_view\n",
    "\n",
    "    # condition = (concated_set.view.isna())\n",
    "\n",
    "    # reassing the variables to the view column strictly with columns whose values are not in the 0\n",
    "    concated_set.view = view\n",
    "\n",
    "    return concated_set"
   ]
  },
  {
   "cell_type": "code",
   "execution_count": 274,
   "metadata": {},
   "outputs": [
    {
     "name": "stderr",
     "output_type": "stream",
     "text": [
      "/tmp/ipykernel_83665/3432681625.py:10: SettingWithCopyWarning: \n",
      "A value is trying to be set on a copy of a slice from a DataFrame.\n",
      "Try using .loc[row_indexer,col_indexer] = value instead\n",
      "\n",
      "See the caveats in the documentation: https://pandas.pydata.org/pandas-docs/stable/user_guide/indexing.html#returning-a-view-versus-a-copy\n",
      "  view.view = new_view\n"
     ]
    },
    {
     "data": {
      "text/plain": [
       "price               0\n",
       "date                0\n",
       "bedrooms            0\n",
       "bathrooms           0\n",
       "sqft_living         0\n",
       "sqft_lot            0\n",
       "floors              0\n",
       "waterfront       1788\n",
       "view                0\n",
       "condition           0\n",
       "grade               0\n",
       "sqft_above          0\n",
       "sqft_basement       0\n",
       "yr_built            0\n",
       "yr_renovated        0\n",
       "zipcode             0\n",
       "lat                 0\n",
       "long                0\n",
       "sqft_living15       0\n",
       "sqft_lot15          0\n",
       "dtype: int64"
      ]
     },
     "execution_count": 274,
     "metadata": {},
     "output_type": "execute_result"
    }
   ],
   "source": [
    "concated_train = view(concated_train)\n",
    "concated_train.isna().sum()"
   ]
  },
  {
   "cell_type": "markdown",
   "metadata": {},
   "source": [
    "### Dealing with null values in the waterfront column"
   ]
  },
  {
   "cell_type": "code",
   "execution_count": 275,
   "metadata": {},
   "outputs": [
    {
     "data": {
      "text/plain": [
       "0.0    14297\n",
       "1.0      112\n",
       "Name: waterfront, dtype: int64"
      ]
     },
     "execution_count": 275,
     "metadata": {},
     "output_type": "execute_result"
    }
   ],
   "source": [
    "concated_train.waterfront.value_counts()"
   ]
  },
  {
   "cell_type": "code",
   "execution_count": 276,
   "metadata": {},
   "outputs": [],
   "source": [
    "#  function for dealing with null values in a given set based on the waterfront column\n",
    "def waterfront(concated_set):\n",
    "    # creating a dataframe which contains the waterfront columns\n",
    "    waterfront = concated_set[['waterfront']]\n",
    "\n",
    "    # using simpleImputer to deal with the null values in the waterfront column\n",
    "    imput = SimpleImputer(missing_values=np.nan, strategy='median')\n",
    "    imput.fit(waterfront)\n",
    "    new_waterfront = imput.transform(waterfront).flatten()\n",
    "    waterfront.waterfront = new_waterfront\n",
    "\n",
    "\n",
    "    # reassing the variables to the waterfront column strictly with columns whose values are not in the 0\n",
    "    concated_set.waterfront = waterfront\n",
    "\n",
    "    return concated_set"
   ]
  },
  {
   "cell_type": "code",
   "execution_count": 277,
   "metadata": {},
   "outputs": [
    {
     "name": "stderr",
     "output_type": "stream",
     "text": [
      "/tmp/ipykernel_83665/598743563.py:10: SettingWithCopyWarning: \n",
      "A value is trying to be set on a copy of a slice from a DataFrame.\n",
      "Try using .loc[row_indexer,col_indexer] = value instead\n",
      "\n",
      "See the caveats in the documentation: https://pandas.pydata.org/pandas-docs/stable/user_guide/indexing.html#returning-a-view-versus-a-copy\n",
      "  waterfront.waterfront = new_waterfront\n"
     ]
    },
    {
     "data": {
      "text/plain": [
       "price            0\n",
       "date             0\n",
       "bedrooms         0\n",
       "bathrooms        0\n",
       "sqft_living      0\n",
       "sqft_lot         0\n",
       "floors           0\n",
       "waterfront       0\n",
       "view             0\n",
       "condition        0\n",
       "grade            0\n",
       "sqft_above       0\n",
       "sqft_basement    0\n",
       "yr_built         0\n",
       "yr_renovated     0\n",
       "zipcode          0\n",
       "lat              0\n",
       "long             0\n",
       "sqft_living15    0\n",
       "sqft_lot15       0\n",
       "dtype: int64"
      ]
     },
     "execution_count": 277,
     "metadata": {},
     "output_type": "execute_result"
    }
   ],
   "source": [
    "concated_train = waterfront(concated_train)\n",
    "concated_train.isna().sum()"
   ]
  },
  {
   "cell_type": "code",
   "execution_count": 278,
   "metadata": {},
   "outputs": [
    {
     "name": "stdout",
     "output_type": "stream",
     "text": [
      "The train set now has 16197 records\n"
     ]
    }
   ],
   "source": [
    "print(f\"The train set now has {concated_train.shape[0]} records\")"
   ]
  },
  {
   "cell_type": "code",
   "execution_count": 279,
   "metadata": {},
   "outputs": [],
   "source": [
    "# Full function for the data cleaning\n",
    "def data_cleaning(X, y):\n",
    "    concated_set = concater(X, y)\n",
    "    concated_set = yr_renovated(concated_set)\n",
    "    concated_set = view(concated_set)\n",
    "    concated_set = waterfront(concated_set)\n",
    "\n",
    "    return concated_set"
   ]
  },
  {
   "cell_type": "markdown",
   "metadata": {},
   "source": [
    "## Dealing with datatypes"
   ]
  },
  {
   "cell_type": "code",
   "execution_count": 280,
   "metadata": {},
   "outputs": [
    {
     "name": "stdout",
     "output_type": "stream",
     "text": [
      "<class 'pandas.core.frame.DataFrame'>\n",
      "Int64Index: 16197 entries, 4139480190 to 1336800880\n",
      "Data columns (total 20 columns):\n",
      " #   Column         Non-Null Count  Dtype  \n",
      "---  ------         --------------  -----  \n",
      " 0   price          16197 non-null  float64\n",
      " 1   date           16197 non-null  object \n",
      " 2   bedrooms       16197 non-null  int64  \n",
      " 3   bathrooms      16197 non-null  float64\n",
      " 4   sqft_living    16197 non-null  int64  \n",
      " 5   sqft_lot       16197 non-null  int64  \n",
      " 6   floors         16197 non-null  float64\n",
      " 7   waterfront     16197 non-null  float64\n",
      " 8   view           16197 non-null  float64\n",
      " 9   condition      16197 non-null  int64  \n",
      " 10  grade          16197 non-null  int64  \n",
      " 11  sqft_above     16197 non-null  int64  \n",
      " 12  sqft_basement  16197 non-null  object \n",
      " 13  yr_built       16197 non-null  int64  \n",
      " 14  yr_renovated   16197 non-null  float64\n",
      " 15  zipcode        16197 non-null  int64  \n",
      " 16  lat            16197 non-null  float64\n",
      " 17  long           16197 non-null  float64\n",
      " 18  sqft_living15  16197 non-null  int64  \n",
      " 19  sqft_lot15     16197 non-null  int64  \n",
      "dtypes: float64(8), int64(10), object(2)\n",
      "memory usage: 2.6+ MB\n"
     ]
    }
   ],
   "source": [
    "concated_train.info()"
   ]
  },
  {
   "cell_type": "markdown",
   "metadata": {},
   "source": [
    "The function below will help with dealing of datatypes by drop irrelevant columns that is the sqft_living15 & sqft_lot15 columns."
   ]
  },
  {
   "cell_type": "code",
   "execution_count": 281,
   "metadata": {},
   "outputs": [
    {
     "name": "stdout",
     "output_type": "stream",
     "text": [
      "<class 'pandas.core.frame.DataFrame'>\n",
      "Int64Index: 16197 entries, 4139480190 to 1336800880\n",
      "Data columns (total 16 columns):\n",
      " #   Column         Non-Null Count  Dtype  \n",
      "---  ------         --------------  -----  \n",
      " 0   price          16197 non-null  float64\n",
      " 1   bedrooms       16197 non-null  int64  \n",
      " 2   bathrooms      16197 non-null  float64\n",
      " 3   sqft_living    16197 non-null  int64  \n",
      " 4   sqft_lot       16197 non-null  int64  \n",
      " 5   floors         16197 non-null  float64\n",
      " 6   waterfront     16197 non-null  float64\n",
      " 7   view           16197 non-null  float64\n",
      " 8   condition      16197 non-null  int64  \n",
      " 9   grade          16197 non-null  int64  \n",
      " 10  sqft_above     16197 non-null  int64  \n",
      " 11  sqft_basement  16197 non-null  object \n",
      " 12  yr_built       16197 non-null  int64  \n",
      " 13  yr_renovated   16197 non-null  float64\n",
      " 14  lat            16197 non-null  float64\n",
      " 15  long           16197 non-null  float64\n",
      "dtypes: float64(8), int64(7), object(1)\n",
      "memory usage: 2.1+ MB\n"
     ]
    }
   ],
   "source": [
    "def cleaner(concated_set):\n",
    "    concated_set = concated_set.drop(['date','zipcode','sqft_living15','sqft_lot15'], axis=1)\n",
    "    concated_set.bathrooms = round((concated_set.bathrooms * concated_set.bedrooms),0)\n",
    "    return concated_set\n",
    "\n",
    "concated_train = cleaner(concated_train)\n",
    "concated_train.info()"
   ]
  },
  {
   "cell_type": "markdown",
   "metadata": {},
   "source": [
    "Invstigating the sqft_basement column"
   ]
  },
  {
   "cell_type": "markdown",
   "metadata": {},
   "source": [
    "The sqft_basement has a string in some of its records this will hinder the data modelling process hence I will filter the records containing the '?' string out."
   ]
  },
  {
   "cell_type": "code",
   "execution_count": 282,
   "metadata": {},
   "outputs": [
    {
     "name": "stdout",
     "output_type": "stream",
     "text": [
      "<class 'pandas.core.frame.DataFrame'>\n",
      "Int64Index: 15850 entries, 4139480190 to 1336800880\n",
      "Data columns (total 16 columns):\n",
      " #   Column         Non-Null Count  Dtype  \n",
      "---  ------         --------------  -----  \n",
      " 0   price          15850 non-null  float64\n",
      " 1   bedrooms       15850 non-null  int64  \n",
      " 2   bathrooms      15850 non-null  float64\n",
      " 3   sqft_living    15850 non-null  int64  \n",
      " 4   sqft_lot       15850 non-null  int64  \n",
      " 5   floors         15850 non-null  float64\n",
      " 6   waterfront     15850 non-null  float64\n",
      " 7   view           15850 non-null  float64\n",
      " 8   condition      15850 non-null  int64  \n",
      " 9   grade          15850 non-null  int64  \n",
      " 10  sqft_above     15850 non-null  int64  \n",
      " 11  sqft_basement  15850 non-null  float64\n",
      " 12  yr_built       15850 non-null  int64  \n",
      " 13  yr_renovated   15850 non-null  float64\n",
      " 14  lat            15850 non-null  float64\n",
      " 15  long           15850 non-null  float64\n",
      "dtypes: float64(9), int64(7)\n",
      "memory usage: 2.1 MB\n"
     ]
    },
    {
     "name": "stderr",
     "output_type": "stream",
     "text": [
      "/tmp/ipykernel_83665/99383065.py:6: SettingWithCopyWarning: \n",
      "A value is trying to be set on a copy of a slice from a DataFrame.\n",
      "Try using .loc[row_indexer,col_indexer] = value instead\n",
      "\n",
      "See the caveats in the documentation: https://pandas.pydata.org/pandas-docs/stable/user_guide/indexing.html#returning-a-view-versus-a-copy\n",
      "  concated_set['sqft_basement'] = pd.to_numeric(concated_set['sqft_basement'])\n"
     ]
    }
   ],
   "source": [
    "# The records containing ? could be that their sqft_basement is unknown\n",
    "# Function to filter out the strings from the sqft_basement column\n",
    "# The function will also change the column's columns data type to an int\n",
    "def sqft_basement(concated_set):\n",
    "    concated_set = concated_set[ (concated_set['sqft_basement'] != '?') ]\n",
    "    concated_set['sqft_basement'] = pd.to_numeric(concated_set['sqft_basement'])\n",
    "    return concated_set\n",
    "\n",
    "concated_train = sqft_basement(concated_train)\n",
    "concated_train.info()"
   ]
  },
  {
   "cell_type": "markdown",
   "metadata": {},
   "source": [
    "## A histogram showing the distribution of the target variable (house price)"
   ]
  },
  {
   "cell_type": "code",
   "execution_count": 283,
   "metadata": {},
   "outputs": [
    {
     "data": {
      "text/plain": [
       "Text(0.5, 1.0, 'Distribution of house prices')"
      ]
     },
     "execution_count": 283,
     "metadata": {},
     "output_type": "execute_result"
    },
    {
     "data": {
      "image/png": "[encoded data removed]",
      "text/plain": [
       "<Figure size 1368x648 with 1 Axes>"
      ]
     },
     "metadata": {
      "needs_background": "light"
     },
     "output_type": "display_data"
    }
   ],
   "source": [
    "fig, ax = plt.subplots(figsize=(19,9))\n",
    "\n",
    "ax.hist(concated_train.price, bins=200)\n",
    "\n",
    "\n",
    "ax.set_xlabel('Listing house prices')\n",
    "ax.set_ylabel('Count of house sells')\n",
    "ax.set_title('Distribution of house prices')"
   ]
  },
  {
   "cell_type": "code",
   "execution_count": 284,
   "metadata": {},
   "outputs": [
    {
     "data": {
      "text/html": [
       "<div>\n",
       "<style scoped>\n",
       "    .dataframe tbody tr th:only-of-type {\n",
       "        vertical-align: middle;\n",
       "    }\n",
       "\n",
       "    .dataframe tbody tr th {\n",
       "        vertical-align: top;\n",
       "    }\n",
       "\n",
       "    .dataframe thead th {\n",
       "        text-align: right;\n",
       "    }\n",
       "</style>\n",
       "<table border=\"1\" class=\"dataframe\">\n",
       "  <thead>\n",
       "    <tr style=\"text-align: right;\">\n",
       "      <th></th>\n",
       "      <th>price</th>\n",
       "      <th>bedrooms</th>\n",
       "      <th>bathrooms</th>\n",
       "      <th>sqft_living</th>\n",
       "      <th>sqft_lot</th>\n",
       "      <th>floors</th>\n",
       "      <th>waterfront</th>\n",
       "      <th>view</th>\n",
       "      <th>condition</th>\n",
       "      <th>grade</th>\n",
       "      <th>sqft_above</th>\n",
       "      <th>sqft_basement</th>\n",
       "      <th>yr_built</th>\n",
       "      <th>yr_renovated</th>\n",
       "      <th>lat</th>\n",
       "      <th>long</th>\n",
       "    </tr>\n",
       "  </thead>\n",
       "  <tbody>\n",
       "    <tr>\n",
       "      <th>count</th>\n",
       "      <td>1.585000e+04</td>\n",
       "      <td>15850.000000</td>\n",
       "      <td>15850.000000</td>\n",
       "      <td>15850.000000</td>\n",
       "      <td>1.585000e+04</td>\n",
       "      <td>15850.000000</td>\n",
       "      <td>15850.000000</td>\n",
       "      <td>15850.000000</td>\n",
       "      <td>15850.000000</td>\n",
       "      <td>15850.000000</td>\n",
       "      <td>15850.000000</td>\n",
       "      <td>15850.000000</td>\n",
       "      <td>15850.000000</td>\n",
       "      <td>15850.000000</td>\n",
       "      <td>15850.000000</td>\n",
       "      <td>15850.000000</td>\n",
       "    </tr>\n",
       "    <tr>\n",
       "      <th>mean</th>\n",
       "      <td>5.417747e+05</td>\n",
       "      <td>3.374069</td>\n",
       "      <td>7.529842</td>\n",
       "      <td>2082.674890</td>\n",
       "      <td>1.504003e+04</td>\n",
       "      <td>1.493470</td>\n",
       "      <td>0.006877</td>\n",
       "      <td>0.230410</td>\n",
       "      <td>3.410978</td>\n",
       "      <td>7.664732</td>\n",
       "      <td>1793.459874</td>\n",
       "      <td>289.215016</td>\n",
       "      <td>1970.980757</td>\n",
       "      <td>424.104227</td>\n",
       "      <td>47.560370</td>\n",
       "      <td>-122.213879</td>\n",
       "    </tr>\n",
       "    <tr>\n",
       "      <th>std</th>\n",
       "      <td>3.680227e+05</td>\n",
       "      <td>0.920293</td>\n",
       "      <td>4.204775</td>\n",
       "      <td>921.270864</td>\n",
       "      <td>3.914038e+04</td>\n",
       "      <td>0.537247</td>\n",
       "      <td>0.082644</td>\n",
       "      <td>0.761997</td>\n",
       "      <td>0.650615</td>\n",
       "      <td>1.176418</td>\n",
       "      <td>831.778252</td>\n",
       "      <td>441.090699</td>\n",
       "      <td>29.283014</td>\n",
       "      <td>817.403484</td>\n",
       "      <td>0.138689</td>\n",
       "      <td>0.139895</td>\n",
       "    </tr>\n",
       "    <tr>\n",
       "      <th>min</th>\n",
       "      <td>8.100000e+04</td>\n",
       "      <td>1.000000</td>\n",
       "      <td>0.000000</td>\n",
       "      <td>370.000000</td>\n",
       "      <td>5.200000e+02</td>\n",
       "      <td>1.000000</td>\n",
       "      <td>0.000000</td>\n",
       "      <td>0.000000</td>\n",
       "      <td>1.000000</td>\n",
       "      <td>3.000000</td>\n",
       "      <td>370.000000</td>\n",
       "      <td>0.000000</td>\n",
       "      <td>1900.000000</td>\n",
       "      <td>0.000000</td>\n",
       "      <td>47.155900</td>\n",
       "      <td>-122.519000</td>\n",
       "    </tr>\n",
       "    <tr>\n",
       "      <th>25%</th>\n",
       "      <td>3.220000e+05</td>\n",
       "      <td>3.000000</td>\n",
       "      <td>4.000000</td>\n",
       "      <td>1420.000000</td>\n",
       "      <td>5.043000e+03</td>\n",
       "      <td>1.000000</td>\n",
       "      <td>0.000000</td>\n",
       "      <td>0.000000</td>\n",
       "      <td>3.000000</td>\n",
       "      <td>7.000000</td>\n",
       "      <td>1200.000000</td>\n",
       "      <td>0.000000</td>\n",
       "      <td>1952.000000</td>\n",
       "      <td>0.000000</td>\n",
       "      <td>47.470300</td>\n",
       "      <td>-122.327000</td>\n",
       "    </tr>\n",
       "    <tr>\n",
       "      <th>50%</th>\n",
       "      <td>4.500000e+05</td>\n",
       "      <td>3.000000</td>\n",
       "      <td>7.000000</td>\n",
       "      <td>1910.000000</td>\n",
       "      <td>7.646000e+03</td>\n",
       "      <td>1.500000</td>\n",
       "      <td>0.000000</td>\n",
       "      <td>0.000000</td>\n",
       "      <td>3.000000</td>\n",
       "      <td>7.000000</td>\n",
       "      <td>1560.000000</td>\n",
       "      <td>0.000000</td>\n",
       "      <td>1975.000000</td>\n",
       "      <td>0.000000</td>\n",
       "      <td>47.572400</td>\n",
       "      <td>-122.229500</td>\n",
       "    </tr>\n",
       "    <tr>\n",
       "      <th>75%</th>\n",
       "      <td>6.450000e+05</td>\n",
       "      <td>4.000000</td>\n",
       "      <td>10.000000</td>\n",
       "      <td>2550.000000</td>\n",
       "      <td>1.064750e+04</td>\n",
       "      <td>2.000000</td>\n",
       "      <td>0.000000</td>\n",
       "      <td>0.000000</td>\n",
       "      <td>4.000000</td>\n",
       "      <td>8.000000</td>\n",
       "      <td>2220.000000</td>\n",
       "      <td>550.000000</td>\n",
       "      <td>1996.000000</td>\n",
       "      <td>0.000000</td>\n",
       "      <td>47.678175</td>\n",
       "      <td>-122.124000</td>\n",
       "    </tr>\n",
       "    <tr>\n",
       "      <th>max</th>\n",
       "      <td>7.060000e+06</td>\n",
       "      <td>33.000000</td>\n",
       "      <td>68.000000</td>\n",
       "      <td>13540.000000</td>\n",
       "      <td>1.164794e+06</td>\n",
       "      <td>3.500000</td>\n",
       "      <td>1.000000</td>\n",
       "      <td>4.000000</td>\n",
       "      <td>5.000000</td>\n",
       "      <td>13.000000</td>\n",
       "      <td>9410.000000</td>\n",
       "      <td>4820.000000</td>\n",
       "      <td>2015.000000</td>\n",
       "      <td>2015.000000</td>\n",
       "      <td>47.777600</td>\n",
       "      <td>-121.316000</td>\n",
       "    </tr>\n",
       "  </tbody>\n",
       "</table>\n",
       "</div>"
      ],
      "text/plain": [
       "              price      bedrooms     bathrooms   sqft_living      sqft_lot  \\\n",
       "count  1.585000e+04  15850.000000  15850.000000  15850.000000  1.585000e+04   \n",
       "mean   5.417747e+05      3.374069      7.529842   2082.674890  1.504003e+04   \n",
       "std    3.680227e+05      0.920293      4.204775    921.270864  3.914038e+04   \n",
       "min    8.100000e+04      1.000000      0.000000    370.000000  5.200000e+02   \n",
       "25%    3.220000e+05      3.000000      4.000000   1420.000000  5.043000e+03   \n",
       "50%    4.500000e+05      3.000000      7.000000   1910.000000  7.646000e+03   \n",
       "75%    6.450000e+05      4.000000     10.000000   2550.000000  1.064750e+04   \n",
       "max    7.060000e+06     33.000000     68.000000  13540.000000  1.164794e+06   \n",
       "\n",
       "             floors    waterfront          view     condition         grade  \\\n",
       "count  15850.000000  15850.000000  15850.000000  15850.000000  15850.000000   \n",
       "mean       1.493470      0.006877      0.230410      3.410978      7.664732   \n",
       "std        0.537247      0.082644      0.761997      0.650615      1.176418   \n",
       "min        1.000000      0.000000      0.000000      1.000000      3.000000   \n",
       "25%        1.000000      0.000000      0.000000      3.000000      7.000000   \n",
       "50%        1.500000      0.000000      0.000000      3.000000      7.000000   \n",
       "75%        2.000000      0.000000      0.000000      4.000000      8.000000   \n",
       "max        3.500000      1.000000      4.000000      5.000000     13.000000   \n",
       "\n",
       "         sqft_above  sqft_basement      yr_built  yr_renovated           lat  \\\n",
       "count  15850.000000   15850.000000  15850.000000  15850.000000  15850.000000   \n",
       "mean    1793.459874     289.215016   1970.980757    424.104227     47.560370   \n",
       "std      831.778252     441.090699     29.283014    817.403484      0.138689   \n",
       "min      370.000000       0.000000   1900.000000      0.000000     47.155900   \n",
       "25%     1200.000000       0.000000   1952.000000      0.000000     47.470300   \n",
       "50%     1560.000000       0.000000   1975.000000      0.000000     47.572400   \n",
       "75%     2220.000000     550.000000   1996.000000      0.000000     47.678175   \n",
       "max     9410.000000    4820.000000   2015.000000   2015.000000     47.777600   \n",
       "\n",
       "               long  \n",
       "count  15850.000000  \n",
       "mean    -122.213879  \n",
       "std        0.139895  \n",
       "min     -122.519000  \n",
       "25%     -122.327000  \n",
       "50%     -122.229500  \n",
       "75%     -122.124000  \n",
       "max     -121.316000  "
      ]
     },
     "execution_count": 284,
     "metadata": {},
     "output_type": "execute_result"
    }
   ],
   "source": [
    "concated_train.describe()"
   ]
  },
  {
   "cell_type": "code",
   "execution_count": 285,
   "metadata": {},
   "outputs": [],
   "source": [
    "# function to check for outliers\n",
    "def outliers(concated_set):\n",
    "    outliers = {}\n",
    "    columns = ['price','sqft_living','sqft_lot','sqft_above']\n",
    "    # columns = ['price','sqft_living']\n",
    "\n",
    "    for column in columns:\n",
    "        quantile1, quantile2 = concated_set[column].quantile([0.001,0.99])\n",
    "        outliers[column] = []\n",
    "\n",
    "        for i in concated_set[column]:\n",
    "            if (i < quantile1) | (i > quantile2):\n",
    "                outliers[column].append(i)\n",
    "\n",
    "\n",
    "    return outliers\n"
   ]
  },
  {
   "cell_type": "code",
   "execution_count": 286,
   "metadata": {},
   "outputs": [],
   "source": [
    "concated_train_ouliers = outliers(concated_train)"
   ]
  },
  {
   "cell_type": "code",
   "execution_count": 287,
   "metadata": {},
   "outputs": [
    {
     "data": {
      "text/plain": [
       "{'price': [2130000.0,\n",
       "  2140000.0,\n",
       "  2190000.0,\n",
       "  2200000.0,\n",
       "  2150000.0,\n",
       "  2000000.0,\n",
       "  2540000.0,\n",
       "  2600000.0,\n",
       "  2300000.0,\n",
       "  2150000.0,\n",
       "  2050000.0,\n",
       "  2700000.0,\n",
       "  90000.0,\n",
       "  3300000.0,\n",
       "  3400000.0,\n",
       "  2450000.0,\n",
       "  2000000.0,\n",
       "  2450000.0,\n",
       "  2880000.0,\n",
       "  2070000.0,\n",
       "  2300000.0,\n",
       "  90000.0,\n",
       "  2540000.0,\n",
       "  2200000.0,\n",
       "  2950000.0,\n",
       "  2200000.0,\n",
       "  3280000.0,\n",
       "  2480000.0,\n",
       "  2540000.0,\n",
       "  3400000.0,\n",
       "  2400000.0,\n",
       "  2500000.0,\n",
       "  3350000.0,\n",
       "  90000.0,\n",
       "  3070000.0,\n",
       "  2700000.0,\n",
       "  2890000.0,\n",
       "  4000000.0,\n",
       "  2400000.0,\n",
       "  2150000.0,\n",
       "  3100000.0,\n",
       "  2250000.0,\n",
       "  2300000.0,\n",
       "  5570000.0,\n",
       "  2250000.0,\n",
       "  2250000.0,\n",
       "  2300000.0,\n",
       "  2560000.0,\n",
       "  3200000.0,\n",
       "  3000000.0,\n",
       "  2890000.0,\n",
       "  83000.0,\n",
       "  2250000.0,\n",
       "  2900000.0,\n",
       "  2800000.0,\n",
       "  2300000.0,\n",
       "  4670000.0,\n",
       "  3650000.0,\n",
       "  3600000.0,\n",
       "  2400000.0,\n",
       "  2950000.0,\n",
       "  2240000.0,\n",
       "  2100000.0,\n",
       "  2130000.0,\n",
       "  3640000.0,\n",
       "  2230000.0,\n",
       "  2490000.0,\n",
       "  2900000.0,\n",
       "  2180000.0,\n",
       "  2030000.0,\n",
       "  89950.0,\n",
       "  2700000.0,\n",
       "  4490000.0,\n",
       "  7060000.0,\n",
       "  3120000.0,\n",
       "  2350000.0,\n",
       "  2580000.0,\n",
       "  2200000.0,\n",
       "  3000000.0,\n",
       "  2950000.0,\n",
       "  2480000.0,\n",
       "  2000000.0,\n",
       "  2470000.0,\n",
       "  2600000.0,\n",
       "  2400000.0,\n",
       "  3800000.0,\n",
       "  2330000.0,\n",
       "  2140000.0,\n",
       "  3000000.0,\n",
       "  3300000.0,\n",
       "  2050000.0,\n",
       "  2000000.0,\n",
       "  2230000.0,\n",
       "  3800000.0,\n",
       "  2900000.0,\n",
       "  3640000.0,\n",
       "  92000.0,\n",
       "  2000000.0,\n",
       "  4500000.0,\n",
       "  5350000.0,\n",
       "  2380000.0,\n",
       "  85000.0,\n",
       "  2730000.0,\n",
       "  95000.0,\n",
       "  3000000.0,\n",
       "  3100000.0,\n",
       "  96500.0,\n",
       "  2000000.0,\n",
       "  2250000.0,\n",
       "  82000.0,\n",
       "  2980000.0,\n",
       "  2140000.0,\n",
       "  5110000.0,\n",
       "  3200000.0,\n",
       "  4210000.0,\n",
       "  81000.0,\n",
       "  2400000.0,\n",
       "  2400000.0,\n",
       "  3400000.0,\n",
       "  5300000.0,\n",
       "  2390000.0,\n",
       "  2000000.0,\n",
       "  2250000.0,\n",
       "  2720000.0,\n",
       "  2750000.0,\n",
       "  2260000.0,\n",
       "  3000000.0,\n",
       "  2000000.0,\n",
       "  2380000.0,\n",
       "  2700000.0,\n",
       "  2300000.0,\n",
       "  2210000.0,\n",
       "  2250000.0,\n",
       "  2750000.0,\n",
       "  2010000.0,\n",
       "  2250000.0,\n",
       "  2900000.0,\n",
       "  2500000.0,\n",
       "  2230000.0,\n",
       "  2890000.0,\n",
       "  3200000.0,\n",
       "  90000.0,\n",
       "  2920000.0,\n",
       "  2150000.0,\n",
       "  2050000.0,\n",
       "  3070000.0,\n",
       "  3080000.0,\n",
       "  2680000.0,\n",
       "  2450000.0,\n",
       "  85000.0,\n",
       "  2340000.0,\n",
       "  2550000.0,\n",
       "  3200000.0,\n",
       "  2950000.0,\n",
       "  95000.0,\n",
       "  2250000.0,\n",
       "  2650000.0,\n",
       "  2160000.0,\n",
       "  2300000.0,\n",
       "  2180000.0,\n",
       "  2420000.0,\n",
       "  2500000.0,\n",
       "  2280000.0,\n",
       "  2100000.0,\n",
       "  2500000.0,\n",
       "  3300000.0,\n",
       "  95000.0,\n",
       "  2500000.0,\n",
       "  84000.0,\n",
       "  2200000.0,\n",
       "  2370000.0,\n",
       "  2230000.0,\n",
       "  2320000.0,\n",
       "  2480000.0,\n",
       "  2190000.0],\n",
       " 'sqft_living': [5110,\n",
       "  5060,\n",
       "  5610,\n",
       "  5220,\n",
       "  5461,\n",
       "  6160,\n",
       "  5610,\n",
       "  530,\n",
       "  6200,\n",
       "  5310,\n",
       "  520,\n",
       "  5850,\n",
       "  5760,\n",
       "  5710,\n",
       "  5400,\n",
       "  5070,\n",
       "  5050,\n",
       "  5150,\n",
       "  7220,\n",
       "  420,\n",
       "  6380,\n",
       "  5250,\n",
       "  5280,\n",
       "  5180,\n",
       "  6840,\n",
       "  520,\n",
       "  6510,\n",
       "  5180,\n",
       "  5180,\n",
       "  5410,\n",
       "  5230,\n",
       "  5010,\n",
       "  5320,\n",
       "  5350,\n",
       "  5020,\n",
       "  8670,\n",
       "  5570,\n",
       "  5230,\n",
       "  7080,\n",
       "  5860,\n",
       "  5584,\n",
       "  5050,\n",
       "  5635,\n",
       "  6085,\n",
       "  7120,\n",
       "  9200,\n",
       "  5150,\n",
       "  5300,\n",
       "  5120,\n",
       "  5820,\n",
       "  5470,\n",
       "  5780,\n",
       "  5190,\n",
       "  5100,\n",
       "  9640,\n",
       "  5470,\n",
       "  5480,\n",
       "  5020,\n",
       "  6240,\n",
       "  7270,\n",
       "  6055,\n",
       "  5340,\n",
       "  5403,\n",
       "  6370,\n",
       "  540,\n",
       "  5270,\n",
       "  480,\n",
       "  5440,\n",
       "  7850,\n",
       "  6430,\n",
       "  370,\n",
       "  10040,\n",
       "  5770,\n",
       "  5490,\n",
       "  5010,\n",
       "  6630,\n",
       "  6550,\n",
       "  5545,\n",
       "  5990,\n",
       "  6260,\n",
       "  5310,\n",
       "  6490,\n",
       "  6390,\n",
       "  5370,\n",
       "  5270,\n",
       "  5480,\n",
       "  5080,\n",
       "  7050,\n",
       "  390,\n",
       "  5150,\n",
       "  6070,\n",
       "  5090,\n",
       "  5110,\n",
       "  6030,\n",
       "  5510,\n",
       "  5850,\n",
       "  5490,\n",
       "  5620,\n",
       "  5180,\n",
       "  420,\n",
       "  5860,\n",
       "  5440,\n",
       "  6640,\n",
       "  8000,\n",
       "  6410,\n",
       "  5330,\n",
       "  5190,\n",
       "  5370,\n",
       "  5860,\n",
       "  5090,\n",
       "  530,\n",
       "  470,\n",
       "  7400,\n",
       "  8010,\n",
       "  5790,\n",
       "  6210,\n",
       "  6530,\n",
       "  5990,\n",
       "  7440,\n",
       "  480,\n",
       "  5190,\n",
       "  5730,\n",
       "  5290,\n",
       "  7390,\n",
       "  5420,\n",
       "  6330,\n",
       "  7420,\n",
       "  5670,\n",
       "  6900,\n",
       "  6040,\n",
       "  5370,\n",
       "  5360,\n",
       "  7350,\n",
       "  5550,\n",
       "  5180,\n",
       "  5300,\n",
       "  5430,\n",
       "  6050,\n",
       "  520,\n",
       "  5810,\n",
       "  5370,\n",
       "  5310,\n",
       "  5774,\n",
       "  5550,\n",
       "  5240,\n",
       "  5050,\n",
       "  5350,\n",
       "  5270,\n",
       "  7000,\n",
       "  5790,\n",
       "  5660,\n",
       "  520,\n",
       "  5930,\n",
       "  5740,\n",
       "  5010,\n",
       "  6200,\n",
       "  6110,\n",
       "  7320,\n",
       "  5844,\n",
       "  7880,\n",
       "  520,\n",
       "  5230,\n",
       "  13540,\n",
       "  8020,\n",
       "  5120,\n",
       "  6070,\n",
       "  5620,\n",
       "  5840,\n",
       "  5050,\n",
       "  5940,\n",
       "  6810,\n",
       "  5480],\n",
       " 'sqft_lot': [220414,\n",
       "  435600,\n",
       "  403693,\n",
       "  217805,\n",
       "  690,\n",
       "  493534,\n",
       "  215186,\n",
       "  219542,\n",
       "  503989,\n",
       "  216332,\n",
       "  675,\n",
       "  361548,\n",
       "  256132,\n",
       "  217852,\n",
       "  572,\n",
       "  222156,\n",
       "  265716,\n",
       "  213879,\n",
       "  499571,\n",
       "  308080,\n",
       "  443440,\n",
       "  698,\n",
       "  321908,\n",
       "  222156,\n",
       "  635,\n",
       "  223462,\n",
       "  315374,\n",
       "  217800,\n",
       "  415126,\n",
       "  392475,\n",
       "  223377,\n",
       "  264844,\n",
       "  235224,\n",
       "  239144,\n",
       "  292723,\n",
       "  384634,\n",
       "  216344,\n",
       "  426450,\n",
       "  280962,\n",
       "  426452,\n",
       "  237402,\n",
       "  290980,\n",
       "  434728,\n",
       "  228254,\n",
       "  649,\n",
       "  285318,\n",
       "  249126,\n",
       "  235063,\n",
       "  223898,\n",
       "  229125,\n",
       "  1164794,\n",
       "  365904,\n",
       "  219978,\n",
       "  230868,\n",
       "  349351,\n",
       "  250470,\n",
       "  389126,\n",
       "  501376,\n",
       "  368517,\n",
       "  226076,\n",
       "  250905,\n",
       "  214315,\n",
       "  217697,\n",
       "  600,\n",
       "  223027,\n",
       "  422967,\n",
       "  218472,\n",
       "  239580,\n",
       "  217800,\n",
       "  276170,\n",
       "  218506,\n",
       "  233481,\n",
       "  251460,\n",
       "  216777,\n",
       "  336283,\n",
       "  217374,\n",
       "  871200,\n",
       "  219106,\n",
       "  422096,\n",
       "  577605,\n",
       "  323215,\n",
       "  704,\n",
       "  453895,\n",
       "  286355,\n",
       "  641203,\n",
       "  234352,\n",
       "  683,\n",
       "  306848,\n",
       "  224769,\n",
       "  623779,\n",
       "  224769,\n",
       "  268329,\n",
       "  263538,\n",
       "  241322,\n",
       "  533610,\n",
       "  435600,\n",
       "  251341,\n",
       "  339332,\n",
       "  715690,\n",
       "  920423,\n",
       "  213444,\n",
       "  220300,\n",
       "  432036,\n",
       "  871200,\n",
       "  705,\n",
       "  217800,\n",
       "  218235,\n",
       "  223027,\n",
       "  262666,\n",
       "  262231,\n",
       "  507038,\n",
       "  219978,\n",
       "  219978,\n",
       "  374616,\n",
       "  221720,\n",
       "  248600,\n",
       "  224442,\n",
       "  542322,\n",
       "  219527,\n",
       "  241200,\n",
       "  385506,\n",
       "  217800,\n",
       "  224334,\n",
       "  273556,\n",
       "  221284,\n",
       "  292288,\n",
       "  244716,\n",
       "  219542,\n",
       "  638,\n",
       "  215186,\n",
       "  216493,\n",
       "  219978,\n",
       "  676,\n",
       "  383328,\n",
       "  1074218,\n",
       "  223463,\n",
       "  383328,\n",
       "  696,\n",
       "  320917,\n",
       "  216057,\n",
       "  247421,\n",
       "  217882,\n",
       "  223462,\n",
       "  257875,\n",
       "  231303,\n",
       "  220308,\n",
       "  234788,\n",
       "  217800,\n",
       "  387684,\n",
       "  520,\n",
       "  435600,\n",
       "  217800,\n",
       "  269345,\n",
       "  275033,\n",
       "  270236,\n",
       "  288367,\n",
       "  266151,\n",
       "  223462,\n",
       "  258746,\n",
       "  216493,\n",
       "  307752,\n",
       "  344124,\n",
       "  226097,\n",
       "  423838,\n",
       "  217800,\n",
       "  649,\n",
       "  237402,\n",
       "  217800,\n",
       "  273556,\n",
       "  435600],\n",
       " 'sqft_above': [5110,\n",
       "  5060,\n",
       "  4570,\n",
       "  4470,\n",
       "  4930,\n",
       "  4750,\n",
       "  4440,\n",
       "  4570,\n",
       "  520,\n",
       "  5000,\n",
       "  4580,\n",
       "  4670,\n",
       "  4430,\n",
       "  4460,\n",
       "  4610,\n",
       "  5710,\n",
       "  500,\n",
       "  5400,\n",
       "  5070,\n",
       "  4500,\n",
       "  4620,\n",
       "  4930,\n",
       "  6220,\n",
       "  420,\n",
       "  6380,\n",
       "  480,\n",
       "  5250,\n",
       "  4640,\n",
       "  520,\n",
       "  5180,\n",
       "  5050,\n",
       "  5320,\n",
       "  5020,\n",
       "  4480,\n",
       "  6120,\n",
       "  4450,\n",
       "  4660,\n",
       "  5760,\n",
       "  4460,\n",
       "  5584,\n",
       "  5050,\n",
       "  6085,\n",
       "  5480,\n",
       "  6200,\n",
       "  4570,\n",
       "  4490,\n",
       "  4800,\n",
       "  4780,\n",
       "  4510,\n",
       "  5190,\n",
       "  4820,\n",
       "  4590,\n",
       "  4510,\n",
       "  4700,\n",
       "  4610,\n",
       "  6420,\n",
       "  5403,\n",
       "  4830,\n",
       "  4490,\n",
       "  6370,\n",
       "  4890,\n",
       "  480,\n",
       "  4610,\n",
       "  4570,\n",
       "  7850,\n",
       "  4440,\n",
       "  6430,\n",
       "  370,\n",
       "  7680,\n",
       "  4490,\n",
       "  4700,\n",
       "  4930,\n",
       "  5400,\n",
       "  4850,\n",
       "  4840,\n",
       "  4560,\n",
       "  5370,\n",
       "  4430,\n",
       "  5080,\n",
       "  390,\n",
       "  4420,\n",
       "  6070,\n",
       "  4740,\n",
       "  4440,\n",
       "  4910,\n",
       "  5490,\n",
       "  4700,\n",
       "  4460,\n",
       "  420,\n",
       "  4590,\n",
       "  4910,\n",
       "  480,\n",
       "  5440,\n",
       "  4430,\n",
       "  6350,\n",
       "  6720,\n",
       "  4740,\n",
       "  5610,\n",
       "  4980,\n",
       "  4850,\n",
       "  4790,\n",
       "  4610,\n",
       "  4750,\n",
       "  5090,\n",
       "  4870,\n",
       "  470,\n",
       "  4560,\n",
       "  6290,\n",
       "  5990,\n",
       "  4430,\n",
       "  4760,\n",
       "  6530,\n",
       "  5990,\n",
       "  5550,\n",
       "  480,\n",
       "  490,\n",
       "  5190,\n",
       "  4750,\n",
       "  4540,\n",
       "  5000,\n",
       "  4475,\n",
       "  4900,\n",
       "  4620,\n",
       "  7420,\n",
       "  4630,\n",
       "  5670,\n",
       "  4820,\n",
       "  5370,\n",
       "  4750,\n",
       "  4440,\n",
       "  5550,\n",
       "  5300,\n",
       "  5000,\n",
       "  4600,\n",
       "  4430,\n",
       "  520,\n",
       "  4740,\n",
       "  4470,\n",
       "  4430,\n",
       "  4490,\n",
       "  5240,\n",
       "  4750,\n",
       "  5020,\n",
       "  4470,\n",
       "  4430,\n",
       "  4590,\n",
       "  4670,\n",
       "  4500,\n",
       "  4670,\n",
       "  4860,\n",
       "  520,\n",
       "  4500,\n",
       "  4810,\n",
       "  5010,\n",
       "  5050,\n",
       "  6110,\n",
       "  7320,\n",
       "  5844,\n",
       "  4750,\n",
       "  7880,\n",
       "  520,\n",
       "  5230,\n",
       "  9410,\n",
       "  4500,\n",
       "  8020,\n",
       "  6070,\n",
       "  4570,\n",
       "  4570,\n",
       "  4570,\n",
       "  4720,\n",
       "  4570,\n",
       "  4950,\n",
       "  6110,\n",
       "  5140]}"
      ]
     },
     "execution_count": 287,
     "metadata": {},
     "output_type": "execute_result"
    }
   ],
   "source": [
    "concated_train_ouliers"
   ]
  },
  {
   "cell_type": "code",
   "execution_count": 288,
   "metadata": {},
   "outputs": [],
   "source": [
    "# function to remove outliers and returns the new updated dataframe\n",
    "def outliers_remover(concated_set, outliers):\n",
    "    keys = list(outliers.keys())\n",
    "    for key in keys:\n",
    "        for i in outliers[key]:\n",
    "            row_index = concated_set[ concated_set.price == i ].index\n",
    "            concated_set = concated_set.drop(row_index)\n",
    "    return concated_set"
   ]
  },
  {
   "cell_type": "code",
   "execution_count": 289,
   "metadata": {},
   "outputs": [
    {
     "name": "stdout",
     "output_type": "stream",
     "text": [
      "Number of train set records before removing outliers 15850\n",
      "\n",
      "Number of train set records after removing outliers 15673\n"
     ]
    }
   ],
   "source": [
    "print(f\"Number of train set records before removing outliers {concated_train.shape[0]}\")\n",
    "print()\n",
    "concated_train = outliers_remover(concated_train, concated_train_ouliers)\n",
    "print(f\"Number of train set records after removing outliers {concated_train.shape[0]}\")"
   ]
  },
  {
   "cell_type": "markdown",
   "metadata": {},
   "source": [
    "### A histogram showing the distribution of the target variable (house price) after removing the outliers"
   ]
  },
  {
   "cell_type": "code",
   "execution_count": 290,
   "metadata": {},
   "outputs": [
    {
     "data": {
      "text/plain": [
       "Text(0.5, 1.0, 'Distribution of house prices')"
      ]
     },
     "execution_count": 290,
     "metadata": {},
     "output_type": "execute_result"
    },
    {
     "data": {
      "image/png": "[encoded data removed]",
      "text/plain": [
       "<Figure size 1368x648 with 1 Axes>"
      ]
     },
     "metadata": {
      "needs_background": "light"
     },
     "output_type": "display_data"
    }
   ],
   "source": [
    "fig, ax = plt.subplots(figsize=(19,9))\n",
    "\n",
    "ax.hist(y_train, bins=200)\n",
    "\n",
    "ax.set_xlabel('Listing house prices')\n",
    "ax.set_ylabel('Count of house sells')\n",
    "ax.set_title('Distribution of house prices')"
   ]
  },
  {
   "cell_type": "code",
   "execution_count": 291,
   "metadata": {},
   "outputs": [],
   "source": [
    "# full function for data preparation\n",
    "def data_preparation(X,y):\n",
    "    concated_set  = data_cleaning(X,y) # data cleaning function\n",
    "\n",
    "    # dealing with the data types\n",
    "    concated_set = cleaner(concated_set)\n",
    "    concated_set = sqft_basement(concated_set)\n",
    "\n",
    "    # dealing with outliers and removing them\n",
    "    concated_set = outliers_remover(\n",
    "        concated_set, \n",
    "        outliers(concated_set)\n",
    "        ) # removing outliers\n",
    "\n",
    "\n",
    "    return concated_set"
   ]
  },
  {
   "cell_type": "markdown",
   "metadata": {},
   "source": [
    "# 4. Modeling"
   ]
  },
  {
   "cell_type": "code",
   "execution_count": 292,
   "metadata": {},
   "outputs": [],
   "source": [
    "# splitting the data into X and y\n",
    "X_train, y_train = set_splitter(concated_train)\n"
   ]
  },
  {
   "cell_type": "code",
   "execution_count": 293,
   "metadata": {},
   "outputs": [],
   "source": [
    "# Intializing a splitter\n",
    "splitter = ShuffleSplit(\n",
    "    n_splits=3,\n",
    "    test_size=0.25,\n",
    "    random_state=20\n",
    ") # perfoms a 5 seperate train-test splits "
   ]
  },
  {
   "cell_type": "code",
   "execution_count": 294,
   "metadata": {},
   "outputs": [
    {
     "name": "stdout",
     "output_type": "stream",
     "text": [
      "<class 'pandas.core.frame.DataFrame'>\n",
      "Int64Index: 15673 entries, 4139480190 to 1336800880\n",
      "Data columns (total 15 columns):\n",
      " #   Column         Non-Null Count  Dtype  \n",
      "---  ------         --------------  -----  \n",
      " 0   bedrooms       15673 non-null  int64  \n",
      " 1   bathrooms      15673 non-null  float64\n",
      " 2   sqft_living    15673 non-null  int64  \n",
      " 3   sqft_lot       15673 non-null  int64  \n",
      " 4   floors         15673 non-null  float64\n",
      " 5   waterfront     15673 non-null  float64\n",
      " 6   view           15673 non-null  float64\n",
      " 7   condition      15673 non-null  int64  \n",
      " 8   grade          15673 non-null  int64  \n",
      " 9   sqft_above     15673 non-null  int64  \n",
      " 10  sqft_basement  15673 non-null  float64\n",
      " 11  yr_built       15673 non-null  int64  \n",
      " 12  yr_renovated   15673 non-null  float64\n",
      " 13  lat            15673 non-null  float64\n",
      " 14  long           15673 non-null  float64\n",
      "dtypes: float64(8), int64(7)\n",
      "memory usage: 1.9 MB\n"
     ]
    }
   ],
   "source": [
    "X_train.info()"
   ]
  },
  {
   "cell_type": "code",
   "execution_count": 295,
   "metadata": {},
   "outputs": [
    {
     "name": "stdout",
     "output_type": "stream",
     "text": [
      "Was the column selected\n",
      "bedrooms: True\n",
      "bathrooms: True\n",
      "sqft_living: True\n",
      "sqft_lot: True\n",
      "floors: True\n",
      "waterfront: True\n",
      "view: True\n",
      "condition: True\n",
      "grade: True\n",
      "sqft_above: True\n",
      "sqft_basement: True\n",
      "yr_built: True\n",
      "yr_renovated: True\n",
      "lat: True\n",
      "long: True\n"
     ]
    }
   ],
   "source": [
    "# using REFCV\n",
    "X_train_REFECV = StandardScaler().fit_transform(X_train)\n",
    "\n",
    "model_for_REFECV = LinearRegression()\n",
    "\n",
    "# Intitate and fit the selector\n",
    "selector = RFECV(model_for_REFECV, cv=splitter)\n",
    "selector.fit(X_train_REFECV, y_train)\n",
    "\n",
    "# Print the results\n",
    "print(\"Was the column selected\")\n",
    "for index, col in enumerate(X_train.columns):\n",
    "    print(f\"{col}: {selector.support_[index]}\")"
   ]
  },
  {
   "cell_type": "markdown",
   "metadata": {},
   "source": [
    "The algorithim selects all the attributes hence I will use dive more to other alternatives to find the best combinators"
   ]
  },
  {
   "cell_type": "code",
   "execution_count": 296,
   "metadata": {},
   "outputs": [
    {
     "data": {
      "text/plain": [
       "15"
      ]
     },
     "execution_count": 296,
     "metadata": {},
     "output_type": "execute_result"
    }
   ],
   "source": [
    "len(X_train.columns)"
   ]
  },
  {
   "cell_type": "code",
   "execution_count": 297,
   "metadata": {},
   "outputs": [
    {
     "data": {
      "text/html": [
       "<table class=\"simpletable\">\n",
       "<caption>OLS Regression Results</caption>\n",
       "<tr>\n",
       "  <th>Dep. Variable:</th>          <td>price</td>      <th>  R-squared:         </th>  <td>   0.705</td>  \n",
       "</tr>\n",
       "<tr>\n",
       "  <th>Model:</th>                   <td>OLS</td>       <th>  Adj. R-squared:    </th>  <td>   0.704</td>  \n",
       "</tr>\n",
       "<tr>\n",
       "  <th>Method:</th>             <td>Least Squares</td>  <th>  F-statistic:       </th>  <td>   2667.</td>  \n",
       "</tr>\n",
       "<tr>\n",
       "  <th>Date:</th>             <td>Sat, 02 Jul 2022</td> <th>  Prob (F-statistic):</th>   <td>  0.00</td>   \n",
       "</tr>\n",
       "<tr>\n",
       "  <th>Time:</th>                 <td>08:36:05</td>     <th>  Log-Likelihood:    </th> <td>-2.0963e+05</td>\n",
       "</tr>\n",
       "<tr>\n",
       "  <th>No. Observations:</th>      <td> 15673</td>      <th>  AIC:               </th>  <td>4.193e+05</td> \n",
       "</tr>\n",
       "<tr>\n",
       "  <th>Df Residuals:</th>          <td> 15658</td>      <th>  BIC:               </th>  <td>4.194e+05</td> \n",
       "</tr>\n",
       "<tr>\n",
       "  <th>Df Model:</th>              <td>    14</td>      <th>                     </th>      <td> </td>     \n",
       "</tr>\n",
       "<tr>\n",
       "  <th>Covariance Type:</th>      <td>nonrobust</td>    <th>                     </th>      <td> </td>     \n",
       "</tr>\n",
       "</table>\n",
       "<table class=\"simpletable\">\n",
       "<tr>\n",
       "        <td></td>           <th>coef</th>     <th>std err</th>      <th>t</th>      <th>P>|t|</th>  <th>[0.025</th>    <th>0.975]</th>  \n",
       "</tr>\n",
       "<tr>\n",
       "  <th>const</th>         <td>-2.708e+07</td> <td> 1.43e+06</td> <td>  -18.984</td> <td> 0.000</td> <td>-2.99e+07</td> <td>-2.43e+07</td>\n",
       "</tr>\n",
       "<tr>\n",
       "  <th>bedrooms</th>      <td>-3.405e+04</td> <td> 2395.823</td> <td>  -14.214</td> <td> 0.000</td> <td>-3.87e+04</td> <td>-2.94e+04</td>\n",
       "</tr>\n",
       "<tr>\n",
       "  <th>bathrooms</th>     <td> 8691.3427</td> <td>  712.594</td> <td>   12.197</td> <td> 0.000</td> <td> 7294.576</td> <td> 1.01e+04</td>\n",
       "</tr>\n",
       "<tr>\n",
       "  <th>sqft_living</th>   <td>   79.9154</td> <td>    1.996</td> <td>   40.030</td> <td> 0.000</td> <td>   76.002</td> <td>   83.828</td>\n",
       "</tr>\n",
       "<tr>\n",
       "  <th>sqft_lot</th>      <td>    0.0489</td> <td>    0.034</td> <td>    1.430</td> <td> 0.153</td> <td>   -0.018</td> <td>    0.116</td>\n",
       "</tr>\n",
       "<tr>\n",
       "  <th>floors</th>        <td> 1.849e+04</td> <td> 3228.199</td> <td>    5.726</td> <td> 0.000</td> <td> 1.22e+04</td> <td> 2.48e+04</td>\n",
       "</tr>\n",
       "<tr>\n",
       "  <th>waterfront</th>    <td> 3.149e+05</td> <td> 1.96e+04</td> <td>   16.068</td> <td> 0.000</td> <td> 2.76e+05</td> <td> 3.53e+05</td>\n",
       "</tr>\n",
       "<tr>\n",
       "  <th>view</th>          <td> 4.506e+04</td> <td> 1954.655</td> <td>   23.055</td> <td> 0.000</td> <td> 4.12e+04</td> <td> 4.89e+04</td>\n",
       "</tr>\n",
       "<tr>\n",
       "  <th>condition</th>     <td> 2.949e+04</td> <td> 2103.230</td> <td>   14.022</td> <td> 0.000</td> <td> 2.54e+04</td> <td> 3.36e+04</td>\n",
       "</tr>\n",
       "<tr>\n",
       "  <th>grade</th>         <td> 1.039e+05</td> <td> 1884.106</td> <td>   55.132</td> <td> 0.000</td> <td>    1e+05</td> <td> 1.08e+05</td>\n",
       "</tr>\n",
       "<tr>\n",
       "  <th>sqft_above</th>    <td>   46.9883</td> <td>    1.997</td> <td>   23.529</td> <td> 0.000</td> <td>   43.074</td> <td>   50.903</td>\n",
       "</tr>\n",
       "<tr>\n",
       "  <th>sqft_basement</th> <td>   32.9270</td> <td>    2.427</td> <td>   13.567</td> <td> 0.000</td> <td>   28.170</td> <td>   37.684</td>\n",
       "</tr>\n",
       "<tr>\n",
       "  <th>yr_built</th>      <td>-2226.1129</td> <td>   62.009</td> <td>  -35.900</td> <td> 0.000</td> <td>-2347.657</td> <td>-2104.569</td>\n",
       "</tr>\n",
       "<tr>\n",
       "  <th>yr_renovated</th>  <td>    4.3491</td> <td>    1.540</td> <td>    2.824</td> <td> 0.005</td> <td>    1.330</td> <td>    7.368</td>\n",
       "</tr>\n",
       "<tr>\n",
       "  <th>lat</th>           <td> 5.511e+05</td> <td> 9483.021</td> <td>   58.117</td> <td> 0.000</td> <td> 5.33e+05</td> <td>  5.7e+05</td>\n",
       "</tr>\n",
       "<tr>\n",
       "  <th>long</th>          <td>-3.788e+04</td> <td> 1.07e+04</td> <td>   -3.541</td> <td> 0.000</td> <td>-5.89e+04</td> <td>-1.69e+04</td>\n",
       "</tr>\n",
       "</table>\n",
       "<table class=\"simpletable\">\n",
       "<tr>\n",
       "  <th>Omnibus:</th>       <td>5012.955</td> <th>  Durbin-Watson:     </th> <td>   2.020</td> \n",
       "</tr>\n",
       "<tr>\n",
       "  <th>Prob(Omnibus):</th>  <td> 0.000</td>  <th>  Jarque-Bera (JB):  </th> <td>28642.208</td>\n",
       "</tr>\n",
       "<tr>\n",
       "  <th>Skew:</th>           <td> 1.421</td>  <th>  Prob(JB):          </th> <td>    0.00</td> \n",
       "</tr>\n",
       "<tr>\n",
       "  <th>Kurtosis:</th>       <td> 8.982</td>  <th>  Cond. No.          </th> <td>9.17e+16</td> \n",
       "</tr>\n",
       "</table><br/><br/>Notes:<br/>[1] Standard Errors assume that the covariance matrix of the errors is correctly specified.<br/>[2] The smallest eigenvalue is 3.17e-21. This might indicate that there are<br/>strong multicollinearity problems or that the design matrix is singular."
      ],
      "text/plain": [
       "<class 'statsmodels.iolib.summary.Summary'>\n",
       "\"\"\"\n",
       "                            OLS Regression Results                            \n",
       "==============================================================================\n",
       "Dep. Variable:                  price   R-squared:                       0.705\n",
       "Model:                            OLS   Adj. R-squared:                  0.704\n",
       "Method:                 Least Squares   F-statistic:                     2667.\n",
       "Date:                Sat, 02 Jul 2022   Prob (F-statistic):               0.00\n",
       "Time:                        08:36:05   Log-Likelihood:            -2.0963e+05\n",
       "No. Observations:               15673   AIC:                         4.193e+05\n",
       "Df Residuals:                   15658   BIC:                         4.194e+05\n",
       "Df Model:                          14                                         \n",
       "Covariance Type:            nonrobust                                         \n",
       "=================================================================================\n",
       "                    coef    std err          t      P>|t|      [0.025      0.975]\n",
       "---------------------------------------------------------------------------------\n",
       "const         -2.708e+07   1.43e+06    -18.984      0.000   -2.99e+07   -2.43e+07\n",
       "bedrooms      -3.405e+04   2395.823    -14.214      0.000   -3.87e+04   -2.94e+04\n",
       "bathrooms      8691.3427    712.594     12.197      0.000    7294.576    1.01e+04\n",
       "sqft_living      79.9154      1.996     40.030      0.000      76.002      83.828\n",
       "sqft_lot          0.0489      0.034      1.430      0.153      -0.018       0.116\n",
       "floors         1.849e+04   3228.199      5.726      0.000    1.22e+04    2.48e+04\n",
       "waterfront     3.149e+05   1.96e+04     16.068      0.000    2.76e+05    3.53e+05\n",
       "view           4.506e+04   1954.655     23.055      0.000    4.12e+04    4.89e+04\n",
       "condition      2.949e+04   2103.230     14.022      0.000    2.54e+04    3.36e+04\n",
       "grade          1.039e+05   1884.106     55.132      0.000       1e+05    1.08e+05\n",
       "sqft_above       46.9883      1.997     23.529      0.000      43.074      50.903\n",
       "sqft_basement    32.9270      2.427     13.567      0.000      28.170      37.684\n",
       "yr_built      -2226.1129     62.009    -35.900      0.000   -2347.657   -2104.569\n",
       "yr_renovated      4.3491      1.540      2.824      0.005       1.330       7.368\n",
       "lat            5.511e+05   9483.021     58.117      0.000    5.33e+05     5.7e+05\n",
       "long          -3.788e+04   1.07e+04     -3.541      0.000   -5.89e+04   -1.69e+04\n",
       "==============================================================================\n",
       "Omnibus:                     5012.955   Durbin-Watson:                   2.020\n",
       "Prob(Omnibus):                  0.000   Jarque-Bera (JB):            28642.208\n",
       "Skew:                           1.421   Prob(JB):                         0.00\n",
       "Kurtosis:                       8.982   Cond. No.                     9.17e+16\n",
       "==============================================================================\n",
       "\n",
       "Notes:\n",
       "[1] Standard Errors assume that the covariance matrix of the errors is correctly specified.\n",
       "[2] The smallest eigenvalue is 3.17e-21. This might indicate that there are\n",
       "strong multicollinearity problems or that the design matrix is singular.\n",
       "\"\"\""
      ]
     },
     "execution_count": 297,
     "metadata": {},
     "output_type": "execute_result"
    }
   ],
   "source": [
    "# investigating for multicolinearity\n",
    "olsmodel = sm.OLS(y_train, sm.add_constant(X_train)).fit()\n",
    "olsmodel.summary()"
   ]
  },
  {
   "cell_type": "markdown",
   "metadata": {},
   "source": [
    "Again we are not getting clear result hence I will use a brute force algorithm to find the best combinations to get the best results"
   ]
  },
  {
   "cell_type": "code",
   "execution_count": 298,
   "metadata": {},
   "outputs": [
    {
     "name": "stdout",
     "output_type": "stream",
     "text": [
      "<class 'pandas.core.frame.DataFrame'>\n",
      "Int64Index: 15673 entries, 4139480190 to 1336800880\n",
      "Data columns (total 15 columns):\n",
      " #   Column         Non-Null Count  Dtype  \n",
      "---  ------         --------------  -----  \n",
      " 0   bedrooms       15673 non-null  int64  \n",
      " 1   bathrooms      15673 non-null  float64\n",
      " 2   sqft_living    15673 non-null  int64  \n",
      " 3   sqft_lot       15673 non-null  int64  \n",
      " 4   floors         15673 non-null  float64\n",
      " 5   waterfront     15673 non-null  float64\n",
      " 6   view           15673 non-null  float64\n",
      " 7   condition      15673 non-null  int64  \n",
      " 8   grade          15673 non-null  int64  \n",
      " 9   sqft_above     15673 non-null  int64  \n",
      " 10  sqft_basement  15673 non-null  float64\n",
      " 11  yr_built       15673 non-null  int64  \n",
      " 12  yr_renovated   15673 non-null  float64\n",
      " 13  lat            15673 non-null  float64\n",
      " 14  long           15673 non-null  float64\n",
      "dtypes: float64(8), int64(7)\n",
      "memory usage: 1.9 MB\n"
     ]
    }
   ],
   "source": [
    "X_train.info()"
   ]
  },
  {
   "cell_type": "code",
   "execution_count": 299,
   "metadata": {},
   "outputs": [],
   "source": [
    "# Function for getting coeeficients in a cross_valiate\n",
    "def coeeficients(score):\n",
    "    for model in score['estimator']:\n",
    "        print(model.coef_)"
   ]
  },
  {
   "cell_type": "markdown",
   "metadata": {},
   "source": [
    "## Building models to find the best model overall"
   ]
  },
  {
   "cell_type": "markdown",
   "metadata": {},
   "source": [
    "### First Model "
   ]
  },
  {
   "cell_type": "markdown",
   "metadata": {},
   "source": [
    "The first model will contain all the attributes"
   ]
  },
  {
   "cell_type": "code",
   "execution_count": 300,
   "metadata": {},
   "outputs": [
    {
     "name": "stdout",
     "output_type": "stream",
     "text": [
      "Train Score:            0.704925381875\n",
      "Validation Score:       0.7028225765891835\n",
      "Difference in scores:   0.0021028052858165225\n"
     ]
    }
   ],
   "source": [
    "first_model = LinearRegression()\n",
    "\n",
    "first_score = cross_validate(\n",
    "    estimator=first_model,\n",
    "    X=X_train,\n",
    "    y=y_train,\n",
    "    return_train_score=True,\n",
    "    return_estimator=True,\n",
    "    cv=splitter\n",
    ")\n",
    "\n",
    "print(f\"Train Score:            {first_score['train_score'].mean()}\")\n",
    "print(f\"Validation Score:       {first_score['test_score'].mean()}\")\n",
    "print(f\"Difference in scores:   {  (first_score['train_score'].mean()) - (first_score['test_score'].mean())}\")\n"
   ]
  },
  {
   "cell_type": "markdown",
   "metadata": {},
   "source": [
    "The model had a good R-2 and the difference between the models is low, hence it does a good job in predicting the house prices"
   ]
  },
  {
   "cell_type": "markdown",
   "metadata": {},
   "source": [
    "### Second Model "
   ]
  },
  {
   "cell_type": "markdown",
   "metadata": {},
   "source": [
    "The second model will be built using the PolynomialFeature"
   ]
  },
  {
   "cell_type": "code",
   "execution_count": 301,
   "metadata": {},
   "outputs": [],
   "source": [
    "# Building a less complex polynomial feature \n",
    "poly_2 = PolynomialFeatures(2)\n",
    "X_train_poly2 = poly_2.fit_transform(X_train)"
   ]
  },
  {
   "cell_type": "code",
   "execution_count": 302,
   "metadata": {},
   "outputs": [
    {
     "name": "stdout",
     "output_type": "stream",
     "text": [
      "Train Score:            0.7655834182947941\n",
      "Validation Score:       0.7574651840694652\n",
      "Difference in scores:   0.00811823422532898\n"
     ]
    }
   ],
   "source": [
    "second_model_poly_2 = LinearRegression()\n",
    "\n",
    "second_score = cross_validate(\n",
    "    estimator=second_model_poly_2,\n",
    "    X=X_train_poly2,\n",
    "    y=y_train,\n",
    "    return_train_score=True,\n",
    "    return_estimator=True,\n",
    "    cv=splitter\n",
    ")\n",
    "print(f\"Train Score:            {second_score['train_score'].mean()}\")\n",
    "print(f\"Validation Score:       {second_score['test_score'].mean()}\")\n",
    "print(f\"Difference in scores:   {  (second_score['train_score'].mean()) - (second_score['test_score'].mean())}\")"
   ]
  },
  {
   "cell_type": "markdown",
   "metadata": {},
   "source": [
    "Both the score are higher than compared to the first model whose R-2 was a bit lower, also the diffence between the score is low hence this model does a better in prediction"
   ]
  },
  {
   "cell_type": "markdown",
   "metadata": {},
   "source": [
    "### Third Model "
   ]
  },
  {
   "cell_type": "code",
   "execution_count": 303,
   "metadata": {},
   "outputs": [],
   "source": [
    "# Building a more complex polynomial feature \n",
    "poly_3 = PolynomialFeatures(3)\n",
    "X_train_poly3 = poly_3.fit_transform(X_train)"
   ]
  },
  {
   "cell_type": "code",
   "execution_count": 304,
   "metadata": {},
   "outputs": [
    {
     "name": "stdout",
     "output_type": "stream",
     "text": [
      "Train Score:            0.7777447705556589\n",
      "Validation Score:       0.6298948444992012\n",
      "Difference in scores:   0.14784992605645775\n"
     ]
    }
   ],
   "source": [
    "third_model_poly_3 = LinearRegression()\n",
    "\n",
    "third_score = cross_validate(\n",
    "    estimator=third_model_poly_3,\n",
    "    X=X_train_poly3,\n",
    "    y=y_train,\n",
    "    return_train_score=True,\n",
    "    return_estimator=True,\n",
    "    cv=splitter\n",
    ")\n",
    "print(f\"Train Score:            {third_score['train_score'].mean()}\")\n",
    "print(f\"Validation Score:       {third_score['test_score'].mean()}\")\n",
    "print(f\"Difference in scores:   {  (third_score['train_score'].mean()) - (third_score['test_score'].mean())}\")"
   ]
  },
  {
   "cell_type": "markdown",
   "metadata": {},
   "source": [
    "This model performed bad, it scored a good train score but a less validation score hence it is overfitting."
   ]
  },
  {
   "cell_type": "markdown",
   "metadata": {},
   "source": [
    "Going back to the OLS model"
   ]
  },
  {
   "cell_type": "markdown",
   "metadata": {},
   "source": [
    "### Building a heat map to show correlation between all train set attributes and their target which is the house price"
   ]
  },
  {
   "cell_type": "code",
   "execution_count": 305,
   "metadata": {},
   "outputs": [
    {
     "data": {
      "text/plain": [
       "<AxesSubplot:>"
      ]
     },
     "execution_count": 305,
     "metadata": {},
     "output_type": "execute_result"
    },
    {
     "data": {
      "image/png": "[encoded data removed]",
      "text/plain": [
       "<Figure size 720x936 with 2 Axes>"
      ]
     },
     "metadata": {
      "needs_background": "light"
     },
     "output_type": "display_data"
    }
   ],
   "source": [
    "heatmap_x = concated_train\n",
    "\n",
    "train_test_corr = heatmap_x.corr()\n",
    "fig, ax = plt.subplots(figsize=(10, 13))\n",
    "\n",
    "sns.heatmap(\n",
    "    # Specifies the data to be plotted\n",
    "    data = train_test_corr,\n",
    "    # The mask means we only show half the values, instead of showing duplicates.\n",
    "    mask= np.triu(np.ones_like(train_test_corr, dtype=bool)),\n",
    "    # Specifies that we should use the existing axes\n",
    "    ax=ax,\n",
    "    # Specifies that we want labels, not just colors\n",
    "    annot=True,\n",
    "    # Customizing colorbar appearance\n",
    "    cbar_kws={\"label\": \"Correlation\", \"orientation\": \"horizontal\", \"pad\": .2, \"extend\": \"both\"}\n",
    ")"
   ]
  },
  {
   "cell_type": "markdown",
   "metadata": {},
   "source": [
    "### Fourth Model "
   ]
  },
  {
   "cell_type": "markdown",
   "metadata": {},
   "source": [
    "In this model I will select all features with a a high coefficient"
   ]
  },
  {
   "cell_type": "code",
   "execution_count": 306,
   "metadata": {},
   "outputs": [],
   "source": [
    "# selecting all attributes with a p value of 0.0000 and checking if they suit for a good model\n",
    "signficant_features = ['sqft_living','grade'] \n"
   ]
  },
  {
   "cell_type": "markdown",
   "metadata": {},
   "source": [
    "For this model I will use the second_model to model our fourth model with the significant_features to see if they will perform well"
   ]
  },
  {
   "cell_type": "code",
   "execution_count": 307,
   "metadata": {},
   "outputs": [],
   "source": [
    "X_train_fourth_model = X_train[signficant_features]"
   ]
  },
  {
   "cell_type": "code",
   "execution_count": 308,
   "metadata": {},
   "outputs": [
    {
     "name": "stdout",
     "output_type": "stream",
     "text": [
      "Train Score:            0.5288718647623504\n",
      "Validation Score:       0.5293588966276568\n",
      "Difference in scores:   -0.00048703186530640874\n"
     ]
    }
   ],
   "source": [
    "fourth_model = LinearRegression()\n",
    "\n",
    "fourth_score = cross_validate(\n",
    "    estimator=fourth_model,\n",
    "    X=X_train_fourth_model,\n",
    "    y=y_train,\n",
    "    return_train_score=True,\n",
    "    return_estimator=True,\n",
    "    cv=splitter\n",
    ")\n",
    "print(f\"Train Score:            {fourth_score['train_score'].mean()}\")\n",
    "print(f\"Validation Score:       {fourth_score['test_score'].mean()}\")\n",
    "print(f\"Difference in scores:   {  (fourth_score['train_score'].mean()) - (fourth_score['test_score'].mean())}\")"
   ]
  },
  {
   "cell_type": "markdown",
   "metadata": {},
   "source": [
    "The fourth model perfomed had a better difference in scores than the other models, making it the best model"
   ]
  },
  {
   "cell_type": "markdown",
   "metadata": {},
   "source": [
    "### Building and evaluating a final Model"
   ]
  },
  {
   "cell_type": "markdown",
   "metadata": {},
   "source": [
    "#### First I'll perform data preparation to the test set"
   ]
  },
  {
   "cell_type": "markdown",
   "metadata": {},
   "source": [
    "using the data_preparation function I will prepare the training set"
   ]
  },
  {
   "cell_type": "code",
   "execution_count": 309,
   "metadata": {},
   "outputs": [
    {
     "name": "stderr",
     "output_type": "stream",
     "text": [
      "/tmp/ipykernel_83665/3432681625.py:10: SettingWithCopyWarning: \n",
      "A value is trying to be set on a copy of a slice from a DataFrame.\n",
      "Try using .loc[row_indexer,col_indexer] = value instead\n",
      "\n",
      "See the caveats in the documentation: https://pandas.pydata.org/pandas-docs/stable/user_guide/indexing.html#returning-a-view-versus-a-copy\n",
      "  view.view = new_view\n",
      "/tmp/ipykernel_83665/598743563.py:10: SettingWithCopyWarning: \n",
      "A value is trying to be set on a copy of a slice from a DataFrame.\n",
      "Try using .loc[row_indexer,col_indexer] = value instead\n",
      "\n",
      "See the caveats in the documentation: https://pandas.pydata.org/pandas-docs/stable/user_guide/indexing.html#returning-a-view-versus-a-copy\n",
      "  waterfront.waterfront = new_waterfront\n",
      "/tmp/ipykernel_83665/99383065.py:6: SettingWithCopyWarning: \n",
      "A value is trying to be set on a copy of a slice from a DataFrame.\n",
      "Try using .loc[row_indexer,col_indexer] = value instead\n",
      "\n",
      "See the caveats in the documentation: https://pandas.pydata.org/pandas-docs/stable/user_guide/indexing.html#returning-a-view-versus-a-copy\n",
      "  concated_set['sqft_basement'] = pd.to_numeric(concated_set['sqft_basement'])\n"
     ]
    }
   ],
   "source": [
    "# creating a ready and cleaned set\n",
    "concated_test = data_preparation(X_test, y_test)"
   ]
  },
  {
   "cell_type": "code",
   "execution_count": 310,
   "metadata": {},
   "outputs": [
    {
     "name": "stdout",
     "output_type": "stream",
     "text": [
      "<class 'pandas.core.frame.DataFrame'>\n",
      "Int64Index: 5235 entries, 2997800076 to 148000440\n",
      "Data columns (total 16 columns):\n",
      " #   Column         Non-Null Count  Dtype  \n",
      "---  ------         --------------  -----  \n",
      " 0   price          5235 non-null   float64\n",
      " 1   bedrooms       5235 non-null   int64  \n",
      " 2   bathrooms      5235 non-null   float64\n",
      " 3   sqft_living    5235 non-null   int64  \n",
      " 4   sqft_lot       5235 non-null   int64  \n",
      " 5   floors         5235 non-null   float64\n",
      " 6   waterfront     5235 non-null   float64\n",
      " 7   view           5235 non-null   float64\n",
      " 8   condition      5235 non-null   int64  \n",
      " 9   grade          5235 non-null   int64  \n",
      " 10  sqft_above     5235 non-null   int64  \n",
      " 11  sqft_basement  5235 non-null   float64\n",
      " 12  yr_built       5235 non-null   int64  \n",
      " 13  yr_renovated   5235 non-null   float64\n",
      " 14  lat            5235 non-null   float64\n",
      " 15  long           5235 non-null   float64\n",
      "dtypes: float64(9), int64(7)\n",
      "memory usage: 695.3 KB\n"
     ]
    }
   ],
   "source": [
    "concated_test.info()"
   ]
  },
  {
   "cell_type": "code",
   "execution_count": 311,
   "metadata": {},
   "outputs": [
    {
     "data": {
      "text/plain": [
       "False"
      ]
     },
     "execution_count": 311,
     "metadata": {},
     "output_type": "execute_result"
    }
   ],
   "source": [
    "# checking for null values in the testing \n",
    "concated_test.isna().any().any()"
   ]
  },
  {
   "cell_type": "markdown",
   "metadata": {},
   "source": [
    "Finally splitting the prepared train set using the set_splitter function"
   ]
  },
  {
   "cell_type": "code",
   "execution_count": 312,
   "metadata": {},
   "outputs": [],
   "source": [
    "X_test, y_test = set_splitter(concated_test)"
   ]
  },
  {
   "cell_type": "code",
   "execution_count": 313,
   "metadata": {},
   "outputs": [
    {
     "data": {
      "text/plain": [
       "5235"
      ]
     },
     "metadata": {},
     "output_type": "display_data"
    },
    {
     "data": {
      "text/plain": [
       "5235"
      ]
     },
     "execution_count": 313,
     "metadata": {},
     "output_type": "execute_result"
    }
   ],
   "source": [
    "display(len(X_test))\n",
    "len(y_test)"
   ]
  },
  {
   "cell_type": "markdown",
   "metadata": {},
   "source": [
    "This model will be based on the fourth since it performed well"
   ]
  },
  {
   "cell_type": "code",
   "execution_count": 314,
   "metadata": {},
   "outputs": [
    {
     "data": {
      "text/plain": [
       "0.5236573774974072"
      ]
     },
     "execution_count": 314,
     "metadata": {},
     "output_type": "execute_result"
    }
   ],
   "source": [
    "final_model = first_model\n",
    "final_model.fit(X_train[signficant_features], y_train)\n",
    "\n",
    "\n",
    "# scoring the model on the X_test and the y_test\n",
    "final_model.score(X_test[signficant_features], y_test)"
   ]
  },
  {
   "cell_type": "markdown",
   "metadata": {},
   "source": [
    "The model perfmed well to on the test set"
   ]
  },
  {
   "cell_type": "markdown",
   "metadata": {},
   "source": [
    "## Computing the RMSE"
   ]
  },
  {
   "cell_type": "code",
   "execution_count": 315,
   "metadata": {},
   "outputs": [
    {
     "data": {
      "text/plain": [
       "194173.94339719572"
      ]
     },
     "execution_count": 315,
     "metadata": {},
     "output_type": "execute_result"
    }
   ],
   "source": [
    "mean_squared_error(y_test, final_model.predict(X_test[signficant_features]), squared=False)"
   ]
  },
  {
   "cell_type": "markdown",
   "metadata": {},
   "source": [
    "This means that for every house price predicted with this model the house price will be off will with approximately $ 194173.94"
   ]
  },
  {
   "cell_type": "markdown",
   "metadata": {},
   "source": [
    "## Interpreting the Final Model"
   ]
  },
  {
   "cell_type": "markdown",
   "metadata": {},
   "source": [
    "Below are the coefficients of the model"
   ]
  },
  {
   "cell_type": "code",
   "execution_count": 317,
   "metadata": {},
   "outputs": [
    {
     "data": {
      "text/plain": [
       "sqft_living      129.470414\n",
       "grade          97712.128672\n",
       "Name: coefficients, dtype: float64"
      ]
     },
     "execution_count": 317,
     "metadata": {},
     "output_type": "execute_result"
    }
   ],
   "source": [
    "final_model_coefficients = pd.Series(final_model.coef_,index=signficant_features, name='coefficients')\n",
    "final_model_coefficients"
   ]
  },
  {
   "cell_type": "markdown",
   "metadata": {},
   "source": [
    "## Investigating Linearity"
   ]
  },
  {
   "cell_type": "code",
   "execution_count": 318,
   "metadata": {},
   "outputs": [
    {
     "data": {
      "text/plain": [
       "Text(0, 0.5, 'Predicted Price')"
      ]
     },
     "execution_count": 318,
     "metadata": {},
     "output_type": "execute_result"
    },
    {
     "data": {
      "image/png": "[encoded data removed]",
      "text/plain": [
       "<Figure size 432x288 with 1 Axes>"
      ]
     },
     "metadata": {
      "needs_background": "light"
     },
     "output_type": "display_data"
    }
   ],
   "source": [
    "predictions = final_model.predict(X_test[signficant_features])\n",
    "fig,ax = plt.subplots()\n",
    "\n",
    "perfect_line = np.arange(y_test.min(), y_test.max())\n",
    "\n",
    "ax.plot(perfect_line, linestyle='--', color='orange', label='perfect fit')\n",
    "ax.scatter(y_test, predictions, alpha=0.5)\n",
    "\n",
    "ax.set_xlabel('Actual Price')\n",
    "ax.set_ylabel('Predicted Price')"
   ]
  },
  {
   "cell_type": "markdown",
   "metadata": {},
   "source": [
    "The model is hitting a good number of points hence we are not violating the linear consumption."
   ]
  },
  {
   "cell_type": "markdown",
   "metadata": {},
   "source": [
    "## Investigating normality"
   ]
  },
  {
   "cell_type": "code",
   "execution_count": 319,
   "metadata": {},
   "outputs": [
    {
     "data": {
      "image/png": "[encoded data removed]",
      "text/plain": [
       "<Figure size 432x288 with 1 Axes>"
      ]
     },
     "metadata": {
      "needs_background": "light"
     },
     "output_type": "display_data"
    }
   ],
   "source": [
    "residuals = (y_test - predictions)\n",
    "sm.graphics.qqplot(residuals, dist=stats.norm, line='45', fit=True);"
   ]
  },
  {
   "cell_type": "markdown",
   "metadata": {},
   "source": [
    "We are not violating the normality assumptions hence the model passes the normality assumption test"
   ]
  },
  {
   "cell_type": "markdown",
   "metadata": {},
   "source": [
    "## Investigating Homoscedacity"
   ]
  },
  {
   "cell_type": "code",
   "execution_count": 321,
   "metadata": {},
   "outputs": [
    {
     "data": {
      "image/png": "[encoded data removed]",
      "text/plain": [
       "<Figure size 432x288 with 1 Axes>"
      ]
     },
     "metadata": {
      "needs_background": "light"
     },
     "output_type": "display_data"
    }
   ],
   "source": [
    "# Run this cell without changes\n",
    "fig, ax = plt.subplots()\n",
    "\n",
    "ax.scatter(predictions, residuals, alpha=0.5)\n",
    "ax.plot(predictions, [0 for i in range(len(X_test[signficant_features]))])\n",
    "ax.set_xlabel(\"Predicted Value\")\n",
    "ax.set_ylabel(\"Actual - Predicted Value\");"
   ]
  },
  {
   "cell_type": "markdown",
   "metadata": {},
   "source": [
    "This is somehow a funnel shape, hence could be violating one strict rule of of homoscedacity"
   ]
  },
  {
   "cell_type": "markdown",
   "metadata": {},
   "source": [
    "### Conclusion"
   ]
  },
  {
   "cell_type": "markdown",
   "metadata": {},
   "source": [
    "We can but medium confidence on this model since it is off by $ 194173.94 which is alot of money."
   ]
  }
 ],
 "metadata": {
  "kernelspec": {
   "display_name": "Python 3.8.10 64-bit",
   "language": "python",
   "name": "python3"
  },
  "language_info": {
   "codemirror_mode": {
    "name": "ipython",
    "version": 3
   },
   "file_extension": ".py",
   "mimetype": "text/x-python",
   "name": "python",
   "nbconvert_exporter": "python",
   "pygments_lexer": "ipython3",
   "version": "3.8.10"
  },
  "vscode": {
   "interpreter": {
    "hash": "916dbcbb3f70747c44a77c7bcd40155683ae19c65e1c03b4aa3499c5328201f1"
   }
  }
 },
 "nbformat": 4,
 "nbformat_minor": 2
}
