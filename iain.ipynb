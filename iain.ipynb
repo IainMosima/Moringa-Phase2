{
 "cells": [
  {
   "cell_type": "markdown",
   "metadata": {},
   "source": [
    "# 1. Business Understanding\n",
    "\n",
    "In this project I'm going to develop a pricing algorithm for houses in the northwest county based on a past collected data of house sales. The goal is to help homeowners save time on buying and/or selling houses.\n",
    "\n",
    "This algorithm is predictive, meaning it will help stackeholders who want to buy or sell houses can use this algorithm to predcit house prices based on home renovations.\n",
    "\n",
    "This algorithm will be able to tell us something about the relationship between attributes of houses and their prices. It other terms it will be inferential.\n"
   ]
  },
  {
   "cell_type": "markdown",
   "metadata": {},
   "source": [
    "# Loading the data"
   ]
  },
  {
   "cell_type": "code",
   "execution_count": 61,
   "metadata": {},
   "outputs": [],
   "source": [
    "# importing the necessary libraries for this project\n",
    "import pandas as pd\n",
    "import numpy as np\n",
    "import scipy.stats as stats\n",
    "import statsmodels.api as sm\n",
    "from sklearn.model_selection import train_test_split\n",
    "from sklearn.linear_model import LinearRegression\n",
    "from sklearn.model_selection import cross_validate, ShuffleSplit\n",
    "from sklearn.feature_selection import RFECV\n",
    "from sklearn.preprocessing import StandardScaler, PolynomialFeatures\n",
    "from  sklearn.impute import SimpleImputer\n",
    "\n",
    "import seaborn as sns\n",
    "import matplotlib.pyplot as plt\n",
    "\n",
    "np.random.seed(21)\n",
    "\n",
    "%matplotlib inline"
   ]
  },
  {
   "cell_type": "code",
   "execution_count": 62,
   "metadata": {},
   "outputs": [
    {
     "data": {
      "text/html": [
       "<div>\n",
       "<style scoped>\n",
       "    .dataframe tbody tr th:only-of-type {\n",
       "        vertical-align: middle;\n",
       "    }\n",
       "\n",
       "    .dataframe tbody tr th {\n",
       "        vertical-align: top;\n",
       "    }\n",
       "\n",
       "    .dataframe thead th {\n",
       "        text-align: right;\n",
       "    }\n",
       "</style>\n",
       "<table border=\"1\" class=\"dataframe\">\n",
       "  <thead>\n",
       "    <tr style=\"text-align: right;\">\n",
       "      <th></th>\n",
       "      <th>date</th>\n",
       "      <th>price</th>\n",
       "      <th>bedrooms</th>\n",
       "      <th>bathrooms</th>\n",
       "      <th>sqft_living</th>\n",
       "      <th>sqft_lot</th>\n",
       "      <th>floors</th>\n",
       "      <th>waterfront</th>\n",
       "      <th>view</th>\n",
       "      <th>condition</th>\n",
       "      <th>grade</th>\n",
       "      <th>sqft_above</th>\n",
       "      <th>sqft_basement</th>\n",
       "      <th>yr_built</th>\n",
       "      <th>yr_renovated</th>\n",
       "      <th>zipcode</th>\n",
       "      <th>lat</th>\n",
       "      <th>long</th>\n",
       "      <th>sqft_living15</th>\n",
       "      <th>sqft_lot15</th>\n",
       "    </tr>\n",
       "    <tr>\n",
       "      <th>id</th>\n",
       "      <th></th>\n",
       "      <th></th>\n",
       "      <th></th>\n",
       "      <th></th>\n",
       "      <th></th>\n",
       "      <th></th>\n",
       "      <th></th>\n",
       "      <th></th>\n",
       "      <th></th>\n",
       "      <th></th>\n",
       "      <th></th>\n",
       "      <th></th>\n",
       "      <th></th>\n",
       "      <th></th>\n",
       "      <th></th>\n",
       "      <th></th>\n",
       "      <th></th>\n",
       "      <th></th>\n",
       "      <th></th>\n",
       "      <th></th>\n",
       "    </tr>\n",
       "  </thead>\n",
       "  <tbody>\n",
       "    <tr>\n",
       "      <th>7129300520</th>\n",
       "      <td>10/13/2014</td>\n",
       "      <td>221900.0</td>\n",
       "      <td>3</td>\n",
       "      <td>1.00</td>\n",
       "      <td>1180</td>\n",
       "      <td>5650</td>\n",
       "      <td>1.0</td>\n",
       "      <td>NaN</td>\n",
       "      <td>0.0</td>\n",
       "      <td>3</td>\n",
       "      <td>7</td>\n",
       "      <td>1180</td>\n",
       "      <td>0.0</td>\n",
       "      <td>1955</td>\n",
       "      <td>0.0</td>\n",
       "      <td>98178</td>\n",
       "      <td>47.5112</td>\n",
       "      <td>-122.257</td>\n",
       "      <td>1340</td>\n",
       "      <td>5650</td>\n",
       "    </tr>\n",
       "    <tr>\n",
       "      <th>6414100192</th>\n",
       "      <td>12/9/2014</td>\n",
       "      <td>538000.0</td>\n",
       "      <td>3</td>\n",
       "      <td>2.25</td>\n",
       "      <td>2570</td>\n",
       "      <td>7242</td>\n",
       "      <td>2.0</td>\n",
       "      <td>0.0</td>\n",
       "      <td>0.0</td>\n",
       "      <td>3</td>\n",
       "      <td>7</td>\n",
       "      <td>2170</td>\n",
       "      <td>400.0</td>\n",
       "      <td>1951</td>\n",
       "      <td>1991.0</td>\n",
       "      <td>98125</td>\n",
       "      <td>47.7210</td>\n",
       "      <td>-122.319</td>\n",
       "      <td>1690</td>\n",
       "      <td>7639</td>\n",
       "    </tr>\n",
       "    <tr>\n",
       "      <th>5631500400</th>\n",
       "      <td>2/25/2015</td>\n",
       "      <td>180000.0</td>\n",
       "      <td>2</td>\n",
       "      <td>1.00</td>\n",
       "      <td>770</td>\n",
       "      <td>10000</td>\n",
       "      <td>1.0</td>\n",
       "      <td>0.0</td>\n",
       "      <td>0.0</td>\n",
       "      <td>3</td>\n",
       "      <td>6</td>\n",
       "      <td>770</td>\n",
       "      <td>0.0</td>\n",
       "      <td>1933</td>\n",
       "      <td>NaN</td>\n",
       "      <td>98028</td>\n",
       "      <td>47.7379</td>\n",
       "      <td>-122.233</td>\n",
       "      <td>2720</td>\n",
       "      <td>8062</td>\n",
       "    </tr>\n",
       "    <tr>\n",
       "      <th>2487200875</th>\n",
       "      <td>12/9/2014</td>\n",
       "      <td>604000.0</td>\n",
       "      <td>4</td>\n",
       "      <td>3.00</td>\n",
       "      <td>1960</td>\n",
       "      <td>5000</td>\n",
       "      <td>1.0</td>\n",
       "      <td>0.0</td>\n",
       "      <td>0.0</td>\n",
       "      <td>5</td>\n",
       "      <td>7</td>\n",
       "      <td>1050</td>\n",
       "      <td>910.0</td>\n",
       "      <td>1965</td>\n",
       "      <td>0.0</td>\n",
       "      <td>98136</td>\n",
       "      <td>47.5208</td>\n",
       "      <td>-122.393</td>\n",
       "      <td>1360</td>\n",
       "      <td>5000</td>\n",
       "    </tr>\n",
       "    <tr>\n",
       "      <th>1954400510</th>\n",
       "      <td>2/18/2015</td>\n",
       "      <td>510000.0</td>\n",
       "      <td>3</td>\n",
       "      <td>2.00</td>\n",
       "      <td>1680</td>\n",
       "      <td>8080</td>\n",
       "      <td>1.0</td>\n",
       "      <td>0.0</td>\n",
       "      <td>0.0</td>\n",
       "      <td>3</td>\n",
       "      <td>8</td>\n",
       "      <td>1680</td>\n",
       "      <td>0.0</td>\n",
       "      <td>1987</td>\n",
       "      <td>0.0</td>\n",
       "      <td>98074</td>\n",
       "      <td>47.6168</td>\n",
       "      <td>-122.045</td>\n",
       "      <td>1800</td>\n",
       "      <td>7503</td>\n",
       "    </tr>\n",
       "  </tbody>\n",
       "</table>\n",
       "</div>"
      ],
      "text/plain": [
       "                  date     price  bedrooms  bathrooms  sqft_living  sqft_lot  \\\n",
       "id                                                                             \n",
       "7129300520  10/13/2014  221900.0         3       1.00         1180      5650   \n",
       "6414100192   12/9/2014  538000.0         3       2.25         2570      7242   \n",
       "5631500400   2/25/2015  180000.0         2       1.00          770     10000   \n",
       "2487200875   12/9/2014  604000.0         4       3.00         1960      5000   \n",
       "1954400510   2/18/2015  510000.0         3       2.00         1680      8080   \n",
       "\n",
       "            floors  waterfront  view  condition  grade  sqft_above  \\\n",
       "id                                                                   \n",
       "7129300520     1.0         NaN   0.0          3      7        1180   \n",
       "6414100192     2.0         0.0   0.0          3      7        2170   \n",
       "5631500400     1.0         0.0   0.0          3      6         770   \n",
       "2487200875     1.0         0.0   0.0          5      7        1050   \n",
       "1954400510     1.0         0.0   0.0          3      8        1680   \n",
       "\n",
       "           sqft_basement  yr_built  yr_renovated  zipcode      lat     long  \\\n",
       "id                                                                            \n",
       "7129300520           0.0      1955           0.0    98178  47.5112 -122.257   \n",
       "6414100192         400.0      1951        1991.0    98125  47.7210 -122.319   \n",
       "5631500400           0.0      1933           NaN    98028  47.7379 -122.233   \n",
       "2487200875         910.0      1965           0.0    98136  47.5208 -122.393   \n",
       "1954400510           0.0      1987           0.0    98074  47.6168 -122.045   \n",
       "\n",
       "            sqft_living15  sqft_lot15  \n",
       "id                                     \n",
       "7129300520           1340        5650  \n",
       "6414100192           1690        7639  \n",
       "5631500400           2720        8062  \n",
       "2487200875           1360        5000  \n",
       "1954400510           1800        7503  "
      ]
     },
     "execution_count": 62,
     "metadata": {},
     "output_type": "execute_result"
    }
   ],
   "source": [
    "# loading the dataset\n",
    "df = pd.read_csv('./data/kc_house_data.csv', index_col='id')\n",
    "df.head()"
   ]
  },
  {
   "cell_type": "code",
   "execution_count": 63,
   "metadata": {},
   "outputs": [
    {
     "name": "stdout",
     "output_type": "stream",
     "text": [
      "<class 'pandas.core.frame.DataFrame'>\n",
      "Int64Index: 21597 entries, 7129300520 to 1523300157\n",
      "Data columns (total 20 columns):\n",
      " #   Column         Non-Null Count  Dtype  \n",
      "---  ------         --------------  -----  \n",
      " 0   date           21597 non-null  object \n",
      " 1   price          21597 non-null  float64\n",
      " 2   bedrooms       21597 non-null  int64  \n",
      " 3   bathrooms      21597 non-null  float64\n",
      " 4   sqft_living    21597 non-null  int64  \n",
      " 5   sqft_lot       21597 non-null  int64  \n",
      " 6   floors         21597 non-null  float64\n",
      " 7   waterfront     19221 non-null  float64\n",
      " 8   view           21534 non-null  float64\n",
      " 9   condition      21597 non-null  int64  \n",
      " 10  grade          21597 non-null  int64  \n",
      " 11  sqft_above     21597 non-null  int64  \n",
      " 12  sqft_basement  21597 non-null  object \n",
      " 13  yr_built       21597 non-null  int64  \n",
      " 14  yr_renovated   17755 non-null  float64\n",
      " 15  zipcode        21597 non-null  int64  \n",
      " 16  lat            21597 non-null  float64\n",
      " 17  long           21597 non-null  float64\n",
      " 18  sqft_living15  21597 non-null  int64  \n",
      " 19  sqft_lot15     21597 non-null  int64  \n",
      "dtypes: float64(8), int64(10), object(2)\n",
      "memory usage: 3.5+ MB\n"
     ]
    }
   ],
   "source": [
    "df.info()"
   ]
  },
  {
   "cell_type": "code",
   "execution_count": 64,
   "metadata": {},
   "outputs": [
    {
     "data": {
      "text/plain": [
       "(21597, 20)"
      ]
     },
     "execution_count": 64,
     "metadata": {},
     "output_type": "execute_result"
    }
   ],
   "source": [
    "original_shape = df.shape \n",
    "original_shape"
   ]
  },
  {
   "cell_type": "markdown",
   "metadata": {},
   "source": [
    "# 2. Data Understanding\n",
    " - Given is a a King County House Sales dataset. Which contains house attributes as well  as their prices. This is suitable for this project as we willl be using these attributes to predict the house prices.\n",
    " - The dataset has a total of 21,597 rows and 21 columns. Meaning 21,597 houses were taken as a sample and 21 of their existing attributes recorded.\n",
    " - Based on the sample given some attributes will sure help show the relationship between them and house prices.\n",
    " - The data also has some irrelevant columns which will be dropped, since they might hinder in creating a good model.\n"
   ]
  },
  {
   "cell_type": "markdown",
   "metadata": {},
   "source": [
    "# 3. Data Preparation"
   ]
  },
  {
   "cell_type": "markdown",
   "metadata": {},
   "source": [
    "The prediction target for this analysis is the proce of houses, hence will separate X and y appropiately"
   ]
  },
  {
   "cell_type": "code",
   "execution_count": 65,
   "metadata": {},
   "outputs": [],
   "source": [
    "X = df.drop('price', axis=1)\n",
    "y = df['price']"
   ]
  },
  {
   "cell_type": "code",
   "execution_count": 66,
   "metadata": {},
   "outputs": [],
   "source": [
    "# splitting the data into a train and test sets, prior beforming any preprocesssing steps\n",
    "X_train, X_test, y_train, y_test = train_test_split(X, y, random_state=50)"
   ]
  },
  {
   "cell_type": "code",
   "execution_count": 67,
   "metadata": {},
   "outputs": [
    {
     "name": "stdout",
     "output_type": "stream",
     "text": [
      "X_train is a dataframe with 16197 records and 19 attributes\n",
      "y_train is a series with 16197 values\n",
      "\n",
      "X_test has 5400 records\n",
      "y_test has 5400 records\n"
     ]
    }
   ],
   "source": [
    "print(f\"X_train is a dataframe with {X_train.shape[0]} records and {X_train.shape[1]} attributes\")\n",
    "print(f\"y_train is a series with {y_train.shape[0]} values\")\n",
    "print()\n",
    "print(f\"X_test has {X_test.shape[0]} records\")\n",
    "print(f\"y_test has {y_test.shape[0]} records\")"
   ]
  },
  {
   "cell_type": "markdown",
   "metadata": {},
   "source": [
    "## Data Cleaning"
   ]
  },
  {
   "cell_type": "markdown",
   "metadata": {},
   "source": [
    "### Functions to help with data Cleaning"
   ]
  },
  {
   "cell_type": "code",
   "execution_count": 68,
   "metadata": {},
   "outputs": [],
   "source": [
    "# function to concate a set with its target variable\n",
    "def concater(X, y):\n",
    "    result = pd.concat([y, X], axis = 1)\n",
    "    return result"
   ]
  },
  {
   "cell_type": "code",
   "execution_count": 69,
   "metadata": {},
   "outputs": [],
   "source": [
    "# function to split concated set with its target variable and convert to floors and waterfront to integers\n",
    "def set_splitter(dataset):\n",
    "    X = dataset.drop('price', axis=1)\n",
    "    y = dataset.price\n",
    "    \n",
    "    return X, y"
   ]
  },
  {
   "cell_type": "markdown",
   "metadata": {},
   "source": [
    "## Handling with duplicated values"
   ]
  },
  {
   "cell_type": "code",
   "execution_count": 70,
   "metadata": {},
   "outputs": [],
   "source": [
    "# concating the training set\n",
    "concated_train = concater(X_train, y_train)"
   ]
  },
  {
   "cell_type": "code",
   "execution_count": 71,
   "metadata": {},
   "outputs": [
    {
     "data": {
      "text/plain": [
       "False"
      ]
     },
     "execution_count": 71,
     "metadata": {},
     "output_type": "execute_result"
    }
   ],
   "source": [
    "concated_train.duplicated().any()"
   ]
  },
  {
   "cell_type": "markdown",
   "metadata": {},
   "source": [
    "## Handling with duplicated Values"
   ]
  },
  {
   "cell_type": "markdown",
   "metadata": {},
   "source": [
    "Checking for null values in the train set"
   ]
  },
  {
   "cell_type": "code",
   "execution_count": 72,
   "metadata": {},
   "outputs": [
    {
     "data": {
      "text/plain": [
       "price               0\n",
       "date                0\n",
       "bedrooms            0\n",
       "bathrooms           0\n",
       "sqft_living         0\n",
       "sqft_lot            0\n",
       "floors              0\n",
       "waterfront       1788\n",
       "view               47\n",
       "condition           0\n",
       "grade               0\n",
       "sqft_above          0\n",
       "sqft_basement       0\n",
       "yr_built            0\n",
       "yr_renovated     2885\n",
       "zipcode             0\n",
       "lat                 0\n",
       "long                0\n",
       "sqft_living15       0\n",
       "sqft_lot15          0\n",
       "dtype: int64"
      ]
     },
     "execution_count": 72,
     "metadata": {},
     "output_type": "execute_result"
    }
   ],
   "source": [
    "# Concating X_train and y_train\n",
    "concated_train.isna().sum()"
   ]
  },
  {
   "cell_type": "markdown",
   "metadata": {},
   "source": [
    "## Handling Mising Values"
   ]
  },
  {
   "cell_type": "markdown",
   "metadata": {},
   "source": [
    "### Dealing with yr_renovated null values"
   ]
  },
  {
   "cell_type": "code",
   "execution_count": 73,
   "metadata": {},
   "outputs": [
    {
     "data": {
      "text/plain": [
       "0.0       12750\n",
       "2014.0       52\n",
       "2003.0       24\n",
       "2005.0       23\n",
       "2000.0       23\n",
       "          ...  \n",
       "1959.0        1\n",
       "1945.0        1\n",
       "1944.0        1\n",
       "1948.0        1\n",
       "1953.0        1\n",
       "Name: yr_renovated, Length: 65, dtype: int64"
      ]
     },
     "execution_count": 73,
     "metadata": {},
     "output_type": "execute_result"
    }
   ],
   "source": [
    "# Checking for the values in thr yr_renovated column\n",
    "concated_train['yr_renovated'].value_counts()"
   ]
  },
  {
   "cell_type": "markdown",
   "metadata": {},
   "source": [
    "#### For yr_renovated I will use SimpleImputer to help deal with the null values"
   ]
  },
  {
   "cell_type": "code",
   "execution_count": 74,
   "metadata": {},
   "outputs": [],
   "source": [
    "#  function for dealing with null values in a given set based on the yr_renovated column\n",
    "def yr_renovated(concated_set):\n",
    "    # creating a dataframe which contains the yr_renovated columns\n",
    "    # NB: The houses without renavations have been filtered out\n",
    "    year_renovated = concated_set[concated_set['yr_renovated'] != 0][['yr_renovated']]\n",
    "\n",
    "    # using simpleImputer to deal with the null values in the yr_renovated column\n",
    "    imput = SimpleImputer(missing_values=np.nan, strategy='median')\n",
    "    imput.fit(year_renovated)\n",
    "    new_year_renovated = imput.transform(year_renovated).flatten()\n",
    "    year_renovated['yr_renovated'] = new_year_renovated\n",
    "\n",
    "    condition = (\n",
    "        concated_set.yr_renovated != 0 &\n",
    "        concated_set.yr_renovated.isna()\n",
    "    )\n",
    "\n",
    "    # reassing the variables to the yr_renovated column strictly with columns whose values are not in the 0\n",
    "    concated_set.loc[condition, 'yr_renovated'] = year_renovated\n",
    "\n",
    "    return concated_set"
   ]
  },
  {
   "cell_type": "code",
   "execution_count": 75,
   "metadata": {},
   "outputs": [
    {
     "data": {
      "text/plain": [
       "price               0\n",
       "date                0\n",
       "bedrooms            0\n",
       "bathrooms           0\n",
       "sqft_living         0\n",
       "sqft_lot            0\n",
       "floors              0\n",
       "waterfront       1788\n",
       "view               47\n",
       "condition           0\n",
       "grade               0\n",
       "sqft_above          0\n",
       "sqft_basement       0\n",
       "yr_built            0\n",
       "yr_renovated        0\n",
       "zipcode             0\n",
       "lat                 0\n",
       "long                0\n",
       "sqft_living15       0\n",
       "sqft_lot15          0\n",
       "dtype: int64"
      ]
     },
     "execution_count": 75,
     "metadata": {},
     "output_type": "execute_result"
    }
   ],
   "source": [
    "# dealing with null values in the concated_train set\n",
    "concated_train = yr_renovated(concated_train)\n",
    "concated_train.isna().sum()"
   ]
  },
  {
   "cell_type": "markdown",
   "metadata": {},
   "source": [
    "### Dealing with null values in the view column"
   ]
  },
  {
   "cell_type": "code",
   "execution_count": 76,
   "metadata": {},
   "outputs": [
    {
     "data": {
      "text/plain": [
       "0.0    14585\n",
       "2.0      718\n",
       "3.0      356\n",
       "4.0      246\n",
       "1.0      245\n",
       "Name: view, dtype: int64"
      ]
     },
     "execution_count": 76,
     "metadata": {},
     "output_type": "execute_result"
    }
   ],
   "source": [
    "# checking for the unique values in the column and their occurence\n",
    "concated_train.view.value_counts()"
   ]
  },
  {
   "cell_type": "code",
   "execution_count": 77,
   "metadata": {},
   "outputs": [],
   "source": [
    "#  function for dealing with null values in a given set based on the view column\n",
    "def view(concated_set):\n",
    "    # creating a dataframe which contains the view columns\n",
    "    view = concated_set[['view']]\n",
    "\n",
    "    # using simpleImputer to deal with the null values in the view column\n",
    "    imput = SimpleImputer(missing_values=np.nan, strategy='median')\n",
    "    imput.fit(view)\n",
    "    new_view = imput.transform(view).flatten()\n",
    "    view.view = new_view\n",
    "\n",
    "    # condition = (concated_set.view.isna())\n",
    "\n",
    "    # reassing the variables to the view column strictly with columns whose values are not in the 0\n",
    "    concated_set.view = view\n",
    "\n",
    "    return concated_set"
   ]
  },
  {
   "cell_type": "code",
   "execution_count": 78,
   "metadata": {},
   "outputs": [
    {
     "name": "stderr",
     "output_type": "stream",
     "text": [
      "/tmp/ipykernel_19343/3432681625.py:10: SettingWithCopyWarning: \n",
      "A value is trying to be set on a copy of a slice from a DataFrame.\n",
      "Try using .loc[row_indexer,col_indexer] = value instead\n",
      "\n",
      "See the caveats in the documentation: https://pandas.pydata.org/pandas-docs/stable/user_guide/indexing.html#returning-a-view-versus-a-copy\n",
      "  view.view = new_view\n"
     ]
    },
    {
     "data": {
      "text/plain": [
       "price               0\n",
       "date                0\n",
       "bedrooms            0\n",
       "bathrooms           0\n",
       "sqft_living         0\n",
       "sqft_lot            0\n",
       "floors              0\n",
       "waterfront       1788\n",
       "view                0\n",
       "condition           0\n",
       "grade               0\n",
       "sqft_above          0\n",
       "sqft_basement       0\n",
       "yr_built            0\n",
       "yr_renovated        0\n",
       "zipcode             0\n",
       "lat                 0\n",
       "long                0\n",
       "sqft_living15       0\n",
       "sqft_lot15          0\n",
       "dtype: int64"
      ]
     },
     "execution_count": 78,
     "metadata": {},
     "output_type": "execute_result"
    }
   ],
   "source": [
    "concated_train = view(concated_train)\n",
    "concated_train.isna().sum()"
   ]
  },
  {
   "cell_type": "markdown",
   "metadata": {},
   "source": [
    "### Dealing with null values in the waterfront column"
   ]
  },
  {
   "cell_type": "code",
   "execution_count": 79,
   "metadata": {},
   "outputs": [
    {
     "data": {
      "text/plain": [
       "0.0    14297\n",
       "1.0      112\n",
       "Name: waterfront, dtype: int64"
      ]
     },
     "execution_count": 79,
     "metadata": {},
     "output_type": "execute_result"
    }
   ],
   "source": [
    "concated_train.waterfront.value_counts()"
   ]
  },
  {
   "cell_type": "code",
   "execution_count": 80,
   "metadata": {},
   "outputs": [],
   "source": [
    "#  function for dealing with null values in a given set based on the waterfront column\n",
    "def waterfront(concated_set):\n",
    "    # creating a dataframe which contains the waterfront columns\n",
    "    waterfront = concated_set[['waterfront']]\n",
    "\n",
    "    # using simpleImputer to deal with the null values in the waterfront column\n",
    "    imput = SimpleImputer(missing_values=np.nan, strategy='median')\n",
    "    imput.fit(waterfront)\n",
    "    new_waterfront = imput.transform(waterfront).flatten()\n",
    "    waterfront.waterfront = new_waterfront\n",
    "\n",
    "\n",
    "    # reassing the variables to the waterfront column strictly with columns whose values are not in the 0\n",
    "    concated_set.waterfront = waterfront\n",
    "\n",
    "    return concated_set"
   ]
  },
  {
   "cell_type": "code",
   "execution_count": 81,
   "metadata": {},
   "outputs": [
    {
     "name": "stderr",
     "output_type": "stream",
     "text": [
      "/tmp/ipykernel_19343/598743563.py:10: SettingWithCopyWarning: \n",
      "A value is trying to be set on a copy of a slice from a DataFrame.\n",
      "Try using .loc[row_indexer,col_indexer] = value instead\n",
      "\n",
      "See the caveats in the documentation: https://pandas.pydata.org/pandas-docs/stable/user_guide/indexing.html#returning-a-view-versus-a-copy\n",
      "  waterfront.waterfront = new_waterfront\n"
     ]
    },
    {
     "data": {
      "text/plain": [
       "price            0\n",
       "date             0\n",
       "bedrooms         0\n",
       "bathrooms        0\n",
       "sqft_living      0\n",
       "sqft_lot         0\n",
       "floors           0\n",
       "waterfront       0\n",
       "view             0\n",
       "condition        0\n",
       "grade            0\n",
       "sqft_above       0\n",
       "sqft_basement    0\n",
       "yr_built         0\n",
       "yr_renovated     0\n",
       "zipcode          0\n",
       "lat              0\n",
       "long             0\n",
       "sqft_living15    0\n",
       "sqft_lot15       0\n",
       "dtype: int64"
      ]
     },
     "execution_count": 81,
     "metadata": {},
     "output_type": "execute_result"
    }
   ],
   "source": [
    "concated_train = waterfront(concated_train)\n",
    "concated_train.isna().sum()"
   ]
  },
  {
   "cell_type": "code",
   "execution_count": 82,
   "metadata": {},
   "outputs": [
    {
     "name": "stdout",
     "output_type": "stream",
     "text": [
      "The train set now has 16197 records\n"
     ]
    }
   ],
   "source": [
    "print(f\"The train set now has {concated_train.shape[0]} records\")"
   ]
  },
  {
   "cell_type": "code",
   "execution_count": 83,
   "metadata": {},
   "outputs": [],
   "source": [
    "# Full function for the data cleaning\n",
    "def data_cleaning(X, y):\n",
    "    concated_set = concater(X, y)\n",
    "    concated_set = yr_renovated(concated_set)\n",
    "    concated_set = view(concated_set)\n",
    "    concated_set = waterfront(concated_set)\n",
    "\n",
    "    return concated_set"
   ]
  },
  {
   "cell_type": "markdown",
   "metadata": {},
   "source": [
    "## Dealing with datatypes"
   ]
  },
  {
   "cell_type": "code",
   "execution_count": 84,
   "metadata": {},
   "outputs": [
    {
     "name": "stdout",
     "output_type": "stream",
     "text": [
      "<class 'pandas.core.frame.DataFrame'>\n",
      "Int64Index: 16197 entries, 4139480190 to 1336800880\n",
      "Data columns (total 20 columns):\n",
      " #   Column         Non-Null Count  Dtype  \n",
      "---  ------         --------------  -----  \n",
      " 0   price          16197 non-null  float64\n",
      " 1   date           16197 non-null  object \n",
      " 2   bedrooms       16197 non-null  int64  \n",
      " 3   bathrooms      16197 non-null  float64\n",
      " 4   sqft_living    16197 non-null  int64  \n",
      " 5   sqft_lot       16197 non-null  int64  \n",
      " 6   floors         16197 non-null  float64\n",
      " 7   waterfront     16197 non-null  float64\n",
      " 8   view           16197 non-null  float64\n",
      " 9   condition      16197 non-null  int64  \n",
      " 10  grade          16197 non-null  int64  \n",
      " 11  sqft_above     16197 non-null  int64  \n",
      " 12  sqft_basement  16197 non-null  object \n",
      " 13  yr_built       16197 non-null  int64  \n",
      " 14  yr_renovated   16197 non-null  float64\n",
      " 15  zipcode        16197 non-null  int64  \n",
      " 16  lat            16197 non-null  float64\n",
      " 17  long           16197 non-null  float64\n",
      " 18  sqft_living15  16197 non-null  int64  \n",
      " 19  sqft_lot15     16197 non-null  int64  \n",
      "dtypes: float64(8), int64(10), object(2)\n",
      "memory usage: 2.6+ MB\n"
     ]
    }
   ],
   "source": [
    "concated_train.info()"
   ]
  },
  {
   "cell_type": "markdown",
   "metadata": {},
   "source": [
    "The function below will help with dealing of datatypes by drop irrelevant columns that is the sqft_living15 & sqft_lot15 columns."
   ]
  },
  {
   "cell_type": "code",
   "execution_count": 85,
   "metadata": {},
   "outputs": [
    {
     "name": "stdout",
     "output_type": "stream",
     "text": [
      "<class 'pandas.core.frame.DataFrame'>\n",
      "Int64Index: 16197 entries, 4139480190 to 1336800880\n",
      "Data columns (total 16 columns):\n",
      " #   Column         Non-Null Count  Dtype  \n",
      "---  ------         --------------  -----  \n",
      " 0   price          16197 non-null  float64\n",
      " 1   bedrooms       16197 non-null  int64  \n",
      " 2   bathrooms      16197 non-null  float64\n",
      " 3   sqft_living    16197 non-null  int64  \n",
      " 4   sqft_lot       16197 non-null  int64  \n",
      " 5   floors         16197 non-null  float64\n",
      " 6   waterfront     16197 non-null  float64\n",
      " 7   view           16197 non-null  float64\n",
      " 8   condition      16197 non-null  int64  \n",
      " 9   grade          16197 non-null  int64  \n",
      " 10  sqft_above     16197 non-null  int64  \n",
      " 11  sqft_basement  16197 non-null  object \n",
      " 12  yr_built       16197 non-null  int64  \n",
      " 13  yr_renovated   16197 non-null  float64\n",
      " 14  lat            16197 non-null  float64\n",
      " 15  long           16197 non-null  float64\n",
      "dtypes: float64(8), int64(7), object(1)\n",
      "memory usage: 2.1+ MB\n"
     ]
    }
   ],
   "source": [
    "def cleaner(concated_set):\n",
    "    concated_set = concated_set.drop(['date','zipcode','sqft_living15','sqft_lot15'], axis=1)\n",
    "    return concated_set\n",
    "\n",
    "concated_train = cleaner(concated_train)\n",
    "concated_train.info()"
   ]
  },
  {
   "cell_type": "markdown",
   "metadata": {},
   "source": [
    "Invstigating the sqft_basement column"
   ]
  },
  {
   "cell_type": "markdown",
   "metadata": {},
   "source": [
    "The sqft_basement has a string in some of its records this will hinder the data modelling process hence I will filter the records containing the '?' string out."
   ]
  },
  {
   "cell_type": "code",
   "execution_count": 86,
   "metadata": {},
   "outputs": [
    {
     "name": "stdout",
     "output_type": "stream",
     "text": [
      "<class 'pandas.core.frame.DataFrame'>\n",
      "Int64Index: 15850 entries, 4139480190 to 1336800880\n",
      "Data columns (total 16 columns):\n",
      " #   Column         Non-Null Count  Dtype  \n",
      "---  ------         --------------  -----  \n",
      " 0   price          15850 non-null  float64\n",
      " 1   bedrooms       15850 non-null  int64  \n",
      " 2   bathrooms      15850 non-null  float64\n",
      " 3   sqft_living    15850 non-null  int64  \n",
      " 4   sqft_lot       15850 non-null  int64  \n",
      " 5   floors         15850 non-null  float64\n",
      " 6   waterfront     15850 non-null  float64\n",
      " 7   view           15850 non-null  float64\n",
      " 8   condition      15850 non-null  int64  \n",
      " 9   grade          15850 non-null  int64  \n",
      " 10  sqft_above     15850 non-null  int64  \n",
      " 11  sqft_basement  15850 non-null  float64\n",
      " 12  yr_built       15850 non-null  int64  \n",
      " 13  yr_renovated   15850 non-null  float64\n",
      " 14  lat            15850 non-null  float64\n",
      " 15  long           15850 non-null  float64\n",
      "dtypes: float64(9), int64(7)\n",
      "memory usage: 2.1 MB\n"
     ]
    },
    {
     "name": "stderr",
     "output_type": "stream",
     "text": [
      "/tmp/ipykernel_19343/1502401251.py:6: SettingWithCopyWarning: \n",
      "A value is trying to be set on a copy of a slice from a DataFrame.\n",
      "Try using .loc[row_indexer,col_indexer] = value instead\n",
      "\n",
      "See the caveats in the documentation: https://pandas.pydata.org/pandas-docs/stable/user_guide/indexing.html#returning-a-view-versus-a-copy\n",
      "  concated_set['sqft_basement'] = pd.to_numeric(concated_set['sqft_basement'])\n"
     ]
    }
   ],
   "source": [
    "# The roecords containing ? could be that their sqft_basement is unknown\n",
    "# Function to filter out the strings from the sqft_basement column\n",
    "# The function will also change the column's columns data type to an int\n",
    "def sqft_basement(concated_set):\n",
    "    concated_set = concated_set[ (concated_set['sqft_basement'] != '?') ]\n",
    "    concated_set['sqft_basement'] = pd.to_numeric(concated_set['sqft_basement'])\n",
    "    return concated_set\n",
    "\n",
    "concated_train = sqft_basement(concated_train)\n",
    "concated_train.info()"
   ]
  },
  {
   "cell_type": "markdown",
   "metadata": {},
   "source": [
    "## A histogram showing the distribution of the target variable (house price)"
   ]
  },
  {
   "cell_type": "code",
   "execution_count": 87,
   "metadata": {},
   "outputs": [
    {
     "data": {
      "text/plain": [
       "Text(0.5, 1.0, 'Distribution of house prices')"
      ]
     },
     "execution_count": 87,
     "metadata": {},
     "output_type": "execute_result"
    },
    {
     "data": {
      "image/png": "[encoded data removed]",
      "text/plain": [
       "<Figure size 1368x648 with 1 Axes>"
      ]
     },
     "metadata": {
      "needs_background": "light"
     },
     "output_type": "display_data"
    }
   ],
   "source": [
    "fig, ax = plt.subplots(figsize=(19,9))\n",
    "\n",
    "ax.hist(concated_train.price, bins=200)\n",
    "\n",
    "\n",
    "ax.set_xlabel('Listing house prices')\n",
    "ax.set_ylabel('Count of house sells')\n",
    "ax.set_title('Distribution of house prices')"
   ]
  },
  {
   "cell_type": "code",
   "execution_count": 88,
   "metadata": {},
   "outputs": [],
   "source": [
    "# function to check for outliers\n",
    "def outliers(column):\n",
    "    outliers = []\n",
    "    quantile1, quantile2 = column.quantile([0.01 ,0.99])\n",
    "\n",
    "    for i in column:\n",
    "        if (i < quantile1) | (i > quantile2):\n",
    "            outliers.append(i)\n",
    "\n",
    "    return outliers\n"
   ]
  },
  {
   "cell_type": "code",
   "execution_count": 89,
   "metadata": {},
   "outputs": [
    {
     "data": {
      "text/plain": [
       "317"
      ]
     },
     "execution_count": 89,
     "metadata": {},
     "output_type": "execute_result"
    }
   ],
   "source": [
    "concated_train_ouliers = outliers(concated_train.price)\n",
    "len(concated_train_ouliers)"
   ]
  },
  {
   "cell_type": "markdown",
   "metadata": {},
   "source": [
    "### From above we have 317 outlies in the train dataset hence will remove them so as to not affect the analysis"
   ]
  },
  {
   "cell_type": "code",
   "execution_count": 90,
   "metadata": {},
   "outputs": [],
   "source": [
    "# function to remove outliers and returns the new updated dataframe\n",
    "def outliers_remover(concated_set, outliers):\n",
    "    for i in range(len(outliers)):\n",
    "        row_index = concated_set[ concated_set.price == i ].index\n",
    "        concated_set = concated_set.drop(row_index)\n",
    "    return concated_set"
   ]
  },
  {
   "cell_type": "code",
   "execution_count": 91,
   "metadata": {},
   "outputs": [
    {
     "name": "stdout",
     "output_type": "stream",
     "text": [
      "Number of train set records before removing outliers 15850\n",
      "\n",
      "Number of train set records after removing outliers 15850\n"
     ]
    }
   ],
   "source": [
    "print(f\"Number of train set records before removing outliers {concated_train.shape[0]}\")\n",
    "print()\n",
    "concated_train = outliers_remover(concated_train, concated_train_ouliers)\n",
    "print(f\"Number of train set records after removing outliers {concated_train.shape[0]}\")"
   ]
  },
  {
   "cell_type": "markdown",
   "metadata": {},
   "source": [
    "### A histogram showing the distribution of the target variable (house price) after removing the outliers"
   ]
  },
  {
   "cell_type": "code",
   "execution_count": 92,
   "metadata": {},
   "outputs": [
    {
     "data": {
      "text/plain": [
       "Text(0.5, 1.0, 'Distribution of house prices')"
      ]
     },
     "execution_count": 92,
     "metadata": {},
     "output_type": "execute_result"
    },
    {
     "data": {
      "image/png": "[encoded data removed]",
      "text/plain": [
       "<Figure size 1368x648 with 1 Axes>"
      ]
     },
     "metadata": {
      "needs_background": "light"
     },
     "output_type": "display_data"
    }
   ],
   "source": [
    "fig, ax = plt.subplots(figsize=(19,9))\n",
    "\n",
    "ax.hist(y_train, bins=200)\n",
    "\n",
    "ax.set_xlabel('Listing house prices')\n",
    "ax.set_ylabel('Count of house sells')\n",
    "ax.set_title('Distribution of house prices')"
   ]
  },
  {
   "cell_type": "code",
   "execution_count": 93,
   "metadata": {},
   "outputs": [],
   "source": [
    "# full function for data preparation\n",
    "def data_preparation(X,y):\n",
    "    concated_set  = data_cleaning(X,y) # data cleaning function\n",
    "\n",
    "    # dealing with the data types\n",
    "    concated_set = cleaner(concated_set)\n",
    "    concated_set = sqft_basement(concated_set)\n",
    "\n",
    "    # dealing with outliers and removing them\n",
    "    concated_set = outliers_remover(\n",
    "        concated_set, \n",
    "        outliers(concated_set.price)\n",
    "        ) # removing outliers\n",
    "\n",
    "\n",
    "    return concated_set"
   ]
  },
  {
   "cell_type": "markdown",
   "metadata": {},
   "source": [
    "# 4. Modeling"
   ]
  },
  {
   "cell_type": "code",
   "execution_count": 94,
   "metadata": {},
   "outputs": [],
   "source": [
    "# splitting the data into X and y\n",
    "X_train, y_train = set_splitter(concated_train)"
   ]
  },
  {
   "cell_type": "markdown",
   "metadata": {},
   "source": [
    "### Building a heat map to show correlation between all train set attributes and their target which is the house price"
   ]
  },
  {
   "cell_type": "code",
   "execution_count": 95,
   "metadata": {},
   "outputs": [
    {
     "data": {
      "text/plain": [
       "<AxesSubplot:>"
      ]
     },
     "execution_count": 95,
     "metadata": {},
     "output_type": "execute_result"
    },
    {
     "data": {
      "image/png": "[encoded data removed]",
      "text/plain": [
       "<Figure size 360x576 with 2 Axes>"
      ]
     },
     "metadata": {
      "needs_background": "light"
     },
     "output_type": "display_data"
    }
   ],
   "source": [
    "heatmap_x = concated_train\n",
    "\n",
    "train_test_corr = heatmap_x.corr()\n",
    "fig, ax = plt.subplots(figsize=(5, 8))\n",
    "\n",
    "sns.heatmap(\n",
    "    # Specifies the data to be plotted\n",
    "    data = train_test_corr,\n",
    "    # The mask means we only show half the values, instead of showing duplicates.\n",
    "    mask= np.triu(np.ones_like(train_test_corr, dtype=bool)),\n",
    "    # Specifies that we should use the existing axes\n",
    "    ax=ax,\n",
    "    # Specifies that we want labels, not just colors\n",
    "    annot=True,\n",
    "    # Customizing colorbar appearance\n",
    "    cbar_kws={\"label\": \"Correlation\", \"orientation\": \"horizontal\", \"pad\": .2, \"extend\": \"both\"}\n",
    ")"
   ]
  },
  {
   "cell_type": "markdown",
   "metadata": {},
   "source": [
    "A scatterplot of the most_correlated_feature vs house prices"
   ]
  },
  {
   "cell_type": "markdown",
   "metadata": {},
   "source": [
    "This model is not readable hence I will use REFCV function to select the models of best fit"
   ]
  },
  {
   "cell_type": "code",
   "execution_count": 96,
   "metadata": {},
   "outputs": [],
   "source": [
    "# Intializing a splitter\n",
    "splitter = ShuffleSplit(\n",
    "    n_splits=3,\n",
    "    test_size=0.25,\n",
    "    random_state=20\n",
    ") # perfoms a 5 seperate train-test splits "
   ]
  },
  {
   "cell_type": "code",
   "execution_count": 97,
   "metadata": {},
   "outputs": [
    {
     "name": "stdout",
     "output_type": "stream",
     "text": [
      "Was the column selected\n",
      "bedrooms: True\n",
      "bathrooms: True\n",
      "sqft_living: True\n",
      "sqft_lot: True\n",
      "floors: True\n",
      "waterfront: True\n",
      "view: True\n",
      "condition: True\n",
      "grade: True\n",
      "sqft_above: True\n",
      "sqft_basement: True\n",
      "yr_built: True\n",
      "yr_renovated: True\n",
      "lat: True\n",
      "long: True\n"
     ]
    }
   ],
   "source": [
    "# using REFCV\n",
    "X_train_REFECV = StandardScaler().fit_transform(X_train)\n",
    "\n",
    "model_for_REFECV = LinearRegression()\n",
    "\n",
    "# Intitate and fit the selector\n",
    "selector = RFECV(model_for_REFECV, cv=splitter)\n",
    "selector.fit(X_train_REFECV, y_train)\n",
    "\n",
    "# Print the results\n",
    "print(\"Was the column selected\")\n",
    "for index, col in enumerate(X_train.columns):\n",
    "    print(f\"{col}: {selector.support_[index]}\")"
   ]
  },
  {
   "cell_type": "markdown",
   "metadata": {},
   "source": [
    "The algorithim selects all the attributes hence I will use dive more to other alternatives to find the best combinators"
   ]
  },
  {
   "cell_type": "code",
   "execution_count": 98,
   "metadata": {},
   "outputs": [
    {
     "data": {
      "text/plain": [
       "15"
      ]
     },
     "execution_count": 98,
     "metadata": {},
     "output_type": "execute_result"
    }
   ],
   "source": [
    "len(X_train.columns)"
   ]
  },
  {
   "cell_type": "code",
   "execution_count": 99,
   "metadata": {},
   "outputs": [
    {
     "data": {
      "text/html": [
       "<table class=\"simpletable\">\n",
       "<caption>OLS Regression Results</caption>\n",
       "<tr>\n",
       "  <th>Dep. Variable:</th>          <td>price</td>      <th>  R-squared:         </th>  <td>   0.698</td>  \n",
       "</tr>\n",
       "<tr>\n",
       "  <th>Model:</th>                   <td>OLS</td>       <th>  Adj. R-squared:    </th>  <td>   0.698</td>  \n",
       "</tr>\n",
       "<tr>\n",
       "  <th>Method:</th>             <td>Least Squares</td>  <th>  F-statistic:       </th>  <td>   2614.</td>  \n",
       "</tr>\n",
       "<tr>\n",
       "  <th>Date:</th>             <td>Thu, 30 Jun 2022</td> <th>  Prob (F-statistic):</th>   <td>  0.00</td>   \n",
       "</tr>\n",
       "<tr>\n",
       "  <th>Time:</th>                 <td>21:33:13</td>     <th>  Log-Likelihood:    </th> <td>-2.1613e+05</td>\n",
       "</tr>\n",
       "<tr>\n",
       "  <th>No. Observations:</th>      <td> 15850</td>      <th>  AIC:               </th>  <td>4.323e+05</td> \n",
       "</tr>\n",
       "<tr>\n",
       "  <th>Df Residuals:</th>          <td> 15835</td>      <th>  BIC:               </th>  <td>4.324e+05</td> \n",
       "</tr>\n",
       "<tr>\n",
       "  <th>Df Model:</th>              <td>    14</td>      <th>                     </th>      <td> </td>     \n",
       "</tr>\n",
       "<tr>\n",
       "  <th>Covariance Type:</th>      <td>nonrobust</td>    <th>                     </th>      <td> </td>     \n",
       "</tr>\n",
       "</table>\n",
       "<table class=\"simpletable\">\n",
       "<tr>\n",
       "        <td></td>           <th>coef</th>     <th>std err</th>      <th>t</th>      <th>P>|t|</th>  <th>[0.025</th>    <th>0.975]</th>  \n",
       "</tr>\n",
       "<tr>\n",
       "  <th>const</th>         <td>-3.514e+07</td> <td> 1.84e+06</td> <td>  -19.139</td> <td> 0.000</td> <td>-3.87e+07</td> <td>-3.15e+07</td>\n",
       "</tr>\n",
       "<tr>\n",
       "  <th>bedrooms</th>      <td>-3.309e+04</td> <td> 2218.845</td> <td>  -14.914</td> <td> 0.000</td> <td>-3.74e+04</td> <td>-2.87e+04</td>\n",
       "</tr>\n",
       "<tr>\n",
       "  <th>bathrooms</th>     <td> 4.468e+04</td> <td> 3792.909</td> <td>   11.780</td> <td> 0.000</td> <td> 3.72e+04</td> <td> 5.21e+04</td>\n",
       "</tr>\n",
       "<tr>\n",
       "  <th>sqft_living</th>   <td>  111.8876</td> <td>    2.498</td> <td>   44.782</td> <td> 0.000</td> <td>  106.990</td> <td>  116.785</td>\n",
       "</tr>\n",
       "<tr>\n",
       "  <th>sqft_lot</th>      <td>   -0.0675</td> <td>    0.043</td> <td>   -1.557</td> <td> 0.119</td> <td>   -0.153</td> <td>    0.017</td>\n",
       "</tr>\n",
       "<tr>\n",
       "  <th>floors</th>        <td>-1956.4899</td> <td> 4203.274</td> <td>   -0.465</td> <td> 0.642</td> <td>-1.02e+04</td> <td> 6282.405</td>\n",
       "</tr>\n",
       "<tr>\n",
       "  <th>waterfront</th>    <td> 7.041e+05</td> <td> 2.11e+04</td> <td>   33.330</td> <td> 0.000</td> <td> 6.63e+05</td> <td> 7.46e+05</td>\n",
       "</tr>\n",
       "<tr>\n",
       "  <th>view</th>          <td> 4.819e+04</td> <td> 2463.362</td> <td>   19.563</td> <td> 0.000</td> <td> 4.34e+04</td> <td>  5.3e+04</td>\n",
       "</tr>\n",
       "<tr>\n",
       "  <th>condition</th>     <td> 2.855e+04</td> <td> 2712.434</td> <td>   10.526</td> <td> 0.000</td> <td> 2.32e+04</td> <td> 3.39e+04</td>\n",
       "</tr>\n",
       "<tr>\n",
       "  <th>grade</th>         <td> 1.049e+05</td> <td> 2415.321</td> <td>   43.411</td> <td> 0.000</td> <td>    1e+05</td> <td>  1.1e+05</td>\n",
       "</tr>\n",
       "<tr>\n",
       "  <th>sqft_above</th>    <td>   73.0979</td> <td>    2.510</td> <td>   29.124</td> <td> 0.000</td> <td>   68.178</td> <td>   78.018</td>\n",
       "</tr>\n",
       "<tr>\n",
       "  <th>sqft_basement</th> <td>   38.7896</td> <td>    3.116</td> <td>   12.450</td> <td> 0.000</td> <td>   32.683</td> <td>   44.897</td>\n",
       "</tr>\n",
       "<tr>\n",
       "  <th>yr_built</th>      <td>-2599.1232</td> <td>   81.113</td> <td>  -32.043</td> <td> 0.000</td> <td>-2758.114</td> <td>-2440.132</td>\n",
       "</tr>\n",
       "<tr>\n",
       "  <th>yr_renovated</th>  <td>    4.4346</td> <td>    1.986</td> <td>    2.233</td> <td> 0.026</td> <td>    0.543</td> <td>    8.326</td>\n",
       "</tr>\n",
       "<tr>\n",
       "  <th>lat</th>           <td> 5.595e+05</td> <td> 1.23e+04</td> <td>   45.600</td> <td> 0.000</td> <td> 5.35e+05</td> <td> 5.84e+05</td>\n",
       "</tr>\n",
       "<tr>\n",
       "  <th>long</th>          <td>-1.057e+05</td> <td> 1.38e+04</td> <td>   -7.668</td> <td> 0.000</td> <td>-1.33e+05</td> <td>-7.87e+04</td>\n",
       "</tr>\n",
       "</table>\n",
       "<table class=\"simpletable\">\n",
       "<tr>\n",
       "  <th>Omnibus:</th>       <td>12034.685</td> <th>  Durbin-Watson:     </th>  <td>   1.994</td> \n",
       "</tr>\n",
       "<tr>\n",
       "  <th>Prob(Omnibus):</th>  <td> 0.000</td>   <th>  Jarque-Bera (JB):  </th> <td>713870.585</td>\n",
       "</tr>\n",
       "<tr>\n",
       "  <th>Skew:</th>           <td> 3.123</td>   <th>  Prob(JB):          </th>  <td>    0.00</td> \n",
       "</tr>\n",
       "<tr>\n",
       "  <th>Kurtosis:</th>       <td>35.279</td>   <th>  Cond. No.          </th>  <td>2.15e+17</td> \n",
       "</tr>\n",
       "</table><br/><br/>Notes:<br/>[1] Standard Errors assume that the covariance matrix of the errors is correctly specified.<br/>[2] The smallest eigenvalue is 6.05e-22. This might indicate that there are<br/>strong multicollinearity problems or that the design matrix is singular."
      ],
      "text/plain": [
       "<class 'statsmodels.iolib.summary.Summary'>\n",
       "\"\"\"\n",
       "                            OLS Regression Results                            \n",
       "==============================================================================\n",
       "Dep. Variable:                  price   R-squared:                       0.698\n",
       "Model:                            OLS   Adj. R-squared:                  0.698\n",
       "Method:                 Least Squares   F-statistic:                     2614.\n",
       "Date:                Thu, 30 Jun 2022   Prob (F-statistic):               0.00\n",
       "Time:                        21:33:13   Log-Likelihood:            -2.1613e+05\n",
       "No. Observations:               15850   AIC:                         4.323e+05\n",
       "Df Residuals:                   15835   BIC:                         4.324e+05\n",
       "Df Model:                          14                                         \n",
       "Covariance Type:            nonrobust                                         \n",
       "=================================================================================\n",
       "                    coef    std err          t      P>|t|      [0.025      0.975]\n",
       "---------------------------------------------------------------------------------\n",
       "const         -3.514e+07   1.84e+06    -19.139      0.000   -3.87e+07   -3.15e+07\n",
       "bedrooms      -3.309e+04   2218.845    -14.914      0.000   -3.74e+04   -2.87e+04\n",
       "bathrooms      4.468e+04   3792.909     11.780      0.000    3.72e+04    5.21e+04\n",
       "sqft_living     111.8876      2.498     44.782      0.000     106.990     116.785\n",
       "sqft_lot         -0.0675      0.043     -1.557      0.119      -0.153       0.017\n",
       "floors        -1956.4899   4203.274     -0.465      0.642   -1.02e+04    6282.405\n",
       "waterfront     7.041e+05   2.11e+04     33.330      0.000    6.63e+05    7.46e+05\n",
       "view           4.819e+04   2463.362     19.563      0.000    4.34e+04     5.3e+04\n",
       "condition      2.855e+04   2712.434     10.526      0.000    2.32e+04    3.39e+04\n",
       "grade          1.049e+05   2415.321     43.411      0.000       1e+05     1.1e+05\n",
       "sqft_above       73.0979      2.510     29.124      0.000      68.178      78.018\n",
       "sqft_basement    38.7896      3.116     12.450      0.000      32.683      44.897\n",
       "yr_built      -2599.1232     81.113    -32.043      0.000   -2758.114   -2440.132\n",
       "yr_renovated      4.4346      1.986      2.233      0.026       0.543       8.326\n",
       "lat            5.595e+05   1.23e+04     45.600      0.000    5.35e+05    5.84e+05\n",
       "long          -1.057e+05   1.38e+04     -7.668      0.000   -1.33e+05   -7.87e+04\n",
       "==============================================================================\n",
       "Omnibus:                    12034.685   Durbin-Watson:                   1.994\n",
       "Prob(Omnibus):                  0.000   Jarque-Bera (JB):           713870.585\n",
       "Skew:                           3.123   Prob(JB):                         0.00\n",
       "Kurtosis:                      35.279   Cond. No.                     2.15e+17\n",
       "==============================================================================\n",
       "\n",
       "Notes:\n",
       "[1] Standard Errors assume that the covariance matrix of the errors is correctly specified.\n",
       "[2] The smallest eigenvalue is 6.05e-22. This might indicate that there are\n",
       "strong multicollinearity problems or that the design matrix is singular.\n",
       "\"\"\""
      ]
     },
     "execution_count": 99,
     "metadata": {},
     "output_type": "execute_result"
    }
   ],
   "source": [
    "# investigating for multicolinearity\n",
    "olsmodel = sm.OLS(y_train, sm.add_constant(X_train)).fit()\n",
    "olsmodel.summary()"
   ]
  },
  {
   "cell_type": "markdown",
   "metadata": {},
   "source": [
    "Again we are not getting clear result hence I will use a brute force algorithm to find the best combinations to get the best results"
   ]
  },
  {
   "cell_type": "code",
   "execution_count": 100,
   "metadata": {},
   "outputs": [
    {
     "name": "stdout",
     "output_type": "stream",
     "text": [
      "<class 'pandas.core.frame.DataFrame'>\n",
      "Int64Index: 15850 entries, 4139480190 to 1336800880\n",
      "Data columns (total 15 columns):\n",
      " #   Column         Non-Null Count  Dtype  \n",
      "---  ------         --------------  -----  \n",
      " 0   bedrooms       15850 non-null  int64  \n",
      " 1   bathrooms      15850 non-null  float64\n",
      " 2   sqft_living    15850 non-null  int64  \n",
      " 3   sqft_lot       15850 non-null  int64  \n",
      " 4   floors         15850 non-null  float64\n",
      " 5   waterfront     15850 non-null  float64\n",
      " 6   view           15850 non-null  float64\n",
      " 7   condition      15850 non-null  int64  \n",
      " 8   grade          15850 non-null  int64  \n",
      " 9   sqft_above     15850 non-null  int64  \n",
      " 10  sqft_basement  15850 non-null  float64\n",
      " 11  yr_built       15850 non-null  int64  \n",
      " 12  yr_renovated   15850 non-null  float64\n",
      " 13  lat            15850 non-null  float64\n",
      " 14  long           15850 non-null  float64\n",
      "dtypes: float64(8), int64(7)\n",
      "memory usage: 1.9 MB\n"
     ]
    }
   ],
   "source": [
    "X_train.info()"
   ]
  },
  {
   "cell_type": "code",
   "execution_count": 101,
   "metadata": {},
   "outputs": [],
   "source": [
    "# Function for getting coeeficients in a cross_valiate\n",
    "def coeeficients(score):\n",
    "    for model in score['estimator']:\n",
    "        print(model.coef_)"
   ]
  },
  {
   "cell_type": "markdown",
   "metadata": {},
   "source": [
    "## Building models to find the best model overall"
   ]
  },
  {
   "cell_type": "markdown",
   "metadata": {},
   "source": [
    "### First Model "
   ]
  },
  {
   "cell_type": "markdown",
   "metadata": {},
   "source": [
    "The first model will contain all the attributes"
   ]
  },
  {
   "cell_type": "code",
   "execution_count": 102,
   "metadata": {},
   "outputs": [
    {
     "name": "stdout",
     "output_type": "stream",
     "text": [
      "Train Score:            0.6996767555828548\n",
      "Validation Score:       0.6924739867492103\n",
      "Difference in scores:   0.007202768833644457\n"
     ]
    }
   ],
   "source": [
    "first_model = LinearRegression()\n",
    "\n",
    "first_score = cross_validate(\n",
    "    estimator=first_model,\n",
    "    X=X_train,\n",
    "    y=y_train,\n",
    "    return_train_score=True,\n",
    "    return_estimator=True,\n",
    "    cv=splitter\n",
    ")\n",
    "\n",
    "print(f\"Train Score:            {first_score['train_score'].mean()}\")\n",
    "print(f\"Validation Score:       {first_score['test_score'].mean()}\")\n",
    "print(f\"Difference in scores:   {  (first_score['train_score'].mean()) - (first_score['test_score'].mean())}\")\n"
   ]
  },
  {
   "cell_type": "markdown",
   "metadata": {},
   "source": [
    "The model had a good R-2 and the difference between the models is low, hence it does a good job in predicting the house prices"
   ]
  },
  {
   "cell_type": "markdown",
   "metadata": {},
   "source": [
    "### Second Model "
   ]
  },
  {
   "cell_type": "markdown",
   "metadata": {},
   "source": [
    "The second model will be built using the PolynomialFeature"
   ]
  },
  {
   "cell_type": "code",
   "execution_count": 103,
   "metadata": {},
   "outputs": [],
   "source": [
    "# Building a less complex polynomial feature \n",
    "poly_2 = PolynomialFeatures(2)\n",
    "X_train_poly2 = poly_2.fit_transform(X_train)"
   ]
  },
  {
   "cell_type": "code",
   "execution_count": 104,
   "metadata": {},
   "outputs": [
    {
     "name": "stdout",
     "output_type": "stream",
     "text": [
      "Train Score:            0.7979738838168619\n",
      "Validation Score:       0.7896146794394879\n",
      "Difference in scores:   0.008359204377373919\n"
     ]
    }
   ],
   "source": [
    "second_model_poly_2 = LinearRegression()\n",
    "\n",
    "second_score = cross_validate(\n",
    "    estimator=second_model_poly_2,\n",
    "    X=X_train_poly2,\n",
    "    y=y_train,\n",
    "    return_train_score=True,\n",
    "    return_estimator=True,\n",
    "    cv=splitter\n",
    ")\n",
    "print(f\"Train Score:            {second_score['train_score'].mean()}\")\n",
    "print(f\"Validation Score:       {second_score['test_score'].mean()}\")\n",
    "print(f\"Difference in scores:   {  (second_score['train_score'].mean()) - (second_score['test_score'].mean())}\")"
   ]
  },
  {
   "cell_type": "markdown",
   "metadata": {},
   "source": [
    "Both the score are higher than compared to the first model whose R-2 was a bit lower, also the diffence between the score is low hence this model does a better in prediction"
   ]
  },
  {
   "cell_type": "markdown",
   "metadata": {},
   "source": [
    "### Third Model "
   ]
  },
  {
   "cell_type": "code",
   "execution_count": 105,
   "metadata": {},
   "outputs": [],
   "source": [
    "# Building a more complex polynomial feature \n",
    "poly_3 = PolynomialFeatures(3)\n",
    "X_train_poly3 = poly_3.fit_transform(X_train)"
   ]
  },
  {
   "cell_type": "code",
   "execution_count": 106,
   "metadata": {},
   "outputs": [
    {
     "name": "stdout",
     "output_type": "stream",
     "text": [
      "Train Score:            0.8083148594398958\n",
      "Validation Score:       0.6216232338091846\n",
      "Difference in scores:   0.18669162563071118\n"
     ]
    }
   ],
   "source": [
    "third_model_poly_3 = LinearRegression()\n",
    "\n",
    "third_score = cross_validate(\n",
    "    estimator=third_model_poly_3,\n",
    "    X=X_train_poly3,\n",
    "    y=y_train,\n",
    "    return_train_score=True,\n",
    "    return_estimator=True,\n",
    "    cv=splitter\n",
    ")\n",
    "print(f\"Train Score:            {third_score['train_score'].mean()}\")\n",
    "print(f\"Validation Score:       {third_score['test_score'].mean()}\")\n",
    "print(f\"Difference in scores:   {  (third_score['train_score'].mean()) - (third_score['test_score'].mean())}\")"
   ]
  },
  {
   "cell_type": "markdown",
   "metadata": {},
   "source": [
    "This model performed bad, it scored a good train score but a less validation score hence it is overfitting."
   ]
  },
  {
   "cell_type": "markdown",
   "metadata": {},
   "source": [
    "Going back to the OLS model"
   ]
  },
  {
   "cell_type": "code",
   "execution_count": 107,
   "metadata": {},
   "outputs": [
    {
     "data": {
      "text/html": [
       "<table class=\"simpletable\">\n",
       "<caption>OLS Regression Results</caption>\n",
       "<tr>\n",
       "  <th>Dep. Variable:</th>          <td>price</td>      <th>  R-squared:         </th>  <td>   0.698</td>  \n",
       "</tr>\n",
       "<tr>\n",
       "  <th>Model:</th>                   <td>OLS</td>       <th>  Adj. R-squared:    </th>  <td>   0.698</td>  \n",
       "</tr>\n",
       "<tr>\n",
       "  <th>Method:</th>             <td>Least Squares</td>  <th>  F-statistic:       </th>  <td>   2614.</td>  \n",
       "</tr>\n",
       "<tr>\n",
       "  <th>Date:</th>             <td>Thu, 30 Jun 2022</td> <th>  Prob (F-statistic):</th>   <td>  0.00</td>   \n",
       "</tr>\n",
       "<tr>\n",
       "  <th>Time:</th>                 <td>21:33:35</td>     <th>  Log-Likelihood:    </th> <td>-2.1613e+05</td>\n",
       "</tr>\n",
       "<tr>\n",
       "  <th>No. Observations:</th>      <td> 15850</td>      <th>  AIC:               </th>  <td>4.323e+05</td> \n",
       "</tr>\n",
       "<tr>\n",
       "  <th>Df Residuals:</th>          <td> 15835</td>      <th>  BIC:               </th>  <td>4.324e+05</td> \n",
       "</tr>\n",
       "<tr>\n",
       "  <th>Df Model:</th>              <td>    14</td>      <th>                     </th>      <td> </td>     \n",
       "</tr>\n",
       "<tr>\n",
       "  <th>Covariance Type:</th>      <td>nonrobust</td>    <th>                     </th>      <td> </td>     \n",
       "</tr>\n",
       "</table>\n",
       "<table class=\"simpletable\">\n",
       "<tr>\n",
       "        <td></td>           <th>coef</th>     <th>std err</th>      <th>t</th>      <th>P>|t|</th>  <th>[0.025</th>    <th>0.975]</th>  \n",
       "</tr>\n",
       "<tr>\n",
       "  <th>const</th>         <td>-3.514e+07</td> <td> 1.84e+06</td> <td>  -19.139</td> <td> 0.000</td> <td>-3.87e+07</td> <td>-3.15e+07</td>\n",
       "</tr>\n",
       "<tr>\n",
       "  <th>bedrooms</th>      <td>-3.309e+04</td> <td> 2218.845</td> <td>  -14.914</td> <td> 0.000</td> <td>-3.74e+04</td> <td>-2.87e+04</td>\n",
       "</tr>\n",
       "<tr>\n",
       "  <th>bathrooms</th>     <td> 4.468e+04</td> <td> 3792.909</td> <td>   11.780</td> <td> 0.000</td> <td> 3.72e+04</td> <td> 5.21e+04</td>\n",
       "</tr>\n",
       "<tr>\n",
       "  <th>sqft_living</th>   <td>  111.8876</td> <td>    2.498</td> <td>   44.782</td> <td> 0.000</td> <td>  106.990</td> <td>  116.785</td>\n",
       "</tr>\n",
       "<tr>\n",
       "  <th>sqft_lot</th>      <td>   -0.0675</td> <td>    0.043</td> <td>   -1.557</td> <td> 0.119</td> <td>   -0.153</td> <td>    0.017</td>\n",
       "</tr>\n",
       "<tr>\n",
       "  <th>floors</th>        <td>-1956.4899</td> <td> 4203.274</td> <td>   -0.465</td> <td> 0.642</td> <td>-1.02e+04</td> <td> 6282.405</td>\n",
       "</tr>\n",
       "<tr>\n",
       "  <th>waterfront</th>    <td> 7.041e+05</td> <td> 2.11e+04</td> <td>   33.330</td> <td> 0.000</td> <td> 6.63e+05</td> <td> 7.46e+05</td>\n",
       "</tr>\n",
       "<tr>\n",
       "  <th>view</th>          <td> 4.819e+04</td> <td> 2463.362</td> <td>   19.563</td> <td> 0.000</td> <td> 4.34e+04</td> <td>  5.3e+04</td>\n",
       "</tr>\n",
       "<tr>\n",
       "  <th>condition</th>     <td> 2.855e+04</td> <td> 2712.434</td> <td>   10.526</td> <td> 0.000</td> <td> 2.32e+04</td> <td> 3.39e+04</td>\n",
       "</tr>\n",
       "<tr>\n",
       "  <th>grade</th>         <td> 1.049e+05</td> <td> 2415.321</td> <td>   43.411</td> <td> 0.000</td> <td>    1e+05</td> <td>  1.1e+05</td>\n",
       "</tr>\n",
       "<tr>\n",
       "  <th>sqft_above</th>    <td>   73.0979</td> <td>    2.510</td> <td>   29.124</td> <td> 0.000</td> <td>   68.178</td> <td>   78.018</td>\n",
       "</tr>\n",
       "<tr>\n",
       "  <th>sqft_basement</th> <td>   38.7896</td> <td>    3.116</td> <td>   12.450</td> <td> 0.000</td> <td>   32.683</td> <td>   44.897</td>\n",
       "</tr>\n",
       "<tr>\n",
       "  <th>yr_built</th>      <td>-2599.1232</td> <td>   81.113</td> <td>  -32.043</td> <td> 0.000</td> <td>-2758.114</td> <td>-2440.132</td>\n",
       "</tr>\n",
       "<tr>\n",
       "  <th>yr_renovated</th>  <td>    4.4346</td> <td>    1.986</td> <td>    2.233</td> <td> 0.026</td> <td>    0.543</td> <td>    8.326</td>\n",
       "</tr>\n",
       "<tr>\n",
       "  <th>lat</th>           <td> 5.595e+05</td> <td> 1.23e+04</td> <td>   45.600</td> <td> 0.000</td> <td> 5.35e+05</td> <td> 5.84e+05</td>\n",
       "</tr>\n",
       "<tr>\n",
       "  <th>long</th>          <td>-1.057e+05</td> <td> 1.38e+04</td> <td>   -7.668</td> <td> 0.000</td> <td>-1.33e+05</td> <td>-7.87e+04</td>\n",
       "</tr>\n",
       "</table>\n",
       "<table class=\"simpletable\">\n",
       "<tr>\n",
       "  <th>Omnibus:</th>       <td>12034.685</td> <th>  Durbin-Watson:     </th>  <td>   1.994</td> \n",
       "</tr>\n",
       "<tr>\n",
       "  <th>Prob(Omnibus):</th>  <td> 0.000</td>   <th>  Jarque-Bera (JB):  </th> <td>713870.585</td>\n",
       "</tr>\n",
       "<tr>\n",
       "  <th>Skew:</th>           <td> 3.123</td>   <th>  Prob(JB):          </th>  <td>    0.00</td> \n",
       "</tr>\n",
       "<tr>\n",
       "  <th>Kurtosis:</th>       <td>35.279</td>   <th>  Cond. No.          </th>  <td>2.15e+17</td> \n",
       "</tr>\n",
       "</table><br/><br/>Notes:<br/>[1] Standard Errors assume that the covariance matrix of the errors is correctly specified.<br/>[2] The smallest eigenvalue is 6.05e-22. This might indicate that there are<br/>strong multicollinearity problems or that the design matrix is singular."
      ],
      "text/plain": [
       "<class 'statsmodels.iolib.summary.Summary'>\n",
       "\"\"\"\n",
       "                            OLS Regression Results                            \n",
       "==============================================================================\n",
       "Dep. Variable:                  price   R-squared:                       0.698\n",
       "Model:                            OLS   Adj. R-squared:                  0.698\n",
       "Method:                 Least Squares   F-statistic:                     2614.\n",
       "Date:                Thu, 30 Jun 2022   Prob (F-statistic):               0.00\n",
       "Time:                        21:33:35   Log-Likelihood:            -2.1613e+05\n",
       "No. Observations:               15850   AIC:                         4.323e+05\n",
       "Df Residuals:                   15835   BIC:                         4.324e+05\n",
       "Df Model:                          14                                         \n",
       "Covariance Type:            nonrobust                                         \n",
       "=================================================================================\n",
       "                    coef    std err          t      P>|t|      [0.025      0.975]\n",
       "---------------------------------------------------------------------------------\n",
       "const         -3.514e+07   1.84e+06    -19.139      0.000   -3.87e+07   -3.15e+07\n",
       "bedrooms      -3.309e+04   2218.845    -14.914      0.000   -3.74e+04   -2.87e+04\n",
       "bathrooms      4.468e+04   3792.909     11.780      0.000    3.72e+04    5.21e+04\n",
       "sqft_living     111.8876      2.498     44.782      0.000     106.990     116.785\n",
       "sqft_lot         -0.0675      0.043     -1.557      0.119      -0.153       0.017\n",
       "floors        -1956.4899   4203.274     -0.465      0.642   -1.02e+04    6282.405\n",
       "waterfront     7.041e+05   2.11e+04     33.330      0.000    6.63e+05    7.46e+05\n",
       "view           4.819e+04   2463.362     19.563      0.000    4.34e+04     5.3e+04\n",
       "condition      2.855e+04   2712.434     10.526      0.000    2.32e+04    3.39e+04\n",
       "grade          1.049e+05   2415.321     43.411      0.000       1e+05     1.1e+05\n",
       "sqft_above       73.0979      2.510     29.124      0.000      68.178      78.018\n",
       "sqft_basement    38.7896      3.116     12.450      0.000      32.683      44.897\n",
       "yr_built      -2599.1232     81.113    -32.043      0.000   -2758.114   -2440.132\n",
       "yr_renovated      4.4346      1.986      2.233      0.026       0.543       8.326\n",
       "lat            5.595e+05   1.23e+04     45.600      0.000    5.35e+05    5.84e+05\n",
       "long          -1.057e+05   1.38e+04     -7.668      0.000   -1.33e+05   -7.87e+04\n",
       "==============================================================================\n",
       "Omnibus:                    12034.685   Durbin-Watson:                   1.994\n",
       "Prob(Omnibus):                  0.000   Jarque-Bera (JB):           713870.585\n",
       "Skew:                           3.123   Prob(JB):                         0.00\n",
       "Kurtosis:                      35.279   Cond. No.                     2.15e+17\n",
       "==============================================================================\n",
       "\n",
       "Notes:\n",
       "[1] Standard Errors assume that the covariance matrix of the errors is correctly specified.\n",
       "[2] The smallest eigenvalue is 6.05e-22. This might indicate that there are\n",
       "strong multicollinearity problems or that the design matrix is singular.\n",
       "\"\"\""
      ]
     },
     "execution_count": 107,
     "metadata": {},
     "output_type": "execute_result"
    }
   ],
   "source": [
    "olsmodel.summary()"
   ]
  },
  {
   "cell_type": "markdown",
   "metadata": {},
   "source": [
    "### Fourth Model "
   ]
  },
  {
   "cell_type": "markdown",
   "metadata": {},
   "source": [
    "In this model I will select all features with a p-value of 0.000"
   ]
  },
  {
   "cell_type": "code",
   "execution_count": 108,
   "metadata": {},
   "outputs": [],
   "source": [
    "# selecting all attributes with a p value of 0.0000 and checking if they suit for a good model\n",
    "signficant_features = ['bedrooms', 'bathrooms', 'sqft_living', 'waterfront', 'view', 'condition', 'grade', 'sqft_above', 'sqft_basement', 'yr_built', 'lat', 'long'] "
   ]
  },
  {
   "cell_type": "markdown",
   "metadata": {},
   "source": [
    "For this model I will use the second_model to model our fourth model with the significant_features to see if they will perform well"
   ]
  },
  {
   "cell_type": "code",
   "execution_count": 109,
   "metadata": {},
   "outputs": [],
   "source": [
    "X_train_fourth_model = X_train[signficant_features]"
   ]
  },
  {
   "cell_type": "code",
   "execution_count": 110,
   "metadata": {},
   "outputs": [],
   "source": [
    "# Building a less complex polynomial feature \n",
    "poly_2 = PolynomialFeatures(2)\n",
    "X_train_fourth_poly2 = poly_2.fit_transform(X_train_fourth_model)"
   ]
  },
  {
   "cell_type": "code",
   "execution_count": 111,
   "metadata": {},
   "outputs": [
    {
     "name": "stdout",
     "output_type": "stream",
     "text": [
      "Train Score:            0.7906499330591293\n",
      "Validation Score:       0.7840445615209952\n",
      "Difference in scores:   0.006605371538134119\n"
     ]
    }
   ],
   "source": [
    "fourth_model_poly_2 = LinearRegression()\n",
    "\n",
    "fourth_score = cross_validate(\n",
    "    estimator=fourth_model_poly_2,\n",
    "    X=X_train_fourth_poly2,\n",
    "    y=y_train,\n",
    "    return_train_score=True,\n",
    "    return_estimator=True,\n",
    "    cv=splitter\n",
    ")\n",
    "print(f\"Train Score:            {fourth_score['train_score'].mean()}\")\n",
    "print(f\"Validation Score:       {fourth_score['test_score'].mean()}\")\n",
    "print(f\"Difference in scores:   {  (fourth_score['train_score'].mean()) - (fourth_score['test_score'].mean())}\")"
   ]
  },
  {
   "cell_type": "markdown",
   "metadata": {},
   "source": [
    "### Building and evaluating a final Model"
   ]
  },
  {
   "cell_type": "markdown",
   "metadata": {},
   "source": [
    "#### First I'll perform data preparation to the test set"
   ]
  },
  {
   "cell_type": "markdown",
   "metadata": {},
   "source": [
    "using the data_preparation function I will prepare the training set"
   ]
  },
  {
   "cell_type": "code",
   "execution_count": 112,
   "metadata": {},
   "outputs": [
    {
     "name": "stderr",
     "output_type": "stream",
     "text": [
      "/tmp/ipykernel_19343/3432681625.py:10: SettingWithCopyWarning: \n",
      "A value is trying to be set on a copy of a slice from a DataFrame.\n",
      "Try using .loc[row_indexer,col_indexer] = value instead\n",
      "\n",
      "See the caveats in the documentation: https://pandas.pydata.org/pandas-docs/stable/user_guide/indexing.html#returning-a-view-versus-a-copy\n",
      "  view.view = new_view\n",
      "/tmp/ipykernel_19343/598743563.py:10: SettingWithCopyWarning: \n",
      "A value is trying to be set on a copy of a slice from a DataFrame.\n",
      "Try using .loc[row_indexer,col_indexer] = value instead\n",
      "\n",
      "See the caveats in the documentation: https://pandas.pydata.org/pandas-docs/stable/user_guide/indexing.html#returning-a-view-versus-a-copy\n",
      "  waterfront.waterfront = new_waterfront\n",
      "/tmp/ipykernel_19343/1502401251.py:6: SettingWithCopyWarning: \n",
      "A value is trying to be set on a copy of a slice from a DataFrame.\n",
      "Try using .loc[row_indexer,col_indexer] = value instead\n",
      "\n",
      "See the caveats in the documentation: https://pandas.pydata.org/pandas-docs/stable/user_guide/indexing.html#returning-a-view-versus-a-copy\n",
      "  concated_set['sqft_basement'] = pd.to_numeric(concated_set['sqft_basement'])\n"
     ]
    }
   ],
   "source": [
    "# creating a ready and cleaned set\n",
    "concated_test = data_preparation(X_test, y_test)"
   ]
  },
  {
   "cell_type": "code",
   "execution_count": 113,
   "metadata": {},
   "outputs": [
    {
     "name": "stdout",
     "output_type": "stream",
     "text": [
      "<class 'pandas.core.frame.DataFrame'>\n",
      "Int64Index: 5293 entries, 2997800076 to 148000440\n",
      "Data columns (total 16 columns):\n",
      " #   Column         Non-Null Count  Dtype  \n",
      "---  ------         --------------  -----  \n",
      " 0   price          5293 non-null   float64\n",
      " 1   bedrooms       5293 non-null   int64  \n",
      " 2   bathrooms      5293 non-null   float64\n",
      " 3   sqft_living    5293 non-null   int64  \n",
      " 4   sqft_lot       5293 non-null   int64  \n",
      " 5   floors         5293 non-null   float64\n",
      " 6   waterfront     5293 non-null   float64\n",
      " 7   view           5293 non-null   float64\n",
      " 8   condition      5293 non-null   int64  \n",
      " 9   grade          5293 non-null   int64  \n",
      " 10  sqft_above     5293 non-null   int64  \n",
      " 11  sqft_basement  5293 non-null   float64\n",
      " 12  yr_built       5293 non-null   int64  \n",
      " 13  yr_renovated   5293 non-null   float64\n",
      " 14  lat            5293 non-null   float64\n",
      " 15  long           5293 non-null   float64\n",
      "dtypes: float64(9), int64(7)\n",
      "memory usage: 703.0 KB\n"
     ]
    }
   ],
   "source": [
    "concated_test.info()"
   ]
  },
  {
   "cell_type": "code",
   "execution_count": 114,
   "metadata": {},
   "outputs": [
    {
     "data": {
      "text/plain": [
       "False"
      ]
     },
     "execution_count": 114,
     "metadata": {},
     "output_type": "execute_result"
    }
   ],
   "source": [
    "# checking for null values in the testing \n",
    "concated_test.isna().any().any()"
   ]
  },
  {
   "cell_type": "markdown",
   "metadata": {},
   "source": [
    "Finally splitting the prepared train set using the set_splitter function"
   ]
  },
  {
   "cell_type": "code",
   "execution_count": 115,
   "metadata": {},
   "outputs": [],
   "source": [
    "X_test, y_test = set_splitter(concated_test)"
   ]
  },
  {
   "cell_type": "code",
   "execution_count": 116,
   "metadata": {},
   "outputs": [
    {
     "data": {
      "text/plain": [
       "5293"
      ]
     },
     "metadata": {},
     "output_type": "display_data"
    },
    {
     "data": {
      "text/plain": [
       "5293"
      ]
     },
     "execution_count": 116,
     "metadata": {},
     "output_type": "execute_result"
    }
   ],
   "source": [
    "display(len(X_test))\n",
    "len(y_test)\n"
   ]
  },
  {
   "cell_type": "markdown",
   "metadata": {},
   "source": [
    "This model will be based on the second_model_poly_2 since it performed well"
   ]
  },
  {
   "cell_type": "code",
   "execution_count": 117,
   "metadata": {},
   "outputs": [
    {
     "data": {
      "text/plain": [
       "0.7902884688085473"
      ]
     },
     "execution_count": 117,
     "metadata": {},
     "output_type": "execute_result"
    }
   ],
   "source": [
    "final_model = second_model_poly_2\n",
    "final_model.fit(X_train_poly2, y_train)\n",
    "\n",
    "X_test_poly2 = poly_2.fit_transform(X_test)\n",
    "# scoring the model on the X_test_poly2 and the y_test\n",
    "final_model.score(X_test_poly2, y_test)"
   ]
  },
  {
   "cell_type": "markdown",
   "metadata": {},
   "source": [
    "The model perfmed well to on the test set"
   ]
  },
  {
   "cell_type": "markdown",
   "metadata": {},
   "source": [
    "## Computing the RMSE"
   ]
  },
  {
   "cell_type": "code",
   "execution_count": null,
   "metadata": {},
   "outputs": [],
   "source": []
  }
 ],
 "metadata": {
  "kernelspec": {
   "display_name": "Python 3.8.10 64-bit",
   "language": "python",
   "name": "python3"
  },
  "language_info": {
   "codemirror_mode": {
    "name": "ipython",
    "version": 3
   },
   "file_extension": ".py",
   "mimetype": "text/x-python",
   "name": "python",
   "nbconvert_exporter": "python",
   "pygments_lexer": "ipython3",
   "version": "3.8.10"
  },
  "vscode": {
   "interpreter": {
    "hash": "916dbcbb3f70747c44a77c7bcd40155683ae19c65e1c03b4aa3499c5328201f1"
   }
  }
 },
 "nbformat": 4,
 "nbformat_minor": 2
}
