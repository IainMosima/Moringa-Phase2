{
 "cells": [
  {
   "cell_type": "markdown",
   "metadata": {},
   "source": [
    "# 1. Business Understanding\n",
    "\n",
    "In this project I'm going to develop a pricing algorithm for houses in the northwest county based on a past collected data of house sales. The goal is to help homeowners save time on buying and/or selling houses.\n",
    "\n",
    "This algorithm is predictive, meaning it will help stackeholders who want to buy or sell houses can use this algorithm to predcit house prices based on home renovations.\n",
    "\n",
    "This algorithm will be able to tell us something about the relationship between attributes of houses and their prices. It other terms it will be inferential.\n"
   ]
  },
  {
   "cell_type": "markdown",
   "metadata": {},
   "source": [
    "# Loading the data"
   ]
  },
  {
   "cell_type": "code",
   "execution_count": 195,
   "metadata": {},
   "outputs": [],
   "source": [
    "# importing the necessary libraries for this project\n",
    "import pandas as pd\n",
    "import numpy as np\n",
    "import scipy.stats as stats\n",
    "import statsmodels.api as sm\n",
    "from sklearn.model_selection import train_test_split\n",
    "from sklearn.linear_model import LinearRegression\n",
    "from sklearn.model_selection import cross_validate, ShuffleSplit\n",
    "from sklearn.feature_selection import RFECV\n",
    "from sklearn.preprocessing import StandardScaler, PolynomialFeatures\n",
    "from sklearn.impute import SimpleImputer\n",
    "from sklearn.metrics import mean_squared_error\n",
    "\n",
    "import seaborn as sns\n",
    "import matplotlib.pyplot as plt\n",
    "\n",
    "np.random.seed(21)\n",
    "\n",
    "%matplotlib inline"
   ]
  },
  {
   "cell_type": "code",
   "execution_count": 196,
   "metadata": {},
   "outputs": [
    {
     "data": {
      "text/html": [
       "<div>\n",
       "<style scoped>\n",
       "    .dataframe tbody tr th:only-of-type {\n",
       "        vertical-align: middle;\n",
       "    }\n",
       "\n",
       "    .dataframe tbody tr th {\n",
       "        vertical-align: top;\n",
       "    }\n",
       "\n",
       "    .dataframe thead th {\n",
       "        text-align: right;\n",
       "    }\n",
       "</style>\n",
       "<table border=\"1\" class=\"dataframe\">\n",
       "  <thead>\n",
       "    <tr style=\"text-align: right;\">\n",
       "      <th></th>\n",
       "      <th>date</th>\n",
       "      <th>price</th>\n",
       "      <th>bedrooms</th>\n",
       "      <th>bathrooms</th>\n",
       "      <th>sqft_living</th>\n",
       "      <th>sqft_lot</th>\n",
       "      <th>floors</th>\n",
       "      <th>waterfront</th>\n",
       "      <th>view</th>\n",
       "      <th>condition</th>\n",
       "      <th>grade</th>\n",
       "      <th>sqft_above</th>\n",
       "      <th>sqft_basement</th>\n",
       "      <th>yr_built</th>\n",
       "      <th>yr_renovated</th>\n",
       "      <th>zipcode</th>\n",
       "      <th>lat</th>\n",
       "      <th>long</th>\n",
       "      <th>sqft_living15</th>\n",
       "      <th>sqft_lot15</th>\n",
       "    </tr>\n",
       "    <tr>\n",
       "      <th>id</th>\n",
       "      <th></th>\n",
       "      <th></th>\n",
       "      <th></th>\n",
       "      <th></th>\n",
       "      <th></th>\n",
       "      <th></th>\n",
       "      <th></th>\n",
       "      <th></th>\n",
       "      <th></th>\n",
       "      <th></th>\n",
       "      <th></th>\n",
       "      <th></th>\n",
       "      <th></th>\n",
       "      <th></th>\n",
       "      <th></th>\n",
       "      <th></th>\n",
       "      <th></th>\n",
       "      <th></th>\n",
       "      <th></th>\n",
       "      <th></th>\n",
       "    </tr>\n",
       "  </thead>\n",
       "  <tbody>\n",
       "    <tr>\n",
       "      <th>7129300520</th>\n",
       "      <td>10/13/2014</td>\n",
       "      <td>221900.0</td>\n",
       "      <td>3</td>\n",
       "      <td>1.00</td>\n",
       "      <td>1180</td>\n",
       "      <td>5650</td>\n",
       "      <td>1.0</td>\n",
       "      <td>NaN</td>\n",
       "      <td>0.0</td>\n",
       "      <td>3</td>\n",
       "      <td>7</td>\n",
       "      <td>1180</td>\n",
       "      <td>0.0</td>\n",
       "      <td>1955</td>\n",
       "      <td>0.0</td>\n",
       "      <td>98178</td>\n",
       "      <td>47.5112</td>\n",
       "      <td>-122.257</td>\n",
       "      <td>1340</td>\n",
       "      <td>5650</td>\n",
       "    </tr>\n",
       "    <tr>\n",
       "      <th>6414100192</th>\n",
       "      <td>12/9/2014</td>\n",
       "      <td>538000.0</td>\n",
       "      <td>3</td>\n",
       "      <td>2.25</td>\n",
       "      <td>2570</td>\n",
       "      <td>7242</td>\n",
       "      <td>2.0</td>\n",
       "      <td>0.0</td>\n",
       "      <td>0.0</td>\n",
       "      <td>3</td>\n",
       "      <td>7</td>\n",
       "      <td>2170</td>\n",
       "      <td>400.0</td>\n",
       "      <td>1951</td>\n",
       "      <td>1991.0</td>\n",
       "      <td>98125</td>\n",
       "      <td>47.7210</td>\n",
       "      <td>-122.319</td>\n",
       "      <td>1690</td>\n",
       "      <td>7639</td>\n",
       "    </tr>\n",
       "    <tr>\n",
       "      <th>5631500400</th>\n",
       "      <td>2/25/2015</td>\n",
       "      <td>180000.0</td>\n",
       "      <td>2</td>\n",
       "      <td>1.00</td>\n",
       "      <td>770</td>\n",
       "      <td>10000</td>\n",
       "      <td>1.0</td>\n",
       "      <td>0.0</td>\n",
       "      <td>0.0</td>\n",
       "      <td>3</td>\n",
       "      <td>6</td>\n",
       "      <td>770</td>\n",
       "      <td>0.0</td>\n",
       "      <td>1933</td>\n",
       "      <td>NaN</td>\n",
       "      <td>98028</td>\n",
       "      <td>47.7379</td>\n",
       "      <td>-122.233</td>\n",
       "      <td>2720</td>\n",
       "      <td>8062</td>\n",
       "    </tr>\n",
       "    <tr>\n",
       "      <th>2487200875</th>\n",
       "      <td>12/9/2014</td>\n",
       "      <td>604000.0</td>\n",
       "      <td>4</td>\n",
       "      <td>3.00</td>\n",
       "      <td>1960</td>\n",
       "      <td>5000</td>\n",
       "      <td>1.0</td>\n",
       "      <td>0.0</td>\n",
       "      <td>0.0</td>\n",
       "      <td>5</td>\n",
       "      <td>7</td>\n",
       "      <td>1050</td>\n",
       "      <td>910.0</td>\n",
       "      <td>1965</td>\n",
       "      <td>0.0</td>\n",
       "      <td>98136</td>\n",
       "      <td>47.5208</td>\n",
       "      <td>-122.393</td>\n",
       "      <td>1360</td>\n",
       "      <td>5000</td>\n",
       "    </tr>\n",
       "    <tr>\n",
       "      <th>1954400510</th>\n",
       "      <td>2/18/2015</td>\n",
       "      <td>510000.0</td>\n",
       "      <td>3</td>\n",
       "      <td>2.00</td>\n",
       "      <td>1680</td>\n",
       "      <td>8080</td>\n",
       "      <td>1.0</td>\n",
       "      <td>0.0</td>\n",
       "      <td>0.0</td>\n",
       "      <td>3</td>\n",
       "      <td>8</td>\n",
       "      <td>1680</td>\n",
       "      <td>0.0</td>\n",
       "      <td>1987</td>\n",
       "      <td>0.0</td>\n",
       "      <td>98074</td>\n",
       "      <td>47.6168</td>\n",
       "      <td>-122.045</td>\n",
       "      <td>1800</td>\n",
       "      <td>7503</td>\n",
       "    </tr>\n",
       "  </tbody>\n",
       "</table>\n",
       "</div>"
      ],
      "text/plain": [
       "                  date     price  bedrooms  bathrooms  sqft_living  sqft_lot  \\\n",
       "id                                                                             \n",
       "7129300520  10/13/2014  221900.0         3       1.00         1180      5650   \n",
       "6414100192   12/9/2014  538000.0         3       2.25         2570      7242   \n",
       "5631500400   2/25/2015  180000.0         2       1.00          770     10000   \n",
       "2487200875   12/9/2014  604000.0         4       3.00         1960      5000   \n",
       "1954400510   2/18/2015  510000.0         3       2.00         1680      8080   \n",
       "\n",
       "            floors  waterfront  view  condition  grade  sqft_above  \\\n",
       "id                                                                   \n",
       "7129300520     1.0         NaN   0.0          3      7        1180   \n",
       "6414100192     2.0         0.0   0.0          3      7        2170   \n",
       "5631500400     1.0         0.0   0.0          3      6         770   \n",
       "2487200875     1.0         0.0   0.0          5      7        1050   \n",
       "1954400510     1.0         0.0   0.0          3      8        1680   \n",
       "\n",
       "           sqft_basement  yr_built  yr_renovated  zipcode      lat     long  \\\n",
       "id                                                                            \n",
       "7129300520           0.0      1955           0.0    98178  47.5112 -122.257   \n",
       "6414100192         400.0      1951        1991.0    98125  47.7210 -122.319   \n",
       "5631500400           0.0      1933           NaN    98028  47.7379 -122.233   \n",
       "2487200875         910.0      1965           0.0    98136  47.5208 -122.393   \n",
       "1954400510           0.0      1987           0.0    98074  47.6168 -122.045   \n",
       "\n",
       "            sqft_living15  sqft_lot15  \n",
       "id                                     \n",
       "7129300520           1340        5650  \n",
       "6414100192           1690        7639  \n",
       "5631500400           2720        8062  \n",
       "2487200875           1360        5000  \n",
       "1954400510           1800        7503  "
      ]
     },
     "execution_count": 196,
     "metadata": {},
     "output_type": "execute_result"
    }
   ],
   "source": [
    "# loading the dataset\n",
    "df = pd.read_csv('./data/kc_house_data.csv', index_col='id')\n",
    "df.head()"
   ]
  },
  {
   "cell_type": "code",
   "execution_count": 197,
   "metadata": {},
   "outputs": [
    {
     "name": "stdout",
     "output_type": "stream",
     "text": [
      "<class 'pandas.core.frame.DataFrame'>\n",
      "Int64Index: 21597 entries, 7129300520 to 1523300157\n",
      "Data columns (total 20 columns):\n",
      " #   Column         Non-Null Count  Dtype  \n",
      "---  ------         --------------  -----  \n",
      " 0   date           21597 non-null  object \n",
      " 1   price          21597 non-null  float64\n",
      " 2   bedrooms       21597 non-null  int64  \n",
      " 3   bathrooms      21597 non-null  float64\n",
      " 4   sqft_living    21597 non-null  int64  \n",
      " 5   sqft_lot       21597 non-null  int64  \n",
      " 6   floors         21597 non-null  float64\n",
      " 7   waterfront     19221 non-null  float64\n",
      " 8   view           21534 non-null  float64\n",
      " 9   condition      21597 non-null  int64  \n",
      " 10  grade          21597 non-null  int64  \n",
      " 11  sqft_above     21597 non-null  int64  \n",
      " 12  sqft_basement  21597 non-null  object \n",
      " 13  yr_built       21597 non-null  int64  \n",
      " 14  yr_renovated   17755 non-null  float64\n",
      " 15  zipcode        21597 non-null  int64  \n",
      " 16  lat            21597 non-null  float64\n",
      " 17  long           21597 non-null  float64\n",
      " 18  sqft_living15  21597 non-null  int64  \n",
      " 19  sqft_lot15     21597 non-null  int64  \n",
      "dtypes: float64(8), int64(10), object(2)\n",
      "memory usage: 3.5+ MB\n"
     ]
    }
   ],
   "source": [
    "df.info()"
   ]
  },
  {
   "cell_type": "code",
   "execution_count": 198,
   "metadata": {},
   "outputs": [
    {
     "data": {
      "text/plain": [
       "(21597, 20)"
      ]
     },
     "execution_count": 198,
     "metadata": {},
     "output_type": "execute_result"
    }
   ],
   "source": [
    "original_shape = df.shape \n",
    "original_shape"
   ]
  },
  {
   "cell_type": "markdown",
   "metadata": {},
   "source": [
    "# 2. Data Understanding\n",
    " - Given is a a King County House Sales dataset. Which contains house attributes as well  as their prices. This is suitable for this project as we willl be using these attributes to predict the house prices.\n",
    " - The dataset has a total of 21,597 rows and 21 columns. Meaning 21,597 houses were taken as a sample and 21 of their existing attributes recorded.\n",
    " - Based on the sample given some attributes will sure help show the relationship between them and house prices.\n",
    " - The data also has some irrelevant columns which will be dropped, since they might hinder in creating a good model.\n"
   ]
  },
  {
   "cell_type": "markdown",
   "metadata": {},
   "source": [
    "# 3. Data Preparation"
   ]
  },
  {
   "cell_type": "markdown",
   "metadata": {},
   "source": [
    "The prediction target for this analysis is the proce of houses, hence will separate X and y appropiately"
   ]
  },
  {
   "cell_type": "code",
   "execution_count": 199,
   "metadata": {},
   "outputs": [],
   "source": [
    "X = df.drop('price', axis=1)\n",
    "y = df['price']"
   ]
  },
  {
   "cell_type": "code",
   "execution_count": 200,
   "metadata": {},
   "outputs": [],
   "source": [
    "# splitting the data into a train and test sets, prior beforming any preprocesssing steps\n",
    "X_train, X_test, y_train, y_test = train_test_split(X, y, random_state=50)"
   ]
  },
  {
   "cell_type": "code",
   "execution_count": 201,
   "metadata": {},
   "outputs": [
    {
     "name": "stdout",
     "output_type": "stream",
     "text": [
      "X_train is a dataframe with 16197 records and 19 attributes\n",
      "y_train is a series with 16197 values\n",
      "\n",
      "X_test has 5400 records\n",
      "y_test has 5400 records\n"
     ]
    }
   ],
   "source": [
    "print(f\"X_train is a dataframe with {X_train.shape[0]} records and {X_train.shape[1]} attributes\")\n",
    "print(f\"y_train is a series with {y_train.shape[0]} values\")\n",
    "print()\n",
    "print(f\"X_test has {X_test.shape[0]} records\")\n",
    "print(f\"y_test has {y_test.shape[0]} records\")"
   ]
  },
  {
   "cell_type": "markdown",
   "metadata": {},
   "source": [
    "## Data Cleaning"
   ]
  },
  {
   "cell_type": "markdown",
   "metadata": {},
   "source": [
    "### Functions to help with data Cleaning"
   ]
  },
  {
   "cell_type": "code",
   "execution_count": 202,
   "metadata": {},
   "outputs": [],
   "source": [
    "# function to concate a set with its target variable\n",
    "def concater(X, y):\n",
    "    result = pd.concat([y, X], axis = 1)\n",
    "    return result"
   ]
  },
  {
   "cell_type": "code",
   "execution_count": 203,
   "metadata": {},
   "outputs": [],
   "source": [
    "# function to split concated set with its target variable and convert to floors and waterfront to integers\n",
    "def set_splitter(dataset):\n",
    "    X = dataset.drop('price', axis=1)\n",
    "    y = dataset.price\n",
    "    \n",
    "    return X, y"
   ]
  },
  {
   "cell_type": "markdown",
   "metadata": {},
   "source": [
    "## Handling with duplicated values"
   ]
  },
  {
   "cell_type": "code",
   "execution_count": 204,
   "metadata": {},
   "outputs": [],
   "source": [
    "# concating the training set\n",
    "concated_train = concater(X_train, y_train)"
   ]
  },
  {
   "cell_type": "code",
   "execution_count": 205,
   "metadata": {},
   "outputs": [
    {
     "data": {
      "text/plain": [
       "False"
      ]
     },
     "execution_count": 205,
     "metadata": {},
     "output_type": "execute_result"
    }
   ],
   "source": [
    "concated_train.duplicated().any()"
   ]
  },
  {
   "cell_type": "markdown",
   "metadata": {},
   "source": [
    "## Handling with duplicated Values"
   ]
  },
  {
   "cell_type": "markdown",
   "metadata": {},
   "source": [
    "Checking for null values in the train set"
   ]
  },
  {
   "cell_type": "code",
   "execution_count": 206,
   "metadata": {},
   "outputs": [
    {
     "data": {
      "text/plain": [
       "price               0\n",
       "date                0\n",
       "bedrooms            0\n",
       "bathrooms           0\n",
       "sqft_living         0\n",
       "sqft_lot            0\n",
       "floors              0\n",
       "waterfront       1788\n",
       "view               47\n",
       "condition           0\n",
       "grade               0\n",
       "sqft_above          0\n",
       "sqft_basement       0\n",
       "yr_built            0\n",
       "yr_renovated     2885\n",
       "zipcode             0\n",
       "lat                 0\n",
       "long                0\n",
       "sqft_living15       0\n",
       "sqft_lot15          0\n",
       "dtype: int64"
      ]
     },
     "execution_count": 206,
     "metadata": {},
     "output_type": "execute_result"
    }
   ],
   "source": [
    "# Concating X_train and y_train\n",
    "concated_train.isna().sum()"
   ]
  },
  {
   "cell_type": "markdown",
   "metadata": {},
   "source": [
    "## Handling Mising Values"
   ]
  },
  {
   "cell_type": "markdown",
   "metadata": {},
   "source": [
    "### Dealing with yr_renovated null values"
   ]
  },
  {
   "cell_type": "code",
   "execution_count": 207,
   "metadata": {},
   "outputs": [
    {
     "data": {
      "text/plain": [
       "0.0       12750\n",
       "2014.0       52\n",
       "2003.0       24\n",
       "2005.0       23\n",
       "2000.0       23\n",
       "          ...  \n",
       "1959.0        1\n",
       "1945.0        1\n",
       "1944.0        1\n",
       "1948.0        1\n",
       "1953.0        1\n",
       "Name: yr_renovated, Length: 65, dtype: int64"
      ]
     },
     "execution_count": 207,
     "metadata": {},
     "output_type": "execute_result"
    }
   ],
   "source": [
    "# Checking for the values in thr yr_renovated column\n",
    "concated_train['yr_renovated'].value_counts()"
   ]
  },
  {
   "cell_type": "markdown",
   "metadata": {},
   "source": [
    "#### For yr_renovated I will use SimpleImputer to help deal with the null values"
   ]
  },
  {
   "cell_type": "code",
   "execution_count": 208,
   "metadata": {},
   "outputs": [],
   "source": [
    "#  function for dealing with null values in a given set based on the yr_renovated column\n",
    "def yr_renovated(concated_set):\n",
    "    # creating a dataframe which contains the yr_renovated columns\n",
    "    # NB: The houses without renavations have been filtered out\n",
    "    year_renovated = concated_set[concated_set['yr_renovated'] != 0][['yr_renovated']]\n",
    "\n",
    "    # using simpleImputer to deal with the null values in the yr_renovated column\n",
    "    imput = SimpleImputer(missing_values=np.nan, strategy='median')\n",
    "    imput.fit(year_renovated)\n",
    "    new_year_renovated = imput.transform(year_renovated).flatten()\n",
    "    year_renovated['yr_renovated'] = new_year_renovated\n",
    "\n",
    "    condition = (\n",
    "        concated_set.yr_renovated != 0 &\n",
    "        concated_set.yr_renovated.isna()\n",
    "    )\n",
    "\n",
    "    # reassing the variables to the yr_renovated column strictly with columns whose values are not in the 0\n",
    "    concated_set.loc[condition, 'yr_renovated'] = year_renovated\n",
    "\n",
    "    return concated_set"
   ]
  },
  {
   "cell_type": "code",
   "execution_count": 209,
   "metadata": {},
   "outputs": [
    {
     "data": {
      "text/plain": [
       "price               0\n",
       "date                0\n",
       "bedrooms            0\n",
       "bathrooms           0\n",
       "sqft_living         0\n",
       "sqft_lot            0\n",
       "floors              0\n",
       "waterfront       1788\n",
       "view               47\n",
       "condition           0\n",
       "grade               0\n",
       "sqft_above          0\n",
       "sqft_basement       0\n",
       "yr_built            0\n",
       "yr_renovated        0\n",
       "zipcode             0\n",
       "lat                 0\n",
       "long                0\n",
       "sqft_living15       0\n",
       "sqft_lot15          0\n",
       "dtype: int64"
      ]
     },
     "execution_count": 209,
     "metadata": {},
     "output_type": "execute_result"
    }
   ],
   "source": [
    "# dealing with null values in the concated_train set\n",
    "concated_train = yr_renovated(concated_train)\n",
    "concated_train.isna().sum()"
   ]
  },
  {
   "cell_type": "markdown",
   "metadata": {},
   "source": [
    "### Dealing with null values in the view column"
   ]
  },
  {
   "cell_type": "code",
   "execution_count": 210,
   "metadata": {},
   "outputs": [
    {
     "data": {
      "text/plain": [
       "0.0    14585\n",
       "2.0      718\n",
       "3.0      356\n",
       "4.0      246\n",
       "1.0      245\n",
       "Name: view, dtype: int64"
      ]
     },
     "execution_count": 210,
     "metadata": {},
     "output_type": "execute_result"
    }
   ],
   "source": [
    "# checking for the unique values in the column and their occurence\n",
    "concated_train.view.value_counts()"
   ]
  },
  {
   "cell_type": "code",
   "execution_count": 211,
   "metadata": {},
   "outputs": [],
   "source": [
    "#  function for dealing with null values in a given set based on the view column\n",
    "def view(concated_set):\n",
    "    # creating a dataframe which contains the view columns\n",
    "    view = concated_set[['view']]\n",
    "\n",
    "    # using simpleImputer to deal with the null values in the view column\n",
    "    imput = SimpleImputer(missing_values=np.nan, strategy='median')\n",
    "    imput.fit(view)\n",
    "    new_view = imput.transform(view).flatten()\n",
    "    view.view = new_view\n",
    "\n",
    "    # condition = (concated_set.view.isna())\n",
    "\n",
    "    # reassing the variables to the view column strictly with columns whose values are not in the 0\n",
    "    concated_set.view = view\n",
    "\n",
    "    return concated_set"
   ]
  },
  {
   "cell_type": "code",
   "execution_count": 212,
   "metadata": {},
   "outputs": [
    {
     "name": "stderr",
     "output_type": "stream",
     "text": [
      "/tmp/ipykernel_54934/3432681625.py:10: SettingWithCopyWarning: \n",
      "A value is trying to be set on a copy of a slice from a DataFrame.\n",
      "Try using .loc[row_indexer,col_indexer] = value instead\n",
      "\n",
      "See the caveats in the documentation: https://pandas.pydata.org/pandas-docs/stable/user_guide/indexing.html#returning-a-view-versus-a-copy\n",
      "  view.view = new_view\n"
     ]
    },
    {
     "data": {
      "text/plain": [
       "price               0\n",
       "date                0\n",
       "bedrooms            0\n",
       "bathrooms           0\n",
       "sqft_living         0\n",
       "sqft_lot            0\n",
       "floors              0\n",
       "waterfront       1788\n",
       "view                0\n",
       "condition           0\n",
       "grade               0\n",
       "sqft_above          0\n",
       "sqft_basement       0\n",
       "yr_built            0\n",
       "yr_renovated        0\n",
       "zipcode             0\n",
       "lat                 0\n",
       "long                0\n",
       "sqft_living15       0\n",
       "sqft_lot15          0\n",
       "dtype: int64"
      ]
     },
     "execution_count": 212,
     "metadata": {},
     "output_type": "execute_result"
    }
   ],
   "source": [
    "concated_train = view(concated_train)\n",
    "concated_train.isna().sum()"
   ]
  },
  {
   "cell_type": "markdown",
   "metadata": {},
   "source": [
    "### Dealing with null values in the waterfront column"
   ]
  },
  {
   "cell_type": "code",
   "execution_count": 213,
   "metadata": {},
   "outputs": [
    {
     "data": {
      "text/plain": [
       "0.0    14297\n",
       "1.0      112\n",
       "Name: waterfront, dtype: int64"
      ]
     },
     "execution_count": 213,
     "metadata": {},
     "output_type": "execute_result"
    }
   ],
   "source": [
    "concated_train.waterfront.value_counts()"
   ]
  },
  {
   "cell_type": "code",
   "execution_count": 214,
   "metadata": {},
   "outputs": [],
   "source": [
    "#  function for dealing with null values in a given set based on the waterfront column\n",
    "def waterfront(concated_set):\n",
    "    # creating a dataframe which contains the waterfront columns\n",
    "    waterfront = concated_set[['waterfront']]\n",
    "\n",
    "    # using simpleImputer to deal with the null values in the waterfront column\n",
    "    imput = SimpleImputer(missing_values=np.nan, strategy='median')\n",
    "    imput.fit(waterfront)\n",
    "    new_waterfront = imput.transform(waterfront).flatten()\n",
    "    waterfront.waterfront = new_waterfront\n",
    "\n",
    "\n",
    "    # reassing the variables to the waterfront column strictly with columns whose values are not in the 0\n",
    "    concated_set.waterfront = waterfront\n",
    "\n",
    "    return concated_set"
   ]
  },
  {
   "cell_type": "code",
   "execution_count": 215,
   "metadata": {},
   "outputs": [
    {
     "name": "stderr",
     "output_type": "stream",
     "text": [
      "/tmp/ipykernel_54934/598743563.py:10: SettingWithCopyWarning: \n",
      "A value is trying to be set on a copy of a slice from a DataFrame.\n",
      "Try using .loc[row_indexer,col_indexer] = value instead\n",
      "\n",
      "See the caveats in the documentation: https://pandas.pydata.org/pandas-docs/stable/user_guide/indexing.html#returning-a-view-versus-a-copy\n",
      "  waterfront.waterfront = new_waterfront\n"
     ]
    },
    {
     "data": {
      "text/plain": [
       "price            0\n",
       "date             0\n",
       "bedrooms         0\n",
       "bathrooms        0\n",
       "sqft_living      0\n",
       "sqft_lot         0\n",
       "floors           0\n",
       "waterfront       0\n",
       "view             0\n",
       "condition        0\n",
       "grade            0\n",
       "sqft_above       0\n",
       "sqft_basement    0\n",
       "yr_built         0\n",
       "yr_renovated     0\n",
       "zipcode          0\n",
       "lat              0\n",
       "long             0\n",
       "sqft_living15    0\n",
       "sqft_lot15       0\n",
       "dtype: int64"
      ]
     },
     "execution_count": 215,
     "metadata": {},
     "output_type": "execute_result"
    }
   ],
   "source": [
    "concated_train = waterfront(concated_train)\n",
    "concated_train.isna().sum()"
   ]
  },
  {
   "cell_type": "code",
   "execution_count": 216,
   "metadata": {},
   "outputs": [
    {
     "name": "stdout",
     "output_type": "stream",
     "text": [
      "The train set now has 16197 records\n"
     ]
    }
   ],
   "source": [
    "print(f\"The train set now has {concated_train.shape[0]} records\")"
   ]
  },
  {
   "cell_type": "code",
   "execution_count": 217,
   "metadata": {},
   "outputs": [],
   "source": [
    "# Full function for the data cleaning\n",
    "def data_cleaning(X, y):\n",
    "    concated_set = concater(X, y)\n",
    "    concated_set = yr_renovated(concated_set)\n",
    "    concated_set = view(concated_set)\n",
    "    concated_set = waterfront(concated_set)\n",
    "\n",
    "    return concated_set"
   ]
  },
  {
   "cell_type": "markdown",
   "metadata": {},
   "source": [
    "## Dealing with datatypes"
   ]
  },
  {
   "cell_type": "code",
   "execution_count": 218,
   "metadata": {},
   "outputs": [
    {
     "name": "stdout",
     "output_type": "stream",
     "text": [
      "<class 'pandas.core.frame.DataFrame'>\n",
      "Int64Index: 16197 entries, 4139480190 to 1336800880\n",
      "Data columns (total 20 columns):\n",
      " #   Column         Non-Null Count  Dtype  \n",
      "---  ------         --------------  -----  \n",
      " 0   price          16197 non-null  float64\n",
      " 1   date           16197 non-null  object \n",
      " 2   bedrooms       16197 non-null  int64  \n",
      " 3   bathrooms      16197 non-null  float64\n",
      " 4   sqft_living    16197 non-null  int64  \n",
      " 5   sqft_lot       16197 non-null  int64  \n",
      " 6   floors         16197 non-null  float64\n",
      " 7   waterfront     16197 non-null  float64\n",
      " 8   view           16197 non-null  float64\n",
      " 9   condition      16197 non-null  int64  \n",
      " 10  grade          16197 non-null  int64  \n",
      " 11  sqft_above     16197 non-null  int64  \n",
      " 12  sqft_basement  16197 non-null  object \n",
      " 13  yr_built       16197 non-null  int64  \n",
      " 14  yr_renovated   16197 non-null  float64\n",
      " 15  zipcode        16197 non-null  int64  \n",
      " 16  lat            16197 non-null  float64\n",
      " 17  long           16197 non-null  float64\n",
      " 18  sqft_living15  16197 non-null  int64  \n",
      " 19  sqft_lot15     16197 non-null  int64  \n",
      "dtypes: float64(8), int64(10), object(2)\n",
      "memory usage: 2.6+ MB\n"
     ]
    }
   ],
   "source": [
    "concated_train.info()"
   ]
  },
  {
   "cell_type": "markdown",
   "metadata": {},
   "source": [
    "The function below will help with dealing of datatypes by drop irrelevant columns that is the sqft_living15 & sqft_lot15 columns."
   ]
  },
  {
   "cell_type": "code",
   "execution_count": 219,
   "metadata": {},
   "outputs": [
    {
     "name": "stdout",
     "output_type": "stream",
     "text": [
      "<class 'pandas.core.frame.DataFrame'>\n",
      "Int64Index: 16197 entries, 4139480190 to 1336800880\n",
      "Data columns (total 16 columns):\n",
      " #   Column         Non-Null Count  Dtype  \n",
      "---  ------         --------------  -----  \n",
      " 0   price          16197 non-null  float64\n",
      " 1   bedrooms       16197 non-null  int64  \n",
      " 2   bathrooms      16197 non-null  float64\n",
      " 3   sqft_living    16197 non-null  int64  \n",
      " 4   sqft_lot       16197 non-null  int64  \n",
      " 5   floors         16197 non-null  float64\n",
      " 6   waterfront     16197 non-null  float64\n",
      " 7   view           16197 non-null  float64\n",
      " 8   condition      16197 non-null  int64  \n",
      " 9   grade          16197 non-null  int64  \n",
      " 10  sqft_above     16197 non-null  int64  \n",
      " 11  sqft_basement  16197 non-null  object \n",
      " 12  yr_built       16197 non-null  int64  \n",
      " 13  yr_renovated   16197 non-null  float64\n",
      " 14  lat            16197 non-null  float64\n",
      " 15  long           16197 non-null  float64\n",
      "dtypes: float64(8), int64(7), object(1)\n",
      "memory usage: 2.1+ MB\n"
     ]
    }
   ],
   "source": [
    "def cleaner(concated_set):\n",
    "    concated_set = concated_set.drop(['date','zipcode','sqft_living15','sqft_lot15'], axis=1)\n",
    "    concated_set.bathrooms = round((concated_set.bathrooms * concated_set.bedrooms),0)\n",
    "    return concated_set\n",
    "\n",
    "concated_train = cleaner(concated_train)\n",
    "concated_train.info()"
   ]
  },
  {
   "cell_type": "markdown",
   "metadata": {},
   "source": [
    "Invstigating the sqft_basement column"
   ]
  },
  {
   "cell_type": "markdown",
   "metadata": {},
   "source": [
    "The sqft_basement has a string in some of its records this will hinder the data modelling process hence I will filter the records containing the '?' string out."
   ]
  },
  {
   "cell_type": "code",
   "execution_count": 220,
   "metadata": {},
   "outputs": [
    {
     "name": "stdout",
     "output_type": "stream",
     "text": [
      "<class 'pandas.core.frame.DataFrame'>\n",
      "Int64Index: 15850 entries, 4139480190 to 1336800880\n",
      "Data columns (total 16 columns):\n",
      " #   Column         Non-Null Count  Dtype  \n",
      "---  ------         --------------  -----  \n",
      " 0   price          15850 non-null  float64\n",
      " 1   bedrooms       15850 non-null  int64  \n",
      " 2   bathrooms      15850 non-null  float64\n",
      " 3   sqft_living    15850 non-null  int64  \n",
      " 4   sqft_lot       15850 non-null  int64  \n",
      " 5   floors         15850 non-null  float64\n",
      " 6   waterfront     15850 non-null  float64\n",
      " 7   view           15850 non-null  float64\n",
      " 8   condition      15850 non-null  int64  \n",
      " 9   grade          15850 non-null  int64  \n",
      " 10  sqft_above     15850 non-null  int64  \n",
      " 11  sqft_basement  15850 non-null  float64\n",
      " 12  yr_built       15850 non-null  int64  \n",
      " 13  yr_renovated   15850 non-null  float64\n",
      " 14  lat            15850 non-null  float64\n",
      " 15  long           15850 non-null  float64\n",
      "dtypes: float64(9), int64(7)\n",
      "memory usage: 2.1 MB\n"
     ]
    },
    {
     "name": "stderr",
     "output_type": "stream",
     "text": [
      "/tmp/ipykernel_54934/99383065.py:6: SettingWithCopyWarning: \n",
      "A value is trying to be set on a copy of a slice from a DataFrame.\n",
      "Try using .loc[row_indexer,col_indexer] = value instead\n",
      "\n",
      "See the caveats in the documentation: https://pandas.pydata.org/pandas-docs/stable/user_guide/indexing.html#returning-a-view-versus-a-copy\n",
      "  concated_set['sqft_basement'] = pd.to_numeric(concated_set['sqft_basement'])\n"
     ]
    }
   ],
   "source": [
    "# The records containing ? could be that their sqft_basement is unknown\n",
    "# Function to filter out the strings from the sqft_basement column\n",
    "# The function will also change the column's columns data type to an int\n",
    "def sqft_basement(concated_set):\n",
    "    concated_set = concated_set[ (concated_set['sqft_basement'] != '?') ]\n",
    "    concated_set['sqft_basement'] = pd.to_numeric(concated_set['sqft_basement'])\n",
    "    return concated_set\n",
    "\n",
    "concated_train = sqft_basement(concated_train)\n",
    "concated_train.info()"
   ]
  },
  {
   "cell_type": "markdown",
   "metadata": {},
   "source": [
    "## A histogram showing the distribution of the target variable (house price)"
   ]
  },
  {
   "cell_type": "code",
   "execution_count": 221,
   "metadata": {},
   "outputs": [
    {
     "data": {
      "text/plain": [
       "Text(0.5, 1.0, 'Distribution of house prices')"
      ]
     },
     "execution_count": 221,
     "metadata": {},
     "output_type": "execute_result"
    },
    {
     "data": {
      "image/png": "[encoded data removed]",
      "text/plain": [
       "<Figure size 1368x648 with 1 Axes>"
      ]
     },
     "metadata": {
      "needs_background": "light"
     },
     "output_type": "display_data"
    }
   ],
   "source": [
    "fig, ax = plt.subplots(figsize=(19,9))\n",
    "\n",
    "ax.hist(concated_train.price, bins=200)\n",
    "\n",
    "\n",
    "ax.set_xlabel('Listing house prices')\n",
    "ax.set_ylabel('Count of house sells')\n",
    "ax.set_title('Distribution of house prices')"
   ]
  },
  {
   "cell_type": "code",
   "execution_count": 222,
   "metadata": {},
   "outputs": [
    {
     "data": {
      "text/html": [
       "<div>\n",
       "<style scoped>\n",
       "    .dataframe tbody tr th:only-of-type {\n",
       "        vertical-align: middle;\n",
       "    }\n",
       "\n",
       "    .dataframe tbody tr th {\n",
       "        vertical-align: top;\n",
       "    }\n",
       "\n",
       "    .dataframe thead th {\n",
       "        text-align: right;\n",
       "    }\n",
       "</style>\n",
       "<table border=\"1\" class=\"dataframe\">\n",
       "  <thead>\n",
       "    <tr style=\"text-align: right;\">\n",
       "      <th></th>\n",
       "      <th>price</th>\n",
       "      <th>bedrooms</th>\n",
       "      <th>bathrooms</th>\n",
       "      <th>sqft_living</th>\n",
       "      <th>sqft_lot</th>\n",
       "      <th>floors</th>\n",
       "      <th>waterfront</th>\n",
       "      <th>view</th>\n",
       "      <th>condition</th>\n",
       "      <th>grade</th>\n",
       "      <th>sqft_above</th>\n",
       "      <th>sqft_basement</th>\n",
       "      <th>yr_built</th>\n",
       "      <th>yr_renovated</th>\n",
       "      <th>lat</th>\n",
       "      <th>long</th>\n",
       "    </tr>\n",
       "  </thead>\n",
       "  <tbody>\n",
       "    <tr>\n",
       "      <th>count</th>\n",
       "      <td>1.585000e+04</td>\n",
       "      <td>15850.000000</td>\n",
       "      <td>15850.000000</td>\n",
       "      <td>15850.000000</td>\n",
       "      <td>1.585000e+04</td>\n",
       "      <td>15850.000000</td>\n",
       "      <td>15850.000000</td>\n",
       "      <td>15850.000000</td>\n",
       "      <td>15850.000000</td>\n",
       "      <td>15850.000000</td>\n",
       "      <td>15850.000000</td>\n",
       "      <td>15850.000000</td>\n",
       "      <td>15850.000000</td>\n",
       "      <td>15850.000000</td>\n",
       "      <td>15850.000000</td>\n",
       "      <td>15850.000000</td>\n",
       "    </tr>\n",
       "    <tr>\n",
       "      <th>mean</th>\n",
       "      <td>5.417747e+05</td>\n",
       "      <td>3.374069</td>\n",
       "      <td>7.529842</td>\n",
       "      <td>2082.674890</td>\n",
       "      <td>1.504003e+04</td>\n",
       "      <td>1.493470</td>\n",
       "      <td>0.006877</td>\n",
       "      <td>0.230410</td>\n",
       "      <td>3.410978</td>\n",
       "      <td>7.664732</td>\n",
       "      <td>1793.459874</td>\n",
       "      <td>289.215016</td>\n",
       "      <td>1970.980757</td>\n",
       "      <td>424.104227</td>\n",
       "      <td>47.560370</td>\n",
       "      <td>-122.213879</td>\n",
       "    </tr>\n",
       "    <tr>\n",
       "      <th>std</th>\n",
       "      <td>3.680227e+05</td>\n",
       "      <td>0.920293</td>\n",
       "      <td>4.204775</td>\n",
       "      <td>921.270864</td>\n",
       "      <td>3.914038e+04</td>\n",
       "      <td>0.537247</td>\n",
       "      <td>0.082644</td>\n",
       "      <td>0.761997</td>\n",
       "      <td>0.650615</td>\n",
       "      <td>1.176418</td>\n",
       "      <td>831.778252</td>\n",
       "      <td>441.090699</td>\n",
       "      <td>29.283014</td>\n",
       "      <td>817.403484</td>\n",
       "      <td>0.138689</td>\n",
       "      <td>0.139895</td>\n",
       "    </tr>\n",
       "    <tr>\n",
       "      <th>min</th>\n",
       "      <td>8.100000e+04</td>\n",
       "      <td>1.000000</td>\n",
       "      <td>0.000000</td>\n",
       "      <td>370.000000</td>\n",
       "      <td>5.200000e+02</td>\n",
       "      <td>1.000000</td>\n",
       "      <td>0.000000</td>\n",
       "      <td>0.000000</td>\n",
       "      <td>1.000000</td>\n",
       "      <td>3.000000</td>\n",
       "      <td>370.000000</td>\n",
       "      <td>0.000000</td>\n",
       "      <td>1900.000000</td>\n",
       "      <td>0.000000</td>\n",
       "      <td>47.155900</td>\n",
       "      <td>-122.519000</td>\n",
       "    </tr>\n",
       "    <tr>\n",
       "      <th>25%</th>\n",
       "      <td>3.220000e+05</td>\n",
       "      <td>3.000000</td>\n",
       "      <td>4.000000</td>\n",
       "      <td>1420.000000</td>\n",
       "      <td>5.043000e+03</td>\n",
       "      <td>1.000000</td>\n",
       "      <td>0.000000</td>\n",
       "      <td>0.000000</td>\n",
       "      <td>3.000000</td>\n",
       "      <td>7.000000</td>\n",
       "      <td>1200.000000</td>\n",
       "      <td>0.000000</td>\n",
       "      <td>1952.000000</td>\n",
       "      <td>0.000000</td>\n",
       "      <td>47.470300</td>\n",
       "      <td>-122.327000</td>\n",
       "    </tr>\n",
       "    <tr>\n",
       "      <th>50%</th>\n",
       "      <td>4.500000e+05</td>\n",
       "      <td>3.000000</td>\n",
       "      <td>7.000000</td>\n",
       "      <td>1910.000000</td>\n",
       "      <td>7.646000e+03</td>\n",
       "      <td>1.500000</td>\n",
       "      <td>0.000000</td>\n",
       "      <td>0.000000</td>\n",
       "      <td>3.000000</td>\n",
       "      <td>7.000000</td>\n",
       "      <td>1560.000000</td>\n",
       "      <td>0.000000</td>\n",
       "      <td>1975.000000</td>\n",
       "      <td>0.000000</td>\n",
       "      <td>47.572400</td>\n",
       "      <td>-122.229500</td>\n",
       "    </tr>\n",
       "    <tr>\n",
       "      <th>75%</th>\n",
       "      <td>6.450000e+05</td>\n",
       "      <td>4.000000</td>\n",
       "      <td>10.000000</td>\n",
       "      <td>2550.000000</td>\n",
       "      <td>1.064750e+04</td>\n",
       "      <td>2.000000</td>\n",
       "      <td>0.000000</td>\n",
       "      <td>0.000000</td>\n",
       "      <td>4.000000</td>\n",
       "      <td>8.000000</td>\n",
       "      <td>2220.000000</td>\n",
       "      <td>550.000000</td>\n",
       "      <td>1996.000000</td>\n",
       "      <td>0.000000</td>\n",
       "      <td>47.678175</td>\n",
       "      <td>-122.124000</td>\n",
       "    </tr>\n",
       "    <tr>\n",
       "      <th>max</th>\n",
       "      <td>7.060000e+06</td>\n",
       "      <td>33.000000</td>\n",
       "      <td>68.000000</td>\n",
       "      <td>13540.000000</td>\n",
       "      <td>1.164794e+06</td>\n",
       "      <td>3.500000</td>\n",
       "      <td>1.000000</td>\n",
       "      <td>4.000000</td>\n",
       "      <td>5.000000</td>\n",
       "      <td>13.000000</td>\n",
       "      <td>9410.000000</td>\n",
       "      <td>4820.000000</td>\n",
       "      <td>2015.000000</td>\n",
       "      <td>2015.000000</td>\n",
       "      <td>47.777600</td>\n",
       "      <td>-121.316000</td>\n",
       "    </tr>\n",
       "  </tbody>\n",
       "</table>\n",
       "</div>"
      ],
      "text/plain": [
       "              price      bedrooms     bathrooms   sqft_living      sqft_lot  \\\n",
       "count  1.585000e+04  15850.000000  15850.000000  15850.000000  1.585000e+04   \n",
       "mean   5.417747e+05      3.374069      7.529842   2082.674890  1.504003e+04   \n",
       "std    3.680227e+05      0.920293      4.204775    921.270864  3.914038e+04   \n",
       "min    8.100000e+04      1.000000      0.000000    370.000000  5.200000e+02   \n",
       "25%    3.220000e+05      3.000000      4.000000   1420.000000  5.043000e+03   \n",
       "50%    4.500000e+05      3.000000      7.000000   1910.000000  7.646000e+03   \n",
       "75%    6.450000e+05      4.000000     10.000000   2550.000000  1.064750e+04   \n",
       "max    7.060000e+06     33.000000     68.000000  13540.000000  1.164794e+06   \n",
       "\n",
       "             floors    waterfront          view     condition         grade  \\\n",
       "count  15850.000000  15850.000000  15850.000000  15850.000000  15850.000000   \n",
       "mean       1.493470      0.006877      0.230410      3.410978      7.664732   \n",
       "std        0.537247      0.082644      0.761997      0.650615      1.176418   \n",
       "min        1.000000      0.000000      0.000000      1.000000      3.000000   \n",
       "25%        1.000000      0.000000      0.000000      3.000000      7.000000   \n",
       "50%        1.500000      0.000000      0.000000      3.000000      7.000000   \n",
       "75%        2.000000      0.000000      0.000000      4.000000      8.000000   \n",
       "max        3.500000      1.000000      4.000000      5.000000     13.000000   \n",
       "\n",
       "         sqft_above  sqft_basement      yr_built  yr_renovated           lat  \\\n",
       "count  15850.000000   15850.000000  15850.000000  15850.000000  15850.000000   \n",
       "mean    1793.459874     289.215016   1970.980757    424.104227     47.560370   \n",
       "std      831.778252     441.090699     29.283014    817.403484      0.138689   \n",
       "min      370.000000       0.000000   1900.000000      0.000000     47.155900   \n",
       "25%     1200.000000       0.000000   1952.000000      0.000000     47.470300   \n",
       "50%     1560.000000       0.000000   1975.000000      0.000000     47.572400   \n",
       "75%     2220.000000     550.000000   1996.000000      0.000000     47.678175   \n",
       "max     9410.000000    4820.000000   2015.000000   2015.000000     47.777600   \n",
       "\n",
       "               long  \n",
       "count  15850.000000  \n",
       "mean    -122.213879  \n",
       "std        0.139895  \n",
       "min     -122.519000  \n",
       "25%     -122.327000  \n",
       "50%     -122.229500  \n",
       "75%     -122.124000  \n",
       "max     -121.316000  "
      ]
     },
     "execution_count": 222,
     "metadata": {},
     "output_type": "execute_result"
    }
   ],
   "source": [
    "concated_train.describe()"
   ]
  },
  {
   "cell_type": "code",
   "execution_count": 223,
   "metadata": {},
   "outputs": [],
   "source": [
    "# function to check for outliers\n",
    "def outliers(concated_set):\n",
    "    outliers = {}\n",
    "    # columns = ['price','sqft_living','sqft_lot','sqft_above']\n",
    "    columns = ['price']\n",
    "\n",
    "    for column in columns:\n",
    "        quantile1, quantile2 = concated_set[column].quantile([0.001,0.75])\n",
    "        outliers[column] = []\n",
    "\n",
    "        for i in concated_set[column]:\n",
    "            if (i < quantile1) | (i > quantile2):\n",
    "                outliers[column].append(i)\n",
    "\n",
    "\n",
    "    return outliers\n"
   ]
  },
  {
   "cell_type": "code",
   "execution_count": 224,
   "metadata": {},
   "outputs": [],
   "source": [
    "concated_train_ouliers = outliers(concated_train)"
   ]
  },
  {
   "cell_type": "code",
   "execution_count": 225,
   "metadata": {},
   "outputs": [
    {
     "data": {
      "text/plain": [
       "{'price': [1150000.0,\n",
       "  1050000.0,\n",
       "  837219.0,\n",
       "  1300000.0,\n",
       "  700000.0,\n",
       "  674600.0,\n",
       "  2130000.0,\n",
       "  799000.0,\n",
       "  799000.0,\n",
       "  715000.0,\n",
       "  739375.0,\n",
       "  875000.0,\n",
       "  1120000.0,\n",
       "  1230000.0,\n",
       "  661000.0,\n",
       "  799950.0,\n",
       "  695000.0,\n",
       "  845000.0,\n",
       "  660000.0,\n",
       "  1210000.0,\n",
       "  680000.0,\n",
       "  855000.0,\n",
       "  810000.0,\n",
       "  690000.0,\n",
       "  655000.0,\n",
       "  751000.0,\n",
       "  2140000.0,\n",
       "  650000.0,\n",
       "  865000.0,\n",
       "  727000.0,\n",
       "  937000.0,\n",
       "  646000.0,\n",
       "  830000.0,\n",
       "  925000.0,\n",
       "  965000.0,\n",
       "  785000.0,\n",
       "  750000.0,\n",
       "  1520000.0,\n",
       "  1540000.0,\n",
       "  1250000.0,\n",
       "  825000.0,\n",
       "  770000.0,\n",
       "  805000.0,\n",
       "  1060000.0,\n",
       "  700000.0,\n",
       "  990000.0,\n",
       "  1290000.0,\n",
       "  1070000.0,\n",
       "  850000.0,\n",
       "  846000.0,\n",
       "  1080000.0,\n",
       "  700000.0,\n",
       "  1190000.0,\n",
       "  770000.0,\n",
       "  748000.0,\n",
       "  1220000.0,\n",
       "  929000.0,\n",
       "  950000.0,\n",
       "  1100000.0,\n",
       "  999950.0,\n",
       "  980000.0,\n",
       "  725000.0,\n",
       "  1080000.0,\n",
       "  840000.0,\n",
       "  680000.0,\n",
       "  1230000.0,\n",
       "  817250.0,\n",
       "  700000.0,\n",
       "  1350000.0,\n",
       "  840000.0,\n",
       "  835000.0,\n",
       "  1200000.0,\n",
       "  1010000.0,\n",
       "  756100.0,\n",
       "  975000.0,\n",
       "  931000.0,\n",
       "  889000.0,\n",
       "  1550000.0,\n",
       "  939000.0,\n",
       "  2190000.0,\n",
       "  989900.0,\n",
       "  788000.0,\n",
       "  1450000.0,\n",
       "  822500.0,\n",
       "  689000.0,\n",
       "  650000.0,\n",
       "  665000.0,\n",
       "  653000.0,\n",
       "  840000.0,\n",
       "  647500.0,\n",
       "  1100000.0,\n",
       "  700000.0,\n",
       "  687500.0,\n",
       "  980000.0,\n",
       "  814950.0,\n",
       "  1100000.0,\n",
       "  770000.0,\n",
       "  950000.0,\n",
       "  994900.0,\n",
       "  689888.0,\n",
       "  2200000.0,\n",
       "  942990.0,\n",
       "  910000.0,\n",
       "  778000.0,\n",
       "  667500.0,\n",
       "  692500.0,\n",
       "  1080000.0,\n",
       "  654000.0,\n",
       "  2150000.0,\n",
       "  802000.0,\n",
       "  680000.0,\n",
       "  659950.0,\n",
       "  900000.0,\n",
       "  775000.0,\n",
       "  1500000.0,\n",
       "  775000.0,\n",
       "  970000.0,\n",
       "  687500.0,\n",
       "  1030000.0,\n",
       "  719950.0,\n",
       "  778100.0,\n",
       "  710000.0,\n",
       "  1180000.0,\n",
       "  2000000.0,\n",
       "  1420000.0,\n",
       "  755000.0,\n",
       "  908800.0,\n",
       "  729953.0,\n",
       "  757500.0,\n",
       "  1070000.0,\n",
       "  790000.0,\n",
       "  687500.0,\n",
       "  1100000.0,\n",
       "  680000.0,\n",
       "  2540000.0,\n",
       "  2600000.0,\n",
       "  775000.0,\n",
       "  885000.0,\n",
       "  1440000.0,\n",
       "  780000.0,\n",
       "  810000.0,\n",
       "  850000.0,\n",
       "  770000.0,\n",
       "  767250.0,\n",
       "  1330000.0,\n",
       "  806000.0,\n",
       "  769000.0,\n",
       "  865000.0,\n",
       "  1230000.0,\n",
       "  803100.0,\n",
       "  920000.0,\n",
       "  1110000.0,\n",
       "  707000.0,\n",
       "  665000.0,\n",
       "  655500.0,\n",
       "  810000.0,\n",
       "  828000.0,\n",
       "  650000.0,\n",
       "  1950000.0,\n",
       "  650000.0,\n",
       "  724950.0,\n",
       "  1250000.0,\n",
       "  652000.0,\n",
       "  1410000.0,\n",
       "  716500.0,\n",
       "  685000.0,\n",
       "  1530000.0,\n",
       "  700000.0,\n",
       "  797000.0,\n",
       "  750000.0,\n",
       "  663500.0,\n",
       "  860000.0,\n",
       "  713900.0,\n",
       "  1040000.0,\n",
       "  780000.0,\n",
       "  926500.0,\n",
       "  675000.0,\n",
       "  745000.0,\n",
       "  679000.0,\n",
       "  730000.0,\n",
       "  1050000.0,\n",
       "  1610000.0,\n",
       "  1830000.0,\n",
       "  654000.0,\n",
       "  850000.0,\n",
       "  680000.0,\n",
       "  650000.0,\n",
       "  840500.0,\n",
       "  825000.0,\n",
       "  1140000.0,\n",
       "  999950.0,\n",
       "  665000.0,\n",
       "  975000.0,\n",
       "  875000.0,\n",
       "  925000.0,\n",
       "  1550000.0,\n",
       "  1600000.0,\n",
       "  685000.0,\n",
       "  664000.0,\n",
       "  765000.0,\n",
       "  800000.0,\n",
       "  1120000.0,\n",
       "  940000.0,\n",
       "  980000.0,\n",
       "  920000.0,\n",
       "  774000.0,\n",
       "  1050000.0,\n",
       "  730100.0,\n",
       "  750000.0,\n",
       "  659500.0,\n",
       "  970000.0,\n",
       "  2300000.0,\n",
       "  1010000.0,\n",
       "  850000.0,\n",
       "  724950.0,\n",
       "  780000.0,\n",
       "  1160000.0,\n",
       "  990000.0,\n",
       "  675000.0,\n",
       "  900000.0,\n",
       "  1250000.0,\n",
       "  708000.0,\n",
       "  648000.0,\n",
       "  963000.0,\n",
       "  975000.0,\n",
       "  665000.0,\n",
       "  763776.0,\n",
       "  2150000.0,\n",
       "  899000.0,\n",
       "  1120000.0,\n",
       "  665000.0,\n",
       "  728000.0,\n",
       "  2050000.0,\n",
       "  1300000.0,\n",
       "  1030000.0,\n",
       "  1850000.0,\n",
       "  979500.0,\n",
       "  1100000.0,\n",
       "  1280000.0,\n",
       "  670000.0,\n",
       "  680000.0,\n",
       "  715000.0,\n",
       "  825000.0,\n",
       "  802000.0,\n",
       "  2700000.0,\n",
       "  767450.0,\n",
       "  740000.0,\n",
       "  860000.0,\n",
       "  775000.0,\n",
       "  775000.0,\n",
       "  1150000.0,\n",
       "  1010000.0,\n",
       "  760000.0,\n",
       "  1340000.0,\n",
       "  1980000.0,\n",
       "  695000.0,\n",
       "  700000.0,\n",
       "  683000.0,\n",
       "  694000.0,\n",
       "  885000.0,\n",
       "  1250000.0,\n",
       "  710000.0,\n",
       "  680000.0,\n",
       "  1070000.0,\n",
       "  675000.0,\n",
       "  768000.0,\n",
       "  837500.0,\n",
       "  947500.0,\n",
       "  1010000.0,\n",
       "  1300000.0,\n",
       "  685530.0,\n",
       "  1000000.0,\n",
       "  1900000.0,\n",
       "  742500.0,\n",
       "  752000.0,\n",
       "  770000.0,\n",
       "  1050000.0,\n",
       "  995000.0,\n",
       "  1320000.0,\n",
       "  900000.0,\n",
       "  657000.0,\n",
       "  1480000.0,\n",
       "  90000.0,\n",
       "  1640000.0,\n",
       "  1210000.0,\n",
       "  665000.0,\n",
       "  790000.0,\n",
       "  927000.0,\n",
       "  866000.0,\n",
       "  890900.0,\n",
       "  1020000.0,\n",
       "  1250000.0,\n",
       "  834950.0,\n",
       "  695000.0,\n",
       "  875000.0,\n",
       "  1100000.0,\n",
       "  1280000.0,\n",
       "  650000.0,\n",
       "  659000.0,\n",
       "  800000.0,\n",
       "  760000.0,\n",
       "  1470000.0,\n",
       "  650000.0,\n",
       "  1430000.0,\n",
       "  875000.0,\n",
       "  870000.0,\n",
       "  718500.0,\n",
       "  1580000.0,\n",
       "  860000.0,\n",
       "  1310000.0,\n",
       "  1230000.0,\n",
       "  750000.0,\n",
       "  739000.0,\n",
       "  908950.0,\n",
       "  822000.0,\n",
       "  1500000.0,\n",
       "  740000.0,\n",
       "  740000.0,\n",
       "  3300000.0,\n",
       "  740000.0,\n",
       "  665000.0,\n",
       "  940000.0,\n",
       "  784000.0,\n",
       "  1050000.0,\n",
       "  745641.0,\n",
       "  835000.0,\n",
       "  653000.0,\n",
       "  1060000.0,\n",
       "  790000.0,\n",
       "  1190000.0,\n",
       "  656000.0,\n",
       "  770000.0,\n",
       "  705000.0,\n",
       "  900000.0,\n",
       "  740000.0,\n",
       "  849950.0,\n",
       "  765000.0,\n",
       "  809000.0,\n",
       "  1310000.0,\n",
       "  830000.0,\n",
       "  1100000.0,\n",
       "  780000.0,\n",
       "  823000.0,\n",
       "  760000.0,\n",
       "  760000.0,\n",
       "  775900.0,\n",
       "  685000.0,\n",
       "  670000.0,\n",
       "  715000.0,\n",
       "  750000.0,\n",
       "  1250000.0,\n",
       "  905000.0,\n",
       "  935000.0,\n",
       "  655000.0,\n",
       "  3400000.0,\n",
       "  1250000.0,\n",
       "  669950.0,\n",
       "  830005.0,\n",
       "  2450000.0,\n",
       "  1060000.0,\n",
       "  1020000.0,\n",
       "  1770000.0,\n",
       "  812000.0,\n",
       "  949000.0,\n",
       "  1070000.0,\n",
       "  1310000.0,\n",
       "  790000.0,\n",
       "  959750.0,\n",
       "  700000.0,\n",
       "  937500.0,\n",
       "  738000.0,\n",
       "  1100000.0,\n",
       "  750000.0,\n",
       "  723000.0,\n",
       "  707000.0,\n",
       "  950000.0,\n",
       "  889950.0,\n",
       "  1050000.0,\n",
       "  716500.0,\n",
       "  696000.0,\n",
       "  677000.0,\n",
       "  678500.0,\n",
       "  775000.0,\n",
       "  665000.0,\n",
       "  805000.0,\n",
       "  658000.0,\n",
       "  650000.0,\n",
       "  1350000.0,\n",
       "  850000.0,\n",
       "  800000.0,\n",
       "  785000.0,\n",
       "  760000.0,\n",
       "  1300000.0,\n",
       "  885000.0,\n",
       "  2000000.0,\n",
       "  776000.0,\n",
       "  795000.0,\n",
       "  718500.0,\n",
       "  729000.0,\n",
       "  655000.0,\n",
       "  975000.0,\n",
       "  874000.0,\n",
       "  1600000.0,\n",
       "  685000.0,\n",
       "  675500.0,\n",
       "  755000.0,\n",
       "  1650000.0,\n",
       "  808900.0,\n",
       "  1600000.0,\n",
       "  895000.0,\n",
       "  763000.0,\n",
       "  738000.0,\n",
       "  1440000.0,\n",
       "  655100.0,\n",
       "  1700000.0,\n",
       "  2450000.0,\n",
       "  799000.0,\n",
       "  845000.0,\n",
       "  1350000.0,\n",
       "  650000.0,\n",
       "  740000.0,\n",
       "  952000.0,\n",
       "  910000.0,\n",
       "  739500.0,\n",
       "  700000.0,\n",
       "  980000.0,\n",
       "  919000.0,\n",
       "  2880000.0,\n",
       "  900000.0,\n",
       "  750000.0,\n",
       "  965000.0,\n",
       "  699900.0,\n",
       "  750000.0,\n",
       "  720000.0,\n",
       "  1650000.0,\n",
       "  930000.0,\n",
       "  775950.0,\n",
       "  705000.0,\n",
       "  733000.0,\n",
       "  860000.0,\n",
       "  934550.0,\n",
       "  815000.0,\n",
       "  800000.0,\n",
       "  902000.0,\n",
       "  725000.0,\n",
       "  765000.0,\n",
       "  808100.0,\n",
       "  949950.0,\n",
       "  950000.0,\n",
       "  2070000.0,\n",
       "  2300000.0,\n",
       "  810000.0,\n",
       "  840000.0,\n",
       "  981000.0,\n",
       "  90000.0,\n",
       "  1080000.0,\n",
       "  1000000.0,\n",
       "  1270000.0,\n",
       "  1210000.0,\n",
       "  780000.0,\n",
       "  1700000.0,\n",
       "  779950.0,\n",
       "  660000.0,\n",
       "  650000.0,\n",
       "  912000.0,\n",
       "  847000.0,\n",
       "  2540000.0,\n",
       "  1190000.0,\n",
       "  703300.0,\n",
       "  895000.0,\n",
       "  2200000.0,\n",
       "  855000.0,\n",
       "  804000.0,\n",
       "  826000.0,\n",
       "  760000.0,\n",
       "  645500.0,\n",
       "  785000.0,\n",
       "  679950.0,\n",
       "  933399.0,\n",
       "  1260000.0,\n",
       "  740000.0,\n",
       "  831000.0,\n",
       "  677790.0,\n",
       "  1570000.0,\n",
       "  655000.0,\n",
       "  1660000.0,\n",
       "  875000.0,\n",
       "  982218.0,\n",
       "  1100000.0,\n",
       "  675000.0,\n",
       "  740000.0,\n",
       "  720168.0,\n",
       "  925000.0,\n",
       "  1050000.0,\n",
       "  947500.0,\n",
       "  657500.0,\n",
       "  720000.0,\n",
       "  1970000.0,\n",
       "  760000.0,\n",
       "  780000.0,\n",
       "  1090000.0,\n",
       "  790500.0,\n",
       "  1520000.0,\n",
       "  805000.0,\n",
       "  815000.0,\n",
       "  887000.0,\n",
       "  1150000.0,\n",
       "  832000.0,\n",
       "  885000.0,\n",
       "  1700000.0,\n",
       "  1430000.0,\n",
       "  775000.0,\n",
       "  1300000.0,\n",
       "  1070000.0,\n",
       "  770000.0,\n",
       "  1340000.0,\n",
       "  925000.0,\n",
       "  650000.0,\n",
       "  764000.0,\n",
       "  750000.0,\n",
       "  1380000.0,\n",
       "  1170000.0,\n",
       "  852000.0,\n",
       "  820000.0,\n",
       "  937500.0,\n",
       "  875000.0,\n",
       "  675000.0,\n",
       "  945800.0,\n",
       "  845000.0,\n",
       "  900000.0,\n",
       "  875000.0,\n",
       "  819000.0,\n",
       "  725000.0,\n",
       "  719521.0,\n",
       "  650000.0,\n",
       "  830000.0,\n",
       "  725000.0,\n",
       "  1010000.0,\n",
       "  715000.0,\n",
       "  673000.0,\n",
       "  950000.0,\n",
       "  1080000.0,\n",
       "  1700000.0,\n",
       "  1040000.0,\n",
       "  1020000.0,\n",
       "  691500.0,\n",
       "  750000.0,\n",
       "  715000.0,\n",
       "  797500.0,\n",
       "  1100000.0,\n",
       "  895950.0,\n",
       "  667750.0,\n",
       "  728000.0,\n",
       "  1400000.0,\n",
       "  830000.0,\n",
       "  745000.0,\n",
       "  790000.0,\n",
       "  730000.0,\n",
       "  1320000.0,\n",
       "  865000.0,\n",
       "  710000.0,\n",
       "  1020000.0,\n",
       "  860000.0,\n",
       "  721000.0,\n",
       "  1690000.0,\n",
       "  1450000.0,\n",
       "  1800000.0,\n",
       "  724000.0,\n",
       "  705380.0,\n",
       "  925000.0,\n",
       "  750000.0,\n",
       "  739000.0,\n",
       "  785000.0,\n",
       "  705000.0,\n",
       "  1950000.0,\n",
       "  780000.0,\n",
       "  870000.0,\n",
       "  860000.0,\n",
       "  860000.0,\n",
       "  647500.0,\n",
       "  747450.0,\n",
       "  799000.0,\n",
       "  1050000.0,\n",
       "  650000.0,\n",
       "  710000.0,\n",
       "  740000.0,\n",
       "  835000.0,\n",
       "  849000.0,\n",
       "  1700000.0,\n",
       "  820000.0,\n",
       "  715000.0,\n",
       "  920000.0,\n",
       "  672500.0,\n",
       "  715000.0,\n",
       "  740000.0,\n",
       "  830000.0,\n",
       "  1060000.0,\n",
       "  690000.0,\n",
       "  1940000.0,\n",
       "  862500.0,\n",
       "  730000.0,\n",
       "  685000.0,\n",
       "  1300000.0,\n",
       "  799950.0,\n",
       "  825000.0,\n",
       "  695000.0,\n",
       "  879950.0,\n",
       "  665000.0,\n",
       "  925000.0,\n",
       "  830000.0,\n",
       "  857500.0,\n",
       "  715000.0,\n",
       "  1200000.0,\n",
       "  760000.0,\n",
       "  654950.0,\n",
       "  1090000.0,\n",
       "  1210000.0,\n",
       "  869950.0,\n",
       "  1350000.0,\n",
       "  650000.0,\n",
       "  765000.0,\n",
       "  895000.0,\n",
       "  790000.0,\n",
       "  650000.0,\n",
       "  840500.0,\n",
       "  850000.0,\n",
       "  672000.0,\n",
       "  710000.0,\n",
       "  1770000.0,\n",
       "  860000.0,\n",
       "  745000.0,\n",
       "  830000.0,\n",
       "  675000.0,\n",
       "  2950000.0,\n",
       "  898000.0,\n",
       "  1820000.0,\n",
       "  740000.0,\n",
       "  800000.0,\n",
       "  1470000.0,\n",
       "  775000.0,\n",
       "  664000.0,\n",
       "  700000.0,\n",
       "  975000.0,\n",
       "  730000.0,\n",
       "  850000.0,\n",
       "  1050000.0,\n",
       "  921500.0,\n",
       "  968060.0,\n",
       "  799000.0,\n",
       "  834538.0,\n",
       "  865000.0,\n",
       "  968000.0,\n",
       "  717000.0,\n",
       "  765000.0,\n",
       "  1110000.0,\n",
       "  819000.0,\n",
       "  705000.0,\n",
       "  725000.0,\n",
       "  943500.0,\n",
       "  716500.0,\n",
       "  660000.0,\n",
       "  687000.0,\n",
       "  725000.0,\n",
       "  732600.0,\n",
       "  698000.0,\n",
       "  840000.0,\n",
       "  650000.0,\n",
       "  655000.0,\n",
       "  710800.0,\n",
       "  670000.0,\n",
       "  936000.0,\n",
       "  1440000.0,\n",
       "  1300000.0,\n",
       "  917500.0,\n",
       "  705000.0,\n",
       "  1110000.0,\n",
       "  1200000.0,\n",
       "  751000.0,\n",
       "  969990.0,\n",
       "  915000.0,\n",
       "  711000.0,\n",
       "  742500.0,\n",
       "  690000.0,\n",
       "  660000.0,\n",
       "  950000.0,\n",
       "  692000.0,\n",
       "  745000.0,\n",
       "  899000.0,\n",
       "  2200000.0,\n",
       "  920000.0,\n",
       "  775000.0,\n",
       "  770000.0,\n",
       "  950000.0,\n",
       "  785000.0,\n",
       "  700000.0,\n",
       "  660000.0,\n",
       "  695000.0,\n",
       "  1100000.0,\n",
       "  650000.0,\n",
       "  852000.0,\n",
       "  680000.0,\n",
       "  1100000.0,\n",
       "  715000.0,\n",
       "  677500.0,\n",
       "  1550000.0,\n",
       "  1190000.0,\n",
       "  750000.0,\n",
       "  1780000.0,\n",
       "  715500.0,\n",
       "  1200000.0,\n",
       "  700000.0,\n",
       "  882990.0,\n",
       "  915000.0,\n",
       "  3280000.0,\n",
       "  930000.0,\n",
       "  900000.0,\n",
       "  750000.0,\n",
       "  732500.0,\n",
       "  865000.0,\n",
       "  680000.0,\n",
       "  731500.0,\n",
       "  795000.0,\n",
       "  685000.0,\n",
       "  1270000.0,\n",
       "  1250000.0,\n",
       "  850000.0,\n",
       "  1850000.0,\n",
       "  1380000.0,\n",
       "  716500.0,\n",
       "  685900.0,\n",
       "  1020000.0,\n",
       "  875000.0,\n",
       "  1900000.0,\n",
       "  915000.0,\n",
       "  970000.0,\n",
       "  1660000.0,\n",
       "  1480000.0,\n",
       "  901000.0,\n",
       "  725000.0,\n",
       "  693000.0,\n",
       "  705000.0,\n",
       "  805000.0,\n",
       "  835000.0,\n",
       "  920000.0,\n",
       "  652000.0,\n",
       "  684680.0,\n",
       "  1780000.0,\n",
       "  872000.0,\n",
       "  781000.0,\n",
       "  800866.0,\n",
       "  2480000.0,\n",
       "  850000.0,\n",
       "  804000.0,\n",
       "  671000.0,\n",
       "  1280000.0,\n",
       "  1080000.0,\n",
       "  810000.0,\n",
       "  880000.0,\n",
       "  1840000.0,\n",
       "  739000.0,\n",
       "  1210000.0,\n",
       "  710000.0,\n",
       "  872750.0,\n",
       "  1240000.0,\n",
       "  2540000.0,\n",
       "  739900.0,\n",
       "  665000.0,\n",
       "  1600000.0,\n",
       "  1680000.0,\n",
       "  1890000.0,\n",
       "  700000.0,\n",
       "  719000.0,\n",
       "  3400000.0,\n",
       "  895000.0,\n",
       "  692500.0,\n",
       "  690000.0,\n",
       "  820000.0,\n",
       "  895900.0,\n",
       "  965000.0,\n",
       "  675000.0,\n",
       "  705000.0,\n",
       "  2400000.0,\n",
       "  802945.0,\n",
       "  1390000.0,\n",
       "  689000.0,\n",
       "  1240000.0,\n",
       "  915000.0,\n",
       "  1400000.0,\n",
       "  860000.0,\n",
       "  1060000.0,\n",
       "  650000.0,\n",
       "  739000.0,\n",
       "  1650000.0,\n",
       "  664000.0,\n",
       "  838400.0,\n",
       "  657000.0,\n",
       "  1030000.0,\n",
       "  1460000.0,\n",
       "  1080000.0,\n",
       "  880000.0,\n",
       "  995000.0,\n",
       "  795000.0,\n",
       "  2500000.0,\n",
       "  822600.0,\n",
       "  738000.0,\n",
       "  955000.0,\n",
       "  895000.0,\n",
       "  985000.0,\n",
       "  815000.0,\n",
       "  750000.0,\n",
       "  1650000.0,\n",
       "  1380000.0,\n",
       "  3350000.0,\n",
       "  1700000.0,\n",
       "  749000.0,\n",
       "  813000.0,\n",
       "  1500000.0,\n",
       "  730000.0,\n",
       "  662500.0,\n",
       "  650500.0,\n",
       "  1380000.0,\n",
       "  860000.0,\n",
       "  730000.0,\n",
       "  889950.0,\n",
       "  760000.0,\n",
       "  782000.0,\n",
       "  988990.0,\n",
       "  1700000.0,\n",
       "  90000.0,\n",
       "  950000.0,\n",
       "  860000.0,\n",
       "  799000.0,\n",
       "  1190000.0,\n",
       "  1750000.0,\n",
       "  672500.0,\n",
       "  777000.0,\n",
       "  735000.0,\n",
       "  695000.0,\n",
       "  1450000.0,\n",
       "  935000.0,\n",
       "  700000.0,\n",
       "  778000.0,\n",
       "  700000.0,\n",
       "  875000.0,\n",
       "  790000.0,\n",
       "  875000.0,\n",
       "  680000.0,\n",
       "  1080000.0,\n",
       "  767500.0,\n",
       "  850000.0,\n",
       "  1280000.0,\n",
       "  695000.0,\n",
       "  650000.0,\n",
       "  722000.0,\n",
       "  720000.0,\n",
       "  770000.0,\n",
       "  1150000.0,\n",
       "  750000.0,\n",
       "  3070000.0,\n",
       "  1120000.0,\n",
       "  2700000.0,\n",
       "  655000.0,\n",
       "  1450000.0,\n",
       "  705640.0,\n",
       "  850000.0,\n",
       "  680000.0,\n",
       "  885250.0,\n",
       "  715000.0,\n",
       "  825000.0,\n",
       "  1290000.0,\n",
       "  869000.0,\n",
       "  650000.0,\n",
       "  688000.0,\n",
       "  1210000.0,\n",
       "  765000.0,\n",
       "  1180000.0,\n",
       "  750000.0,\n",
       "  659000.0,\n",
       "  685000.0,\n",
       "  835000.0,\n",
       "  790000.0,\n",
       "  648000.0,\n",
       "  743000.0,\n",
       "  650000.0,\n",
       "  691000.0,\n",
       "  1620000.0,\n",
       "  750500.0,\n",
       "  672500.0,\n",
       "  962000.0,\n",
       "  2890000.0,\n",
       "  750000.0,\n",
       "  659000.0,\n",
       "  657100.0,\n",
       "  725000.0,\n",
       "  1020000.0,\n",
       "  880000.0,\n",
       "  1370000.0,\n",
       "  789000.0,\n",
       "  1150000.0,\n",
       "  674725.0,\n",
       "  849990.0,\n",
       "  765000.0,\n",
       "  1230000.0,\n",
       "  915000.0,\n",
       "  655000.0,\n",
       "  1090000.0,\n",
       "  762500.0,\n",
       "  672000.0,\n",
       "  790100.0,\n",
       "  1580000.0,\n",
       "  780000.0,\n",
       "  1090000.0,\n",
       "  670000.0,\n",
       "  1030000.0,\n",
       "  795000.0,\n",
       "  737000.0,\n",
       "  780000.0,\n",
       "  710000.0,\n",
       "  779000.0,\n",
       "  909500.0,\n",
       "  998500.0,\n",
       "  730000.0,\n",
       "  715000.0,\n",
       "  1980000.0,\n",
       "  1110000.0,\n",
       "  1860000.0,\n",
       "  1200000.0,\n",
       "  1180000.0,\n",
       "  700000.0,\n",
       "  799000.0,\n",
       "  691100.0,\n",
       "  765000.0,\n",
       "  970000.0,\n",
       "  855000.0,\n",
       "  660000.0,\n",
       "  670000.0,\n",
       "  1100000.0,\n",
       "  750000.0,\n",
       "  1170000.0,\n",
       "  1030000.0,\n",
       "  650000.0,\n",
       "  732000.0,\n",
       "  940000.0,\n",
       "  1040000.0,\n",
       "  825000.0,\n",
       "  661000.0,\n",
       "  699950.0,\n",
       "  649000.0,\n",
       "  829000.0,\n",
       "  940000.0,\n",
       "  939000.0,\n",
       "  1990000.0,\n",
       "  950000.0,\n",
       "  995000.0,\n",
       "  1640000.0,\n",
       "  1230000.0,\n",
       "  699900.0,\n",
       "  724800.0,\n",
       "  950000.0,\n",
       "  800000.0,\n",
       "  1320000.0,\n",
       "  785000.0,\n",
       "  859950.0,\n",
       "  720000.0,\n",
       "  739888.0,\n",
       "  920000.0,\n",
       "  4000000.0,\n",
       "  765000.0,\n",
       "  1050000.0,\n",
       "  820000.0,\n",
       "  1150000.0,\n",
       "  649950.0,\n",
       "  1130000.0,\n",
       "  1240000.0,\n",
       "  715000.0,\n",
       "  696000.0,\n",
       "  902000.0,\n",
       "  2400000.0,\n",
       "  2150000.0,\n",
       "  812500.0,\n",
       "  860000.0,\n",
       "  708000.0,\n",
       "  868500.0,\n",
       "  795000.0,\n",
       "  814842.0,\n",
       "  1680000.0,\n",
       "  780000.0,\n",
       "  900000.0,\n",
       "  808000.0,\n",
       "  1030000.0,\n",
       "  922755.0,\n",
       "  3100000.0,\n",
       "  1050000.0,\n",
       "  2250000.0,\n",
       "  905000.0,\n",
       "  1290000.0,\n",
       "  810000.0,\n",
       "  664950.0,\n",
       "  1620000.0,\n",
       "  655000.0,\n",
       "  ...]}"
      ]
     },
     "execution_count": 225,
     "metadata": {},
     "output_type": "execute_result"
    }
   ],
   "source": [
    "concated_train_ouliers"
   ]
  },
  {
   "cell_type": "code",
   "execution_count": 226,
   "metadata": {},
   "outputs": [],
   "source": [
    "# function to remove outliers and returns the new updated dataframe\n",
    "def outliers_remover(concated_set, outliers):\n",
    "    keys = list(outliers.keys())\n",
    "    for key in keys:\n",
    "        for i in outliers[key]:\n",
    "            row_index = concated_set[ concated_set.price == i ].index\n",
    "            concated_set = concated_set.drop(row_index)\n",
    "    return concated_set"
   ]
  },
  {
   "cell_type": "code",
   "execution_count": 227,
   "metadata": {},
   "outputs": [
    {
     "name": "stdout",
     "output_type": "stream",
     "text": [
      "Number of train set records before removing outliers 15850\n",
      "\n",
      "Number of train set records after removing outliers 11865\n"
     ]
    }
   ],
   "source": [
    "print(f\"Number of train set records before removing outliers {concated_train.shape[0]}\")\n",
    "print()\n",
    "concated_train = outliers_remover(concated_train, concated_train_ouliers)\n",
    "print(f\"Number of train set records after removing outliers {concated_train.shape[0]}\")"
   ]
  },
  {
   "cell_type": "markdown",
   "metadata": {},
   "source": [
    "### A histogram showing the distribution of the target variable (house price) after removing the outliers"
   ]
  },
  {
   "cell_type": "code",
   "execution_count": 228,
   "metadata": {},
   "outputs": [
    {
     "data": {
      "text/plain": [
       "Text(0.5, 1.0, 'Distribution of house prices')"
      ]
     },
     "execution_count": 228,
     "metadata": {},
     "output_type": "execute_result"
    },
    {
     "data": {
      "image/png": "[encoded data removed]",
      "text/plain": [
       "<Figure size 1368x648 with 1 Axes>"
      ]
     },
     "metadata": {
      "needs_background": "light"
     },
     "output_type": "display_data"
    }
   ],
   "source": [
    "fig, ax = plt.subplots(figsize=(19,9))\n",
    "\n",
    "ax.hist(y_train, bins=200)\n",
    "\n",
    "ax.set_xlabel('Listing house prices')\n",
    "ax.set_ylabel('Count of house sells')\n",
    "ax.set_title('Distribution of house prices')"
   ]
  },
  {
   "cell_type": "code",
   "execution_count": 229,
   "metadata": {},
   "outputs": [],
   "source": [
    "# full function for data preparation\n",
    "def data_preparation(X,y):\n",
    "    concated_set  = data_cleaning(X,y) # data cleaning function\n",
    "\n",
    "    # dealing with the data types\n",
    "    concated_set = cleaner(concated_set)\n",
    "    concated_set = sqft_basement(concated_set)\n",
    "\n",
    "    # dealing with outliers and removing them\n",
    "    concated_set = outliers_remover(\n",
    "        concated_set, \n",
    "        outliers(concated_set)\n",
    "        ) # removing outliers\n",
    "\n",
    "\n",
    "    return concated_set"
   ]
  },
  {
   "cell_type": "markdown",
   "metadata": {},
   "source": [
    "# 4. Modeling"
   ]
  },
  {
   "cell_type": "code",
   "execution_count": 230,
   "metadata": {},
   "outputs": [],
   "source": [
    "# splitting the data into X and y\n",
    "X_train, y_train = set_splitter(concated_train)\n"
   ]
  },
  {
   "cell_type": "markdown",
   "metadata": {},
   "source": [
    "### Building a heat map to show correlation between all train set attributes and their target which is the house price"
   ]
  },
  {
   "cell_type": "code",
   "execution_count": 231,
   "metadata": {},
   "outputs": [
    {
     "data": {
      "text/plain": [
       "<AxesSubplot:>"
      ]
     },
     "execution_count": 231,
     "metadata": {},
     "output_type": "execute_result"
    },
    {
     "data": {
      "image/png": "[encoded data removed]",
      "text/plain": [
       "<Figure size 360x576 with 2 Axes>"
      ]
     },
     "metadata": {
      "needs_background": "light"
     },
     "output_type": "display_data"
    }
   ],
   "source": [
    "heatmap_x = concated_train\n",
    "\n",
    "train_test_corr = heatmap_x.corr()\n",
    "fig, ax = plt.subplots(figsize=(5, 8))\n",
    "\n",
    "sns.heatmap(\n",
    "    # Specifies the data to be plotted\n",
    "    data = train_test_corr,\n",
    "    # The mask means we only show half the values, instead of showing duplicates.\n",
    "    mask= np.triu(np.ones_like(train_test_corr, dtype=bool)),\n",
    "    # Specifies that we should use the existing axes\n",
    "    ax=ax,\n",
    "    # Specifies that we want labels, not just colors\n",
    "    annot=True,\n",
    "    # Customizing colorbar appearance\n",
    "    cbar_kws={\"label\": \"Correlation\", \"orientation\": \"horizontal\", \"pad\": .2, \"extend\": \"both\"}\n",
    ")"
   ]
  },
  {
   "cell_type": "markdown",
   "metadata": {},
   "source": [
    "A scatterplot of the most_correlated_feature vs house prices"
   ]
  },
  {
   "cell_type": "markdown",
   "metadata": {},
   "source": [
    "This model is not readable hence I will use REFCV function to select the models of best fit"
   ]
  },
  {
   "cell_type": "code",
   "execution_count": 232,
   "metadata": {},
   "outputs": [],
   "source": [
    "# Intializing a splitter\n",
    "splitter = ShuffleSplit(\n",
    "    n_splits=3,\n",
    "    test_size=0.25,\n",
    "    random_state=20\n",
    ") # perfoms a 5 seperate train-test splits "
   ]
  },
  {
   "cell_type": "code",
   "execution_count": 233,
   "metadata": {},
   "outputs": [
    {
     "name": "stdout",
     "output_type": "stream",
     "text": [
      "<class 'pandas.core.frame.DataFrame'>\n",
      "Int64Index: 11865 entries, 1172000135 to 3925000020\n",
      "Data columns (total 15 columns):\n",
      " #   Column         Non-Null Count  Dtype  \n",
      "---  ------         --------------  -----  \n",
      " 0   bedrooms       11865 non-null  int64  \n",
      " 1   bathrooms      11865 non-null  float64\n",
      " 2   sqft_living    11865 non-null  int64  \n",
      " 3   sqft_lot       11865 non-null  int64  \n",
      " 4   floors         11865 non-null  float64\n",
      " 5   waterfront     11865 non-null  float64\n",
      " 6   view           11865 non-null  float64\n",
      " 7   condition      11865 non-null  int64  \n",
      " 8   grade          11865 non-null  int64  \n",
      " 9   sqft_above     11865 non-null  int64  \n",
      " 10  sqft_basement  11865 non-null  float64\n",
      " 11  yr_built       11865 non-null  int64  \n",
      " 12  yr_renovated   11865 non-null  float64\n",
      " 13  lat            11865 non-null  float64\n",
      " 14  long           11865 non-null  float64\n",
      "dtypes: float64(8), int64(7)\n",
      "memory usage: 1.4 MB\n"
     ]
    }
   ],
   "source": [
    "X_train.info()"
   ]
  },
  {
   "cell_type": "code",
   "execution_count": 234,
   "metadata": {},
   "outputs": [
    {
     "name": "stdout",
     "output_type": "stream",
     "text": [
      "Was the column selected\n",
      "bedrooms: True\n",
      "bathrooms: True\n",
      "sqft_living: True\n",
      "sqft_lot: True\n",
      "floors: True\n",
      "waterfront: True\n",
      "view: True\n",
      "condition: True\n",
      "grade: True\n",
      "sqft_above: True\n",
      "sqft_basement: True\n",
      "yr_built: True\n",
      "yr_renovated: False\n",
      "lat: True\n",
      "long: True\n"
     ]
    }
   ],
   "source": [
    "# using REFCV\n",
    "X_train_REFECV = StandardScaler().fit_transform(X_train)\n",
    "\n",
    "model_for_REFECV = LinearRegression()\n",
    "\n",
    "# Intitate and fit the selector\n",
    "selector = RFECV(model_for_REFECV, cv=splitter)\n",
    "selector.fit(X_train_REFECV, y_train)\n",
    "\n",
    "# Print the results\n",
    "print(\"Was the column selected\")\n",
    "for index, col in enumerate(X_train.columns):\n",
    "    print(f\"{col}: {selector.support_[index]}\")"
   ]
  },
  {
   "cell_type": "markdown",
   "metadata": {},
   "source": [
    "The algorithim selects all the attributes hence I will use dive more to other alternatives to find the best combinators"
   ]
  },
  {
   "cell_type": "code",
   "execution_count": 235,
   "metadata": {},
   "outputs": [
    {
     "data": {
      "text/plain": [
       "15"
      ]
     },
     "execution_count": 235,
     "metadata": {},
     "output_type": "execute_result"
    }
   ],
   "source": [
    "len(X_train.columns)"
   ]
  },
  {
   "cell_type": "code",
   "execution_count": 236,
   "metadata": {},
   "outputs": [
    {
     "data": {
      "text/html": [
       "<table class=\"simpletable\">\n",
       "<caption>OLS Regression Results</caption>\n",
       "<tr>\n",
       "  <th>Dep. Variable:</th>          <td>price</td>      <th>  R-squared:         </th>  <td>   0.591</td>  \n",
       "</tr>\n",
       "<tr>\n",
       "  <th>Model:</th>                   <td>OLS</td>       <th>  Adj. R-squared:    </th>  <td>   0.590</td>  \n",
       "</tr>\n",
       "<tr>\n",
       "  <th>Method:</th>             <td>Least Squares</td>  <th>  F-statistic:       </th>  <td>   1222.</td>  \n",
       "</tr>\n",
       "<tr>\n",
       "  <th>Date:</th>             <td>Fri, 01 Jul 2022</td> <th>  Prob (F-statistic):</th>   <td>  0.00</td>   \n",
       "</tr>\n",
       "<tr>\n",
       "  <th>Time:</th>                 <td>21:18:24</td>     <th>  Log-Likelihood:    </th> <td>-1.5089e+05</td>\n",
       "</tr>\n",
       "<tr>\n",
       "  <th>No. Observations:</th>      <td> 11865</td>      <th>  AIC:               </th>  <td>3.018e+05</td> \n",
       "</tr>\n",
       "<tr>\n",
       "  <th>Df Residuals:</th>          <td> 11850</td>      <th>  BIC:               </th>  <td>3.019e+05</td> \n",
       "</tr>\n",
       "<tr>\n",
       "  <th>Df Model:</th>              <td>    14</td>      <th>                     </th>      <td> </td>     \n",
       "</tr>\n",
       "<tr>\n",
       "  <th>Covariance Type:</th>      <td>nonrobust</td>    <th>                     </th>      <td> </td>     \n",
       "</tr>\n",
       "</table>\n",
       "<table class=\"simpletable\">\n",
       "<tr>\n",
       "        <td></td>           <th>coef</th>     <th>std err</th>      <th>t</th>      <th>P>|t|</th>  <th>[0.025</th>    <th>0.975]</th>  \n",
       "</tr>\n",
       "<tr>\n",
       "  <th>const</th>         <td>-1.203e+07</td> <td> 8.26e+05</td> <td>  -14.569</td> <td> 0.000</td> <td>-1.37e+07</td> <td>-1.04e+07</td>\n",
       "</tr>\n",
       "<tr>\n",
       "  <th>bedrooms</th>      <td>-1.462e+04</td> <td> 1459.777</td> <td>  -10.014</td> <td> 0.000</td> <td>-1.75e+04</td> <td>-1.18e+04</td>\n",
       "</tr>\n",
       "<tr>\n",
       "  <th>bathrooms</th>     <td> 4395.7034</td> <td>  470.806</td> <td>    9.337</td> <td> 0.000</td> <td> 3472.847</td> <td> 5318.560</td>\n",
       "</tr>\n",
       "<tr>\n",
       "  <th>sqft_living</th>   <td>   39.9809</td> <td>    1.355</td> <td>   29.513</td> <td> 0.000</td> <td>   37.326</td> <td>   42.636</td>\n",
       "</tr>\n",
       "<tr>\n",
       "  <th>sqft_lot</th>      <td>    0.1966</td> <td>    0.023</td> <td>    8.440</td> <td> 0.000</td> <td>    0.151</td> <td>    0.242</td>\n",
       "</tr>\n",
       "<tr>\n",
       "  <th>floors</th>        <td> 2.632e+04</td> <td> 1984.195</td> <td>   13.265</td> <td> 0.000</td> <td> 2.24e+04</td> <td> 3.02e+04</td>\n",
       "</tr>\n",
       "<tr>\n",
       "  <th>waterfront</th>    <td>  8.87e+04</td> <td> 2.24e+04</td> <td>    3.954</td> <td> 0.000</td> <td> 4.47e+04</td> <td> 1.33e+05</td>\n",
       "</tr>\n",
       "<tr>\n",
       "  <th>view</th>          <td> 1.814e+04</td> <td> 1631.354</td> <td>   11.120</td> <td> 0.000</td> <td> 1.49e+04</td> <td> 2.13e+04</td>\n",
       "</tr>\n",
       "<tr>\n",
       "  <th>condition</th>     <td> 1.604e+04</td> <td> 1257.258</td> <td>   12.756</td> <td> 0.000</td> <td> 1.36e+04</td> <td> 1.85e+04</td>\n",
       "</tr>\n",
       "<tr>\n",
       "  <th>grade</th>         <td> 5.264e+04</td> <td> 1270.642</td> <td>   41.428</td> <td> 0.000</td> <td> 5.01e+04</td> <td> 5.51e+04</td>\n",
       "</tr>\n",
       "<tr>\n",
       "  <th>sqft_above</th>    <td>   16.6584</td> <td>    1.377</td> <td>   12.094</td> <td> 0.000</td> <td>   13.959</td> <td>   19.358</td>\n",
       "</tr>\n",
       "<tr>\n",
       "  <th>sqft_basement</th> <td>   23.3226</td> <td>    1.635</td> <td>   14.262</td> <td> 0.000</td> <td>   20.117</td> <td>   26.528</td>\n",
       "</tr>\n",
       "<tr>\n",
       "  <th>yr_built</th>      <td> -997.1527</td> <td>   40.608</td> <td>  -24.556</td> <td> 0.000</td> <td>-1076.751</td> <td> -917.554</td>\n",
       "</tr>\n",
       "<tr>\n",
       "  <th>yr_renovated</th>  <td>   -0.3948</td> <td>    0.929</td> <td>   -0.425</td> <td> 0.671</td> <td>   -2.215</td> <td>    1.426</td>\n",
       "</tr>\n",
       "<tr>\n",
       "  <th>lat</th>           <td> 4.347e+05</td> <td> 5323.290</td> <td>   81.655</td> <td> 0.000</td> <td> 4.24e+05</td> <td> 4.45e+05</td>\n",
       "</tr>\n",
       "<tr>\n",
       "  <th>long</th>          <td> 5.594e+04</td> <td> 6126.619</td> <td>    9.131</td> <td> 0.000</td> <td> 4.39e+04</td> <td>  6.8e+04</td>\n",
       "</tr>\n",
       "</table>\n",
       "<table class=\"simpletable\">\n",
       "<tr>\n",
       "  <th>Omnibus:</th>       <td>127.232</td> <th>  Durbin-Watson:     </th> <td>   2.031</td>\n",
       "</tr>\n",
       "<tr>\n",
       "  <th>Prob(Omnibus):</th> <td> 0.000</td>  <th>  Jarque-Bera (JB):  </th> <td> 144.255</td>\n",
       "</tr>\n",
       "<tr>\n",
       "  <th>Skew:</th>          <td> 0.207</td>  <th>  Prob(JB):          </th> <td>4.74e-32</td>\n",
       "</tr>\n",
       "<tr>\n",
       "  <th>Kurtosis:</th>      <td> 3.347</td>  <th>  Cond. No.          </th> <td>1.09e+17</td>\n",
       "</tr>\n",
       "</table><br/><br/>Notes:<br/>[1] Standard Errors assume that the covariance matrix of the errors is correctly specified.<br/>[2] The smallest eigenvalue is 1.27e-21. This might indicate that there are<br/>strong multicollinearity problems or that the design matrix is singular."
      ],
      "text/plain": [
       "<class 'statsmodels.iolib.summary.Summary'>\n",
       "\"\"\"\n",
       "                            OLS Regression Results                            \n",
       "==============================================================================\n",
       "Dep. Variable:                  price   R-squared:                       0.591\n",
       "Model:                            OLS   Adj. R-squared:                  0.590\n",
       "Method:                 Least Squares   F-statistic:                     1222.\n",
       "Date:                Fri, 01 Jul 2022   Prob (F-statistic):               0.00\n",
       "Time:                        21:18:24   Log-Likelihood:            -1.5089e+05\n",
       "No. Observations:               11865   AIC:                         3.018e+05\n",
       "Df Residuals:                   11850   BIC:                         3.019e+05\n",
       "Df Model:                          14                                         \n",
       "Covariance Type:            nonrobust                                         \n",
       "=================================================================================\n",
       "                    coef    std err          t      P>|t|      [0.025      0.975]\n",
       "---------------------------------------------------------------------------------\n",
       "const         -1.203e+07   8.26e+05    -14.569      0.000   -1.37e+07   -1.04e+07\n",
       "bedrooms      -1.462e+04   1459.777    -10.014      0.000   -1.75e+04   -1.18e+04\n",
       "bathrooms      4395.7034    470.806      9.337      0.000    3472.847    5318.560\n",
       "sqft_living      39.9809      1.355     29.513      0.000      37.326      42.636\n",
       "sqft_lot          0.1966      0.023      8.440      0.000       0.151       0.242\n",
       "floors         2.632e+04   1984.195     13.265      0.000    2.24e+04    3.02e+04\n",
       "waterfront      8.87e+04   2.24e+04      3.954      0.000    4.47e+04    1.33e+05\n",
       "view           1.814e+04   1631.354     11.120      0.000    1.49e+04    2.13e+04\n",
       "condition      1.604e+04   1257.258     12.756      0.000    1.36e+04    1.85e+04\n",
       "grade          5.264e+04   1270.642     41.428      0.000    5.01e+04    5.51e+04\n",
       "sqft_above       16.6584      1.377     12.094      0.000      13.959      19.358\n",
       "sqft_basement    23.3226      1.635     14.262      0.000      20.117      26.528\n",
       "yr_built       -997.1527     40.608    -24.556      0.000   -1076.751    -917.554\n",
       "yr_renovated     -0.3948      0.929     -0.425      0.671      -2.215       1.426\n",
       "lat            4.347e+05   5323.290     81.655      0.000    4.24e+05    4.45e+05\n",
       "long           5.594e+04   6126.619      9.131      0.000    4.39e+04     6.8e+04\n",
       "==============================================================================\n",
       "Omnibus:                      127.232   Durbin-Watson:                   2.031\n",
       "Prob(Omnibus):                  0.000   Jarque-Bera (JB):              144.255\n",
       "Skew:                           0.207   Prob(JB):                     4.74e-32\n",
       "Kurtosis:                       3.347   Cond. No.                     1.09e+17\n",
       "==============================================================================\n",
       "\n",
       "Notes:\n",
       "[1] Standard Errors assume that the covariance matrix of the errors is correctly specified.\n",
       "[2] The smallest eigenvalue is 1.27e-21. This might indicate that there are\n",
       "strong multicollinearity problems or that the design matrix is singular.\n",
       "\"\"\""
      ]
     },
     "execution_count": 236,
     "metadata": {},
     "output_type": "execute_result"
    }
   ],
   "source": [
    "# investigating for multicolinearity\n",
    "olsmodel = sm.OLS(y_train, sm.add_constant(X_train)).fit()\n",
    "olsmodel.summary()"
   ]
  },
  {
   "cell_type": "markdown",
   "metadata": {},
   "source": [
    "Again we are not getting clear result hence I will use a brute force algorithm to find the best combinations to get the best results"
   ]
  },
  {
   "cell_type": "code",
   "execution_count": 237,
   "metadata": {},
   "outputs": [
    {
     "name": "stdout",
     "output_type": "stream",
     "text": [
      "<class 'pandas.core.frame.DataFrame'>\n",
      "Int64Index: 11865 entries, 1172000135 to 3925000020\n",
      "Data columns (total 15 columns):\n",
      " #   Column         Non-Null Count  Dtype  \n",
      "---  ------         --------------  -----  \n",
      " 0   bedrooms       11865 non-null  int64  \n",
      " 1   bathrooms      11865 non-null  float64\n",
      " 2   sqft_living    11865 non-null  int64  \n",
      " 3   sqft_lot       11865 non-null  int64  \n",
      " 4   floors         11865 non-null  float64\n",
      " 5   waterfront     11865 non-null  float64\n",
      " 6   view           11865 non-null  float64\n",
      " 7   condition      11865 non-null  int64  \n",
      " 8   grade          11865 non-null  int64  \n",
      " 9   sqft_above     11865 non-null  int64  \n",
      " 10  sqft_basement  11865 non-null  float64\n",
      " 11  yr_built       11865 non-null  int64  \n",
      " 12  yr_renovated   11865 non-null  float64\n",
      " 13  lat            11865 non-null  float64\n",
      " 14  long           11865 non-null  float64\n",
      "dtypes: float64(8), int64(7)\n",
      "memory usage: 1.4 MB\n"
     ]
    }
   ],
   "source": [
    "X_train.info()"
   ]
  },
  {
   "cell_type": "code",
   "execution_count": 238,
   "metadata": {},
   "outputs": [],
   "source": [
    "# Function for getting coeeficients in a cross_valiate\n",
    "def coeeficients(score):\n",
    "    for model in score['estimator']:\n",
    "        print(model.coef_)"
   ]
  },
  {
   "cell_type": "markdown",
   "metadata": {},
   "source": [
    "## Building models to find the best model overall"
   ]
  },
  {
   "cell_type": "markdown",
   "metadata": {},
   "source": [
    "### First Model "
   ]
  },
  {
   "cell_type": "markdown",
   "metadata": {},
   "source": [
    "The first model will contain all the attributes"
   ]
  },
  {
   "cell_type": "code",
   "execution_count": 239,
   "metadata": {},
   "outputs": [
    {
     "name": "stdout",
     "output_type": "stream",
     "text": [
      "Train Score:            0.5896313235272873\n",
      "Validation Score:       0.5924437278603483\n",
      "Difference in scores:   -0.0028124043330609583\n"
     ]
    }
   ],
   "source": [
    "first_model = LinearRegression()\n",
    "\n",
    "first_score = cross_validate(\n",
    "    estimator=first_model,\n",
    "    X=X_train,\n",
    "    y=y_train,\n",
    "    return_train_score=True,\n",
    "    return_estimator=True,\n",
    "    cv=splitter\n",
    ")\n",
    "\n",
    "print(f\"Train Score:            {first_score['train_score'].mean()}\")\n",
    "print(f\"Validation Score:       {first_score['test_score'].mean()}\")\n",
    "print(f\"Difference in scores:   {  (first_score['train_score'].mean()) - (first_score['test_score'].mean())}\")\n"
   ]
  },
  {
   "cell_type": "markdown",
   "metadata": {},
   "source": [
    "The model had a good R-2 and the difference between the models is low, hence it does a good job in predicting the house prices"
   ]
  },
  {
   "cell_type": "markdown",
   "metadata": {},
   "source": [
    "### Second Model "
   ]
  },
  {
   "cell_type": "markdown",
   "metadata": {},
   "source": [
    "The second model will be built using the PolynomialFeature"
   ]
  },
  {
   "cell_type": "code",
   "execution_count": 240,
   "metadata": {},
   "outputs": [],
   "source": [
    "# Building a less complex polynomial feature \n",
    "poly_2 = PolynomialFeatures(2)\n",
    "X_train_poly2 = poly_2.fit_transform(X_train)"
   ]
  },
  {
   "cell_type": "code",
   "execution_count": 241,
   "metadata": {},
   "outputs": [
    {
     "name": "stdout",
     "output_type": "stream",
     "text": [
      "Train Score:            0.6509414092262061\n",
      "Validation Score:       0.5979122838275237\n",
      "Difference in scores:   0.05302912539868243\n"
     ]
    }
   ],
   "source": [
    "second_model_poly_2 = LinearRegression()\n",
    "\n",
    "second_score = cross_validate(\n",
    "    estimator=second_model_poly_2,\n",
    "    X=X_train_poly2,\n",
    "    y=y_train,\n",
    "    return_train_score=True,\n",
    "    return_estimator=True,\n",
    "    cv=splitter\n",
    ")\n",
    "print(f\"Train Score:            {second_score['train_score'].mean()}\")\n",
    "print(f\"Validation Score:       {second_score['test_score'].mean()}\")\n",
    "print(f\"Difference in scores:   {  (second_score['train_score'].mean()) - (second_score['test_score'].mean())}\")"
   ]
  },
  {
   "cell_type": "markdown",
   "metadata": {},
   "source": [
    "Both the score are higher than compared to the first model whose R-2 was a bit lower, also the diffence between the score is low hence this model does a better in prediction"
   ]
  },
  {
   "cell_type": "markdown",
   "metadata": {},
   "source": [
    "### Third Model "
   ]
  },
  {
   "cell_type": "code",
   "execution_count": 242,
   "metadata": {},
   "outputs": [],
   "source": [
    "# Building a more complex polynomial feature \n",
    "poly_3 = PolynomialFeatures(3)\n",
    "X_train_poly3 = poly_3.fit_transform(X_train)"
   ]
  },
  {
   "cell_type": "code",
   "execution_count": 243,
   "metadata": {},
   "outputs": [
    {
     "name": "stdout",
     "output_type": "stream",
     "text": [
      "Train Score:            0.6582686539148689\n",
      "Validation Score:       -0.7282507645762665\n",
      "Difference in scores:   1.3865194184911354\n"
     ]
    }
   ],
   "source": [
    "third_model_poly_3 = LinearRegression()\n",
    "\n",
    "third_score = cross_validate(\n",
    "    estimator=third_model_poly_3,\n",
    "    X=X_train_poly3,\n",
    "    y=y_train,\n",
    "    return_train_score=True,\n",
    "    return_estimator=True,\n",
    "    cv=splitter\n",
    ")\n",
    "print(f\"Train Score:            {third_score['train_score'].mean()}\")\n",
    "print(f\"Validation Score:       {third_score['test_score'].mean()}\")\n",
    "print(f\"Difference in scores:   {  (third_score['train_score'].mean()) - (third_score['test_score'].mean())}\")"
   ]
  },
  {
   "cell_type": "markdown",
   "metadata": {},
   "source": [
    "This model performed bad, it scored a good train score but a less validation score hence it is overfitting."
   ]
  },
  {
   "cell_type": "markdown",
   "metadata": {},
   "source": [
    "Going back to the OLS model"
   ]
  },
  {
   "cell_type": "code",
   "execution_count": 244,
   "metadata": {},
   "outputs": [
    {
     "data": {
      "text/html": [
       "<table class=\"simpletable\">\n",
       "<caption>OLS Regression Results</caption>\n",
       "<tr>\n",
       "  <th>Dep. Variable:</th>          <td>price</td>      <th>  R-squared:         </th>  <td>   0.591</td>  \n",
       "</tr>\n",
       "<tr>\n",
       "  <th>Model:</th>                   <td>OLS</td>       <th>  Adj. R-squared:    </th>  <td>   0.590</td>  \n",
       "</tr>\n",
       "<tr>\n",
       "  <th>Method:</th>             <td>Least Squares</td>  <th>  F-statistic:       </th>  <td>   1222.</td>  \n",
       "</tr>\n",
       "<tr>\n",
       "  <th>Date:</th>             <td>Fri, 01 Jul 2022</td> <th>  Prob (F-statistic):</th>   <td>  0.00</td>   \n",
       "</tr>\n",
       "<tr>\n",
       "  <th>Time:</th>                 <td>21:18:35</td>     <th>  Log-Likelihood:    </th> <td>-1.5089e+05</td>\n",
       "</tr>\n",
       "<tr>\n",
       "  <th>No. Observations:</th>      <td> 11865</td>      <th>  AIC:               </th>  <td>3.018e+05</td> \n",
       "</tr>\n",
       "<tr>\n",
       "  <th>Df Residuals:</th>          <td> 11850</td>      <th>  BIC:               </th>  <td>3.019e+05</td> \n",
       "</tr>\n",
       "<tr>\n",
       "  <th>Df Model:</th>              <td>    14</td>      <th>                     </th>      <td> </td>     \n",
       "</tr>\n",
       "<tr>\n",
       "  <th>Covariance Type:</th>      <td>nonrobust</td>    <th>                     </th>      <td> </td>     \n",
       "</tr>\n",
       "</table>\n",
       "<table class=\"simpletable\">\n",
       "<tr>\n",
       "        <td></td>           <th>coef</th>     <th>std err</th>      <th>t</th>      <th>P>|t|</th>  <th>[0.025</th>    <th>0.975]</th>  \n",
       "</tr>\n",
       "<tr>\n",
       "  <th>const</th>         <td>-1.203e+07</td> <td> 8.26e+05</td> <td>  -14.569</td> <td> 0.000</td> <td>-1.37e+07</td> <td>-1.04e+07</td>\n",
       "</tr>\n",
       "<tr>\n",
       "  <th>bedrooms</th>      <td>-1.462e+04</td> <td> 1459.777</td> <td>  -10.014</td> <td> 0.000</td> <td>-1.75e+04</td> <td>-1.18e+04</td>\n",
       "</tr>\n",
       "<tr>\n",
       "  <th>bathrooms</th>     <td> 4395.7034</td> <td>  470.806</td> <td>    9.337</td> <td> 0.000</td> <td> 3472.847</td> <td> 5318.560</td>\n",
       "</tr>\n",
       "<tr>\n",
       "  <th>sqft_living</th>   <td>   39.9809</td> <td>    1.355</td> <td>   29.513</td> <td> 0.000</td> <td>   37.326</td> <td>   42.636</td>\n",
       "</tr>\n",
       "<tr>\n",
       "  <th>sqft_lot</th>      <td>    0.1966</td> <td>    0.023</td> <td>    8.440</td> <td> 0.000</td> <td>    0.151</td> <td>    0.242</td>\n",
       "</tr>\n",
       "<tr>\n",
       "  <th>floors</th>        <td> 2.632e+04</td> <td> 1984.195</td> <td>   13.265</td> <td> 0.000</td> <td> 2.24e+04</td> <td> 3.02e+04</td>\n",
       "</tr>\n",
       "<tr>\n",
       "  <th>waterfront</th>    <td>  8.87e+04</td> <td> 2.24e+04</td> <td>    3.954</td> <td> 0.000</td> <td> 4.47e+04</td> <td> 1.33e+05</td>\n",
       "</tr>\n",
       "<tr>\n",
       "  <th>view</th>          <td> 1.814e+04</td> <td> 1631.354</td> <td>   11.120</td> <td> 0.000</td> <td> 1.49e+04</td> <td> 2.13e+04</td>\n",
       "</tr>\n",
       "<tr>\n",
       "  <th>condition</th>     <td> 1.604e+04</td> <td> 1257.258</td> <td>   12.756</td> <td> 0.000</td> <td> 1.36e+04</td> <td> 1.85e+04</td>\n",
       "</tr>\n",
       "<tr>\n",
       "  <th>grade</th>         <td> 5.264e+04</td> <td> 1270.642</td> <td>   41.428</td> <td> 0.000</td> <td> 5.01e+04</td> <td> 5.51e+04</td>\n",
       "</tr>\n",
       "<tr>\n",
       "  <th>sqft_above</th>    <td>   16.6584</td> <td>    1.377</td> <td>   12.094</td> <td> 0.000</td> <td>   13.959</td> <td>   19.358</td>\n",
       "</tr>\n",
       "<tr>\n",
       "  <th>sqft_basement</th> <td>   23.3226</td> <td>    1.635</td> <td>   14.262</td> <td> 0.000</td> <td>   20.117</td> <td>   26.528</td>\n",
       "</tr>\n",
       "<tr>\n",
       "  <th>yr_built</th>      <td> -997.1527</td> <td>   40.608</td> <td>  -24.556</td> <td> 0.000</td> <td>-1076.751</td> <td> -917.554</td>\n",
       "</tr>\n",
       "<tr>\n",
       "  <th>yr_renovated</th>  <td>   -0.3948</td> <td>    0.929</td> <td>   -0.425</td> <td> 0.671</td> <td>   -2.215</td> <td>    1.426</td>\n",
       "</tr>\n",
       "<tr>\n",
       "  <th>lat</th>           <td> 4.347e+05</td> <td> 5323.290</td> <td>   81.655</td> <td> 0.000</td> <td> 4.24e+05</td> <td> 4.45e+05</td>\n",
       "</tr>\n",
       "<tr>\n",
       "  <th>long</th>          <td> 5.594e+04</td> <td> 6126.619</td> <td>    9.131</td> <td> 0.000</td> <td> 4.39e+04</td> <td>  6.8e+04</td>\n",
       "</tr>\n",
       "</table>\n",
       "<table class=\"simpletable\">\n",
       "<tr>\n",
       "  <th>Omnibus:</th>       <td>127.232</td> <th>  Durbin-Watson:     </th> <td>   2.031</td>\n",
       "</tr>\n",
       "<tr>\n",
       "  <th>Prob(Omnibus):</th> <td> 0.000</td>  <th>  Jarque-Bera (JB):  </th> <td> 144.255</td>\n",
       "</tr>\n",
       "<tr>\n",
       "  <th>Skew:</th>          <td> 0.207</td>  <th>  Prob(JB):          </th> <td>4.74e-32</td>\n",
       "</tr>\n",
       "<tr>\n",
       "  <th>Kurtosis:</th>      <td> 3.347</td>  <th>  Cond. No.          </th> <td>1.09e+17</td>\n",
       "</tr>\n",
       "</table><br/><br/>Notes:<br/>[1] Standard Errors assume that the covariance matrix of the errors is correctly specified.<br/>[2] The smallest eigenvalue is 1.27e-21. This might indicate that there are<br/>strong multicollinearity problems or that the design matrix is singular."
      ],
      "text/plain": [
       "<class 'statsmodels.iolib.summary.Summary'>\n",
       "\"\"\"\n",
       "                            OLS Regression Results                            \n",
       "==============================================================================\n",
       "Dep. Variable:                  price   R-squared:                       0.591\n",
       "Model:                            OLS   Adj. R-squared:                  0.590\n",
       "Method:                 Least Squares   F-statistic:                     1222.\n",
       "Date:                Fri, 01 Jul 2022   Prob (F-statistic):               0.00\n",
       "Time:                        21:18:35   Log-Likelihood:            -1.5089e+05\n",
       "No. Observations:               11865   AIC:                         3.018e+05\n",
       "Df Residuals:                   11850   BIC:                         3.019e+05\n",
       "Df Model:                          14                                         \n",
       "Covariance Type:            nonrobust                                         \n",
       "=================================================================================\n",
       "                    coef    std err          t      P>|t|      [0.025      0.975]\n",
       "---------------------------------------------------------------------------------\n",
       "const         -1.203e+07   8.26e+05    -14.569      0.000   -1.37e+07   -1.04e+07\n",
       "bedrooms      -1.462e+04   1459.777    -10.014      0.000   -1.75e+04   -1.18e+04\n",
       "bathrooms      4395.7034    470.806      9.337      0.000    3472.847    5318.560\n",
       "sqft_living      39.9809      1.355     29.513      0.000      37.326      42.636\n",
       "sqft_lot          0.1966      0.023      8.440      0.000       0.151       0.242\n",
       "floors         2.632e+04   1984.195     13.265      0.000    2.24e+04    3.02e+04\n",
       "waterfront      8.87e+04   2.24e+04      3.954      0.000    4.47e+04    1.33e+05\n",
       "view           1.814e+04   1631.354     11.120      0.000    1.49e+04    2.13e+04\n",
       "condition      1.604e+04   1257.258     12.756      0.000    1.36e+04    1.85e+04\n",
       "grade          5.264e+04   1270.642     41.428      0.000    5.01e+04    5.51e+04\n",
       "sqft_above       16.6584      1.377     12.094      0.000      13.959      19.358\n",
       "sqft_basement    23.3226      1.635     14.262      0.000      20.117      26.528\n",
       "yr_built       -997.1527     40.608    -24.556      0.000   -1076.751    -917.554\n",
       "yr_renovated     -0.3948      0.929     -0.425      0.671      -2.215       1.426\n",
       "lat            4.347e+05   5323.290     81.655      0.000    4.24e+05    4.45e+05\n",
       "long           5.594e+04   6126.619      9.131      0.000    4.39e+04     6.8e+04\n",
       "==============================================================================\n",
       "Omnibus:                      127.232   Durbin-Watson:                   2.031\n",
       "Prob(Omnibus):                  0.000   Jarque-Bera (JB):              144.255\n",
       "Skew:                           0.207   Prob(JB):                     4.74e-32\n",
       "Kurtosis:                       3.347   Cond. No.                     1.09e+17\n",
       "==============================================================================\n",
       "\n",
       "Notes:\n",
       "[1] Standard Errors assume that the covariance matrix of the errors is correctly specified.\n",
       "[2] The smallest eigenvalue is 1.27e-21. This might indicate that there are\n",
       "strong multicollinearity problems or that the design matrix is singular.\n",
       "\"\"\""
      ]
     },
     "execution_count": 244,
     "metadata": {},
     "output_type": "execute_result"
    }
   ],
   "source": [
    "olsmodel.summary()"
   ]
  },
  {
   "cell_type": "markdown",
   "metadata": {},
   "source": [
    "### Fourth Model "
   ]
  },
  {
   "cell_type": "markdown",
   "metadata": {},
   "source": [
    "In this model I will select all features with a p-value of 0.000"
   ]
  },
  {
   "cell_type": "code",
   "execution_count": 245,
   "metadata": {},
   "outputs": [],
   "source": [
    "# selecting all attributes with a p value of 0.0000 and checking if they suit for a good model\n",
    "signficant_features = ['bedrooms', 'bathrooms', 'sqft_living', 'waterfront', 'condition', 'grade', 'sqft_basement', 'yr_built'] \n",
    "# signficant_features = ['bedrooms', 'bathrooms', 'waterfront', 'condition', 'grade', 'yr_built'] "
   ]
  },
  {
   "cell_type": "markdown",
   "metadata": {},
   "source": [
    "For this model I will use the second_model to model our fourth model with the significant_features to see if they will perform well"
   ]
  },
  {
   "cell_type": "code",
   "execution_count": 246,
   "metadata": {},
   "outputs": [],
   "source": [
    "X_train_fourth_model = X_train[signficant_features]"
   ]
  },
  {
   "cell_type": "code",
   "execution_count": 247,
   "metadata": {},
   "outputs": [
    {
     "name": "stdout",
     "output_type": "stream",
     "text": [
      "Train Score:            0.33782126941761853\n",
      "Validation Score:       0.33358800262262694\n",
      "Difference in scores:   0.004233266794991586\n"
     ]
    }
   ],
   "source": [
    "fourth_model = LinearRegression()\n",
    "\n",
    "fourth_score = cross_validate(\n",
    "    estimator=fourth_model,\n",
    "    X=X_train_fourth_model,\n",
    "    y=y_train,\n",
    "    return_train_score=True,\n",
    "    return_estimator=True,\n",
    "    cv=splitter\n",
    ")\n",
    "print(f\"Train Score:            {fourth_score['train_score'].mean()}\")\n",
    "print(f\"Validation Score:       {fourth_score['test_score'].mean()}\")\n",
    "print(f\"Difference in scores:   {  (fourth_score['train_score'].mean()) - (fourth_score['test_score'].mean())}\")"
   ]
  },
  {
   "cell_type": "markdown",
   "metadata": {},
   "source": [
    "### Building and evaluating a final Model"
   ]
  },
  {
   "cell_type": "markdown",
   "metadata": {},
   "source": [
    "#### First I'll perform data preparation to the test set"
   ]
  },
  {
   "cell_type": "markdown",
   "metadata": {},
   "source": [
    "using the data_preparation function I will prepare the training set"
   ]
  },
  {
   "cell_type": "code",
   "execution_count": 248,
   "metadata": {},
   "outputs": [
    {
     "name": "stderr",
     "output_type": "stream",
     "text": [
      "/tmp/ipykernel_54934/3432681625.py:10: SettingWithCopyWarning: \n",
      "A value is trying to be set on a copy of a slice from a DataFrame.\n",
      "Try using .loc[row_indexer,col_indexer] = value instead\n",
      "\n",
      "See the caveats in the documentation: https://pandas.pydata.org/pandas-docs/stable/user_guide/indexing.html#returning-a-view-versus-a-copy\n",
      "  view.view = new_view\n",
      "/tmp/ipykernel_54934/598743563.py:10: SettingWithCopyWarning: \n",
      "A value is trying to be set on a copy of a slice from a DataFrame.\n",
      "Try using .loc[row_indexer,col_indexer] = value instead\n",
      "\n",
      "See the caveats in the documentation: https://pandas.pydata.org/pandas-docs/stable/user_guide/indexing.html#returning-a-view-versus-a-copy\n",
      "  waterfront.waterfront = new_waterfront\n",
      "/tmp/ipykernel_54934/99383065.py:6: SettingWithCopyWarning: \n",
      "A value is trying to be set on a copy of a slice from a DataFrame.\n",
      "Try using .loc[row_indexer,col_indexer] = value instead\n",
      "\n",
      "See the caveats in the documentation: https://pandas.pydata.org/pandas-docs/stable/user_guide/indexing.html#returning-a-view-versus-a-copy\n",
      "  concated_set['sqft_basement'] = pd.to_numeric(concated_set['sqft_basement'])\n"
     ]
    }
   ],
   "source": [
    "# creating a ready and cleaned set\n",
    "concated_test = data_preparation(X_test, y_test)"
   ]
  },
  {
   "cell_type": "code",
   "execution_count": 249,
   "metadata": {},
   "outputs": [
    {
     "name": "stdout",
     "output_type": "stream",
     "text": [
      "<class 'pandas.core.frame.DataFrame'>\n",
      "Int64Index: 3967 entries, 2997800076 to 148000440\n",
      "Data columns (total 16 columns):\n",
      " #   Column         Non-Null Count  Dtype  \n",
      "---  ------         --------------  -----  \n",
      " 0   price          3967 non-null   float64\n",
      " 1   bedrooms       3967 non-null   int64  \n",
      " 2   bathrooms      3967 non-null   float64\n",
      " 3   sqft_living    3967 non-null   int64  \n",
      " 4   sqft_lot       3967 non-null   int64  \n",
      " 5   floors         3967 non-null   float64\n",
      " 6   waterfront     3967 non-null   float64\n",
      " 7   view           3967 non-null   float64\n",
      " 8   condition      3967 non-null   int64  \n",
      " 9   grade          3967 non-null   int64  \n",
      " 10  sqft_above     3967 non-null   int64  \n",
      " 11  sqft_basement  3967 non-null   float64\n",
      " 12  yr_built       3967 non-null   int64  \n",
      " 13  yr_renovated   3967 non-null   float64\n",
      " 14  lat            3967 non-null   float64\n",
      " 15  long           3967 non-null   float64\n",
      "dtypes: float64(9), int64(7)\n",
      "memory usage: 526.9 KB\n"
     ]
    }
   ],
   "source": [
    "concated_test.info()"
   ]
  },
  {
   "cell_type": "code",
   "execution_count": 250,
   "metadata": {},
   "outputs": [
    {
     "data": {
      "text/plain": [
       "False"
      ]
     },
     "execution_count": 250,
     "metadata": {},
     "output_type": "execute_result"
    }
   ],
   "source": [
    "# checking for null values in the testing \n",
    "concated_test.isna().any().any()"
   ]
  },
  {
   "cell_type": "markdown",
   "metadata": {},
   "source": [
    "Finally splitting the prepared train set using the set_splitter function"
   ]
  },
  {
   "cell_type": "code",
   "execution_count": 251,
   "metadata": {},
   "outputs": [],
   "source": [
    "X_test, y_test = set_splitter(concated_test)"
   ]
  },
  {
   "cell_type": "code",
   "execution_count": 252,
   "metadata": {},
   "outputs": [
    {
     "data": {
      "text/plain": [
       "3967"
      ]
     },
     "metadata": {},
     "output_type": "display_data"
    },
    {
     "data": {
      "text/plain": [
       "3967"
      ]
     },
     "execution_count": 252,
     "metadata": {},
     "output_type": "execute_result"
    }
   ],
   "source": [
    "display(len(X_test))\n",
    "len(y_test)"
   ]
  },
  {
   "cell_type": "markdown",
   "metadata": {},
   "source": [
    "This model will be based on the second_model_poly_2 since it performed well"
   ]
  },
  {
   "cell_type": "code",
   "execution_count": 253,
   "metadata": {},
   "outputs": [
    {
     "data": {
      "text/plain": [
       "0.5810857238579323"
      ]
     },
     "execution_count": 253,
     "metadata": {},
     "output_type": "execute_result"
    }
   ],
   "source": [
    "final_model = first_model\n",
    "final_model.fit(X_train, y_train)\n",
    "\n",
    "\n",
    "# scoring the model on the X_test and the y_test\n",
    "final_model.score(X_test, y_test)"
   ]
  },
  {
   "cell_type": "markdown",
   "metadata": {},
   "source": [
    "The model perfmed well to on the test set"
   ]
  },
  {
   "cell_type": "markdown",
   "metadata": {},
   "source": [
    "## Computing the RMSE"
   ]
  },
  {
   "cell_type": "code",
   "execution_count": 254,
   "metadata": {},
   "outputs": [
    {
     "data": {
      "text/plain": [
       "80829.78240700875"
      ]
     },
     "execution_count": 254,
     "metadata": {},
     "output_type": "execute_result"
    }
   ],
   "source": [
    "mean_squared_error(y_test, final_model.predict(X_test), squared=False)"
   ]
  },
  {
   "cell_type": "markdown",
   "metadata": {},
   "source": [
    "This means that for every house price predicted with this model the house price will be off will with approximately $ 80829.78"
   ]
  },
  {
   "cell_type": "markdown",
   "metadata": {},
   "source": [
    "## Interpreting the Final Model"
   ]
  },
  {
   "cell_type": "markdown",
   "metadata": {},
   "source": [
    "Below are the coefficients of the model"
   ]
  },
  {
   "cell_type": "code",
   "execution_count": 255,
   "metadata": {},
   "outputs": [
    {
     "data": {
      "text/plain": [
       "15"
      ]
     },
     "execution_count": 255,
     "metadata": {},
     "output_type": "execute_result"
    }
   ],
   "source": [
    "len(X_train.columns)"
   ]
  },
  {
   "cell_type": "code",
   "execution_count": 256,
   "metadata": {},
   "outputs": [
    {
     "data": {
      "text/plain": [
       "bedrooms         -14618.067407\n",
       "bathrooms          4395.703382\n",
       "sqft_living          39.980934\n",
       "sqft_lot              0.196620\n",
       "floors            26320.240377\n",
       "waterfront        88703.776177\n",
       "view              18140.651321\n",
       "condition         16037.934408\n",
       "grade             52640.354330\n",
       "sqft_above           16.658368\n",
       "sqft_basement        23.322566\n",
       "yr_built           -997.152742\n",
       "yr_renovated         -0.394823\n",
       "lat              434674.114952\n",
       "long              55944.321074\n",
       "Name: coefficients, dtype: float64"
      ]
     },
     "execution_count": 256,
     "metadata": {},
     "output_type": "execute_result"
    }
   ],
   "source": [
    "final_model_coefficients = pd.Series(final_model.coef_,index=X_train.columns, name='coefficients')\n",
    "final_model_coefficients"
   ]
  },
  {
   "cell_type": "markdown",
   "metadata": {},
   "source": [
    "## Investigating Linearity"
   ]
  },
  {
   "cell_type": "code",
   "execution_count": 257,
   "metadata": {},
   "outputs": [
    {
     "data": {
      "text/plain": [
       "Text(0, 0.5, 'Predicted Price')"
      ]
     },
     "execution_count": 257,
     "metadata": {},
     "output_type": "execute_result"
    },
    {
     "data": {
      "image/png": "[encoded data removed]",
      "text/plain": [
       "<Figure size 432x288 with 1 Axes>"
      ]
     },
     "metadata": {
      "needs_background": "light"
     },
     "output_type": "display_data"
    }
   ],
   "source": [
    "predictions = final_model.predict(X_test)\n",
    "fig,ax = plt.subplots()\n",
    "\n",
    "perfect_line = np.arange(y_test.min(), y_test.max())\n",
    "\n",
    "ax.plot(perfect_line, linestyle='--', color='orange', label='perfect fit')\n",
    "ax.scatter(y_test, predictions, alpha=0.5)\n",
    "\n",
    "ax.set_xlabel('Actual Price')\n",
    "ax.set_ylabel('Predicted Price')"
   ]
  },
  {
   "cell_type": "markdown",
   "metadata": {},
   "source": [
    "The model is hitting a good number of points hence we are not violating the linear consumption."
   ]
  },
  {
   "cell_type": "markdown",
   "metadata": {},
   "source": [
    "## Investigating normality"
   ]
  },
  {
   "cell_type": "code",
   "execution_count": 258,
   "metadata": {},
   "outputs": [
    {
     "data": {
      "image/png": "[encoded data removed]",
      "text/plain": [
       "<Figure size 432x288 with 1 Axes>"
      ]
     },
     "metadata": {
      "needs_background": "light"
     },
     "output_type": "display_data"
    }
   ],
   "source": [
    "residuals = (y_test - predictions)\n",
    "sm.graphics.qqplot(residuals, dist=stats.norm, line='45', fit=True);"
   ]
  },
  {
   "cell_type": "markdown",
   "metadata": {},
   "source": [
    "We are not violating the normality assumptions hence the model passes the normality assumption test"
   ]
  },
  {
   "cell_type": "markdown",
   "metadata": {},
   "source": [
    "## Investigating Homoscedacity"
   ]
  },
  {
   "cell_type": "code",
   "execution_count": 259,
   "metadata": {},
   "outputs": [
    {
     "data": {
      "image/png": "[encoded data removed]",
      "text/plain": [
       "<Figure size 432x288 with 1 Axes>"
      ]
     },
     "metadata": {
      "needs_background": "light"
     },
     "output_type": "display_data"
    }
   ],
   "source": [
    "# Run this cell without changes\n",
    "fig, ax = plt.subplots()\n",
    "\n",
    "ax.scatter(predictions, residuals, alpha=0.5)\n",
    "ax.plot(predictions, [0 for i in range(len(X_test))])\n",
    "ax.set_xlabel(\"Predicted Value\")\n",
    "ax.set_ylabel(\"Actual - Predicted Value\");"
   ]
  },
  {
   "cell_type": "markdown",
   "metadata": {},
   "source": [
    "This is not a perfect funnel shape, hence assumption that the is similar variances in different groups being prepared."
   ]
  },
  {
   "cell_type": "markdown",
   "metadata": {},
   "source": [
    "### Conclusion"
   ]
  },
  {
   "cell_type": "markdown",
   "metadata": {},
   "source": [
    "We can but medium confidence on this model since it is off by $ 80829.78240700875 which is alot of money."
   ]
  }
 ],
 "metadata": {
  "kernelspec": {
   "display_name": "Python 3.8.10 64-bit",
   "language": "python",
   "name": "python3"
  },
  "language_info": {
   "codemirror_mode": {
    "name": "ipython",
    "version": 3
   },
   "file_extension": ".py",
   "mimetype": "text/x-python",
   "name": "python",
   "nbconvert_exporter": "python",
   "pygments_lexer": "ipython3",
   "version": "3.8.10"
  },
  "vscode": {
   "interpreter": {
    "hash": "916dbcbb3f70747c44a77c7bcd40155683ae19c65e1c03b4aa3499c5328201f1"
   }
  }
 },
 "nbformat": 4,
 "nbformat_minor": 2
}
