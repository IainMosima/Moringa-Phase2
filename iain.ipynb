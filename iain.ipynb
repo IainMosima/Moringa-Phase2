{
 "cells": [
  {
   "cell_type": "markdown",
   "metadata": {},
   "source": [
    "# 1. Business Understanding\n",
    "\n",
    "In this project I'm going to develop a pricing algorithm for houses in the northwest county based on a past collected data of house sales. The goal is to help homeowners save time on buying and/or selling houses.\n",
    "\n",
    "This algorithm is predictive, meaning it will help stackeholders who want to buy or sell houses can use this algorithm to predcit house prices based on home renovations.\n",
    "\n",
    "This algorithm will be able to tell us something about the relationship between attributes of houses and their prices. It other terms it will be inferential.\n"
   ]
  },
  {
   "cell_type": "markdown",
   "metadata": {},
   "source": [
    "# Loading the data"
   ]
  },
  {
   "cell_type": "code",
   "execution_count": 748,
   "metadata": {},
   "outputs": [],
   "source": [
    "# importing the necessary libraries for this project\n",
    "import pandas as pd\n",
    "import numpy as np\n",
    "import scipy.stats as stats\n",
    "import statsmodels.api as sm\n",
    "from sklearn.model_selection import train_test_split\n",
    "from sklearn.linear_model import LinearRegression\n",
    "from sklearn.model_selection import cross_validate, ShuffleSplit\n",
    "from sklearn.feature_selection import RFECV\n",
    "from sklearn.preprocessing import StandardScaler, PolynomialFeatures\n",
    "from  sklearn.impute import SimpleImputer\n",
    "\n",
    "import seaborn as sns\n",
    "import matplotlib.pyplot as plt\n",
    "\n",
    "np.random.seed(21)\n",
    "\n",
    "%matplotlib inline"
   ]
  },
  {
   "cell_type": "code",
   "execution_count": 749,
   "metadata": {},
   "outputs": [
    {
     "data": {
      "text/html": [
       "<div>\n",
       "<style scoped>\n",
       "    .dataframe tbody tr th:only-of-type {\n",
       "        vertical-align: middle;\n",
       "    }\n",
       "\n",
       "    .dataframe tbody tr th {\n",
       "        vertical-align: top;\n",
       "    }\n",
       "\n",
       "    .dataframe thead th {\n",
       "        text-align: right;\n",
       "    }\n",
       "</style>\n",
       "<table border=\"1\" class=\"dataframe\">\n",
       "  <thead>\n",
       "    <tr style=\"text-align: right;\">\n",
       "      <th></th>\n",
       "      <th>date</th>\n",
       "      <th>price</th>\n",
       "      <th>bedrooms</th>\n",
       "      <th>bathrooms</th>\n",
       "      <th>sqft_living</th>\n",
       "      <th>sqft_lot</th>\n",
       "      <th>floors</th>\n",
       "      <th>waterfront</th>\n",
       "      <th>view</th>\n",
       "      <th>condition</th>\n",
       "      <th>grade</th>\n",
       "      <th>sqft_above</th>\n",
       "      <th>sqft_basement</th>\n",
       "      <th>yr_built</th>\n",
       "      <th>yr_renovated</th>\n",
       "      <th>zipcode</th>\n",
       "      <th>lat</th>\n",
       "      <th>long</th>\n",
       "      <th>sqft_living15</th>\n",
       "      <th>sqft_lot15</th>\n",
       "    </tr>\n",
       "    <tr>\n",
       "      <th>id</th>\n",
       "      <th></th>\n",
       "      <th></th>\n",
       "      <th></th>\n",
       "      <th></th>\n",
       "      <th></th>\n",
       "      <th></th>\n",
       "      <th></th>\n",
       "      <th></th>\n",
       "      <th></th>\n",
       "      <th></th>\n",
       "      <th></th>\n",
       "      <th></th>\n",
       "      <th></th>\n",
       "      <th></th>\n",
       "      <th></th>\n",
       "      <th></th>\n",
       "      <th></th>\n",
       "      <th></th>\n",
       "      <th></th>\n",
       "      <th></th>\n",
       "    </tr>\n",
       "  </thead>\n",
       "  <tbody>\n",
       "    <tr>\n",
       "      <th>7129300520</th>\n",
       "      <td>10/13/2014</td>\n",
       "      <td>221900.0</td>\n",
       "      <td>3</td>\n",
       "      <td>1.00</td>\n",
       "      <td>1180</td>\n",
       "      <td>5650</td>\n",
       "      <td>1.0</td>\n",
       "      <td>NaN</td>\n",
       "      <td>0.0</td>\n",
       "      <td>3</td>\n",
       "      <td>7</td>\n",
       "      <td>1180</td>\n",
       "      <td>0.0</td>\n",
       "      <td>1955</td>\n",
       "      <td>0.0</td>\n",
       "      <td>98178</td>\n",
       "      <td>47.5112</td>\n",
       "      <td>-122.257</td>\n",
       "      <td>1340</td>\n",
       "      <td>5650</td>\n",
       "    </tr>\n",
       "    <tr>\n",
       "      <th>6414100192</th>\n",
       "      <td>12/9/2014</td>\n",
       "      <td>538000.0</td>\n",
       "      <td>3</td>\n",
       "      <td>2.25</td>\n",
       "      <td>2570</td>\n",
       "      <td>7242</td>\n",
       "      <td>2.0</td>\n",
       "      <td>0.0</td>\n",
       "      <td>0.0</td>\n",
       "      <td>3</td>\n",
       "      <td>7</td>\n",
       "      <td>2170</td>\n",
       "      <td>400.0</td>\n",
       "      <td>1951</td>\n",
       "      <td>1991.0</td>\n",
       "      <td>98125</td>\n",
       "      <td>47.7210</td>\n",
       "      <td>-122.319</td>\n",
       "      <td>1690</td>\n",
       "      <td>7639</td>\n",
       "    </tr>\n",
       "    <tr>\n",
       "      <th>5631500400</th>\n",
       "      <td>2/25/2015</td>\n",
       "      <td>180000.0</td>\n",
       "      <td>2</td>\n",
       "      <td>1.00</td>\n",
       "      <td>770</td>\n",
       "      <td>10000</td>\n",
       "      <td>1.0</td>\n",
       "      <td>0.0</td>\n",
       "      <td>0.0</td>\n",
       "      <td>3</td>\n",
       "      <td>6</td>\n",
       "      <td>770</td>\n",
       "      <td>0.0</td>\n",
       "      <td>1933</td>\n",
       "      <td>NaN</td>\n",
       "      <td>98028</td>\n",
       "      <td>47.7379</td>\n",
       "      <td>-122.233</td>\n",
       "      <td>2720</td>\n",
       "      <td>8062</td>\n",
       "    </tr>\n",
       "    <tr>\n",
       "      <th>2487200875</th>\n",
       "      <td>12/9/2014</td>\n",
       "      <td>604000.0</td>\n",
       "      <td>4</td>\n",
       "      <td>3.00</td>\n",
       "      <td>1960</td>\n",
       "      <td>5000</td>\n",
       "      <td>1.0</td>\n",
       "      <td>0.0</td>\n",
       "      <td>0.0</td>\n",
       "      <td>5</td>\n",
       "      <td>7</td>\n",
       "      <td>1050</td>\n",
       "      <td>910.0</td>\n",
       "      <td>1965</td>\n",
       "      <td>0.0</td>\n",
       "      <td>98136</td>\n",
       "      <td>47.5208</td>\n",
       "      <td>-122.393</td>\n",
       "      <td>1360</td>\n",
       "      <td>5000</td>\n",
       "    </tr>\n",
       "    <tr>\n",
       "      <th>1954400510</th>\n",
       "      <td>2/18/2015</td>\n",
       "      <td>510000.0</td>\n",
       "      <td>3</td>\n",
       "      <td>2.00</td>\n",
       "      <td>1680</td>\n",
       "      <td>8080</td>\n",
       "      <td>1.0</td>\n",
       "      <td>0.0</td>\n",
       "      <td>0.0</td>\n",
       "      <td>3</td>\n",
       "      <td>8</td>\n",
       "      <td>1680</td>\n",
       "      <td>0.0</td>\n",
       "      <td>1987</td>\n",
       "      <td>0.0</td>\n",
       "      <td>98074</td>\n",
       "      <td>47.6168</td>\n",
       "      <td>-122.045</td>\n",
       "      <td>1800</td>\n",
       "      <td>7503</td>\n",
       "    </tr>\n",
       "  </tbody>\n",
       "</table>\n",
       "</div>"
      ],
      "text/plain": [
       "                  date     price  bedrooms  bathrooms  sqft_living  sqft_lot  \\\n",
       "id                                                                             \n",
       "7129300520  10/13/2014  221900.0         3       1.00         1180      5650   \n",
       "6414100192   12/9/2014  538000.0         3       2.25         2570      7242   \n",
       "5631500400   2/25/2015  180000.0         2       1.00          770     10000   \n",
       "2487200875   12/9/2014  604000.0         4       3.00         1960      5000   \n",
       "1954400510   2/18/2015  510000.0         3       2.00         1680      8080   \n",
       "\n",
       "            floors  waterfront  view  condition  grade  sqft_above  \\\n",
       "id                                                                   \n",
       "7129300520     1.0         NaN   0.0          3      7        1180   \n",
       "6414100192     2.0         0.0   0.0          3      7        2170   \n",
       "5631500400     1.0         0.0   0.0          3      6         770   \n",
       "2487200875     1.0         0.0   0.0          5      7        1050   \n",
       "1954400510     1.0         0.0   0.0          3      8        1680   \n",
       "\n",
       "           sqft_basement  yr_built  yr_renovated  zipcode      lat     long  \\\n",
       "id                                                                            \n",
       "7129300520           0.0      1955           0.0    98178  47.5112 -122.257   \n",
       "6414100192         400.0      1951        1991.0    98125  47.7210 -122.319   \n",
       "5631500400           0.0      1933           NaN    98028  47.7379 -122.233   \n",
       "2487200875         910.0      1965           0.0    98136  47.5208 -122.393   \n",
       "1954400510           0.0      1987           0.0    98074  47.6168 -122.045   \n",
       "\n",
       "            sqft_living15  sqft_lot15  \n",
       "id                                     \n",
       "7129300520           1340        5650  \n",
       "6414100192           1690        7639  \n",
       "5631500400           2720        8062  \n",
       "2487200875           1360        5000  \n",
       "1954400510           1800        7503  "
      ]
     },
     "execution_count": 749,
     "metadata": {},
     "output_type": "execute_result"
    }
   ],
   "source": [
    "# loading the dataset\n",
    "df = pd.read_csv('./data/kc_house_data.csv', index_col='id')\n",
    "df.head()"
   ]
  },
  {
   "cell_type": "code",
   "execution_count": 750,
   "metadata": {},
   "outputs": [
    {
     "name": "stdout",
     "output_type": "stream",
     "text": [
      "<class 'pandas.core.frame.DataFrame'>\n",
      "Int64Index: 21597 entries, 7129300520 to 1523300157\n",
      "Data columns (total 20 columns):\n",
      " #   Column         Non-Null Count  Dtype  \n",
      "---  ------         --------------  -----  \n",
      " 0   date           21597 non-null  object \n",
      " 1   price          21597 non-null  float64\n",
      " 2   bedrooms       21597 non-null  int64  \n",
      " 3   bathrooms      21597 non-null  float64\n",
      " 4   sqft_living    21597 non-null  int64  \n",
      " 5   sqft_lot       21597 non-null  int64  \n",
      " 6   floors         21597 non-null  float64\n",
      " 7   waterfront     19221 non-null  float64\n",
      " 8   view           21534 non-null  float64\n",
      " 9   condition      21597 non-null  int64  \n",
      " 10  grade          21597 non-null  int64  \n",
      " 11  sqft_above     21597 non-null  int64  \n",
      " 12  sqft_basement  21597 non-null  object \n",
      " 13  yr_built       21597 non-null  int64  \n",
      " 14  yr_renovated   17755 non-null  float64\n",
      " 15  zipcode        21597 non-null  int64  \n",
      " 16  lat            21597 non-null  float64\n",
      " 17  long           21597 non-null  float64\n",
      " 18  sqft_living15  21597 non-null  int64  \n",
      " 19  sqft_lot15     21597 non-null  int64  \n",
      "dtypes: float64(8), int64(10), object(2)\n",
      "memory usage: 3.5+ MB\n"
     ]
    }
   ],
   "source": [
    "df.info()"
   ]
  },
  {
   "cell_type": "code",
   "execution_count": 751,
   "metadata": {},
   "outputs": [
    {
     "data": {
      "text/plain": [
       "(21597, 20)"
      ]
     },
     "execution_count": 751,
     "metadata": {},
     "output_type": "execute_result"
    }
   ],
   "source": [
    "original_shape = df.shape \n",
    "original_shape"
   ]
  },
  {
   "cell_type": "markdown",
   "metadata": {},
   "source": [
    "# 2. Data Understanding\n",
    " - Given is a a King County House Sales dataset. Which contains house attributes as well  as their prices. This is suitable for this project as we willl be using these attributes to predict the house prices.\n",
    " - The dataset has a total of 21,597 rows and 21 columns. Meaning 21,597 houses were taken as a sample and 21 of their existing attributes recorded.\n",
    " - Based on the sample given some attributes will sure help show the relationship between them and house prices.\n",
    " - The data also has some irrelevant columns which will be dropped, since they might hinder in creating a good model.\n"
   ]
  },
  {
   "cell_type": "markdown",
   "metadata": {},
   "source": [
    "# 3. Data Preparation"
   ]
  },
  {
   "cell_type": "markdown",
   "metadata": {},
   "source": [
    "The prediction target for this analysis is the proce of houses, hence will separate X and y appropiately"
   ]
  },
  {
   "cell_type": "code",
   "execution_count": 752,
   "metadata": {},
   "outputs": [],
   "source": [
    "X = df.drop('price', axis=1)\n",
    "y = df['price']"
   ]
  },
  {
   "cell_type": "code",
   "execution_count": 753,
   "metadata": {},
   "outputs": [],
   "source": [
    "# splitting the data into a train and test sets, prior beforming any preprocesssing steps\n",
    "X_train, X_test, y_train, y_test = train_test_split(X, y, random_state=50)"
   ]
  },
  {
   "cell_type": "code",
   "execution_count": 754,
   "metadata": {},
   "outputs": [
    {
     "name": "stdout",
     "output_type": "stream",
     "text": [
      "X_train is a dataframe with 16197 records and 19 attributes\n",
      "y_train is a series with 16197 values\n",
      "\n",
      "X_test has 5400 records\n",
      "y_test has 5400 records\n"
     ]
    }
   ],
   "source": [
    "print(f\"X_train is a dataframe with {X_train.shape[0]} records and {X_train.shape[1]} attributes\")\n",
    "print(f\"y_train is a series with {y_train.shape[0]} values\")\n",
    "print()\n",
    "print(f\"X_test has {X_test.shape[0]} records\")\n",
    "print(f\"y_test has {y_test.shape[0]} records\")"
   ]
  },
  {
   "cell_type": "markdown",
   "metadata": {},
   "source": [
    "## Handling Mising Values"
   ]
  },
  {
   "cell_type": "markdown",
   "metadata": {},
   "source": [
    "### Functions for Missing Values"
   ]
  },
  {
   "cell_type": "code",
   "execution_count": 755,
   "metadata": {},
   "outputs": [],
   "source": [
    "# function to concate a set with its target variable\n",
    "def concater(X, y):\n",
    "    result = pd.concat([y, X], axis = 1)\n",
    "    return result"
   ]
  },
  {
   "cell_type": "code",
   "execution_count": 756,
   "metadata": {},
   "outputs": [],
   "source": [
    "# function to split concated set with its target variable and convert to floors and waterfront to integers\n",
    "def set_splitter(dataset):\n",
    "    X = dataset.drop('price', axis=1)\n",
    "    y = dataset.price\n",
    "    \n",
    "    return X, y"
   ]
  },
  {
   "cell_type": "markdown",
   "metadata": {},
   "source": [
    "Checking for null values in the train set"
   ]
  },
  {
   "cell_type": "code",
   "execution_count": 757,
   "metadata": {},
   "outputs": [
    {
     "data": {
      "text/plain": [
       "price               0\n",
       "date                0\n",
       "bedrooms            0\n",
       "bathrooms           0\n",
       "sqft_living         0\n",
       "sqft_lot            0\n",
       "floors              0\n",
       "waterfront       1788\n",
       "view               47\n",
       "condition           0\n",
       "grade               0\n",
       "sqft_above          0\n",
       "sqft_basement       0\n",
       "yr_built            0\n",
       "yr_renovated     2885\n",
       "zipcode             0\n",
       "lat                 0\n",
       "long                0\n",
       "sqft_living15       0\n",
       "sqft_lot15          0\n",
       "dtype: int64"
      ]
     },
     "execution_count": 757,
     "metadata": {},
     "output_type": "execute_result"
    }
   ],
   "source": [
    "# Concating X_train and y_train\n",
    "concated_train = concater(X_train, y_train)\n",
    "concated_train.isna().sum()"
   ]
  },
  {
   "cell_type": "markdown",
   "metadata": {},
   "source": [
    "### Dealing with yr_renovated null values"
   ]
  },
  {
   "cell_type": "code",
   "execution_count": 758,
   "metadata": {},
   "outputs": [
    {
     "data": {
      "text/plain": [
       "0.0       12750\n",
       "2014.0       52\n",
       "2003.0       24\n",
       "2005.0       23\n",
       "2000.0       23\n",
       "          ...  \n",
       "1959.0        1\n",
       "1945.0        1\n",
       "1944.0        1\n",
       "1948.0        1\n",
       "1953.0        1\n",
       "Name: yr_renovated, Length: 65, dtype: int64"
      ]
     },
     "execution_count": 758,
     "metadata": {},
     "output_type": "execute_result"
    }
   ],
   "source": [
    "# Checking for the values in thr yr_renovated column\n",
    "concated_train['yr_renovated'].value_counts()"
   ]
  },
  {
   "cell_type": "markdown",
   "metadata": {},
   "source": [
    "#### For yr_renovated I will use SimpleImputer to help deal with the null values"
   ]
  },
  {
   "cell_type": "code",
   "execution_count": 759,
   "metadata": {},
   "outputs": [],
   "source": [
    "#  function for dealing with null values in a given set based on the yr_renovated column\n",
    "def yr_renovated(concated_set):\n",
    "    # creating a dataframe which contains the yr_renovated columns\n",
    "    # NB: The houses without renavations have been filtered out\n",
    "    year_renovated = concated_set[concated_set['yr_renovated'] != 0][['yr_renovated']]\n",
    "\n",
    "    # using simpleImputer to deal with the null values in the yr_renovated column\n",
    "    imput = SimpleImputer(missing_values=np.nan, strategy='median')\n",
    "    imput.fit(year_renovated)\n",
    "    new_year_renovated = imput.transform(year_renovated).flatten()\n",
    "    year_renovated['yr_renovated'] = new_year_renovated\n",
    "\n",
    "    condition = (\n",
    "        concated_set.yr_renovated != 0 &\n",
    "        concated_set.yr_renovated.isna()\n",
    "    )\n",
    "\n",
    "    # reassing the variables to the yr_renovated column strictly with columns whose values are not in the 0\n",
    "    concated_set.loc[condition, 'yr_renovated'] = year_renovated\n",
    "\n",
    "    return concated_set"
   ]
  },
  {
   "cell_type": "code",
   "execution_count": 760,
   "metadata": {},
   "outputs": [
    {
     "data": {
      "text/plain": [
       "price               0\n",
       "date                0\n",
       "bedrooms            0\n",
       "bathrooms           0\n",
       "sqft_living         0\n",
       "sqft_lot            0\n",
       "floors              0\n",
       "waterfront       1788\n",
       "view               47\n",
       "condition           0\n",
       "grade               0\n",
       "sqft_above          0\n",
       "sqft_basement       0\n",
       "yr_built            0\n",
       "yr_renovated        0\n",
       "zipcode             0\n",
       "lat                 0\n",
       "long                0\n",
       "sqft_living15       0\n",
       "sqft_lot15          0\n",
       "dtype: int64"
      ]
     },
     "execution_count": 760,
     "metadata": {},
     "output_type": "execute_result"
    }
   ],
   "source": [
    "# dealing with null values in the concated_train set\n",
    "concated_train = yr_renovated(concated_train)\n",
    "concated_train.isna().sum()"
   ]
  },
  {
   "cell_type": "markdown",
   "metadata": {},
   "source": [
    "### Dealing with null values in the view column"
   ]
  },
  {
   "cell_type": "code",
   "execution_count": 763,
   "metadata": {},
   "outputs": [
    {
     "data": {
      "text/plain": [
       "0.0    14585\n",
       "2.0      718\n",
       "3.0      356\n",
       "4.0      246\n",
       "1.0      245\n",
       "Name: view, dtype: int64"
      ]
     },
     "execution_count": 763,
     "metadata": {},
     "output_type": "execute_result"
    }
   ],
   "source": [
    "# checking for the unique values in the column and their occurence\n",
    "concated_train.view.value_counts()"
   ]
  },
  {
   "cell_type": "code",
   "execution_count": 764,
   "metadata": {},
   "outputs": [
    {
     "data": {
      "text/plain": [
       "0.0    14297\n",
       "1.0      112\n",
       "Name: waterfront, dtype: int64"
      ]
     },
     "execution_count": 764,
     "metadata": {},
     "output_type": "execute_result"
    }
   ],
   "source": [
    "concated_train.waterfront.value_counts()"
   ]
  },
  {
   "cell_type": "markdown",
   "metadata": {},
   "source": [
    "Since I'm not sure if the houeses missing the view data have been viewed or not or if they have a waterfront in them, I will drop them so that"
   ]
  },
  {
   "cell_type": "code",
   "execution_count": null,
   "metadata": {},
   "outputs": [],
   "source": []
  },
  {
   "cell_type": "code",
   "execution_count": null,
   "metadata": {},
   "outputs": [],
   "source": []
  },
  {
   "cell_type": "code",
   "execution_count": null,
   "metadata": {},
   "outputs": [],
   "source": []
  },
  {
   "cell_type": "code",
   "execution_count": null,
   "metadata": {},
   "outputs": [],
   "source": []
  },
  {
   "cell_type": "code",
   "execution_count": null,
   "metadata": {},
   "outputs": [],
   "source": []
  },
  {
   "cell_type": "markdown",
   "metadata": {},
   "source": [
    "## A histogram showing the distribution of the target variable (house price)"
   ]
  },
  {
   "cell_type": "code",
   "execution_count": 413,
   "metadata": {},
   "outputs": [
    {
     "data": {
      "text/plain": [
       "Text(0.5, 1.0, 'Distribution of house prices')"
      ]
     },
     "execution_count": 413,
     "metadata": {},
     "output_type": "execute_result"
    },
    {
     "data": {
      "image/png": "[encoded data removed]",
      "text/plain": [
       "<Figure size 1368x648 with 1 Axes>"
      ]
     },
     "metadata": {
      "needs_background": "light"
     },
     "output_type": "display_data"
    }
   ],
   "source": [
    "fig, ax = plt.subplots(figsize=(19,9))\n",
    "\n",
    "ax.hist(y_train, bins=100)\n",
    "\n",
    "\n",
    "ax.set_xlabel('Listing house prices')\n",
    "ax.set_ylabel('Count of house sells')\n",
    "ax.set_title('Distribution of house prices')"
   ]
  },
  {
   "cell_type": "code",
   "execution_count": 414,
   "metadata": {},
   "outputs": [],
   "source": [
    "# function to check for outliers\n",
    "def outliers(column):\n",
    "    outliers = []\n",
    "    quantile1, quantile2 = column.quantile([0.01 ,0.99])\n",
    "\n",
    "    for i in column:\n",
    "        if (i < quantile1) | (i > quantile2):\n",
    "            outliers.append(i)\n",
    "\n",
    "    return outliers\n"
   ]
  },
  {
   "cell_type": "code",
   "execution_count": 415,
   "metadata": {},
   "outputs": [
    {
     "data": {
      "text/plain": [
       "287"
      ]
     },
     "execution_count": 415,
     "metadata": {},
     "output_type": "execute_result"
    }
   ],
   "source": [
    "concated_train_ouliers = outliers(y_train)\n",
    "len(concated_train_ouliers)"
   ]
  },
  {
   "cell_type": "markdown",
   "metadata": {},
   "source": [
    "### From above we have 287 outlies in the train dataset hence will remove them so as to not affect the analysis"
   ]
  },
  {
   "cell_type": "code",
   "execution_count": 416,
   "metadata": {},
   "outputs": [],
   "source": [
    "# function to remove outliers and returns the new updated dataframe\n",
    "def outliers_remover(dataset, outliers):\n",
    "    subset = dataset.copy()\n",
    "    for i in outliers:\n",
    "        row_index = subset[ subset.price == i ].index\n",
    "        subset.drop(row_index, inplace=True)\n",
    "    return subset"
   ]
  },
  {
   "cell_type": "code",
   "execution_count": 417,
   "metadata": {},
   "outputs": [
    {
     "name": "stdout",
     "output_type": "stream",
     "text": [
      "Number of train set records before removing outliers 14409\n",
      "\n",
      "Number of train set records after removing outliers 14109\n"
     ]
    }
   ],
   "source": [
    "print(f\"Number of train set records before removing outliers {concated_train.shape[0]}\")\n",
    "print()\n",
    "concated_train = outliers_remover(concated_train, concated_train_ouliers)\n",
    "print(f\"Number of train set records after removing outliers {concated_train.shape[0]}\")"
   ]
  },
  {
   "cell_type": "code",
   "execution_count": 418,
   "metadata": {},
   "outputs": [
    {
     "data": {
      "text/plain": [
       "14109"
      ]
     },
     "metadata": {},
     "output_type": "display_data"
    },
    {
     "data": {
      "text/plain": [
       "14109"
      ]
     },
     "execution_count": 418,
     "metadata": {},
     "output_type": "execute_result"
    }
   ],
   "source": [
    "# splitting into X and y using the intially created set_splitter function\n",
    "X_Train, y_Train = set_splitter(concated_train)\n",
    "display(len(X_Train))\n",
    "len(y_Train)"
   ]
  },
  {
   "cell_type": "markdown",
   "metadata": {},
   "source": [
    "### A histogram showing the distribution of the target variable (house price) after removing the outliers"
   ]
  },
  {
   "cell_type": "code",
   "execution_count": 419,
   "metadata": {},
   "outputs": [
    {
     "data": {
      "text/plain": [
       "Text(0.5, 1.0, 'Distribution of house prices')"
      ]
     },
     "execution_count": 419,
     "metadata": {},
     "output_type": "execute_result"
    },
    {
     "data": {
      "image/png": "[encoded data removed]",
      "text/plain": [
       "<Figure size 1368x648 with 1 Axes>"
      ]
     },
     "metadata": {
      "needs_background": "light"
     },
     "output_type": "display_data"
    }
   ],
   "source": [
    "fig, ax = plt.subplots(figsize=(19,9))\n",
    "\n",
    "ax.hist(y_train, bins=100)\n",
    "\n",
    "ax.set_xlabel('Listing house prices')\n",
    "ax.set_ylabel('Count of house sells')\n",
    "ax.set_title('Distribution of house prices')"
   ]
  },
  {
   "cell_type": "markdown",
   "metadata": {},
   "source": [
    "# 4. Modeling"
   ]
  },
  {
   "cell_type": "markdown",
   "metadata": {},
   "source": [
    "### Building a heat map to show correlation between all train set attributes and their target which is the house price"
   ]
  },
  {
   "cell_type": "code",
   "execution_count": 420,
   "metadata": {},
   "outputs": [
    {
     "data": {
      "text/plain": [
       "<AxesSubplot:>"
      ]
     },
     "execution_count": 420,
     "metadata": {},
     "output_type": "execute_result"
    },
    {
     "data": {
      "image/png": "[encoded data removed]",
      "text/plain": [
       "<Figure size 360x576 with 2 Axes>"
      ]
     },
     "metadata": {
      "needs_background": "light"
     },
     "output_type": "display_data"
    }
   ],
   "source": [
    "heatmap_x = concated_train\n",
    "\n",
    "train_test_corr = heatmap_x.corr()\n",
    "fig, ax = plt.subplots(figsize=(5, 8))\n",
    "\n",
    "sns.heatmap(\n",
    "    # Specifies the data to be plotted\n",
    "    data = train_test_corr,\n",
    "    # The mask means we only show half the values, instead of showing duplicates.\n",
    "    mask= np.triu(np.ones_like(train_test_corr, dtype=bool)),\n",
    "    # Specifies that we should use the existing axes\n",
    "    ax=ax,\n",
    "    # Specifies that we want labels, not just colors\n",
    "    annot=True,\n",
    "    # Customizing colorbar appearance\n",
    "    cbar_kws={\"label\": \"Correlation\", \"orientation\": \"horizontal\", \"pad\": .2, \"extend\": \"both\"}\n",
    "\n",
    ")"
   ]
  },
  {
   "cell_type": "code",
   "execution_count": 421,
   "metadata": {},
   "outputs": [],
   "source": [
    "#  From the chart the most correlated features are\n",
    "most_correlated_features = ['sqft_living', 'grade']\n"
   ]
  },
  {
   "cell_type": "markdown",
   "metadata": {},
   "source": [
    "A scatterplot of the most_correlated_feature vs house prices"
   ]
  },
  {
   "cell_type": "markdown",
   "metadata": {},
   "source": [
    "### Building a baseline model with the most correlated features"
   ]
  },
  {
   "cell_type": "markdown",
   "metadata": {},
   "source": [
    "### Building a model "
   ]
  },
  {
   "cell_type": "code",
   "execution_count": 422,
   "metadata": {},
   "outputs": [],
   "source": [
    "# Function for getting coeeficients in a cross_valiate\n",
    "def coeeficients(score):\n",
    "    for model in score['estimator']:\n",
    "        print(model.coef_)"
   ]
  },
  {
   "cell_type": "code",
   "execution_count": 423,
   "metadata": {},
   "outputs": [],
   "source": [
    "# Intializing a splitter\n",
    "splitter = ShuffleSplit(\n",
    "    n_splits=3,\n",
    "    test_size=0.25,\n",
    "    random_state=20\n",
    ") # perfoms a 5 seperate train-test splits "
   ]
  },
  {
   "cell_type": "markdown",
   "metadata": {},
   "source": [
    "### Baseline Model "
   ]
  },
  {
   "cell_type": "code",
   "execution_count": 424,
   "metadata": {},
   "outputs": [
    {
     "name": "stdout",
     "output_type": "stream",
     "text": [
      "Train Score:            0.5343943103093689\n",
      "Validation Score:       0.5379924181809541\n"
     ]
    }
   ],
   "source": [
    "baseline_model = LinearRegression()\n",
    "\n",
    "baseline_score = cross_validate(\n",
    "    estimator=baseline_model,\n",
    "    X=X_train[most_correlated_features],\n",
    "    y=y_train,\n",
    "    return_train_score=True,\n",
    "    return_estimator=True,\n",
    "    cv=splitter\n",
    ")\n",
    "\n",
    "print(f\"Train Score:            {baseline_score['train_score'].mean()}\")\n",
    "print(f\"Validation Score:       {baseline_score['test_score'].mean()}\")\n"
   ]
  },
  {
   "cell_type": "markdown",
   "metadata": {},
   "source": [
    "This difference between the train score and validation score is low meaning it is a good model fit. But a 0.5 R-score in the train score reflects a model that explains half of the total variance in the data."
   ]
  },
  {
   "cell_type": "markdown",
   "metadata": {},
   "source": [
    "### Second Model"
   ]
  },
  {
   "cell_type": "markdown",
   "metadata": {},
   "source": [
    "Selecting best features using RFECV"
   ]
  },
  {
   "cell_type": "code",
   "execution_count": 425,
   "metadata": {},
   "outputs": [
    {
     "data": {
      "text/html": [
       "<table class=\"simpletable\">\n",
       "<caption>OLS Regression Results</caption>\n",
       "<tr>\n",
       "  <th>Dep. Variable:</th>          <td>price</td>      <th>  R-squared:         </th>  <td>   0.654</td>  \n",
       "</tr>\n",
       "<tr>\n",
       "  <th>Model:</th>                   <td>OLS</td>       <th>  Adj. R-squared:    </th>  <td>   0.654</td>  \n",
       "</tr>\n",
       "<tr>\n",
       "  <th>Method:</th>             <td>Least Squares</td>  <th>  F-statistic:       </th>  <td>   3027.</td>  \n",
       "</tr>\n",
       "<tr>\n",
       "  <th>Date:</th>             <td>Wed, 29 Jun 2022</td> <th>  Prob (F-statistic):</th>   <td>  0.00</td>   \n",
       "</tr>\n",
       "<tr>\n",
       "  <th>Time:</th>                 <td>20:36:40</td>     <th>  Log-Likelihood:    </th> <td>-1.9760e+05</td>\n",
       "</tr>\n",
       "<tr>\n",
       "  <th>No. Observations:</th>      <td> 14409</td>      <th>  AIC:               </th>  <td>3.952e+05</td> \n",
       "</tr>\n",
       "<tr>\n",
       "  <th>Df Residuals:</th>          <td> 14399</td>      <th>  BIC:               </th>  <td>3.953e+05</td> \n",
       "</tr>\n",
       "<tr>\n",
       "  <th>Df Model:</th>              <td>     9</td>      <th>                     </th>      <td> </td>     \n",
       "</tr>\n",
       "<tr>\n",
       "  <th>Covariance Type:</th>      <td>nonrobust</td>    <th>                     </th>      <td> </td>     \n",
       "</tr>\n",
       "</table>\n",
       "<table class=\"simpletable\">\n",
       "<tr>\n",
       "       <td></td>          <th>coef</th>     <th>std err</th>      <th>t</th>      <th>P>|t|</th>  <th>[0.025</th>    <th>0.975]</th>  \n",
       "</tr>\n",
       "<tr>\n",
       "  <th>const</th>       <td> 6.651e+06</td> <td> 1.59e+05</td> <td>   41.884</td> <td> 0.000</td> <td> 6.34e+06</td> <td> 6.96e+06</td>\n",
       "</tr>\n",
       "<tr>\n",
       "  <th>bedrooms</th>    <td>-4.137e+04</td> <td> 2489.414</td> <td>  -16.620</td> <td> 0.000</td> <td>-4.63e+04</td> <td>-3.65e+04</td>\n",
       "</tr>\n",
       "<tr>\n",
       "  <th>bathrooms</th>   <td> 4.891e+04</td> <td> 4227.618</td> <td>   11.570</td> <td> 0.000</td> <td> 4.06e+04</td> <td> 5.72e+04</td>\n",
       "</tr>\n",
       "<tr>\n",
       "  <th>sqft_living</th> <td>  177.2148</td> <td>    4.004</td> <td>   44.257</td> <td> 0.000</td> <td>  169.366</td> <td>  185.063</td>\n",
       "</tr>\n",
       "<tr>\n",
       "  <th>sqft_lot</th>    <td>   -0.3152</td> <td>    0.049</td> <td>   -6.394</td> <td> 0.000</td> <td>   -0.412</td> <td>   -0.219</td>\n",
       "</tr>\n",
       "<tr>\n",
       "  <th>floors</th>      <td> 2.027e+04</td> <td> 4267.489</td> <td>    4.749</td> <td> 0.000</td> <td> 1.19e+04</td> <td> 2.86e+04</td>\n",
       "</tr>\n",
       "<tr>\n",
       "  <th>waterfront</th>  <td> 8.091e+05</td> <td>  2.1e+04</td> <td>   38.456</td> <td> 0.000</td> <td> 7.68e+05</td> <td>  8.5e+05</td>\n",
       "</tr>\n",
       "<tr>\n",
       "  <th>condition</th>   <td> 1.902e+04</td> <td> 3050.257</td> <td>    6.236</td> <td> 0.000</td> <td>  1.3e+04</td> <td>  2.5e+04</td>\n",
       "</tr>\n",
       "<tr>\n",
       "  <th>grade</th>       <td> 1.296e+05</td> <td> 2621.229</td> <td>   49.426</td> <td> 0.000</td> <td> 1.24e+05</td> <td> 1.35e+05</td>\n",
       "</tr>\n",
       "<tr>\n",
       "  <th>yr_built</th>    <td>-3821.4163</td> <td>   81.637</td> <td>  -46.810</td> <td> 0.000</td> <td>-3981.436</td> <td>-3661.397</td>\n",
       "</tr>\n",
       "</table>\n",
       "<table class=\"simpletable\">\n",
       "<tr>\n",
       "  <th>Omnibus:</th>       <td>9545.132</td> <th>  Durbin-Watson:     </th>  <td>   2.005</td> \n",
       "</tr>\n",
       "<tr>\n",
       "  <th>Prob(Omnibus):</th>  <td> 0.000</td>  <th>  Jarque-Bera (JB):  </th> <td>396649.119</td>\n",
       "</tr>\n",
       "<tr>\n",
       "  <th>Skew:</th>           <td> 2.629</td>  <th>  Prob(JB):          </th>  <td>    0.00</td> \n",
       "</tr>\n",
       "<tr>\n",
       "  <th>Kurtosis:</th>       <td>28.160</td>  <th>  Cond. No.          </th>  <td>3.56e+06</td> \n",
       "</tr>\n",
       "</table><br/><br/>Notes:<br/>[1] Standard Errors assume that the covariance matrix of the errors is correctly specified.<br/>[2] The condition number is large, 3.56e+06. This might indicate that there are<br/>strong multicollinearity or other numerical problems."
      ],
      "text/plain": [
       "<class 'statsmodels.iolib.summary.Summary'>\n",
       "\"\"\"\n",
       "                            OLS Regression Results                            \n",
       "==============================================================================\n",
       "Dep. Variable:                  price   R-squared:                       0.654\n",
       "Model:                            OLS   Adj. R-squared:                  0.654\n",
       "Method:                 Least Squares   F-statistic:                     3027.\n",
       "Date:                Wed, 29 Jun 2022   Prob (F-statistic):               0.00\n",
       "Time:                        20:36:40   Log-Likelihood:            -1.9760e+05\n",
       "No. Observations:               14409   AIC:                         3.952e+05\n",
       "Df Residuals:                   14399   BIC:                         3.953e+05\n",
       "Df Model:                           9                                         \n",
       "Covariance Type:            nonrobust                                         \n",
       "===============================================================================\n",
       "                  coef    std err          t      P>|t|      [0.025      0.975]\n",
       "-------------------------------------------------------------------------------\n",
       "const        6.651e+06   1.59e+05     41.884      0.000    6.34e+06    6.96e+06\n",
       "bedrooms    -4.137e+04   2489.414    -16.620      0.000   -4.63e+04   -3.65e+04\n",
       "bathrooms    4.891e+04   4227.618     11.570      0.000    4.06e+04    5.72e+04\n",
       "sqft_living   177.2148      4.004     44.257      0.000     169.366     185.063\n",
       "sqft_lot       -0.3152      0.049     -6.394      0.000      -0.412      -0.219\n",
       "floors       2.027e+04   4267.489      4.749      0.000    1.19e+04    2.86e+04\n",
       "waterfront   8.091e+05    2.1e+04     38.456      0.000    7.68e+05     8.5e+05\n",
       "condition    1.902e+04   3050.257      6.236      0.000     1.3e+04     2.5e+04\n",
       "grade        1.296e+05   2621.229     49.426      0.000    1.24e+05    1.35e+05\n",
       "yr_built    -3821.4163     81.637    -46.810      0.000   -3981.436   -3661.397\n",
       "==============================================================================\n",
       "Omnibus:                     9545.132   Durbin-Watson:                   2.005\n",
       "Prob(Omnibus):                  0.000   Jarque-Bera (JB):           396649.119\n",
       "Skew:                           2.629   Prob(JB):                         0.00\n",
       "Kurtosis:                      28.160   Cond. No.                     3.56e+06\n",
       "==============================================================================\n",
       "\n",
       "Notes:\n",
       "[1] Standard Errors assume that the covariance matrix of the errors is correctly specified.\n",
       "[2] The condition number is large, 3.56e+06. This might indicate that there are\n",
       "strong multicollinearity or other numerical problems.\n",
       "\"\"\""
      ]
     },
     "execution_count": 425,
     "metadata": {},
     "output_type": "execute_result"
    }
   ],
   "source": [
    "# investigating for multicolinearity\n",
    "sm.OLS(y_train, sm.add_constant(X_train)).fit().summary()"
   ]
  },
  {
   "cell_type": "code",
   "execution_count": 426,
   "metadata": {},
   "outputs": [
    {
     "name": "stdout",
     "output_type": "stream",
     "text": [
      "Was the column selected\n",
      "bedrooms: True\n",
      "bathrooms: True\n",
      "sqft_living: True\n",
      "sqft_lot: True\n",
      "floors: True\n",
      "waterfront: True\n",
      "condition: True\n",
      "grade: True\n",
      "yr_built: True\n"
     ]
    }
   ],
   "source": [
    "# using REFCV\n",
    "X_train_REFECV = StandardScaler().fit_transform(X_train)\n",
    "\n",
    "model_for_REFECV = LinearRegression()\n",
    "\n",
    "# Intitate and fit the selector\n",
    "selector = RFECV(model_for_REFECV, cv=splitter)\n",
    "selector.fit(X_train_REFECV, y_train)\n",
    "\n",
    "# Print the results\n",
    "print(\"Was the column selected\")\n",
    "for index, col in enumerate(X_train.columns):\n",
    "    print(f\"{col}: {selector.support_[index]}\")"
   ]
  },
  {
   "cell_type": "markdown",
   "metadata": {},
   "source": [
    "In the next model I will select all the attributes since their p-alue are low and also we have a better R2 score than compared to the other model."
   ]
  },
  {
   "cell_type": "code",
   "execution_count": 427,
   "metadata": {},
   "outputs": [
    {
     "name": "stdout",
     "output_type": "stream",
     "text": [
      "Train Score:            0.6520227982487956\n",
      "Validation Score:       0.6596111805252182\n"
     ]
    }
   ],
   "source": [
    "second_model = LinearRegression()\n",
    "\n",
    "second_score = cross_validate(\n",
    "    estimator=second_model,\n",
    "    X=X_train,\n",
    "    y=y_train,\n",
    "    return_train_score=True,\n",
    "    return_estimator=True,\n",
    "    cv=splitter\n",
    ")\n",
    "\n",
    "print(f\"Train Score:            {second_score['train_score'].mean()}\")\n",
    "print(f\"Validation Score:       {second_score['test_score'].mean()}\")\n"
   ]
  },
  {
   "cell_type": "markdown",
   "metadata": {},
   "source": [
    "Building a complex model using PolynomialFeatures to see if we get a better score."
   ]
  },
  {
   "cell_type": "code",
   "execution_count": 428,
   "metadata": {},
   "outputs": [],
   "source": [
    "poly_2 = PolynomialFeatures(2)\n",
    "X_train_poly=pd.DataFrame(poly_2.fit_transform(X_train))"
   ]
  },
  {
   "cell_type": "code",
   "execution_count": 429,
   "metadata": {},
   "outputs": [
    {
     "name": "stdout",
     "output_type": "stream",
     "text": [
      "Train Score:            0.7245026208875333\n",
      "Validation Score:       0.7177177036203618\n"
     ]
    }
   ],
   "source": [
    "third_model = LinearRegression()\n",
    "\n",
    "third_score = cross_validate(\n",
    "    estimator=third_model,\n",
    "    X=X_train_poly,\n",
    "    y=y_train,\n",
    "    return_train_score=True,\n",
    "    return_estimator=True,\n",
    "    cv=splitter\n",
    ")\n",
    "\n",
    "print(f\"Train Score:            {third_score['train_score'].mean()}\")\n",
    "print(f\"Validation Score:       {third_score['test_score'].mean()}\")\n"
   ]
  },
  {
   "cell_type": "markdown",
   "metadata": {},
   "source": [
    "using a more complex PolynomialFeature"
   ]
  },
  {
   "cell_type": "code",
   "execution_count": 430,
   "metadata": {},
   "outputs": [],
   "source": [
    "poly_3 = PolynomialFeatures(3)\n",
    "X_train_poly_3=pd.DataFrame(poly_3.fit_transform(X_train))"
   ]
  },
  {
   "cell_type": "code",
   "execution_count": 431,
   "metadata": {},
   "outputs": [
    {
     "name": "stdout",
     "output_type": "stream",
     "text": [
      "Train Score:            0.734082515544748\n",
      "Validation Score:       0.7075666469065752\n"
     ]
    }
   ],
   "source": [
    "third_model = LinearRegression()\n",
    "\n",
    "third_score = cross_validate(\n",
    "    estimator=third_model,\n",
    "    X=X_train_poly_3,\n",
    "    y=y_train,\n",
    "    return_train_score=True,\n",
    "    return_estimator=True,\n",
    "    cv=splitter\n",
    ")\n",
    "\n",
    "print(f\"Train Score:            {third_score['train_score'].mean()}\")\n",
    "print(f\"Validation Score:       {third_score['test_score'].mean()}\")\n"
   ]
  },
  {
   "cell_type": "markdown",
   "metadata": {},
   "source": [
    "Both the polnomial models have a high trainig score but a low validation score this means that the models ore overfitting hence not good models to use to predict with. test"
   ]
  },
  {
   "cell_type": "markdown",
   "metadata": {},
   "source": [
    "From above all models are selected hence we will go with the second model as our best model. Since the difference between the test score and validation score is little"
   ]
  },
  {
   "cell_type": "code",
   "execution_count": 432,
   "metadata": {},
   "outputs": [
    {
     "name": "stdout",
     "output_type": "stream",
     "text": [
      "\n",
      "Attribute:\t\tCoeffiecient\n",
      "bedrooms:\t\t-38100.86644791156\n",
      "bathrooms:\t\t43389.9212691553\n",
      "sqft_living:\t\t174.71728112881829\n",
      "sqft_lot:\t\t-0.2660810435190797\n",
      "floors:\t\t24446.509474992097\n",
      "waterfront:\t\t801467.388981025\n",
      "condition:\t\t19188.74429698629\n",
      "grade:\t\t129010.6263679609\n",
      "yr_built:\t\t-3807.2433957980525\n"
     ]
    }
   ],
   "source": [
    "best_model = second_model # it scored better results in the validation score with a R2 of approximately 0.7\n",
    "\n",
    "print()\n",
    "X_Train_columns = list(X_train.columns)\n",
    "print(\"Attribute:\\t\\tCoeffiecient\")\n",
    "\n",
    "count = 0\n",
    "for i in range(len(X_Train_columns)):\n",
    "    for model in second_score['estimator']:\n",
    "        i_coeffient = []\n",
    "        i_coeffient.append(model.coef_[i])\n",
    "    \n",
    "    print(f\"{X_Train_columns[i]}:\\t\\t{np.mean(i_coeffient)}\")"
   ]
  },
  {
   "cell_type": "code",
   "execution_count": 433,
   "metadata": {},
   "outputs": [
    {
     "data": {
      "text/plain": [
       "0.6542222974812659"
      ]
     },
     "execution_count": 433,
     "metadata": {},
     "output_type": "execute_result"
    }
   ],
   "source": [
    "best_model.fit(X_train, y_train)\n",
    "best_model.score(X_train,y_train)"
   ]
  },
  {
   "cell_type": "code",
   "execution_count": 434,
   "metadata": {},
   "outputs": [
    {
     "data": {
      "text/plain": [
       "0.6335928436393556"
      ]
     },
     "execution_count": 434,
     "metadata": {},
     "output_type": "execute_result"
    }
   ],
   "source": [
    "best_model.score(X_test, y_test)"
   ]
  },
  {
   "cell_type": "markdown",
   "metadata": {},
   "source": [
    "## Above are the R-2, below I will also calculate the RMSE"
   ]
  },
  {
   "cell_type": "code",
   "execution_count": null,
   "metadata": {},
   "outputs": [],
   "source": []
  }
 ],
 "metadata": {
  "kernelspec": {
   "display_name": "Python 3.8.10 64-bit",
   "language": "python",
   "name": "python3"
  },
  "language_info": {
   "codemirror_mode": {
    "name": "ipython",
    "version": 3
   },
   "file_extension": ".py",
   "mimetype": "text/x-python",
   "name": "python",
   "nbconvert_exporter": "python",
   "pygments_lexer": "ipython3",
   "version": "3.8.10"
  },
  "vscode": {
   "interpreter": {
    "hash": "916dbcbb3f70747c44a77c7bcd40155683ae19c65e1c03b4aa3499c5328201f1"
   }
  }
 },
 "nbformat": 4,
 "nbformat_minor": 2
}
