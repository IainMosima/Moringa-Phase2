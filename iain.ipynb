{
 "cells": [
  {
   "cell_type": "markdown",
   "metadata": {},
   "source": [
    "# 1. Business Understanding\n",
    "\n",
    "In this project I'm going to develop a pricing algorithm for houses in the northwest county based on a past collected data of house sales. The goal is to help homeowners save time on buying and/or selling houses.\n",
    "\n",
    "This algorithm is predictive, meaning it will help stackeholders who want to buy or sell houses can use this algorithm to predcit house prices based on home renovations.\n",
    "\n",
    "This algorithm will be able to tell us something about the relationship between attributes of houses and their prices. It other terms it will be inferential.\n"
   ]
  },
  {
   "cell_type": "markdown",
   "metadata": {},
   "source": [
    "# Loading the data"
   ]
  },
  {
   "cell_type": "code",
   "execution_count": 70,
   "metadata": {},
   "outputs": [],
   "source": [
    "# importing the necessary libraries for this project\n",
    "import pandas as pd\n",
    "import numpy as np\n",
    "import scipy.stats as stats\n",
    "import statsmodels.api as sm\n",
    "from sklearn.model_selection import train_test_split\n",
    "from sklearn.linear_model import LinearRegression\n",
    "from sklearn.model_selection import cross_validate, ShuffleSplit\n",
    "from sklearn.feature_selection import RFECV\n",
    "from sklearn.preprocessing import StandardScaler, PolynomialFeatures\n",
    "from  sklearn.impute import SimpleImputer\n",
    "\n",
    "import seaborn as sns\n",
    "import matplotlib.pyplot as plt\n",
    "\n",
    "np.random.seed(21)\n",
    "\n",
    "%matplotlib inline"
   ]
  },
  {
   "cell_type": "code",
   "execution_count": 71,
   "metadata": {},
   "outputs": [
    {
     "data": {
      "text/html": [
       "<div>\n",
       "<style scoped>\n",
       "    .dataframe tbody tr th:only-of-type {\n",
       "        vertical-align: middle;\n",
       "    }\n",
       "\n",
       "    .dataframe tbody tr th {\n",
       "        vertical-align: top;\n",
       "    }\n",
       "\n",
       "    .dataframe thead th {\n",
       "        text-align: right;\n",
       "    }\n",
       "</style>\n",
       "<table border=\"1\" class=\"dataframe\">\n",
       "  <thead>\n",
       "    <tr style=\"text-align: right;\">\n",
       "      <th></th>\n",
       "      <th>date</th>\n",
       "      <th>price</th>\n",
       "      <th>bedrooms</th>\n",
       "      <th>bathrooms</th>\n",
       "      <th>sqft_living</th>\n",
       "      <th>sqft_lot</th>\n",
       "      <th>floors</th>\n",
       "      <th>waterfront</th>\n",
       "      <th>view</th>\n",
       "      <th>condition</th>\n",
       "      <th>grade</th>\n",
       "      <th>sqft_above</th>\n",
       "      <th>sqft_basement</th>\n",
       "      <th>yr_built</th>\n",
       "      <th>yr_renovated</th>\n",
       "      <th>zipcode</th>\n",
       "      <th>lat</th>\n",
       "      <th>long</th>\n",
       "      <th>sqft_living15</th>\n",
       "      <th>sqft_lot15</th>\n",
       "    </tr>\n",
       "    <tr>\n",
       "      <th>id</th>\n",
       "      <th></th>\n",
       "      <th></th>\n",
       "      <th></th>\n",
       "      <th></th>\n",
       "      <th></th>\n",
       "      <th></th>\n",
       "      <th></th>\n",
       "      <th></th>\n",
       "      <th></th>\n",
       "      <th></th>\n",
       "      <th></th>\n",
       "      <th></th>\n",
       "      <th></th>\n",
       "      <th></th>\n",
       "      <th></th>\n",
       "      <th></th>\n",
       "      <th></th>\n",
       "      <th></th>\n",
       "      <th></th>\n",
       "      <th></th>\n",
       "    </tr>\n",
       "  </thead>\n",
       "  <tbody>\n",
       "    <tr>\n",
       "      <th>7129300520</th>\n",
       "      <td>10/13/2014</td>\n",
       "      <td>221900.0</td>\n",
       "      <td>3</td>\n",
       "      <td>1.00</td>\n",
       "      <td>1180</td>\n",
       "      <td>5650</td>\n",
       "      <td>1.0</td>\n",
       "      <td>NaN</td>\n",
       "      <td>0.0</td>\n",
       "      <td>3</td>\n",
       "      <td>7</td>\n",
       "      <td>1180</td>\n",
       "      <td>0.0</td>\n",
       "      <td>1955</td>\n",
       "      <td>0.0</td>\n",
       "      <td>98178</td>\n",
       "      <td>47.5112</td>\n",
       "      <td>-122.257</td>\n",
       "      <td>1340</td>\n",
       "      <td>5650</td>\n",
       "    </tr>\n",
       "    <tr>\n",
       "      <th>6414100192</th>\n",
       "      <td>12/9/2014</td>\n",
       "      <td>538000.0</td>\n",
       "      <td>3</td>\n",
       "      <td>2.25</td>\n",
       "      <td>2570</td>\n",
       "      <td>7242</td>\n",
       "      <td>2.0</td>\n",
       "      <td>0.0</td>\n",
       "      <td>0.0</td>\n",
       "      <td>3</td>\n",
       "      <td>7</td>\n",
       "      <td>2170</td>\n",
       "      <td>400.0</td>\n",
       "      <td>1951</td>\n",
       "      <td>1991.0</td>\n",
       "      <td>98125</td>\n",
       "      <td>47.7210</td>\n",
       "      <td>-122.319</td>\n",
       "      <td>1690</td>\n",
       "      <td>7639</td>\n",
       "    </tr>\n",
       "    <tr>\n",
       "      <th>5631500400</th>\n",
       "      <td>2/25/2015</td>\n",
       "      <td>180000.0</td>\n",
       "      <td>2</td>\n",
       "      <td>1.00</td>\n",
       "      <td>770</td>\n",
       "      <td>10000</td>\n",
       "      <td>1.0</td>\n",
       "      <td>0.0</td>\n",
       "      <td>0.0</td>\n",
       "      <td>3</td>\n",
       "      <td>6</td>\n",
       "      <td>770</td>\n",
       "      <td>0.0</td>\n",
       "      <td>1933</td>\n",
       "      <td>NaN</td>\n",
       "      <td>98028</td>\n",
       "      <td>47.7379</td>\n",
       "      <td>-122.233</td>\n",
       "      <td>2720</td>\n",
       "      <td>8062</td>\n",
       "    </tr>\n",
       "    <tr>\n",
       "      <th>2487200875</th>\n",
       "      <td>12/9/2014</td>\n",
       "      <td>604000.0</td>\n",
       "      <td>4</td>\n",
       "      <td>3.00</td>\n",
       "      <td>1960</td>\n",
       "      <td>5000</td>\n",
       "      <td>1.0</td>\n",
       "      <td>0.0</td>\n",
       "      <td>0.0</td>\n",
       "      <td>5</td>\n",
       "      <td>7</td>\n",
       "      <td>1050</td>\n",
       "      <td>910.0</td>\n",
       "      <td>1965</td>\n",
       "      <td>0.0</td>\n",
       "      <td>98136</td>\n",
       "      <td>47.5208</td>\n",
       "      <td>-122.393</td>\n",
       "      <td>1360</td>\n",
       "      <td>5000</td>\n",
       "    </tr>\n",
       "    <tr>\n",
       "      <th>1954400510</th>\n",
       "      <td>2/18/2015</td>\n",
       "      <td>510000.0</td>\n",
       "      <td>3</td>\n",
       "      <td>2.00</td>\n",
       "      <td>1680</td>\n",
       "      <td>8080</td>\n",
       "      <td>1.0</td>\n",
       "      <td>0.0</td>\n",
       "      <td>0.0</td>\n",
       "      <td>3</td>\n",
       "      <td>8</td>\n",
       "      <td>1680</td>\n",
       "      <td>0.0</td>\n",
       "      <td>1987</td>\n",
       "      <td>0.0</td>\n",
       "      <td>98074</td>\n",
       "      <td>47.6168</td>\n",
       "      <td>-122.045</td>\n",
       "      <td>1800</td>\n",
       "      <td>7503</td>\n",
       "    </tr>\n",
       "  </tbody>\n",
       "</table>\n",
       "</div>"
      ],
      "text/plain": [
       "                  date     price  bedrooms  bathrooms  sqft_living  sqft_lot  \\\n",
       "id                                                                             \n",
       "7129300520  10/13/2014  221900.0         3       1.00         1180      5650   \n",
       "6414100192   12/9/2014  538000.0         3       2.25         2570      7242   \n",
       "5631500400   2/25/2015  180000.0         2       1.00          770     10000   \n",
       "2487200875   12/9/2014  604000.0         4       3.00         1960      5000   \n",
       "1954400510   2/18/2015  510000.0         3       2.00         1680      8080   \n",
       "\n",
       "            floors  waterfront  view  condition  grade  sqft_above  \\\n",
       "id                                                                   \n",
       "7129300520     1.0         NaN   0.0          3      7        1180   \n",
       "6414100192     2.0         0.0   0.0          3      7        2170   \n",
       "5631500400     1.0         0.0   0.0          3      6         770   \n",
       "2487200875     1.0         0.0   0.0          5      7        1050   \n",
       "1954400510     1.0         0.0   0.0          3      8        1680   \n",
       "\n",
       "           sqft_basement  yr_built  yr_renovated  zipcode      lat     long  \\\n",
       "id                                                                            \n",
       "7129300520           0.0      1955           0.0    98178  47.5112 -122.257   \n",
       "6414100192         400.0      1951        1991.0    98125  47.7210 -122.319   \n",
       "5631500400           0.0      1933           NaN    98028  47.7379 -122.233   \n",
       "2487200875         910.0      1965           0.0    98136  47.5208 -122.393   \n",
       "1954400510           0.0      1987           0.0    98074  47.6168 -122.045   \n",
       "\n",
       "            sqft_living15  sqft_lot15  \n",
       "id                                     \n",
       "7129300520           1340        5650  \n",
       "6414100192           1690        7639  \n",
       "5631500400           2720        8062  \n",
       "2487200875           1360        5000  \n",
       "1954400510           1800        7503  "
      ]
     },
     "execution_count": 71,
     "metadata": {},
     "output_type": "execute_result"
    }
   ],
   "source": [
    "# loading the dataset\n",
    "df = pd.read_csv('./data/kc_house_data.csv', index_col='id')\n",
    "df.head()"
   ]
  },
  {
   "cell_type": "code",
   "execution_count": 72,
   "metadata": {},
   "outputs": [
    {
     "name": "stdout",
     "output_type": "stream",
     "text": [
      "<class 'pandas.core.frame.DataFrame'>\n",
      "Int64Index: 21597 entries, 7129300520 to 1523300157\n",
      "Data columns (total 20 columns):\n",
      " #   Column         Non-Null Count  Dtype  \n",
      "---  ------         --------------  -----  \n",
      " 0   date           21597 non-null  object \n",
      " 1   price          21597 non-null  float64\n",
      " 2   bedrooms       21597 non-null  int64  \n",
      " 3   bathrooms      21597 non-null  float64\n",
      " 4   sqft_living    21597 non-null  int64  \n",
      " 5   sqft_lot       21597 non-null  int64  \n",
      " 6   floors         21597 non-null  float64\n",
      " 7   waterfront     19221 non-null  float64\n",
      " 8   view           21534 non-null  float64\n",
      " 9   condition      21597 non-null  int64  \n",
      " 10  grade          21597 non-null  int64  \n",
      " 11  sqft_above     21597 non-null  int64  \n",
      " 12  sqft_basement  21597 non-null  object \n",
      " 13  yr_built       21597 non-null  int64  \n",
      " 14  yr_renovated   17755 non-null  float64\n",
      " 15  zipcode        21597 non-null  int64  \n",
      " 16  lat            21597 non-null  float64\n",
      " 17  long           21597 non-null  float64\n",
      " 18  sqft_living15  21597 non-null  int64  \n",
      " 19  sqft_lot15     21597 non-null  int64  \n",
      "dtypes: float64(8), int64(10), object(2)\n",
      "memory usage: 3.5+ MB\n"
     ]
    }
   ],
   "source": [
    "df.info()"
   ]
  },
  {
   "cell_type": "code",
   "execution_count": 73,
   "metadata": {},
   "outputs": [
    {
     "data": {
      "text/plain": [
       "(21597, 20)"
      ]
     },
     "execution_count": 73,
     "metadata": {},
     "output_type": "execute_result"
    }
   ],
   "source": [
    "original_shape = df.shape \n",
    "original_shape"
   ]
  },
  {
   "cell_type": "markdown",
   "metadata": {},
   "source": [
    "# 2. Data Understanding\n",
    " - Given is a a King County House Sales dataset. Which contains house attributes as well  as their prices. This is suitable for this project as we willl be using these attributes to predict the house prices.\n",
    " - The dataset has a total of 21,597 rows and 21 columns. Meaning 21,597 houses were taken as a sample and 21 of their existing attributes recorded.\n",
    " - Based on the sample given some attributes will sure help show the relationship between them and house prices.\n",
    " - The data also has some irrelevant columns which will be dropped, since they might hinder in creating a good model.\n"
   ]
  },
  {
   "cell_type": "markdown",
   "metadata": {},
   "source": [
    "# 3. Data Preparation"
   ]
  },
  {
   "cell_type": "markdown",
   "metadata": {},
   "source": [
    "The prediction target for this analysis is the proce of houses, hence will separate X and y appropiately"
   ]
  },
  {
   "cell_type": "code",
   "execution_count": 74,
   "metadata": {},
   "outputs": [],
   "source": [
    "X = df.drop('price', axis=1)\n",
    "y = df['price']"
   ]
  },
  {
   "cell_type": "code",
   "execution_count": 75,
   "metadata": {},
   "outputs": [],
   "source": [
    "# splitting the data into a train and test sets, prior beforming any preprocesssing steps\n",
    "X_train, X_test, y_train, y_test = train_test_split(X, y, random_state=50)"
   ]
  },
  {
   "cell_type": "code",
   "execution_count": 76,
   "metadata": {},
   "outputs": [
    {
     "name": "stdout",
     "output_type": "stream",
     "text": [
      "X_train is a dataframe with 16197 records and 19 attributes\n",
      "y_train is a series with 16197 values\n",
      "\n",
      "X_test has 5400 records\n",
      "y_test has 5400 records\n"
     ]
    }
   ],
   "source": [
    "print(f\"X_train is a dataframe with {X_train.shape[0]} records and {X_train.shape[1]} attributes\")\n",
    "print(f\"y_train is a series with {y_train.shape[0]} values\")\n",
    "print()\n",
    "print(f\"X_test has {X_test.shape[0]} records\")\n",
    "print(f\"y_test has {y_test.shape[0]} records\")"
   ]
  },
  {
   "cell_type": "markdown",
   "metadata": {},
   "source": [
    "## Data Cleaning"
   ]
  },
  {
   "cell_type": "markdown",
   "metadata": {},
   "source": [
    "### Functions to help with data Cleaning"
   ]
  },
  {
   "cell_type": "code",
   "execution_count": 77,
   "metadata": {},
   "outputs": [],
   "source": [
    "# function to concate a set with its target variable\n",
    "def concater(X, y):\n",
    "    result = pd.concat([y, X], axis = 1)\n",
    "    return result"
   ]
  },
  {
   "cell_type": "code",
   "execution_count": 78,
   "metadata": {},
   "outputs": [],
   "source": [
    "# function to split concated set with its target variable and convert to floors and waterfront to integers\n",
    "def set_splitter(dataset):\n",
    "    X = dataset.drop('price', axis=1)\n",
    "    y = dataset.price\n",
    "    \n",
    "    return X, y"
   ]
  },
  {
   "cell_type": "markdown",
   "metadata": {},
   "source": [
    "## Handling with duplicated values"
   ]
  },
  {
   "cell_type": "code",
   "execution_count": 79,
   "metadata": {},
   "outputs": [],
   "source": [
    "# concating the training set\n",
    "concated_train = concater(X_train, y_train)"
   ]
  },
  {
   "cell_type": "code",
   "execution_count": 80,
   "metadata": {},
   "outputs": [
    {
     "data": {
      "text/plain": [
       "False"
      ]
     },
     "execution_count": 80,
     "metadata": {},
     "output_type": "execute_result"
    }
   ],
   "source": [
    "concated_train.duplicated().any()"
   ]
  },
  {
   "cell_type": "markdown",
   "metadata": {},
   "source": [
    "## Handling with duplicated Values"
   ]
  },
  {
   "cell_type": "markdown",
   "metadata": {},
   "source": [
    "Checking for null values in the train set"
   ]
  },
  {
   "cell_type": "code",
   "execution_count": 81,
   "metadata": {},
   "outputs": [
    {
     "data": {
      "text/plain": [
       "price               0\n",
       "date                0\n",
       "bedrooms            0\n",
       "bathrooms           0\n",
       "sqft_living         0\n",
       "sqft_lot            0\n",
       "floors              0\n",
       "waterfront       1788\n",
       "view               47\n",
       "condition           0\n",
       "grade               0\n",
       "sqft_above          0\n",
       "sqft_basement       0\n",
       "yr_built            0\n",
       "yr_renovated     2885\n",
       "zipcode             0\n",
       "lat                 0\n",
       "long                0\n",
       "sqft_living15       0\n",
       "sqft_lot15          0\n",
       "dtype: int64"
      ]
     },
     "execution_count": 81,
     "metadata": {},
     "output_type": "execute_result"
    }
   ],
   "source": [
    "# Concating X_train and y_train\n",
    "concated_train.isna().sum()"
   ]
  },
  {
   "cell_type": "markdown",
   "metadata": {},
   "source": [
    "## Handling Mising Values"
   ]
  },
  {
   "cell_type": "markdown",
   "metadata": {},
   "source": [
    "### Dealing with yr_renovated null values"
   ]
  },
  {
   "cell_type": "code",
   "execution_count": 82,
   "metadata": {},
   "outputs": [
    {
     "data": {
      "text/plain": [
       "0.0       12750\n",
       "2014.0       52\n",
       "2003.0       24\n",
       "2005.0       23\n",
       "2000.0       23\n",
       "          ...  \n",
       "1959.0        1\n",
       "1945.0        1\n",
       "1944.0        1\n",
       "1948.0        1\n",
       "1953.0        1\n",
       "Name: yr_renovated, Length: 65, dtype: int64"
      ]
     },
     "execution_count": 82,
     "metadata": {},
     "output_type": "execute_result"
    }
   ],
   "source": [
    "# Checking for the values in thr yr_renovated column\n",
    "concated_train['yr_renovated'].value_counts()"
   ]
  },
  {
   "cell_type": "markdown",
   "metadata": {},
   "source": [
    "#### For yr_renovated I will use SimpleImputer to help deal with the null values"
   ]
  },
  {
   "cell_type": "code",
   "execution_count": 83,
   "metadata": {},
   "outputs": [],
   "source": [
    "#  function for dealing with null values in a given set based on the yr_renovated column\n",
    "def yr_renovated(concated_set):\n",
    "    # creating a dataframe which contains the yr_renovated columns\n",
    "    # NB: The houses without renavations have been filtered out\n",
    "    year_renovated = concated_set[concated_set['yr_renovated'] != 0][['yr_renovated']]\n",
    "\n",
    "    # using simpleImputer to deal with the null values in the yr_renovated column\n",
    "    imput = SimpleImputer(missing_values=np.nan, strategy='median')\n",
    "    imput.fit(year_renovated)\n",
    "    new_year_renovated = imput.transform(year_renovated).flatten()\n",
    "    year_renovated['yr_renovated'] = new_year_renovated\n",
    "\n",
    "    condition = (\n",
    "        concated_set.yr_renovated != 0 &\n",
    "        concated_set.yr_renovated.isna()\n",
    "    )\n",
    "\n",
    "    # reassing the variables to the yr_renovated column strictly with columns whose values are not in the 0\n",
    "    concated_set.loc[condition, 'yr_renovated'] = year_renovated\n",
    "\n",
    "    return concated_set"
   ]
  },
  {
   "cell_type": "code",
   "execution_count": 84,
   "metadata": {},
   "outputs": [
    {
     "data": {
      "text/plain": [
       "price               0\n",
       "date                0\n",
       "bedrooms            0\n",
       "bathrooms           0\n",
       "sqft_living         0\n",
       "sqft_lot            0\n",
       "floors              0\n",
       "waterfront       1788\n",
       "view               47\n",
       "condition           0\n",
       "grade               0\n",
       "sqft_above          0\n",
       "sqft_basement       0\n",
       "yr_built            0\n",
       "yr_renovated        0\n",
       "zipcode             0\n",
       "lat                 0\n",
       "long                0\n",
       "sqft_living15       0\n",
       "sqft_lot15          0\n",
       "dtype: int64"
      ]
     },
     "execution_count": 84,
     "metadata": {},
     "output_type": "execute_result"
    }
   ],
   "source": [
    "# dealing with null values in the concated_train set\n",
    "concated_train = yr_renovated(concated_train)\n",
    "concated_train.isna().sum()"
   ]
  },
  {
   "cell_type": "markdown",
   "metadata": {},
   "source": [
    "### Dealing with null values in the view column"
   ]
  },
  {
   "cell_type": "code",
   "execution_count": 85,
   "metadata": {},
   "outputs": [
    {
     "data": {
      "text/plain": [
       "0.0    14585\n",
       "2.0      718\n",
       "3.0      356\n",
       "4.0      246\n",
       "1.0      245\n",
       "Name: view, dtype: int64"
      ]
     },
     "execution_count": 85,
     "metadata": {},
     "output_type": "execute_result"
    }
   ],
   "source": [
    "# checking for the unique values in the column and their occurence\n",
    "concated_train.view.value_counts()"
   ]
  },
  {
   "cell_type": "code",
   "execution_count": 86,
   "metadata": {},
   "outputs": [],
   "source": [
    "#  function for dealing with null values in a given set based on the view column\n",
    "def view(concated_set):\n",
    "    # creating a dataframe which contains the view columns\n",
    "    view = concated_set[['view']]\n",
    "\n",
    "    # using simpleImputer to deal with the null values in the view column\n",
    "    imput = SimpleImputer(missing_values=np.nan, strategy='median')\n",
    "    imput.fit(view)\n",
    "    new_view = imput.transform(view).flatten()\n",
    "    view.view = new_view\n",
    "\n",
    "    # condition = (concated_set.view.isna())\n",
    "\n",
    "    # reassing the variables to the view column strictly with columns whose values are not in the 0\n",
    "    concated_set.view = view\n",
    "\n",
    "    return concated_set"
   ]
  },
  {
   "cell_type": "code",
   "execution_count": 87,
   "metadata": {},
   "outputs": [
    {
     "name": "stderr",
     "output_type": "stream",
     "text": [
      "/tmp/ipykernel_6628/3432681625.py:10: SettingWithCopyWarning: \n",
      "A value is trying to be set on a copy of a slice from a DataFrame.\n",
      "Try using .loc[row_indexer,col_indexer] = value instead\n",
      "\n",
      "See the caveats in the documentation: https://pandas.pydata.org/pandas-docs/stable/user_guide/indexing.html#returning-a-view-versus-a-copy\n",
      "  view.view = new_view\n"
     ]
    },
    {
     "data": {
      "text/plain": [
       "price               0\n",
       "date                0\n",
       "bedrooms            0\n",
       "bathrooms           0\n",
       "sqft_living         0\n",
       "sqft_lot            0\n",
       "floors              0\n",
       "waterfront       1788\n",
       "view                0\n",
       "condition           0\n",
       "grade               0\n",
       "sqft_above          0\n",
       "sqft_basement       0\n",
       "yr_built            0\n",
       "yr_renovated        0\n",
       "zipcode             0\n",
       "lat                 0\n",
       "long                0\n",
       "sqft_living15       0\n",
       "sqft_lot15          0\n",
       "dtype: int64"
      ]
     },
     "execution_count": 87,
     "metadata": {},
     "output_type": "execute_result"
    }
   ],
   "source": [
    "concated_train = view(concated_train)\n",
    "concated_train.isna().sum()"
   ]
  },
  {
   "cell_type": "markdown",
   "metadata": {},
   "source": [
    "### Dealing with null values in the waterfront column"
   ]
  },
  {
   "cell_type": "code",
   "execution_count": 88,
   "metadata": {},
   "outputs": [
    {
     "data": {
      "text/plain": [
       "0.0    14297\n",
       "1.0      112\n",
       "Name: waterfront, dtype: int64"
      ]
     },
     "execution_count": 88,
     "metadata": {},
     "output_type": "execute_result"
    }
   ],
   "source": [
    "concated_train.waterfront.value_counts()"
   ]
  },
  {
   "cell_type": "code",
   "execution_count": 89,
   "metadata": {},
   "outputs": [],
   "source": [
    "#  function for dealing with null values in a given set based on the waterfront column\n",
    "def waterfront(concated_set):\n",
    "    # creating a dataframe which contains the waterfront columns\n",
    "    waterfront = concated_set[['waterfront']]\n",
    "\n",
    "    # using simpleImputer to deal with the null values in the waterfront column\n",
    "    imput = SimpleImputer(missing_values=np.nan, strategy='median')\n",
    "    imput.fit(waterfront)\n",
    "    new_waterfront = imput.transform(waterfront).flatten()\n",
    "    waterfront.waterfront = new_waterfront\n",
    "\n",
    "\n",
    "    # reassing the variables to the waterfront column strictly with columns whose values are not in the 0\n",
    "    concated_set.waterfront = waterfront\n",
    "\n",
    "    return concated_set"
   ]
  },
  {
   "cell_type": "code",
   "execution_count": 90,
   "metadata": {},
   "outputs": [
    {
     "name": "stderr",
     "output_type": "stream",
     "text": [
      "/tmp/ipykernel_6628/598743563.py:10: SettingWithCopyWarning: \n",
      "A value is trying to be set on a copy of a slice from a DataFrame.\n",
      "Try using .loc[row_indexer,col_indexer] = value instead\n",
      "\n",
      "See the caveats in the documentation: https://pandas.pydata.org/pandas-docs/stable/user_guide/indexing.html#returning-a-view-versus-a-copy\n",
      "  waterfront.waterfront = new_waterfront\n"
     ]
    },
    {
     "data": {
      "text/plain": [
       "price            0\n",
       "date             0\n",
       "bedrooms         0\n",
       "bathrooms        0\n",
       "sqft_living      0\n",
       "sqft_lot         0\n",
       "floors           0\n",
       "waterfront       0\n",
       "view             0\n",
       "condition        0\n",
       "grade            0\n",
       "sqft_above       0\n",
       "sqft_basement    0\n",
       "yr_built         0\n",
       "yr_renovated     0\n",
       "zipcode          0\n",
       "lat              0\n",
       "long             0\n",
       "sqft_living15    0\n",
       "sqft_lot15       0\n",
       "dtype: int64"
      ]
     },
     "execution_count": 90,
     "metadata": {},
     "output_type": "execute_result"
    }
   ],
   "source": [
    "concated_train = waterfront(concated_train)\n",
    "concated_train.isna().sum()"
   ]
  },
  {
   "cell_type": "code",
   "execution_count": 91,
   "metadata": {},
   "outputs": [
    {
     "name": "stdout",
     "output_type": "stream",
     "text": [
      "The train set now has 16197 records\n"
     ]
    }
   ],
   "source": [
    "print(f\"The train set now has {concated_train.shape[0]} records\")"
   ]
  },
  {
   "cell_type": "code",
   "execution_count": 92,
   "metadata": {},
   "outputs": [],
   "source": [
    "# Full function for the data cleaning\n",
    "def data_cleaning(X, y):\n",
    "    concated_set = concater(X, y)\n",
    "    concated_set = yr_renovated(concated_set)\n",
    "    concated_set = view(concated_set)\n",
    "    concated_set = waterfront(concated_set)\n",
    "\n",
    "    return concated_set"
   ]
  },
  {
   "cell_type": "markdown",
   "metadata": {},
   "source": [
    "## Dealing with datatypes"
   ]
  },
  {
   "cell_type": "code",
   "execution_count": 93,
   "metadata": {},
   "outputs": [
    {
     "name": "stdout",
     "output_type": "stream",
     "text": [
      "<class 'pandas.core.frame.DataFrame'>\n",
      "Int64Index: 16197 entries, 4139480190 to 1336800880\n",
      "Data columns (total 20 columns):\n",
      " #   Column         Non-Null Count  Dtype  \n",
      "---  ------         --------------  -----  \n",
      " 0   price          16197 non-null  float64\n",
      " 1   date           16197 non-null  object \n",
      " 2   bedrooms       16197 non-null  int64  \n",
      " 3   bathrooms      16197 non-null  float64\n",
      " 4   sqft_living    16197 non-null  int64  \n",
      " 5   sqft_lot       16197 non-null  int64  \n",
      " 6   floors         16197 non-null  float64\n",
      " 7   waterfront     16197 non-null  float64\n",
      " 8   view           16197 non-null  float64\n",
      " 9   condition      16197 non-null  int64  \n",
      " 10  grade          16197 non-null  int64  \n",
      " 11  sqft_above     16197 non-null  int64  \n",
      " 12  sqft_basement  16197 non-null  object \n",
      " 13  yr_built       16197 non-null  int64  \n",
      " 14  yr_renovated   16197 non-null  float64\n",
      " 15  zipcode        16197 non-null  int64  \n",
      " 16  lat            16197 non-null  float64\n",
      " 17  long           16197 non-null  float64\n",
      " 18  sqft_living15  16197 non-null  int64  \n",
      " 19  sqft_lot15     16197 non-null  int64  \n",
      "dtypes: float64(8), int64(10), object(2)\n",
      "memory usage: 2.6+ MB\n"
     ]
    }
   ],
   "source": [
    "concated_train.info()"
   ]
  },
  {
   "cell_type": "code",
   "execution_count": 94,
   "metadata": {},
   "outputs": [
    {
     "name": "stdout",
     "output_type": "stream",
     "text": [
      "<class 'pandas.core.frame.DataFrame'>\n",
      "Int64Index: 16197 entries, 4139480190 to 1336800880\n",
      "Data columns (total 19 columns):\n",
      " #   Column         Non-Null Count  Dtype  \n",
      "---  ------         --------------  -----  \n",
      " 0   price          16197 non-null  float64\n",
      " 1   bedrooms       16197 non-null  int64  \n",
      " 2   bathrooms      16197 non-null  float64\n",
      " 3   sqft_living    16197 non-null  int64  \n",
      " 4   sqft_lot       16197 non-null  int64  \n",
      " 5   floors         16197 non-null  float64\n",
      " 6   waterfront     16197 non-null  float64\n",
      " 7   view           16197 non-null  float64\n",
      " 8   condition      16197 non-null  int64  \n",
      " 9   grade          16197 non-null  int64  \n",
      " 10  sqft_above     16197 non-null  int64  \n",
      " 11  sqft_basement  16197 non-null  object \n",
      " 12  yr_built       16197 non-null  int64  \n",
      " 13  yr_renovated   16197 non-null  float64\n",
      " 14  zipcode        16197 non-null  int64  \n",
      " 15  lat            16197 non-null  float64\n",
      " 16  long           16197 non-null  float64\n",
      " 17  sqft_living15  16197 non-null  int64  \n",
      " 18  sqft_lot15     16197 non-null  int64  \n",
      "dtypes: float64(8), int64(10), object(1)\n",
      "memory usage: 2.5+ MB\n"
     ]
    }
   ],
   "source": [
    "# since data is of a datatype object I will drop this column, so that it does not affect the modelling process.\n",
    "# function for dropping the data column\n",
    "def date(concated_set):\n",
    "    concated_set = concated_train.drop('date', axis=1)\n",
    "    return concated_set\n",
    "\n",
    "concated_train = date(concated_train)\n",
    "concated_train.info()"
   ]
  },
  {
   "cell_type": "markdown",
   "metadata": {},
   "source": [
    "Invstigating the sqft_basement column"
   ]
  },
  {
   "cell_type": "markdown",
   "metadata": {},
   "source": [
    "The sqft_basement has a string in some of its records this will hinder the data modelling process hence I will filter the records containing the '?' string out."
   ]
  },
  {
   "cell_type": "code",
   "execution_count": 95,
   "metadata": {},
   "outputs": [
    {
     "name": "stdout",
     "output_type": "stream",
     "text": [
      "<class 'pandas.core.frame.DataFrame'>\n",
      "Int64Index: 15850 entries, 4139480190 to 1336800880\n",
      "Data columns (total 19 columns):\n",
      " #   Column         Non-Null Count  Dtype  \n",
      "---  ------         --------------  -----  \n",
      " 0   price          15850 non-null  float64\n",
      " 1   bedrooms       15850 non-null  int64  \n",
      " 2   bathrooms      15850 non-null  float64\n",
      " 3   sqft_living    15850 non-null  int64  \n",
      " 4   sqft_lot       15850 non-null  int64  \n",
      " 5   floors         15850 non-null  float64\n",
      " 6   waterfront     15850 non-null  float64\n",
      " 7   view           15850 non-null  float64\n",
      " 8   condition      15850 non-null  int64  \n",
      " 9   grade          15850 non-null  int64  \n",
      " 10  sqft_above     15850 non-null  int64  \n",
      " 11  sqft_basement  15850 non-null  float64\n",
      " 12  yr_built       15850 non-null  int64  \n",
      " 13  yr_renovated   15850 non-null  float64\n",
      " 14  zipcode        15850 non-null  int64  \n",
      " 15  lat            15850 non-null  float64\n",
      " 16  long           15850 non-null  float64\n",
      " 17  sqft_living15  15850 non-null  int64  \n",
      " 18  sqft_lot15     15850 non-null  int64  \n",
      "dtypes: float64(9), int64(10)\n",
      "memory usage: 2.4 MB\n"
     ]
    },
    {
     "name": "stderr",
     "output_type": "stream",
     "text": [
      "/tmp/ipykernel_6628/1502401251.py:6: SettingWithCopyWarning: \n",
      "A value is trying to be set on a copy of a slice from a DataFrame.\n",
      "Try using .loc[row_indexer,col_indexer] = value instead\n",
      "\n",
      "See the caveats in the documentation: https://pandas.pydata.org/pandas-docs/stable/user_guide/indexing.html#returning-a-view-versus-a-copy\n",
      "  concated_set['sqft_basement'] = pd.to_numeric(concated_set['sqft_basement'])\n"
     ]
    }
   ],
   "source": [
    "# The roecords containing ? could be that their sqft_basement is unknown\n",
    "# Function to filter out the strings from the sqft_basement column\n",
    "# The function will also change the column's columns data type to an int\n",
    "def sqft_basement(concated_set):\n",
    "    concated_set = concated_set[ (concated_set['sqft_basement'] != '?') ]\n",
    "    concated_set['sqft_basement'] = pd.to_numeric(concated_set['sqft_basement'])\n",
    "    return concated_set\n",
    "\n",
    "concated_train = sqft_basement(concated_train)\n",
    "concated_train.info()"
   ]
  },
  {
   "cell_type": "markdown",
   "metadata": {},
   "source": [
    "## A histogram showing the distribution of the target variable (house price)"
   ]
  },
  {
   "cell_type": "code",
   "execution_count": 96,
   "metadata": {},
   "outputs": [
    {
     "data": {
      "text/plain": [
       "Text(0.5, 1.0, 'Distribution of house prices')"
      ]
     },
     "execution_count": 96,
     "metadata": {},
     "output_type": "execute_result"
    },
    {
     "data": {
      "image/png": "[encoded data removed]",
      "text/plain": [
       "<Figure size 1368x648 with 1 Axes>"
      ]
     },
     "metadata": {
      "needs_background": "light"
     },
     "output_type": "display_data"
    }
   ],
   "source": [
    "fig, ax = plt.subplots(figsize=(19,9))\n",
    "\n",
    "ax.hist(concated_train.price, bins=200)\n",
    "\n",
    "\n",
    "ax.set_xlabel('Listing house prices')\n",
    "ax.set_ylabel('Count of house sells')\n",
    "ax.set_title('Distribution of house prices')"
   ]
  },
  {
   "cell_type": "code",
   "execution_count": 97,
   "metadata": {},
   "outputs": [],
   "source": [
    "# function to check for outliers\n",
    "def outliers(column):\n",
    "    outliers = []\n",
    "    quantile1, quantile2 = column.quantile([0.01 ,0.99])\n",
    "\n",
    "    for i in column:\n",
    "        if (i < quantile1) | (i > quantile2):\n",
    "            outliers.append(i)\n",
    "\n",
    "    return outliers\n"
   ]
  },
  {
   "cell_type": "code",
   "execution_count": 98,
   "metadata": {},
   "outputs": [
    {
     "data": {
      "text/plain": [
       "317"
      ]
     },
     "execution_count": 98,
     "metadata": {},
     "output_type": "execute_result"
    }
   ],
   "source": [
    "concated_train_ouliers = outliers(concated_train.price)\n",
    "len(concated_train_ouliers)"
   ]
  },
  {
   "cell_type": "markdown",
   "metadata": {},
   "source": [
    "### From above we have 317 outlies in the train dataset hence will remove them so as to not affect the analysis"
   ]
  },
  {
   "cell_type": "code",
   "execution_count": 99,
   "metadata": {},
   "outputs": [],
   "source": [
    "# function to remove outliers and returns the new updated dataframe\n",
    "def outliers_remover(concated_set, outliers):\n",
    "    for i in range(len(outliers)):\n",
    "        row_index = concated_set[ concated_set.price == i ].index\n",
    "        concated_set = concated_set.drop(row_index)\n",
    "    return concated_set"
   ]
  },
  {
   "cell_type": "code",
   "execution_count": 100,
   "metadata": {},
   "outputs": [
    {
     "name": "stdout",
     "output_type": "stream",
     "text": [
      "Number of train set records before removing outliers 15850\n",
      "\n",
      "Number of train set records after removing outliers 15850\n"
     ]
    }
   ],
   "source": [
    "print(f\"Number of train set records before removing outliers {concated_train.shape[0]}\")\n",
    "print()\n",
    "concated_train = outliers_remover(concated_train, concated_train_ouliers)\n",
    "print(f\"Number of train set records after removing outliers {concated_train.shape[0]}\")"
   ]
  },
  {
   "cell_type": "markdown",
   "metadata": {},
   "source": [
    "### A histogram showing the distribution of the target variable (house price) after removing the outliers"
   ]
  },
  {
   "cell_type": "code",
   "execution_count": 101,
   "metadata": {},
   "outputs": [
    {
     "data": {
      "text/plain": [
       "Text(0.5, 1.0, 'Distribution of house prices')"
      ]
     },
     "execution_count": 101,
     "metadata": {},
     "output_type": "execute_result"
    },
    {
     "data": {
      "image/png": "[encoded data removed]",
      "text/plain": [
       "<Figure size 1368x648 with 1 Axes>"
      ]
     },
     "metadata": {
      "needs_background": "light"
     },
     "output_type": "display_data"
    }
   ],
   "source": [
    "fig, ax = plt.subplots(figsize=(19,9))\n",
    "\n",
    "ax.hist(y_train, bins=200)\n",
    "\n",
    "ax.set_xlabel('Listing house prices')\n",
    "ax.set_ylabel('Count of house sells')\n",
    "ax.set_title('Distribution of house prices')"
   ]
  },
  {
   "cell_type": "code",
   "execution_count": 102,
   "metadata": {},
   "outputs": [],
   "source": [
    "# full function for data preparation\n",
    "def data_preparation(X,y):\n",
    "    concated_set  = data_cleaning(X,y) # data cleaning function\n",
    "\n",
    "    # dealing with the data types\n",
    "    concated_set = date(concated_set)\n",
    "    concated_set = sqft_basement(concated_set)\n",
    "\n",
    "    # dealing with outliers\n",
    "    outliers = outliers(concated_set.price) # identifying outliers\n",
    "    concated_set = outliers_remover(concated_set, outliers) # removing outliers\n",
    "\n",
    "\n",
    "    return concated_set"
   ]
  },
  {
   "cell_type": "markdown",
   "metadata": {},
   "source": [
    "# 4. Modeling"
   ]
  },
  {
   "cell_type": "code",
   "execution_count": 105,
   "metadata": {},
   "outputs": [],
   "source": [
    "# splitting the data into X and y\n",
    "X_train, y_train = set_splitter(concated_train)"
   ]
  },
  {
   "cell_type": "markdown",
   "metadata": {},
   "source": [
    "### Building a heat map to show correlation between all train set attributes and their target which is the house price"
   ]
  },
  {
   "cell_type": "code",
   "execution_count": 109,
   "metadata": {},
   "outputs": [
    {
     "data": {
      "text/plain": [
       "<AxesSubplot:>"
      ]
     },
     "execution_count": 109,
     "metadata": {},
     "output_type": "execute_result"
    },
    {
     "data": {
      "image/png": "[encoded data removed]",
      "text/plain": [
       "<Figure size 360x576 with 2 Axes>"
      ]
     },
     "metadata": {
      "needs_background": "light"
     },
     "output_type": "display_data"
    }
   ],
   "source": [
    "heatmap_x = concated_train\n",
    "\n",
    "train_test_corr = heatmap_x.corr()\n",
    "fig, ax = plt.subplots(figsize=(5, 8))\n",
    "\n",
    "sns.heatmap(\n",
    "    # Specifies the data to be plotted\n",
    "    data = train_test_corr,\n",
    "    # The mask means we only show half the values, instead of showing duplicates.\n",
    "    mask= np.triu(np.ones_like(train_test_corr, dtype=bool)),\n",
    "    # Specifies that we should use the existing axes\n",
    "    ax=ax,\n",
    "    # Specifies that we want labels, not just colors\n",
    "    annot=True,\n",
    "    # Customizing colorbar appearance\n",
    "    cbar_kws={\"label\": \"Correlation\", \"orientation\": \"horizontal\", \"pad\": .2, \"extend\": \"both\"}\n",
    ")"
   ]
  },
  {
   "cell_type": "markdown",
   "metadata": {},
   "source": [
    "A scatterplot of the most_correlated_feature vs house prices"
   ]
  },
  {
   "cell_type": "markdown",
   "metadata": {},
   "source": [
    "This model is not readable hence I will use REFCV function to select the models of best fit"
   ]
  },
  {
   "cell_type": "code",
   "execution_count": 112,
   "metadata": {},
   "outputs": [],
   "source": [
    "# Intializing a splitter\n",
    "splitter = ShuffleSplit(\n",
    "    n_splits=3,\n",
    "    test_size=0.25,\n",
    "    random_state=20\n",
    ") # perfoms a 5 seperate train-test splits "
   ]
  },
  {
   "cell_type": "code",
   "execution_count": 113,
   "metadata": {},
   "outputs": [
    {
     "name": "stdout",
     "output_type": "stream",
     "text": [
      "Was the column selected\n",
      "bedrooms: True\n",
      "bathrooms: True\n",
      "sqft_living: True\n",
      "sqft_lot: True\n",
      "floors: True\n",
      "waterfront: True\n",
      "view: True\n",
      "condition: True\n",
      "grade: True\n",
      "sqft_above: True\n",
      "sqft_basement: True\n",
      "yr_built: True\n",
      "yr_renovated: True\n",
      "zipcode: True\n",
      "lat: True\n",
      "long: True\n",
      "sqft_living15: True\n",
      "sqft_lot15: True\n"
     ]
    }
   ],
   "source": [
    "# using REFCV\n",
    "X_train_REFECV = StandardScaler().fit_transform(X_train)\n",
    "\n",
    "model_for_REFECV = LinearRegression()\n",
    "\n",
    "# Intitate and fit the selector\n",
    "selector = RFECV(model_for_REFECV, cv=splitter)\n",
    "selector.fit(X_train_REFECV, y_train)\n",
    "\n",
    "# Print the results\n",
    "print(\"Was the column selected\")\n",
    "for index, col in enumerate(X_train.columns):\n",
    "    print(f\"{col}: {selector.support_[index]}\")"
   ]
  },
  {
   "cell_type": "markdown",
   "metadata": {},
   "source": [
    "The algorithim selects all the attributes hence I will use dive more to other alternatives to find the best combinators"
   ]
  },
  {
   "cell_type": "code",
   "execution_count": 118,
   "metadata": {},
   "outputs": [
    {
     "data": {
      "text/plain": [
       "18"
      ]
     },
     "execution_count": 118,
     "metadata": {},
     "output_type": "execute_result"
    }
   ],
   "source": [
    "len(X_train.columns)"
   ]
  },
  {
   "cell_type": "code",
   "execution_count": 115,
   "metadata": {},
   "outputs": [
    {
     "data": {
      "text/html": [
       "<table class=\"simpletable\">\n",
       "<caption>OLS Regression Results</caption>\n",
       "<tr>\n",
       "  <th>Dep. Variable:</th>          <td>price</td>      <th>  R-squared:         </th>  <td>   0.704</td>  \n",
       "</tr>\n",
       "<tr>\n",
       "  <th>Model:</th>                   <td>OLS</td>       <th>  Adj. R-squared:    </th>  <td>   0.703</td>  \n",
       "</tr>\n",
       "<tr>\n",
       "  <th>Method:</th>             <td>Least Squares</td>  <th>  F-statistic:       </th>  <td>   2212.</td>  \n",
       "</tr>\n",
       "<tr>\n",
       "  <th>Date:</th>             <td>Thu, 30 Jun 2022</td> <th>  Prob (F-statistic):</th>   <td>  0.00</td>   \n",
       "</tr>\n",
       "<tr>\n",
       "  <th>Time:</th>                 <td>12:46:29</td>     <th>  Log-Likelihood:    </th> <td>-2.1598e+05</td>\n",
       "</tr>\n",
       "<tr>\n",
       "  <th>No. Observations:</th>      <td> 15850</td>      <th>  AIC:               </th>  <td>4.320e+05</td> \n",
       "</tr>\n",
       "<tr>\n",
       "  <th>Df Residuals:</th>          <td> 15832</td>      <th>  BIC:               </th>  <td>4.321e+05</td> \n",
       "</tr>\n",
       "<tr>\n",
       "  <th>Df Model:</th>              <td>    17</td>      <th>                     </th>      <td> </td>     \n",
       "</tr>\n",
       "<tr>\n",
       "  <th>Covariance Type:</th>      <td>nonrobust</td>    <th>                     </th>      <td> </td>     \n",
       "</tr>\n",
       "</table>\n",
       "<table class=\"simpletable\">\n",
       "<tr>\n",
       "        <td></td>           <th>coef</th>     <th>std err</th>      <th>t</th>      <th>P>|t|</th>  <th>[0.025</th>    <th>0.975]</th>  \n",
       "</tr>\n",
       "<tr>\n",
       "  <th>const</th>         <td> 6.909e+06</td> <td> 3.41e+06</td> <td>    2.026</td> <td> 0.043</td> <td> 2.26e+05</td> <td> 1.36e+07</td>\n",
       "</tr>\n",
       "<tr>\n",
       "  <th>bedrooms</th>      <td>  -3.5e+04</td> <td> 2203.272</td> <td>  -15.887</td> <td> 0.000</td> <td>-3.93e+04</td> <td>-3.07e+04</td>\n",
       "</tr>\n",
       "<tr>\n",
       "  <th>bathrooms</th>     <td> 4.377e+04</td> <td> 3761.564</td> <td>   11.635</td> <td> 0.000</td> <td> 3.64e+04</td> <td> 5.11e+04</td>\n",
       "</tr>\n",
       "<tr>\n",
       "  <th>sqft_living</th>   <td>  108.1657</td> <td>    2.645</td> <td>   40.899</td> <td> 0.000</td> <td>  102.982</td> <td>  113.350</td>\n",
       "</tr>\n",
       "<tr>\n",
       "  <th>sqft_lot</th>      <td>    0.1667</td> <td>    0.062</td> <td>    2.668</td> <td> 0.008</td> <td>    0.044</td> <td>    0.289</td>\n",
       "</tr>\n",
       "<tr>\n",
       "  <th>floors</th>        <td> 6860.7889</td> <td> 4215.708</td> <td>    1.627</td> <td> 0.104</td> <td>-1402.479</td> <td> 1.51e+04</td>\n",
       "</tr>\n",
       "<tr>\n",
       "  <th>waterfront</th>    <td> 7.059e+05</td> <td> 2.09e+04</td> <td>   33.701</td> <td> 0.000</td> <td> 6.65e+05</td> <td> 7.47e+05</td>\n",
       "</tr>\n",
       "<tr>\n",
       "  <th>view</th>          <td> 4.935e+04</td> <td> 2478.958</td> <td>   19.907</td> <td> 0.000</td> <td> 4.45e+04</td> <td> 5.42e+04</td>\n",
       "</tr>\n",
       "<tr>\n",
       "  <th>condition</th>     <td> 2.453e+04</td> <td> 2705.736</td> <td>    9.065</td> <td> 0.000</td> <td> 1.92e+04</td> <td> 2.98e+04</td>\n",
       "</tr>\n",
       "<tr>\n",
       "  <th>grade</th>         <td> 9.842e+04</td> <td> 2505.028</td> <td>   39.291</td> <td> 0.000</td> <td> 9.35e+04</td> <td> 1.03e+05</td>\n",
       "</tr>\n",
       "<tr>\n",
       "  <th>sqft_above</th>    <td>   68.2573</td> <td>    2.617</td> <td>   26.083</td> <td> 0.000</td> <td>   63.128</td> <td>   73.387</td>\n",
       "</tr>\n",
       "<tr>\n",
       "  <th>sqft_basement</th> <td>   39.8985</td> <td>    3.090</td> <td>   12.910</td> <td> 0.000</td> <td>   33.841</td> <td>   45.956</td>\n",
       "</tr>\n",
       "<tr>\n",
       "  <th>yr_built</th>      <td>-2742.7589</td> <td>   80.993</td> <td>  -33.864</td> <td> 0.000</td> <td>-2901.514</td> <td>-2584.003</td>\n",
       "</tr>\n",
       "<tr>\n",
       "  <th>yr_renovated</th>  <td>    4.6032</td> <td>    1.968</td> <td>    2.339</td> <td> 0.019</td> <td>    0.746</td> <td>    8.460</td>\n",
       "</tr>\n",
       "<tr>\n",
       "  <th>zipcode</th>       <td> -587.9456</td> <td>   38.399</td> <td>  -15.311</td> <td> 0.000</td> <td> -663.213</td> <td> -512.679</td>\n",
       "</tr>\n",
       "<tr>\n",
       "  <th>lat</th>           <td> 5.988e+05</td> <td> 1.25e+04</td> <td>   47.974</td> <td> 0.000</td> <td> 5.74e+05</td> <td> 6.23e+05</td>\n",
       "</tr>\n",
       "<tr>\n",
       "  <th>long</th>          <td>-2.208e+05</td> <td> 1.55e+04</td> <td>  -14.280</td> <td> 0.000</td> <td>-2.51e+05</td> <td> -1.9e+05</td>\n",
       "</tr>\n",
       "<tr>\n",
       "  <th>sqft_living15</th> <td>   21.3026</td> <td>    4.011</td> <td>    5.310</td> <td> 0.000</td> <td>   13.440</td> <td>   29.165</td>\n",
       "</tr>\n",
       "<tr>\n",
       "  <th>sqft_lot15</th>    <td>   -0.4092</td> <td>    0.088</td> <td>   -4.669</td> <td> 0.000</td> <td>   -0.581</td> <td>   -0.237</td>\n",
       "</tr>\n",
       "</table>\n",
       "<table class=\"simpletable\">\n",
       "<tr>\n",
       "  <th>Omnibus:</th>       <td>12056.822</td> <th>  Durbin-Watson:     </th>  <td>   1.994</td> \n",
       "</tr>\n",
       "<tr>\n",
       "  <th>Prob(Omnibus):</th>  <td> 0.000</td>   <th>  Jarque-Bera (JB):  </th> <td>741090.127</td>\n",
       "</tr>\n",
       "<tr>\n",
       "  <th>Skew:</th>           <td> 3.120</td>   <th>  Prob(JB):          </th>  <td>    0.00</td> \n",
       "</tr>\n",
       "<tr>\n",
       "  <th>Kurtosis:</th>       <td>35.912</td>   <th>  Cond. No.          </th>  <td>4.71e+17</td> \n",
       "</tr>\n",
       "</table><br/><br/>Notes:<br/>[1] Standard Errors assume that the covariance matrix of the errors is correctly specified.<br/>[2] The smallest eigenvalue is 7.22e-22. This might indicate that there are<br/>strong multicollinearity problems or that the design matrix is singular."
      ],
      "text/plain": [
       "<class 'statsmodels.iolib.summary.Summary'>\n",
       "\"\"\"\n",
       "                            OLS Regression Results                            \n",
       "==============================================================================\n",
       "Dep. Variable:                  price   R-squared:                       0.704\n",
       "Model:                            OLS   Adj. R-squared:                  0.703\n",
       "Method:                 Least Squares   F-statistic:                     2212.\n",
       "Date:                Thu, 30 Jun 2022   Prob (F-statistic):               0.00\n",
       "Time:                        12:46:29   Log-Likelihood:            -2.1598e+05\n",
       "No. Observations:               15850   AIC:                         4.320e+05\n",
       "Df Residuals:                   15832   BIC:                         4.321e+05\n",
       "Df Model:                          17                                         \n",
       "Covariance Type:            nonrobust                                         \n",
       "=================================================================================\n",
       "                    coef    std err          t      P>|t|      [0.025      0.975]\n",
       "---------------------------------------------------------------------------------\n",
       "const          6.909e+06   3.41e+06      2.026      0.043    2.26e+05    1.36e+07\n",
       "bedrooms        -3.5e+04   2203.272    -15.887      0.000   -3.93e+04   -3.07e+04\n",
       "bathrooms      4.377e+04   3761.564     11.635      0.000    3.64e+04    5.11e+04\n",
       "sqft_living     108.1657      2.645     40.899      0.000     102.982     113.350\n",
       "sqft_lot          0.1667      0.062      2.668      0.008       0.044       0.289\n",
       "floors         6860.7889   4215.708      1.627      0.104   -1402.479    1.51e+04\n",
       "waterfront     7.059e+05   2.09e+04     33.701      0.000    6.65e+05    7.47e+05\n",
       "view           4.935e+04   2478.958     19.907      0.000    4.45e+04    5.42e+04\n",
       "condition      2.453e+04   2705.736      9.065      0.000    1.92e+04    2.98e+04\n",
       "grade          9.842e+04   2505.028     39.291      0.000    9.35e+04    1.03e+05\n",
       "sqft_above       68.2573      2.617     26.083      0.000      63.128      73.387\n",
       "sqft_basement    39.8985      3.090     12.910      0.000      33.841      45.956\n",
       "yr_built      -2742.7589     80.993    -33.864      0.000   -2901.514   -2584.003\n",
       "yr_renovated      4.6032      1.968      2.339      0.019       0.746       8.460\n",
       "zipcode        -587.9456     38.399    -15.311      0.000    -663.213    -512.679\n",
       "lat            5.988e+05   1.25e+04     47.974      0.000    5.74e+05    6.23e+05\n",
       "long          -2.208e+05   1.55e+04    -14.280      0.000   -2.51e+05    -1.9e+05\n",
       "sqft_living15    21.3026      4.011      5.310      0.000      13.440      29.165\n",
       "sqft_lot15       -0.4092      0.088     -4.669      0.000      -0.581      -0.237\n",
       "==============================================================================\n",
       "Omnibus:                    12056.822   Durbin-Watson:                   1.994\n",
       "Prob(Omnibus):                  0.000   Jarque-Bera (JB):           741090.127\n",
       "Skew:                           3.120   Prob(JB):                         0.00\n",
       "Kurtosis:                      35.912   Cond. No.                     4.71e+17\n",
       "==============================================================================\n",
       "\n",
       "Notes:\n",
       "[1] Standard Errors assume that the covariance matrix of the errors is correctly specified.\n",
       "[2] The smallest eigenvalue is 7.22e-22. This might indicate that there are\n",
       "strong multicollinearity problems or that the design matrix is singular.\n",
       "\"\"\""
      ]
     },
     "execution_count": 115,
     "metadata": {},
     "output_type": "execute_result"
    }
   ],
   "source": [
    "# investigating for multicolinearity\n",
    "sm.OLS(y_train, sm.add_constant(X_train)).fit().summary()"
   ]
  },
  {
   "cell_type": "markdown",
   "metadata": {},
   "source": [
    "Again we are not getting clear result hence I will use a brute force algorithm to find the best combinations to get the best results"
   ]
  },
  {
   "cell_type": "code",
   "execution_count": 126,
   "metadata": {},
   "outputs": [
    {
     "name": "stdout",
     "output_type": "stream",
     "text": [
      "<class 'pandas.core.frame.DataFrame'>\n",
      "Int64Index: 15850 entries, 4139480190 to 1336800880\n",
      "Data columns (total 18 columns):\n",
      " #   Column         Non-Null Count  Dtype  \n",
      "---  ------         --------------  -----  \n",
      " 0   bedrooms       15850 non-null  int64  \n",
      " 1   bathrooms      15850 non-null  float64\n",
      " 2   sqft_living    15850 non-null  int64  \n",
      " 3   sqft_lot       15850 non-null  int64  \n",
      " 4   floors         15850 non-null  float64\n",
      " 5   waterfront     15850 non-null  float64\n",
      " 6   view           15850 non-null  float64\n",
      " 7   condition      15850 non-null  int64  \n",
      " 8   grade          15850 non-null  int64  \n",
      " 9   sqft_above     15850 non-null  int64  \n",
      " 10  sqft_basement  15850 non-null  float64\n",
      " 11  yr_built       15850 non-null  int64  \n",
      " 12  yr_renovated   15850 non-null  float64\n",
      " 13  zipcode        15850 non-null  int64  \n",
      " 14  lat            15850 non-null  float64\n",
      " 15  long           15850 non-null  float64\n",
      " 16  sqft_living15  15850 non-null  int64  \n",
      " 17  sqft_lot15     15850 non-null  int64  \n",
      "dtypes: float64(8), int64(10)\n",
      "memory usage: 2.3 MB\n"
     ]
    }
   ],
   "source": [
    "X_train.info()"
   ]
  },
  {
   "cell_type": "code",
   "execution_count": 106,
   "metadata": {},
   "outputs": [],
   "source": [
    "# Function for getting coeeficients in a cross_valiate\n",
    "def coeeficients(score):\n",
    "    for model in score['estimator']:\n",
    "        print(model.coef_)"
   ]
  },
  {
   "cell_type": "markdown",
   "metadata": {},
   "source": [
    "## Building models to find the best model overall"
   ]
  },
  {
   "cell_type": "markdown",
   "metadata": {},
   "source": [
    "### First Model "
   ]
  },
  {
   "cell_type": "markdown",
   "metadata": {},
   "source": [
    "The first model will contain all the attributes"
   ]
  },
  {
   "cell_type": "code",
   "execution_count": 134,
   "metadata": {},
   "outputs": [
    {
     "name": "stdout",
     "output_type": "stream",
     "text": [
      "Train Score:            0.7050431153778316\n",
      "Validation Score:       0.6986506510755408\n",
      "Difference in scores:   0.00639246430229079\n"
     ]
    }
   ],
   "source": [
    "first_model = LinearRegression()\n",
    "\n",
    "first_score = cross_validate(\n",
    "    estimator=first_model,\n",
    "    X=X_train,\n",
    "    y=y_train,\n",
    "    return_train_score=True,\n",
    "    return_estimator=True,\n",
    "    cv=splitter\n",
    ")\n",
    "\n",
    "print(f\"Train Score:            {first_score['train_score'].mean()}\")\n",
    "print(f\"Validation Score:       {first_score['test_score'].mean()}\")\n",
    "print(f\"Difference in scores:   {  (first_score['train_score'].mean()) - (first_score['test_score'].mean())}\")\n"
   ]
  },
  {
   "cell_type": "markdown",
   "metadata": {},
   "source": [
    "The model had a good R-2 and the difference between the models is low, hence it does a good job in predicting the house prices"
   ]
  },
  {
   "cell_type": "markdown",
   "metadata": {},
   "source": [
    "### Second Model "
   ]
  },
  {
   "cell_type": "markdown",
   "metadata": {},
   "source": [
    "The second model will be built using the PolynomialFeature"
   ]
  },
  {
   "cell_type": "code",
   "execution_count": 131,
   "metadata": {},
   "outputs": [],
   "source": [
    "# Building a less complex polynomial feature \n",
    "poly_2 = PolynomialFeatures(2)\n",
    "X_train_poly2 = poly_2.fit_transform(X_train)"
   ]
  },
  {
   "cell_type": "code",
   "execution_count": 135,
   "metadata": {},
   "outputs": [
    {
     "name": "stdout",
     "output_type": "stream",
     "text": [
      "Train Score:            0.8263321223716037\n",
      "Validation Score:       0.8185204804778272\n",
      "Difference in scores:   0.0078116418937764776\n"
     ]
    }
   ],
   "source": [
    "second_model = LinearRegression()\n",
    "\n",
    "second_score = cross_validate(\n",
    "    estimator=second_model,\n",
    "    X=X_train_poly2,\n",
    "    y=y_train,\n",
    "    return_train_score=True,\n",
    "    return_estimator=True,\n",
    "    cv=splitter\n",
    ")\n",
    "print(f\"Train Score:            {second_score['train_score'].mean()}\")\n",
    "print(f\"Validation Score:       {second_score['test_score'].mean()}\")\n",
    "print(f\"Difference in scores:   {  (second_score['train_score'].mean()) - (second_score['test_score'].mean())}\")"
   ]
  },
  {
   "cell_type": "markdown",
   "metadata": {},
   "source": [
    "Both the score are higher than compared to the first model whose R-2 was a bit lower, also the diffence between the score is low hence this model does a better in prediction"
   ]
  },
  {
   "cell_type": "markdown",
   "metadata": {},
   "source": [
    "### Third Model "
   ]
  },
  {
   "cell_type": "code",
   "execution_count": 137,
   "metadata": {},
   "outputs": [],
   "source": [
    "# Building a more complex polynomial feature \n",
    "poly_3 = PolynomialFeatures(3)\n",
    "X_train_poly3 = poly_3.fit_transform(X_train)"
   ]
  },
  {
   "cell_type": "code",
   "execution_count": 138,
   "metadata": {},
   "outputs": [
    {
     "name": "stdout",
     "output_type": "stream",
     "text": [
      "Train Score:            0.8544517995757936\n",
      "Validation Score:       -2.1368246789611636\n",
      "Difference in scores:   2.991276478536957\n"
     ]
    }
   ],
   "source": [
    "third_model = LinearRegression()\n",
    "\n",
    "third_score = cross_validate(\n",
    "    estimator=third_model,\n",
    "    X=X_train_poly2,\n",
    "    y=y_train,\n",
    "    return_train_score=True,\n",
    "    return_estimator=True,\n",
    "    cv=splitter\n",
    ")\n",
    "print(f\"Train Score:            {third_score['train_score'].mean()}\")\n",
    "print(f\"Validation Score:       {third_score['test_score'].mean()}\")\n",
    "print(f\"Difference in scores:   {  (third_score['train_score'].mean()) - (third_score['test_score'].mean())}\")"
   ]
  },
  {
   "cell_type": "markdown",
   "metadata": {},
   "source": [
    "This model performed bad, hence will stick with the second model as the best model"
   ]
  },
  {
   "cell_type": "code",
   "execution_count": 139,
   "metadata": {},
   "outputs": [],
   "source": [
    "best_model = second_model"
   ]
  },
  {
   "cell_type": "markdown",
   "metadata": {},
   "source": [
    "## Using a Brute force algorithm to determine the best combination of models for the best prediction"
   ]
  }
 ],
 "metadata": {
  "kernelspec": {
   "display_name": "Python 3.8.10 64-bit",
   "language": "python",
   "name": "python3"
  },
  "language_info": {
   "codemirror_mode": {
    "name": "ipython",
    "version": 3
   },
   "file_extension": ".py",
   "mimetype": "text/x-python",
   "name": "python",
   "nbconvert_exporter": "python",
   "pygments_lexer": "ipython3",
   "version": "3.8.10"
  },
  "vscode": {
   "interpreter": {
    "hash": "916dbcbb3f70747c44a77c7bcd40155683ae19c65e1c03b4aa3499c5328201f1"
   }
  }
 },
 "nbformat": 4,
 "nbformat_minor": 2
}
